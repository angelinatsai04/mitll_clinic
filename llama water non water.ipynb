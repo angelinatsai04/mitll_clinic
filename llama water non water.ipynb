{
 "cells": [
  {
   "cell_type": "code",
   "execution_count": 1,
   "id": "1ea947f9-82e0-4e2e-b299-03519d529fc4",
   "metadata": {},
   "outputs": [
    {
     "name": "stdout",
     "output_type": "stream",
     "text": [
      "Collecting ripser\n",
      "  Downloading ripser-0.6.12-cp312-cp312-manylinux_2_17_x86_64.manylinux2014_x86_64.whl.metadata (8.7 kB)\n",
      "Collecting transformers\n",
      "  Downloading transformers-4.57.1-py3-none-any.whl.metadata (43 kB)\n",
      "Collecting accelerate\n",
      "  Downloading accelerate-1.11.0-py3-none-any.whl.metadata (19 kB)\n",
      "Requirement already satisfied: torch in /usr/local/lib/python3.12/dist-packages (2.8.0+cu128)\n",
      "Requirement already satisfied: numpy in /usr/local/lib/python3.12/dist-packages (2.1.2)\n",
      "Collecting pandas\n",
      "  Downloading pandas-2.3.3-cp312-cp312-manylinux_2_24_x86_64.manylinux_2_28_x86_64.whl.metadata (91 kB)\n",
      "Collecting tqdm\n",
      "  Downloading tqdm-4.67.1-py3-none-any.whl.metadata (57 kB)\n",
      "Requirement already satisfied: networkx in /usr/local/lib/python3.12/dist-packages (3.3)\n",
      "Collecting hf_transfer\n",
      "  Downloading hf_transfer-0.1.9-cp38-abi3-manylinux_2_17_x86_64.manylinux2014_x86_64.whl.metadata (1.7 kB)\n",
      "Collecting Cython (from ripser)\n",
      "  Downloading cython-3.1.6-cp312-cp312-manylinux2014_x86_64.manylinux_2_17_x86_64.manylinux_2_28_x86_64.whl.metadata (4.0 kB)\n",
      "Collecting persim (from ripser)\n",
      "  Downloading persim-0.3.8-py3-none-any.whl.metadata (3.8 kB)\n",
      "Collecting scipy (from ripser)\n",
      "  Downloading scipy-1.16.2-cp312-cp312-manylinux2014_x86_64.manylinux_2_17_x86_64.whl.metadata (62 kB)\n",
      "Collecting scikit-learn (from ripser)\n",
      "  Downloading scikit_learn-1.7.2-cp312-cp312-manylinux2014_x86_64.manylinux_2_17_x86_64.whl.metadata (11 kB)\n",
      "Requirement already satisfied: filelock in /usr/local/lib/python3.12/dist-packages (from transformers) (3.20.0)\n",
      "Collecting huggingface-hub<1.0,>=0.34.0 (from transformers)\n",
      "  Downloading huggingface_hub-0.36.0-py3-none-any.whl.metadata (14 kB)\n",
      "Requirement already satisfied: packaging>=20.0 in /usr/local/lib/python3.12/dist-packages (from transformers) (25.0)\n",
      "Requirement already satisfied: pyyaml>=5.1 in /usr/local/lib/python3.12/dist-packages (from transformers) (6.0.3)\n",
      "Collecting regex!=2019.12.17 (from transformers)\n",
      "  Downloading regex-2025.10.23-cp312-cp312-manylinux2014_x86_64.manylinux_2_17_x86_64.manylinux_2_28_x86_64.whl.metadata (40 kB)\n",
      "Requirement already satisfied: requests in /usr/local/lib/python3.12/dist-packages (from transformers) (2.32.5)\n",
      "Collecting tokenizers<=0.23.0,>=0.22.0 (from transformers)\n",
      "  Downloading tokenizers-0.22.1-cp39-abi3-manylinux_2_17_x86_64.manylinux2014_x86_64.whl.metadata (6.8 kB)\n",
      "Collecting safetensors>=0.4.3 (from transformers)\n",
      "  Downloading safetensors-0.6.2-cp38-abi3-manylinux_2_17_x86_64.manylinux2014_x86_64.whl.metadata (4.1 kB)\n",
      "Requirement already satisfied: fsspec>=2023.5.0 in /usr/local/lib/python3.12/dist-packages (from huggingface-hub<1.0,>=0.34.0->transformers) (2024.6.1)\n",
      "Requirement already satisfied: typing-extensions>=3.7.4.3 in /usr/local/lib/python3.12/dist-packages (from huggingface-hub<1.0,>=0.34.0->transformers) (4.15.0)\n",
      "Collecting hf-xet<2.0.0,>=1.1.3 (from huggingface-hub<1.0,>=0.34.0->transformers)\n",
      "  Downloading hf_xet-1.2.0-cp37-abi3-manylinux_2_17_x86_64.manylinux2014_x86_64.whl.metadata (4.9 kB)\n",
      "Requirement already satisfied: psutil in /usr/local/lib/python3.12/dist-packages (from accelerate) (7.1.0)\n",
      "Requirement already satisfied: setuptools in /usr/local/lib/python3.12/dist-packages (from torch) (80.9.0)\n",
      "Requirement already satisfied: sympy>=1.13.3 in /usr/local/lib/python3.12/dist-packages (from torch) (1.13.3)\n",
      "Requirement already satisfied: jinja2 in /usr/local/lib/python3.12/dist-packages (from torch) (3.1.6)\n",
      "Requirement already satisfied: nvidia-cuda-nvrtc-cu12==12.8.93 in /usr/local/lib/python3.12/dist-packages (from torch) (12.8.93)\n",
      "Requirement already satisfied: nvidia-cuda-runtime-cu12==12.8.90 in /usr/local/lib/python3.12/dist-packages (from torch) (12.8.90)\n",
      "Requirement already satisfied: nvidia-cuda-cupti-cu12==12.8.90 in /usr/local/lib/python3.12/dist-packages (from torch) (12.8.90)\n",
      "Requirement already satisfied: nvidia-cudnn-cu12==9.10.2.21 in /usr/local/lib/python3.12/dist-packages (from torch) (9.10.2.21)\n",
      "Requirement already satisfied: nvidia-cublas-cu12==12.8.4.1 in /usr/local/lib/python3.12/dist-packages (from torch) (12.8.4.1)\n",
      "Requirement already satisfied: nvidia-cufft-cu12==11.3.3.83 in /usr/local/lib/python3.12/dist-packages (from torch) (11.3.3.83)\n",
      "Requirement already satisfied: nvidia-curand-cu12==10.3.9.90 in /usr/local/lib/python3.12/dist-packages (from torch) (10.3.9.90)\n",
      "Requirement already satisfied: nvidia-cusolver-cu12==11.7.3.90 in /usr/local/lib/python3.12/dist-packages (from torch) (11.7.3.90)\n",
      "Requirement already satisfied: nvidia-cusparse-cu12==12.5.8.93 in /usr/local/lib/python3.12/dist-packages (from torch) (12.5.8.93)\n",
      "Requirement already satisfied: nvidia-cusparselt-cu12==0.7.1 in /usr/local/lib/python3.12/dist-packages (from torch) (0.7.1)\n",
      "Requirement already satisfied: nvidia-nccl-cu12==2.27.3 in /usr/local/lib/python3.12/dist-packages (from torch) (2.27.3)\n",
      "Requirement already satisfied: nvidia-nvtx-cu12==12.8.90 in /usr/local/lib/python3.12/dist-packages (from torch) (12.8.90)\n",
      "Requirement already satisfied: nvidia-nvjitlink-cu12==12.8.93 in /usr/local/lib/python3.12/dist-packages (from torch) (12.8.93)\n",
      "Requirement already satisfied: nvidia-cufile-cu12==1.13.1.3 in /usr/local/lib/python3.12/dist-packages (from torch) (1.13.1.3)\n",
      "Requirement already satisfied: triton==3.4.0 in /usr/local/lib/python3.12/dist-packages (from torch) (3.4.0)\n",
      "Requirement already satisfied: python-dateutil>=2.8.2 in /usr/local/lib/python3.12/dist-packages (from pandas) (2.9.0.post0)\n",
      "Collecting pytz>=2020.1 (from pandas)\n",
      "  Downloading pytz-2025.2-py2.py3-none-any.whl.metadata (22 kB)\n",
      "Collecting tzdata>=2022.7 (from pandas)\n",
      "  Downloading tzdata-2025.2-py2.py3-none-any.whl.metadata (1.4 kB)\n",
      "Requirement already satisfied: six>=1.5 in /usr/lib/python3/dist-packages (from python-dateutil>=2.8.2->pandas) (1.16.0)\n",
      "Requirement already satisfied: mpmath<1.4,>=1.1.0 in /usr/local/lib/python3.12/dist-packages (from sympy>=1.13.3->torch) (1.3.0)\n",
      "Requirement already satisfied: MarkupSafe>=2.0 in /usr/local/lib/python3.12/dist-packages (from jinja2->torch) (3.0.3)\n",
      "Collecting deprecated (from persim->ripser)\n",
      "  Downloading Deprecated-1.2.18-py2.py3-none-any.whl.metadata (5.7 kB)\n",
      "Collecting hopcroftkarp (from persim->ripser)\n",
      "  Downloading hopcroftkarp-1.2.5.tar.gz (16 kB)\n",
      "  Installing build dependencies ... \u001b[?25ldone\n",
      "\u001b[?25h  Getting requirements to build wheel ... \u001b[?25ldone\n",
      "\u001b[?25h  Preparing metadata (pyproject.toml) ... \u001b[?25ldone\n",
      "\u001b[?25hCollecting joblib (from persim->ripser)\n",
      "  Downloading joblib-1.5.2-py3-none-any.whl.metadata (5.6 kB)\n",
      "Collecting matplotlib (from persim->ripser)\n",
      "  Downloading matplotlib-3.10.7-cp312-cp312-manylinux2014_x86_64.manylinux_2_17_x86_64.whl.metadata (11 kB)\n",
      "Collecting wrapt<2,>=1.10 (from deprecated->persim->ripser)\n",
      "  Downloading wrapt-1.17.3-cp312-cp312-manylinux1_x86_64.manylinux_2_28_x86_64.manylinux_2_5_x86_64.whl.metadata (6.4 kB)\n",
      "Collecting contourpy>=1.0.1 (from matplotlib->persim->ripser)\n",
      "  Downloading contourpy-1.3.3-cp312-cp312-manylinux_2_27_x86_64.manylinux_2_28_x86_64.whl.metadata (5.5 kB)\n",
      "Collecting cycler>=0.10 (from matplotlib->persim->ripser)\n",
      "  Downloading cycler-0.12.1-py3-none-any.whl.metadata (3.8 kB)\n",
      "Collecting fonttools>=4.22.0 (from matplotlib->persim->ripser)\n",
      "  Downloading fonttools-4.60.1-cp312-cp312-manylinux1_x86_64.manylinux2014_x86_64.manylinux_2_17_x86_64.manylinux_2_5_x86_64.whl.metadata (112 kB)\n",
      "Collecting kiwisolver>=1.3.1 (from matplotlib->persim->ripser)\n",
      "  Downloading kiwisolver-1.4.9-cp312-cp312-manylinux2014_x86_64.manylinux_2_17_x86_64.whl.metadata (6.3 kB)\n",
      "Requirement already satisfied: pillow>=8 in /usr/local/lib/python3.12/dist-packages (from matplotlib->persim->ripser) (11.0.0)\n",
      "Requirement already satisfied: pyparsing>=3 in /usr/lib/python3/dist-packages (from matplotlib->persim->ripser) (3.1.1)\n",
      "Requirement already satisfied: charset_normalizer<4,>=2 in /usr/local/lib/python3.12/dist-packages (from requests->transformers) (3.4.3)\n",
      "Requirement already satisfied: idna<4,>=2.5 in /usr/local/lib/python3.12/dist-packages (from requests->transformers) (3.10)\n",
      "Requirement already satisfied: urllib3<3,>=1.21.1 in /usr/local/lib/python3.12/dist-packages (from requests->transformers) (2.5.0)\n",
      "Requirement already satisfied: certifi>=2017.4.17 in /usr/local/lib/python3.12/dist-packages (from requests->transformers) (2025.10.5)\n",
      "Collecting threadpoolctl>=3.1.0 (from scikit-learn->ripser)\n",
      "  Downloading threadpoolctl-3.6.0-py3-none-any.whl.metadata (13 kB)\n",
      "Downloading ripser-0.6.12-cp312-cp312-manylinux_2_17_x86_64.manylinux2014_x86_64.whl (827 kB)\n",
      "\u001b[2K   \u001b[90m━━━━━━━━━━━━━━━━━━━━━━━━━━━━━━━━━━━━━━━━\u001b[0m \u001b[32m827.3/827.3 kB\u001b[0m \u001b[31m21.1 MB/s\u001b[0m  \u001b[33m0:00:00\u001b[0m\n",
      "\u001b[?25hDownloading transformers-4.57.1-py3-none-any.whl (12.0 MB)\n",
      "\u001b[2K   \u001b[90m━━━━━━━━━━━━━━━━━━━━━━━━━━━━━━━━━━━━━━━━\u001b[0m \u001b[32m12.0/12.0 MB\u001b[0m \u001b[31m131.1 MB/s\u001b[0m  \u001b[33m0:00:00\u001b[0m\n",
      "\u001b[?25hDownloading huggingface_hub-0.36.0-py3-none-any.whl (566 kB)\n",
      "\u001b[2K   \u001b[90m━━━━━━━━━━━━━━━━━━━━━━━━━━━━━━━━━━━━━━━━\u001b[0m \u001b[32m566.1/566.1 kB\u001b[0m \u001b[31m70.9 MB/s\u001b[0m  \u001b[33m0:00:00\u001b[0m\n",
      "\u001b[?25hDownloading hf_xet-1.2.0-cp37-abi3-manylinux_2_17_x86_64.manylinux2014_x86_64.whl (3.3 MB)\n",
      "\u001b[2K   \u001b[90m━━━━━━━━━━━━━━━━━━━━━━━━━━━━━━━━━━━━━━━━\u001b[0m \u001b[32m3.3/3.3 MB\u001b[0m \u001b[31m6.9 MB/s\u001b[0m  \u001b[33m0:00:00\u001b[0m eta \u001b[36m0:00:01\u001b[0m\n",
      "\u001b[?25hDownloading tokenizers-0.22.1-cp39-abi3-manylinux_2_17_x86_64.manylinux2014_x86_64.whl (3.3 MB)\n",
      "\u001b[2K   \u001b[90m━━━━━━━━━━━━━━━━━━━━━━━━━━━━━━━━━━━━━━━━\u001b[0m \u001b[32m3.3/3.3 MB\u001b[0m \u001b[31m113.6 MB/s\u001b[0m  \u001b[33m0:00:00\u001b[0m\n",
      "\u001b[?25hDownloading accelerate-1.11.0-py3-none-any.whl (375 kB)\n",
      "Downloading pandas-2.3.3-cp312-cp312-manylinux_2_24_x86_64.manylinux_2_28_x86_64.whl (12.4 MB)\n",
      "\u001b[2K   \u001b[90m━━━━━━━━━━━━━━━━━━━━━━━━━━━━━━━━━━━━━━━━\u001b[0m \u001b[32m12.4/12.4 MB\u001b[0m \u001b[31m263.5 MB/s\u001b[0m  \u001b[33m0:00:00\u001b[0m\n",
      "\u001b[?25hDownloading tqdm-4.67.1-py3-none-any.whl (78 kB)\n",
      "Downloading hf_transfer-0.1.9-cp38-abi3-manylinux_2_17_x86_64.manylinux2014_x86_64.whl (3.6 MB)\n",
      "\u001b[2K   \u001b[90m━━━━━━━━━━━━━━━━━━━━━━━━━━━━━━━━━━━━━━━━\u001b[0m \u001b[32m3.6/3.6 MB\u001b[0m \u001b[31m52.9 MB/s\u001b[0m  \u001b[33m0:00:00\u001b[0m\n",
      "\u001b[?25hDownloading pytz-2025.2-py2.py3-none-any.whl (509 kB)\n",
      "Downloading regex-2025.10.23-cp312-cp312-manylinux2014_x86_64.manylinux_2_17_x86_64.manylinux_2_28_x86_64.whl (803 kB)\n",
      "\u001b[2K   \u001b[90m━━━━━━━━━━━━━━━━━━━━━━━━━━━━━━━━━━━━━━━━\u001b[0m \u001b[32m803.4/803.4 kB\u001b[0m \u001b[31m110.8 MB/s\u001b[0m  \u001b[33m0:00:00\u001b[0m\n",
      "\u001b[?25hDownloading safetensors-0.6.2-cp38-abi3-manylinux_2_17_x86_64.manylinux2014_x86_64.whl (485 kB)\n",
      "Downloading tzdata-2025.2-py2.py3-none-any.whl (347 kB)\n",
      "Downloading cython-3.1.6-cp312-cp312-manylinux2014_x86_64.manylinux_2_17_x86_64.manylinux_2_28_x86_64.whl (3.3 MB)\n",
      "\u001b[2K   \u001b[90m━━━━━━━━━━━━━━━━━━━━━━━━━━━━━━━━━━━━━━━━\u001b[0m \u001b[32m3.3/3.3 MB\u001b[0m \u001b[31m116.4 MB/s\u001b[0m  \u001b[33m0:00:00\u001b[0m\n",
      "\u001b[?25hDownloading persim-0.3.8-py3-none-any.whl (48 kB)\n",
      "Downloading Deprecated-1.2.18-py2.py3-none-any.whl (10.0 kB)\n",
      "Downloading wrapt-1.17.3-cp312-cp312-manylinux1_x86_64.manylinux_2_28_x86_64.manylinux_2_5_x86_64.whl (88 kB)\n",
      "Downloading joblib-1.5.2-py3-none-any.whl (308 kB)\n",
      "Downloading matplotlib-3.10.7-cp312-cp312-manylinux2014_x86_64.manylinux_2_17_x86_64.whl (8.7 MB)\n",
      "\u001b[2K   \u001b[90m━━━━━━━━━━━━━━━━━━━━━━━━━━━━━━━━━━━━━━━━\u001b[0m \u001b[32m8.7/8.7 MB\u001b[0m \u001b[31m26.1 MB/s\u001b[0m  \u001b[33m0:00:00\u001b[0meta \u001b[36m0:00:01\u001b[0m\n",
      "\u001b[?25hDownloading contourpy-1.3.3-cp312-cp312-manylinux_2_27_x86_64.manylinux_2_28_x86_64.whl (362 kB)\n",
      "Downloading cycler-0.12.1-py3-none-any.whl (8.3 kB)\n",
      "Downloading fonttools-4.60.1-cp312-cp312-manylinux1_x86_64.manylinux2014_x86_64.manylinux_2_17_x86_64.manylinux_2_5_x86_64.whl (4.9 MB)\n",
      "\u001b[2K   \u001b[90m━━━━━━━━━━━━━━━━━━━━━━━━━━━━━━━━━━━━━━━━\u001b[0m \u001b[32m4.9/4.9 MB\u001b[0m \u001b[31m245.7 MB/s\u001b[0m  \u001b[33m0:00:00\u001b[0m\n",
      "\u001b[?25hDownloading kiwisolver-1.4.9-cp312-cp312-manylinux2014_x86_64.manylinux_2_17_x86_64.whl (1.5 MB)\n",
      "\u001b[2K   \u001b[90m━━━━━━━━━━━━━━━━━━━━━━━━━━━━━━━━━━━━━━━━\u001b[0m \u001b[32m1.5/1.5 MB\u001b[0m \u001b[31m166.1 MB/s\u001b[0m  \u001b[33m0:00:00\u001b[0m\n",
      "\u001b[?25hDownloading scikit_learn-1.7.2-cp312-cp312-manylinux2014_x86_64.manylinux_2_17_x86_64.whl (9.5 MB)\n",
      "\u001b[2K   \u001b[90m━━━━━━━━━━━━━━━━━━━━━━━━━━━━━━━━━━━━━━━━\u001b[0m \u001b[32m9.5/9.5 MB\u001b[0m \u001b[31m26.1 MB/s\u001b[0m  \u001b[33m0:00:00\u001b[0mm eta \u001b[36m0:00:01\u001b[0m\n",
      "\u001b[?25hDownloading scipy-1.16.2-cp312-cp312-manylinux2014_x86_64.manylinux_2_17_x86_64.whl (35.7 MB)\n",
      "\u001b[2K   \u001b[90m━━━━━━━━━━━━━━━━━━━━━━━━━━━━━━━━━━━━━━━━\u001b[0m \u001b[32m35.7/35.7 MB\u001b[0m \u001b[31m222.5 MB/s\u001b[0m  \u001b[33m0:00:00\u001b[0m\n",
      "\u001b[?25hDownloading threadpoolctl-3.6.0-py3-none-any.whl (18 kB)\n",
      "Building wheels for collected packages: hopcroftkarp\n",
      "  Building wheel for hopcroftkarp (pyproject.toml) ... \u001b[?25ldone\n",
      "\u001b[?25h  Created wheel for hopcroftkarp: filename=hopcroftkarp-1.2.5-py2.py3-none-any.whl size=18188 sha256=75431407d0d95daa2dd1e1a39a6ea333fc8275835101fa001ce368c38377bd67\n",
      "  Stored in directory: /workspace/.cache/pip/wheels/2a/fd/fe/f4b8fd82894e1d9e04040ef41dc5ae6eb7a8e9b0ef5a9402fe\n",
      "Successfully built hopcroftkarp\n",
      "Installing collected packages: pytz, hopcroftkarp, wrapt, tzdata, tqdm, threadpoolctl, scipy, safetensors, regex, kiwisolver, joblib, hf-xet, hf_transfer, fonttools, Cython, cycler, contourpy, scikit-learn, pandas, matplotlib, huggingface-hub, deprecated, tokenizers, persim, transformers, ripser, accelerate\n",
      "\u001b[2K   \u001b[90m━━━━━━━━━━━━━━━━━━━━━━━━━━━━━━━━━━━━━━━━\u001b[0m \u001b[32m27/27\u001b[0m [accelerate]7\u001b[0m [accelerate]s]ub]\n",
      "\u001b[1A\u001b[2KSuccessfully installed Cython-3.1.6 accelerate-1.11.0 contourpy-1.3.3 cycler-0.12.1 deprecated-1.2.18 fonttools-4.60.1 hf-xet-1.2.0 hf_transfer-0.1.9 hopcroftkarp-1.2.5 huggingface-hub-0.36.0 joblib-1.5.2 kiwisolver-1.4.9 matplotlib-3.10.7 pandas-2.3.3 persim-0.3.8 pytz-2025.2 regex-2025.10.23 ripser-0.6.12 safetensors-0.6.2 scikit-learn-1.7.2 scipy-1.16.2 threadpoolctl-3.6.0 tokenizers-0.22.1 tqdm-4.67.1 transformers-4.57.1 tzdata-2025.2 wrapt-1.17.3\n"
     ]
    }
   ],
   "source": [
    "!pip install ripser transformers accelerate torch numpy pandas tqdm networkx hf_transfer"
   ]
  },
  {
   "cell_type": "code",
   "execution_count": 2,
   "id": "25a7c2cd-9819-4540-9957-6c35c764afc3",
   "metadata": {},
   "outputs": [
    {
     "data": {
      "application/vnd.jupyter.widget-view+json": {
       "model_id": "b7367a6a244742f3b815fd1427833ae5",
       "version_major": 2,
       "version_minor": 0
      },
      "text/plain": [
       "VBox(children=(HTML(value='<center> <img\\nsrc=https://huggingface.co/front/assets/huggingface_logo-noborder.sv…"
      ]
     },
     "metadata": {},
     "output_type": "display_data"
    }
   ],
   "source": [
    "from huggingface_hub import login\n",
    "login()"
   ]
  },
  {
   "cell_type": "code",
   "execution_count": null,
   "id": "b315e242-5dfe-4945-84d1-40c28e98b6ad",
   "metadata": {},
   "outputs": [],
   "source": [
    "import torch\n",
    "from transformers import AutoModelForCausalLM, AutoTokenizer\n",
    "import numpy as np\n",
    "import pandas as pd\n",
    "import ripser\n",
    "from ripser import ripser\n",
    "from tqdm import tqdm\n",
    "import math\n",
    "import numpy as geek\n",
    "import networkx as nx\n",
    "\n",
    "def find_highest_finite_value_comprehension(data):\n",
    "    \"\"\"Finds the highest value in a list, ignoring inf values, using list comprehension.\"\"\"\n",
    "    finite_values = [x for x in data if not math.isinf(x)]\n",
    "    return max(finite_values) if finite_values else -math.inf\n",
    "\n",
    "\n",
    "def get_second_value_ignoring_inf(data):\n",
    "    \"\"\"Returns the second non-inf value in a list.\"\"\"\n",
    "    non_inf_values = [x for x in data if not math.isinf(x)]\n",
    "    if len(non_inf_values) < 2:\n",
    "        return None\n",
    "    return non_inf_values[1]\n",
    "\n",
    "def get_llama_attention(text, model, tokenizer):\n",
    "    \"\"\"Extract attention matrix from Llama model\"\"\"\n",
    "    inputs = tokenizer(text, return_tensors='pt', truncation=True, padding=True, max_length=512)\n",
    "    \n",
    "    # Move inputs to the same device as model\n",
    "    device = next(model.parameters()).device\n",
    "    inputs = {k: v.to(device) for k, v in inputs.items()}\n",
    "    \n",
    "    with torch.no_grad():\n",
    "        outputs = model(**inputs, output_attentions=True)\n",
    "    \n",
    "    # Get attention matrices and move to CPU\n",
    "    attention_matrices = torch.stack(outputs.attentions).cpu()\n",
    "    \n",
    "    # Average across layers and heads\n",
    "    attention_matrix = attention_matrices.mean(dim=0).mean(dim=1).squeeze().numpy()\n",
    "    \n",
    "    # Zero out the diagonal to focus on token-to-token relationships\n",
    "    np.fill_diagonal(attention_matrix, 0)\n",
    "    \n",
    "    # Make symmetric for undirected graph\n",
    "    attention_matrix = (attention_matrix + attention_matrix.T) / 2\n",
    "    \n",
    "    return attention_matrix\n",
    "\n",
    "def build_graph(attention_matrix, threshold=None, percentile=50):\n",
    "    \"\"\"\n",
    "    Build graph from attention matrix.\n",
    "    If threshold is None, use percentile-based threshold instead.\n",
    "    \"\"\"\n",
    "    graph = nx.Graph()\n",
    "    num_nodes = attention_matrix.shape[0]\n",
    "    \n",
    "    # Add all nodes first\n",
    "    graph.add_nodes_from(range(num_nodes))\n",
    "    \n",
    "    # Get upper triangle values (excluding diagonal)\n",
    "    upper_triangle_indices = np.triu_indices(num_nodes, k=1)\n",
    "    upper_triangle_values = attention_matrix[upper_triangle_indices]\n",
    "    \n",
    "    # Filter out zeros and NaNs for percentile calculation\n",
    "    non_zero_values = upper_triangle_values[upper_triangle_values > 0]\n",
    "    non_zero_values = non_zero_values[~np.isnan(non_zero_values)]\n",
    "    \n",
    "    # Use percentile-based threshold if not specified\n",
    "    if threshold is None:\n",
    "        if len(non_zero_values) > 0:\n",
    "            try:\n",
    "                threshold = np.percentile(non_zero_values, percentile)\n",
    "                if np.isnan(threshold) or threshold == 0:\n",
    "                    # Fallback to a small fraction of max value\n",
    "                    threshold = np.max(non_zero_values) * 0.1\n",
    "                    print(f\"Using fallback threshold (10% of max): {threshold:.6f}\")\n",
    "                else:\n",
    "                    print(f\"Using percentile-based threshold: {threshold:.6f} ({percentile}th percentile)\")\n",
    "                print(f\"Non-zero values: {len(non_zero_values)}/{len(upper_triangle_values)} ({100*len(non_zero_values)/len(upper_triangle_values):.1f}%)\")\n",
    "                print(f\"Value range: [{np.min(non_zero_values):.6f}, {np.max(non_zero_values):.6f}]\")\n",
    "            except:\n",
    "                threshold = 0.001\n",
    "                print(f\"Error calculating percentile, using default threshold: {threshold}\")\n",
    "        else:\n",
    "            threshold = 0.0\n",
    "            print(f\"WARNING: No non-zero attention values found!\")\n",
    "    else:\n",
    "        print(f\"Using fixed threshold: {threshold}\")\n",
    "    \n",
    "    edge_count = 0\n",
    "    for i in range(num_nodes):\n",
    "        for j in range(i + 1, num_nodes):\n",
    "            if attention_matrix[i, j] > threshold:\n",
    "                graph.add_edge(i, j, weight=attention_matrix[i, j])\n",
    "                edge_count += 1\n",
    "    \n",
    "    print(f\"Graph created: {num_nodes} nodes, {edge_count} edges\")\n",
    "    \n",
    "    if edge_count == 0:\n",
    "        print(f\"WARNING: No edges created! Threshold was {threshold:.6f}, max value was {upper_triangle_values.max():.6f}\")\n",
    "    \n",
    "    return graph\n",
    "\n",
    "def process_texts(texts, model_name=\"meta-llama/Llama-3.1-8B\"):\n",
    "    \"\"\"Process texts using Llama model for attention extraction\"\"\"\n",
    "    tokenizer = AutoTokenizer.from_pretrained(model_name)\n",
    "    model = AutoModelForCausalLM.from_pretrained(\n",
    "        model_name,\n",
    "        torch_dtype=torch.float16,\n",
    "        device_map=\"auto\",\n",
    "        low_cpu_mem_usage=True,\n",
    "        attn_implementation=\"eager\"\n",
    "    )\n",
    "    \n",
    "    if tokenizer.pad_token is None:\n",
    "        tokenizer.pad_token = tokenizer.eos_token\n",
    "\n",
    "    data = []\n",
    "    for text in tqdm(texts):\n",
    "        try:\n",
    "            attention_matrix = get_llama_attention(text, model, tokenizer)\n",
    "            graph = build_graph(attention_matrix, threshold=None, percentile=50)\n",
    "            tda_features = compute_tda_features(graph)\n",
    "            data.append(tda_features)\n",
    "        except Exception as e:\n",
    "            print(f\"Error processing text: {e}\")\n",
    "            data.append([0] * 12)\n",
    "\n",
    "    columns = [\"Num_0dim\", \"Max_0dim\", \"Max_0dim_Minus_Second\", \"Mean_0dim\", \"betti_curve_0\", \"persistence_entropy_0\",\n",
    "               \"Num_1dim\", \"Max_1dim\", \"Max_1dim_Minus_Second\", \"Mean_1dim\", \"betti_curve_1\", \"persistence_entropy_1\"]\n",
    "    return pd.DataFrame(data, columns=columns)\n",
    "\n",
    "def compute_tda_features(graph):\n",
    "    adjacency_matrix = nx.to_numpy_array(graph)\n",
    "    \n",
    "    # Check if graph is empty or has no edges\n",
    "    if adjacency_matrix.shape[0] == 0 or np.sum(adjacency_matrix) == 0:\n",
    "        print(\"Empty graph, returning zero features\")\n",
    "        return [0] * 12\n",
    "    \n",
    "    # Use distance matrix for ripser\n",
    "    distance_matrix = 1 - adjacency_matrix\n",
    "    np.fill_diagonal(distance_matrix, 0)\n",
    "    \n",
    "    diagrams = ripser(distance_matrix, maxdim=1, distance_matrix=True)['dgms']\n",
    "    \n",
    "    h0 = diagrams[0]\n",
    "    h1 = diagrams[1] if len(diagrams) > 1 else np.array([])\n",
    "\n",
    "    num_h0 = geek.count_nonzero(np.round(h0))\n",
    "    highest_h0 = find_highest_finite_value_comprehension(h0[:, 1] - h0[:, 0]) if num_h0 > 0 else 0\n",
    "    Second_highest_h0 = get_second_value_ignoring_inf(h0[:, 1] - h0[:, 0]) if num_h0 > 1 else 0\n",
    "    highest_minus_second_h0 = highest_h0 - Second_highest_h0 if num_h0 > 1 else 0\n",
    "\n",
    "    h0[np.isinf(h0)] = 0\n",
    "    mean_h0 = np.mean(h0) if num_h0 > 0 else 0\n",
    "\n",
    "    num_h1 = geek.count_nonzero(np.round(h1))\n",
    "    highest_h1 = find_highest_finite_value_comprehension(h1[:, 1] - h1[:, 0]) if num_h1 > 0 else 0\n",
    "    second_highest_h1 = get_second_value_ignoring_inf(h1[:, 1] - h1[:, 0]) if num_h1 > 1 else 0\n",
    "    highest_minus_second_h1 = highest_h1 - second_highest_h1 if num_h1 > 1 else 0\n",
    "\n",
    "    h1[np.isinf(h1)] = 0\n",
    "    mean_h1 = np.mean(h1) if num_h1 > 0 else 0\n",
    "\n",
    "    h0_persistences = np.sort(h0[:, 1] - h0[:, 0]) if num_h0 > 1 else np.array([0])\n",
    "    h1_persistences = np.sort(h1[:, 1] - h1[:, 0]) if num_h1 > 1 else np.array([0])\n",
    "\n",
    "    sum_persistence_0 = np.sum(h0_persistences) if len(h0_persistences) > 0 else 0\n",
    "    sum_persistence_1 = np.sum(h1_persistences) if len(h1_persistences) > 0 else 0\n",
    "    persistence_entropy_0 = -np.sum(h0_persistences * np.log(h0_persistences + 1e-10)) if len(h0_persistences) > 0 else 0\n",
    "    persistence_entropy_1 = -np.sum(h1_persistences * np.log(h1_persistences + 1e-10)) if len(h1_persistences) > 0 else 0\n",
    "    betti_curve_0 = len(h0_persistences)\n",
    "    betti_curve_1 = len(h1_persistences)\n",
    "\n",
    "    return [num_h0, highest_h0, highest_minus_second_h0, mean_h0, betti_curve_0, persistence_entropy_0,\n",
    "            num_h1, highest_h1, highest_minus_second_h1, mean_h1, betti_curve_1, persistence_entropy_1]"
   ]
  },
  {
   "cell_type": "code",
   "execution_count": 9,
   "id": "848bac4e-de96-496d-8360-e8d8c6955ea0",
   "metadata": {},
   "outputs": [
    {
     "data": {
      "application/vnd.jupyter.widget-view+json": {
       "model_id": "cc84a5fe7f424d7a9f928a9e3abab803",
       "version_major": 2,
       "version_minor": 0
      },
      "text/plain": [
       "Loading checkpoint shards:   0%|          | 0/4 [00:00<?, ?it/s]"
      ]
     },
     "metadata": {},
     "output_type": "display_data"
    },
    {
     "name": "stderr",
     "output_type": "stream",
     "text": [
      "100%|██████████| 2/2 [00:00<00:00, 20.01it/s]"
     ]
    },
    {
     "name": "stdout",
     "output_type": "stream",
     "text": [
      "Attention shape: (7, 7), min: 0.000000, max: 0.471680, mean: 0.115845\n",
      "Using percentile-based threshold: 0.015778 (50th percentile)\n",
      "Non-zero values: 21/21 (100.0%)\n",
      "Value range: [0.006222, 0.471680]\n",
      "Graph created: 7 nodes, 10 edges\n",
      "Attention shape: (7, 7), min: 0.000000, max: 0.476318, mean: 0.115540\n",
      "Using percentile-based threshold: 0.018997 (50th percentile)\n",
      "Non-zero values: 21/21 (100.0%)\n",
      "Value range: [0.008690, 0.476318]\n",
      "Graph created: 7 nodes, 10 edges\n",
      "   Num_0dim  Max_0dim  Max_0dim_Minus_Second  Mean_0dim  betti_curve_0  \\\n",
      "0         7  0.611816               0.067627   0.241752              7   \n",
      "1         7  0.611816               0.065674   0.242536              7   \n",
      "\n",
      "   persistence_entropy_0  Num_1dim  Max_1dim  Max_1dim_Minus_Second  \\\n",
      "0               1.933568         0         0                      0   \n",
      "1               1.928764         0         0                      0   \n",
      "\n",
      "   Mean_1dim  betti_curve_1  persistence_entropy_1  \n",
      "0          0              1                   -0.0  \n",
      "1          0              1                   -0.0  \n"
     ]
    },
    {
     "name": "stderr",
     "output_type": "stream",
     "text": [
      "\n"
     ]
    }
   ],
   "source": [
    "texts = [\"This is a test sentence.\", \"Another example of text processing.\"]\n",
    "df = process_texts(texts)\n",
    "print(df)"
   ]
  },
  {
   "cell_type": "code",
   "execution_count": null,
   "id": "40bedd27-a0c7-419b-bce0-a2c094488c0e",
   "metadata": {},
   "outputs": [],
   "source": [
    "!pip install pyarrow fastparquet datasets"
   ]
  },
  {
   "cell_type": "code",
   "execution_count": 15,
   "id": "2c5512c2-1b67-401a-88be-5725b33fea3d",
   "metadata": {},
   "outputs": [
    {
     "data": {
      "application/vnd.jupyter.widget-view+json": {
       "model_id": "79013ac3878345ea8e84208117d35449",
       "version_major": 2,
       "version_minor": 0
      },
      "text/plain": [
       "Loading checkpoint shards:   0%|          | 0/4 [00:00<?, ?it/s]"
      ]
     },
     "metadata": {},
     "output_type": "display_data"
    },
    {
     "name": "stderr",
     "output_type": "stream",
     "text": [
      "  0%|          | 1/500 [00:00<01:54,  4.36it/s]"
     ]
    },
    {
     "name": "stdout",
     "output_type": "stream",
     "text": [
      "Attention shape: (394, 394), min: 0.000000, max: 0.475098, mean: 0.002432\n",
      "Using fallback threshold (10% of max): 0.047485\n",
      "Non-zero values: 77421/77421 (100.0%)\n",
      "Value range: [0.000011, 0.475098]\n",
      "Graph created: 394 nodes, 393 edges\n"
     ]
    },
    {
     "name": "stderr",
     "output_type": "stream",
     "text": [
      "  0%|          | 2/500 [00:00<01:57,  4.25it/s]"
     ]
    },
    {
     "name": "stdout",
     "output_type": "stream",
     "text": [
      "Attention shape: (398, 398), min: 0.000000, max: 0.473145, mean: 0.002403\n",
      "Using fallback threshold (10% of max): 0.047302\n",
      "Non-zero values: 79003/79003 (100.0%)\n",
      "Value range: [0.000009, 0.473145]\n",
      "Graph created: 398 nodes, 397 edges\n"
     ]
    },
    {
     "name": "stderr",
     "output_type": "stream",
     "text": [
      "  1%|          | 3/500 [00:00<01:59,  4.17it/s]"
     ]
    },
    {
     "name": "stdout",
     "output_type": "stream",
     "text": [
      "Attention shape: (401, 401), min: 0.000000, max: 0.476318, mean: 0.002394\n",
      "Using fallback threshold (10% of max): 0.047607\n",
      "Non-zero values: 80200/80200 (100.0%)\n",
      "Value range: [0.000016, 0.476318]\n",
      "Graph created: 401 nodes, 400 edges\n"
     ]
    },
    {
     "name": "stderr",
     "output_type": "stream",
     "text": [
      "  1%|          | 4/500 [00:00<01:52,  4.39it/s]"
     ]
    },
    {
     "name": "stdout",
     "output_type": "stream",
     "text": [
      "Attention shape: (372, 372), min: 0.000000, max: 0.470703, mean: 0.002573\n",
      "Using fallback threshold (10% of max): 0.047058\n",
      "Non-zero values: 69006/69006 (100.0%)\n",
      "Value range: [0.000011, 0.470703]\n",
      "Graph created: 372 nodes, 371 edges\n"
     ]
    },
    {
     "name": "stderr",
     "output_type": "stream",
     "text": [
      "  1%|          | 5/500 [00:01<01:54,  4.31it/s]"
     ]
    },
    {
     "name": "stdout",
     "output_type": "stream",
     "text": [
      "Attention shape: (391, 391), min: 0.000000, max: 0.480957, mean: 0.002451\n",
      "Using fallback threshold (10% of max): 0.048096\n",
      "Non-zero values: 76245/76245 (100.0%)\n",
      "Value range: [0.000007, 0.480957]\n",
      "Graph created: 391 nodes, 390 edges\n"
     ]
    },
    {
     "name": "stderr",
     "output_type": "stream",
     "text": [
      "  1%|          | 6/500 [00:01<01:53,  4.34it/s]"
     ]
    },
    {
     "name": "stdout",
     "output_type": "stream",
     "text": [
      "Attention shape: (386, 386), min: 0.000000, max: 0.475830, mean: 0.002485\n",
      "Using fallback threshold (10% of max): 0.047577\n",
      "Non-zero values: 74305/74305 (100.0%)\n",
      "Value range: [0.000011, 0.475830]\n",
      "Graph created: 386 nodes, 385 edges\n",
      "Attention shape: (333, 333), min: 0.000000, max: 0.472168, mean: 0.002884\n",
      "Using percentile-based threshold: 0.000353 (50th percentile)\n",
      "Non-zero values: 55278/55278 (100.0%)\n",
      "Value range: [0.000017, 0.472168]\n"
     ]
    },
    {
     "name": "stderr",
     "output_type": "stream",
     "text": [
      "  1%|▏         | 7/500 [00:01<01:57,  4.21it/s]"
     ]
    },
    {
     "name": "stdout",
     "output_type": "stream",
     "text": [
      "Graph created: 333 nodes, 27639 edges\n"
     ]
    },
    {
     "name": "stderr",
     "output_type": "stream",
     "text": [
      "  2%|▏         | 8/500 [00:01<01:53,  4.35it/s]"
     ]
    },
    {
     "name": "stdout",
     "output_type": "stream",
     "text": [
      "Attention shape: (377, 377), min: 0.000000, max: 0.471924, mean: 0.002535\n",
      "Using fallback threshold (10% of max): 0.047180\n",
      "Non-zero values: 70876/70876 (100.0%)\n",
      "Value range: [0.000010, 0.471924]\n",
      "Graph created: 377 nodes, 376 edges\n"
     ]
    },
    {
     "name": "stderr",
     "output_type": "stream",
     "text": [
      "  2%|▏         | 9/500 [00:02<01:52,  4.35it/s]"
     ]
    },
    {
     "name": "stdout",
     "output_type": "stream",
     "text": [
      "Attention shape: (384, 384), min: 0.000000, max: 0.476807, mean: 0.002497\n",
      "Using fallback threshold (10% of max): 0.047668\n",
      "Non-zero values: 73536/73536 (100.0%)\n",
      "Value range: [0.000010, 0.476807]\n",
      "Graph created: 384 nodes, 383 edges\n"
     ]
    },
    {
     "name": "stderr",
     "output_type": "stream",
     "text": [
      "  2%|▏         | 10/500 [00:02<01:51,  4.39it/s]"
     ]
    },
    {
     "name": "stdout",
     "output_type": "stream",
     "text": [
      "Attention shape: (384, 384), min: 0.000000, max: 0.478516, mean: 0.002506\n",
      "Using fallback threshold (10% of max): 0.047852\n",
      "Non-zero values: 73536/73536 (100.0%)\n",
      "Value range: [0.000015, 0.478516]\n",
      "Graph created: 384 nodes, 383 edges\n",
      "Attention shape: (338, 338), min: 0.000000, max: 0.475586, mean: 0.002834\n",
      "Using percentile-based threshold: 0.000261 (50th percentile)\n",
      "Non-zero values: 56953/56953 (100.0%)\n",
      "Value range: [0.000009, 0.475586]\n"
     ]
    },
    {
     "name": "stderr",
     "output_type": "stream",
     "text": [
      "  2%|▏         | 11/500 [00:02<01:53,  4.33it/s]"
     ]
    },
    {
     "name": "stdout",
     "output_type": "stream",
     "text": [
      "Graph created: 338 nodes, 28457 edges\n"
     ]
    },
    {
     "name": "stderr",
     "output_type": "stream",
     "text": [
      "  2%|▏         | 12/500 [00:02<01:54,  4.26it/s]"
     ]
    },
    {
     "name": "stdout",
     "output_type": "stream",
     "text": [
      "Attention shape: (394, 394), min: 0.000000, max: 0.473877, mean: 0.002439\n",
      "Using fallback threshold (10% of max): 0.047363\n",
      "Non-zero values: 77421/77421 (100.0%)\n",
      "Value range: [0.000020, 0.473877]\n",
      "Graph created: 394 nodes, 393 edges\n"
     ]
    },
    {
     "name": "stderr",
     "output_type": "stream",
     "text": [
      "  3%|▎         | 13/500 [00:03<01:55,  4.21it/s]"
     ]
    },
    {
     "name": "stdout",
     "output_type": "stream",
     "text": [
      "Attention shape: (385, 385), min: 0.000000, max: 0.473877, mean: 0.002489\n",
      "Using fallback threshold (10% of max): 0.047363\n",
      "Non-zero values: 73920/73920 (100.0%)\n",
      "Value range: [0.000003, 0.473877]\n",
      "Graph created: 385 nodes, 384 edges\n"
     ]
    },
    {
     "name": "stderr",
     "output_type": "stream",
     "text": [
      "  3%|▎         | 14/500 [00:03<01:53,  4.27it/s]"
     ]
    },
    {
     "name": "stdout",
     "output_type": "stream",
     "text": [
      "Attention shape: (381, 381), min: 0.000000, max: 0.476074, mean: 0.002516\n",
      "Using fallback threshold (10% of max): 0.047607\n",
      "Non-zero values: 72390/72390 (100.0%)\n",
      "Value range: [0.000018, 0.476074]\n",
      "Graph created: 381 nodes, 380 edges\n"
     ]
    },
    {
     "name": "stderr",
     "output_type": "stream",
     "text": [
      "  3%|▎         | 15/500 [00:03<01:56,  4.17it/s]"
     ]
    },
    {
     "name": "stdout",
     "output_type": "stream",
     "text": [
      "Attention shape: (400, 400), min: 0.000000, max: 0.477295, mean: 0.002396\n",
      "Using fallback threshold (10% of max): 0.047729\n",
      "Non-zero values: 79800/79800 (100.0%)\n",
      "Value range: [0.000011, 0.477295]\n",
      "Graph created: 400 nodes, 399 edges\n"
     ]
    },
    {
     "name": "stderr",
     "output_type": "stream",
     "text": [
      "  3%|▎         | 16/500 [00:03<01:56,  4.14it/s]"
     ]
    },
    {
     "name": "stdout",
     "output_type": "stream",
     "text": [
      "Attention shape: (389, 389), min: 0.000000, max: 0.478516, mean: 0.002466\n",
      "Using fallback threshold (10% of max): 0.047852\n",
      "Non-zero values: 75466/75466 (100.0%)\n",
      "Value range: [0.000012, 0.478516]\n",
      "Graph created: 389 nodes, 388 edges\n"
     ]
    },
    {
     "name": "stderr",
     "output_type": "stream",
     "text": [
      "  3%|▎         | 17/500 [00:03<01:53,  4.24it/s]"
     ]
    },
    {
     "name": "stdout",
     "output_type": "stream",
     "text": [
      "Attention shape: (377, 377), min: 0.000000, max: 0.480957, mean: 0.002539\n",
      "Using fallback threshold (10% of max): 0.048096\n",
      "Non-zero values: 70876/70876 (100.0%)\n",
      "Value range: [0.000008, 0.480957]\n",
      "Graph created: 377 nodes, 376 edges\n"
     ]
    },
    {
     "name": "stderr",
     "output_type": "stream",
     "text": [
      "  4%|▎         | 18/500 [00:04<01:53,  4.25it/s]"
     ]
    },
    {
     "name": "stdout",
     "output_type": "stream",
     "text": [
      "Attention shape: (383, 383), min: 0.000000, max: 0.480713, mean: 0.002506\n",
      "Using fallback threshold (10% of max): 0.048065\n",
      "Non-zero values: 73153/73153 (100.0%)\n",
      "Value range: [0.000012, 0.480713]\n",
      "Graph created: 383 nodes, 382 edges\n"
     ]
    },
    {
     "name": "stderr",
     "output_type": "stream",
     "text": [
      "  4%|▍         | 19/500 [00:04<01:55,  4.18it/s]"
     ]
    },
    {
     "name": "stdout",
     "output_type": "stream",
     "text": [
      "Attention shape: (406, 406), min: 0.000000, max: 0.481689, mean: 0.002361\n",
      "Using fallback threshold (10% of max): 0.048157\n",
      "Non-zero values: 82215/82215 (100.0%)\n",
      "Value range: [0.000008, 0.481689]\n",
      "Graph created: 406 nodes, 405 edges\n"
     ]
    },
    {
     "name": "stderr",
     "output_type": "stream",
     "text": [
      "  4%|▍         | 20/500 [00:04<01:55,  4.16it/s]"
     ]
    },
    {
     "name": "stdout",
     "output_type": "stream",
     "text": [
      "Attention shape: (396, 396), min: 0.000000, max: 0.474121, mean: 0.002428\n",
      "Using fallback threshold (10% of max): 0.047394\n",
      "Non-zero values: 78210/78210 (100.0%)\n",
      "Value range: [0.000017, 0.474121]\n",
      "Graph created: 396 nodes, 395 edges\n"
     ]
    },
    {
     "name": "stderr",
     "output_type": "stream",
     "text": [
      "  4%|▍         | 21/500 [00:04<01:53,  4.20it/s]"
     ]
    },
    {
     "name": "stdout",
     "output_type": "stream",
     "text": [
      "Attention shape: (389, 389), min: 0.000000, max: 0.472168, mean: 0.002464\n",
      "Using fallback threshold (10% of max): 0.047211\n",
      "Non-zero values: 75466/75466 (100.0%)\n",
      "Value range: [0.000009, 0.472168]\n",
      "Graph created: 389 nodes, 388 edges\n"
     ]
    },
    {
     "name": "stderr",
     "output_type": "stream",
     "text": [
      "  4%|▍         | 22/500 [00:05<01:53,  4.22it/s]"
     ]
    },
    {
     "name": "stdout",
     "output_type": "stream",
     "text": [
      "Attention shape: (390, 390), min: 0.000000, max: 0.468506, mean: 0.002460\n",
      "Using fallback threshold (10% of max): 0.046844\n",
      "Non-zero values: 75855/75855 (100.0%)\n",
      "Value range: [0.000018, 0.468506]\n",
      "Graph created: 390 nodes, 389 edges\n"
     ]
    },
    {
     "name": "stderr",
     "output_type": "stream",
     "text": [
      "  5%|▍         | 23/500 [00:05<01:52,  4.25it/s]"
     ]
    },
    {
     "name": "stdout",
     "output_type": "stream",
     "text": [
      "Attention shape: (385, 385), min: 0.000000, max: 0.468506, mean: 0.002489\n",
      "Using fallback threshold (10% of max): 0.046844\n",
      "Non-zero values: 73920/73920 (100.0%)\n",
      "Value range: [0.000013, 0.468506]\n",
      "Graph created: 385 nodes, 384 edges\n"
     ]
    },
    {
     "name": "stderr",
     "output_type": "stream",
     "text": [
      "  5%|▍         | 24/500 [00:05<01:49,  4.34it/s]"
     ]
    },
    {
     "name": "stdout",
     "output_type": "stream",
     "text": [
      "Attention shape: (381, 381), min: 0.000000, max: 0.479980, mean: 0.002518\n",
      "Using fallback threshold (10% of max): 0.047974\n",
      "Non-zero values: 72390/72390 (100.0%)\n",
      "Value range: [0.000009, 0.479980]\n",
      "Graph created: 381 nodes, 380 edges\n"
     ]
    },
    {
     "name": "stderr",
     "output_type": "stream",
     "text": [
      "  5%|▌         | 25/500 [00:05<01:50,  4.28it/s]"
     ]
    },
    {
     "name": "stdout",
     "output_type": "stream",
     "text": [
      "Attention shape: (395, 395), min: 0.000000, max: 0.481445, mean: 0.002426\n",
      "Using fallback threshold (10% of max): 0.048126\n",
      "Non-zero values: 77815/77815 (100.0%)\n",
      "Value range: [0.000010, 0.481445]\n",
      "Graph created: 395 nodes, 394 edges\n"
     ]
    },
    {
     "name": "stderr",
     "output_type": "stream",
     "text": [
      "  5%|▌         | 26/500 [00:06<01:55,  4.10it/s]"
     ]
    },
    {
     "name": "stdout",
     "output_type": "stream",
     "text": [
      "Attention shape: (411, 411), min: 0.000000, max: 0.479004, mean: 0.002335\n",
      "Using fallback threshold (10% of max): 0.047882\n",
      "Non-zero values: 84255/84255 (100.0%)\n",
      "Value range: [0.000011, 0.479004]\n",
      "Graph created: 411 nodes, 410 edges\n"
     ]
    },
    {
     "name": "stderr",
     "output_type": "stream",
     "text": [
      "  5%|▌         | 27/500 [00:06<01:57,  4.03it/s]"
     ]
    },
    {
     "name": "stdout",
     "output_type": "stream",
     "text": [
      "Attention shape: (358, 358), min: 0.000000, max: 0.480957, mean: 0.002674\n",
      "Using percentile-based threshold: 0.000264 (50th percentile)\n",
      "Non-zero values: 63903/63903 (100.0%)\n",
      "Value range: [0.000009, 0.480957]\n",
      "Graph created: 358 nodes, 31941 edges\n"
     ]
    },
    {
     "name": "stderr",
     "output_type": "stream",
     "text": [
      "  6%|▌         | 28/500 [00:06<01:57,  4.01it/s]"
     ]
    },
    {
     "name": "stdout",
     "output_type": "stream",
     "text": [
      "Attention shape: (389, 389), min: 0.000000, max: 0.468506, mean: 0.002468\n",
      "Using fallback threshold (10% of max): 0.046844\n",
      "Non-zero values: 75466/75466 (100.0%)\n",
      "Value range: [0.000019, 0.468506]\n",
      "Graph created: 389 nodes, 388 edges\n"
     ]
    },
    {
     "name": "stderr",
     "output_type": "stream",
     "text": [
      "  6%|▌         | 29/500 [00:06<02:00,  3.92it/s]"
     ]
    },
    {
     "name": "stdout",
     "output_type": "stream",
     "text": [
      "Attention shape: (355, 355), min: 0.000000, max: 0.475098, mean: 0.002697\n",
      "Using percentile-based threshold: 0.000277 (50th percentile)\n",
      "Non-zero values: 62835/62835 (100.0%)\n",
      "Value range: [0.000015, 0.475098]\n",
      "Graph created: 355 nodes, 31402 edges\n"
     ]
    },
    {
     "name": "stderr",
     "output_type": "stream",
     "text": [
      "  6%|▌         | 30/500 [00:07<01:59,  3.92it/s]"
     ]
    },
    {
     "name": "stdout",
     "output_type": "stream",
     "text": [
      "Attention shape: (398, 398), min: 0.000000, max: 0.473145, mean: 0.002407\n",
      "Using fallback threshold (10% of max): 0.047302\n",
      "Non-zero values: 79003/79003 (100.0%)\n",
      "Value range: [0.000007, 0.473145]\n",
      "Graph created: 398 nodes, 397 edges\n"
     ]
    },
    {
     "name": "stderr",
     "output_type": "stream",
     "text": [
      "  6%|▌         | 31/500 [00:07<01:58,  3.96it/s]"
     ]
    },
    {
     "name": "stdout",
     "output_type": "stream",
     "text": [
      "Attention shape: (397, 397), min: 0.000000, max: 0.469971, mean: 0.002413\n",
      "Using fallback threshold (10% of max): 0.046997\n",
      "Non-zero values: 78606/78606 (100.0%)\n",
      "Value range: [0.000013, 0.469971]\n",
      "Graph created: 397 nodes, 396 edges\n"
     ]
    },
    {
     "name": "stderr",
     "output_type": "stream",
     "text": [
      "  6%|▋         | 32/500 [00:07<01:55,  4.05it/s]"
     ]
    },
    {
     "name": "stdout",
     "output_type": "stream",
     "text": [
      "Attention shape: (381, 381), min: 0.000000, max: 0.469971, mean: 0.002516\n",
      "Using fallback threshold (10% of max): 0.046997\n",
      "Non-zero values: 72390/72390 (100.0%)\n",
      "Value range: [0.000011, 0.469971]\n",
      "Graph created: 381 nodes, 380 edges\n"
     ]
    },
    {
     "name": "stderr",
     "output_type": "stream",
     "text": [
      "  7%|▋         | 33/500 [00:07<01:50,  4.21it/s]"
     ]
    },
    {
     "name": "stdout",
     "output_type": "stream",
     "text": [
      "Attention shape: (364, 364), min: 0.000000, max: 0.476318, mean: 0.002628\n",
      "Using fallback threshold (10% of max): 0.047607\n",
      "Non-zero values: 66066/66066 (100.0%)\n",
      "Value range: [0.000011, 0.476318]\n",
      "Graph created: 364 nodes, 363 edges\n"
     ]
    },
    {
     "name": "stderr",
     "output_type": "stream",
     "text": [
      "  7%|▋         | 34/500 [00:08<01:51,  4.19it/s]"
     ]
    },
    {
     "name": "stdout",
     "output_type": "stream",
     "text": [
      "Attention shape: (385, 385), min: 0.000000, max: 0.479980, mean: 0.002491\n",
      "Using fallback threshold (10% of max): 0.047974\n",
      "Non-zero values: 73920/73920 (100.0%)\n",
      "Value range: [0.000004, 0.479980]\n",
      "Graph created: 385 nodes, 387 edges\n"
     ]
    },
    {
     "name": "stderr",
     "output_type": "stream",
     "text": [
      "  7%|▋         | 35/500 [00:08<01:51,  4.16it/s]"
     ]
    },
    {
     "name": "stdout",
     "output_type": "stream",
     "text": [
      "Attention shape: (392, 392), min: 0.000000, max: 0.469971, mean: 0.002447\n",
      "Using fallback threshold (10% of max): 0.046997\n",
      "Non-zero values: 76636/76636 (100.0%)\n",
      "Value range: [0.000008, 0.469971]\n",
      "Graph created: 392 nodes, 391 edges\n"
     ]
    },
    {
     "name": "stderr",
     "output_type": "stream",
     "text": [
      "  7%|▋         | 36/500 [00:08<01:53,  4.09it/s]"
     ]
    },
    {
     "name": "stdout",
     "output_type": "stream",
     "text": [
      "Attention shape: (390, 390), min: 0.000000, max: 0.474609, mean: 0.002460\n",
      "Using fallback threshold (10% of max): 0.047455\n",
      "Non-zero values: 75855/75855 (100.0%)\n",
      "Value range: [0.000015, 0.474609]\n",
      "Graph created: 390 nodes, 389 edges\n"
     ]
    },
    {
     "name": "stderr",
     "output_type": "stream",
     "text": [
      "  7%|▋         | 37/500 [00:08<01:54,  4.03it/s]"
     ]
    },
    {
     "name": "stdout",
     "output_type": "stream",
     "text": [
      "Attention shape: (402, 402), min: 0.000000, max: 0.469971, mean: 0.002384\n",
      "Using fallback threshold (10% of max): 0.046997\n",
      "Non-zero values: 80601/80601 (100.0%)\n",
      "Value range: [0.000008, 0.469971]\n",
      "Graph created: 402 nodes, 401 edges\n"
     ]
    },
    {
     "name": "stderr",
     "output_type": "stream",
     "text": [
      "  8%|▊         | 38/500 [00:09<01:52,  4.11it/s]"
     ]
    },
    {
     "name": "stdout",
     "output_type": "stream",
     "text": [
      "Attention shape: (371, 371), min: 0.000000, max: 0.477295, mean: 0.002579\n",
      "Using fallback threshold (10% of max): 0.047729\n",
      "Non-zero values: 68635/68635 (100.0%)\n",
      "Value range: [0.000012, 0.477295]\n",
      "Graph created: 371 nodes, 370 edges\n"
     ]
    },
    {
     "name": "stderr",
     "output_type": "stream",
     "text": [
      "  8%|▊         | 39/500 [00:09<01:56,  3.97it/s]"
     ]
    },
    {
     "name": "stdout",
     "output_type": "stream",
     "text": [
      "Attention shape: (362, 362), min: 0.000000, max: 0.475098, mean: 0.002649\n",
      "Using percentile-based threshold: 0.000339 (50th percentile)\n",
      "Non-zero values: 65341/65341 (100.0%)\n",
      "Value range: [0.000018, 0.475098]\n",
      "Graph created: 362 nodes, 32658 edges\n"
     ]
    },
    {
     "name": "stderr",
     "output_type": "stream",
     "text": [
      "  8%|▊         | 40/500 [00:09<01:57,  3.93it/s]"
     ]
    },
    {
     "name": "stdout",
     "output_type": "stream",
     "text": [
      "Attention shape: (391, 391), min: 0.000000, max: 0.479980, mean: 0.002455\n",
      "Using fallback threshold (10% of max): 0.047974\n",
      "Non-zero values: 76245/76245 (100.0%)\n",
      "Value range: [0.000011, 0.479980]\n",
      "Graph created: 391 nodes, 390 edges\n"
     ]
    },
    {
     "name": "stderr",
     "output_type": "stream",
     "text": [
      "  8%|▊         | 41/500 [00:09<01:52,  4.07it/s]"
     ]
    },
    {
     "name": "stdout",
     "output_type": "stream",
     "text": [
      "Attention shape: (378, 378), min: 0.000000, max: 0.473877, mean: 0.002537\n",
      "Using fallback threshold (10% of max): 0.047363\n",
      "Non-zero values: 71253/71253 (100.0%)\n",
      "Value range: [0.000015, 0.473877]\n",
      "Graph created: 378 nodes, 377 edges\n"
     ]
    },
    {
     "name": "stderr",
     "output_type": "stream",
     "text": [
      "  8%|▊         | 42/500 [00:10<01:51,  4.09it/s]"
     ]
    },
    {
     "name": "stdout",
     "output_type": "stream",
     "text": [
      "Attention shape: (383, 383), min: 0.000000, max: 0.475830, mean: 0.002512\n",
      "Using fallback threshold (10% of max): 0.047577\n",
      "Non-zero values: 73153/73153 (100.0%)\n",
      "Value range: [0.000007, 0.475830]\n",
      "Graph created: 383 nodes, 382 edges\n"
     ]
    },
    {
     "name": "stderr",
     "output_type": "stream",
     "text": [
      "  9%|▊         | 43/500 [00:10<01:51,  4.09it/s]"
     ]
    },
    {
     "name": "stdout",
     "output_type": "stream",
     "text": [
      "Attention shape: (393, 393), min: 0.000000, max: 0.481934, mean: 0.002441\n",
      "Using fallback threshold (10% of max): 0.048187\n",
      "Non-zero values: 77028/77028 (100.0%)\n",
      "Value range: [0.000013, 0.481934]\n",
      "Graph created: 393 nodes, 392 edges\n"
     ]
    },
    {
     "name": "stderr",
     "output_type": "stream",
     "text": [
      "  9%|▉         | 44/500 [00:10<01:49,  4.17it/s]"
     ]
    },
    {
     "name": "stdout",
     "output_type": "stream",
     "text": [
      "Attention shape: (386, 386), min: 0.000000, max: 0.475098, mean: 0.002485\n",
      "Using fallback threshold (10% of max): 0.047485\n",
      "Non-zero values: 74305/74305 (100.0%)\n",
      "Value range: [0.000006, 0.475098]\n",
      "Graph created: 386 nodes, 385 edges\n"
     ]
    },
    {
     "name": "stderr",
     "output_type": "stream",
     "text": [
      "  9%|▉         | 45/500 [00:10<01:49,  4.17it/s]"
     ]
    },
    {
     "name": "stdout",
     "output_type": "stream",
     "text": [
      "Attention shape: (398, 398), min: 0.000000, max: 0.481201, mean: 0.002409\n",
      "Using fallback threshold (10% of max): 0.048096\n",
      "Non-zero values: 79003/79003 (100.0%)\n",
      "Value range: [0.000013, 0.481201]\n",
      "Graph created: 398 nodes, 397 edges\n"
     ]
    },
    {
     "name": "stderr",
     "output_type": "stream",
     "text": [
      "  9%|▉         | 46/500 [00:11<01:48,  4.20it/s]"
     ]
    },
    {
     "name": "stdout",
     "output_type": "stream",
     "text": [
      "Attention shape: (392, 392), min: 0.000000, max: 0.474609, mean: 0.002451\n",
      "Using fallback threshold (10% of max): 0.047455\n",
      "Non-zero values: 76636/76636 (100.0%)\n",
      "Value range: [0.000014, 0.474609]\n",
      "Graph created: 392 nodes, 391 edges\n"
     ]
    },
    {
     "name": "stderr",
     "output_type": "stream",
     "text": [
      "  9%|▉         | 47/500 [00:11<01:45,  4.31it/s]"
     ]
    },
    {
     "name": "stdout",
     "output_type": "stream",
     "text": [
      "Attention shape: (382, 382), min: 0.000000, max: 0.479248, mean: 0.002508\n",
      "Using fallback threshold (10% of max): 0.047913\n",
      "Non-zero values: 72771/72771 (100.0%)\n",
      "Value range: [0.000010, 0.479248]\n",
      "Graph created: 382 nodes, 381 edges\n",
      "Attention shape: (358, 358), min: 0.000000, max: 0.469971, mean: 0.002672\n"
     ]
    },
    {
     "name": "stderr",
     "output_type": "stream",
     "text": [
      " 10%|▉         | 48/500 [00:11<01:48,  4.18it/s]"
     ]
    },
    {
     "name": "stdout",
     "output_type": "stream",
     "text": [
      "Using percentile-based threshold: 0.000339 (50th percentile)\n",
      "Non-zero values: 63903/63903 (100.0%)\n",
      "Value range: [0.000016, 0.469971]\n",
      "Graph created: 358 nodes, 31943 edges\n"
     ]
    },
    {
     "name": "stderr",
     "output_type": "stream",
     "text": [
      " 10%|▉         | 49/500 [00:11<01:48,  4.17it/s]"
     ]
    },
    {
     "name": "stdout",
     "output_type": "stream",
     "text": [
      "Attention shape: (394, 394), min: 0.000000, max: 0.477051, mean: 0.002428\n",
      "Using fallback threshold (10% of max): 0.047699\n",
      "Non-zero values: 77421/77421 (100.0%)\n",
      "Value range: [0.000012, 0.477051]\n",
      "Graph created: 394 nodes, 393 edges\n"
     ]
    },
    {
     "name": "stderr",
     "output_type": "stream",
     "text": [
      " 10%|█         | 50/500 [00:11<01:46,  4.23it/s]"
     ]
    },
    {
     "name": "stdout",
     "output_type": "stream",
     "text": [
      "Attention shape: (386, 386), min: 0.000000, max: 0.470459, mean: 0.002489\n",
      "Using fallback threshold (10% of max): 0.047028\n",
      "Non-zero values: 74305/74305 (100.0%)\n",
      "Value range: [0.000015, 0.470459]\n",
      "Graph created: 386 nodes, 385 edges\n"
     ]
    },
    {
     "name": "stderr",
     "output_type": "stream",
     "text": [
      " 10%|█         | 51/500 [00:12<01:42,  4.38it/s]"
     ]
    },
    {
     "name": "stdout",
     "output_type": "stream",
     "text": [
      "Attention shape: (367, 367), min: 0.000000, max: 0.472168, mean: 0.002607\n",
      "Using fallback threshold (10% of max): 0.047211\n",
      "Non-zero values: 67161/67161 (100.0%)\n",
      "Value range: [0.000007, 0.472168]\n",
      "Graph created: 367 nodes, 366 edges\n"
     ]
    },
    {
     "name": "stderr",
     "output_type": "stream",
     "text": [
      " 10%|█         | 52/500 [00:12<01:43,  4.31it/s]"
     ]
    },
    {
     "name": "stdout",
     "output_type": "stream",
     "text": [
      "Attention shape: (395, 395), min: 0.000000, max: 0.477539, mean: 0.002430\n",
      "Using fallback threshold (10% of max): 0.047729\n",
      "Non-zero values: 77815/77815 (100.0%)\n",
      "Value range: [0.000009, 0.477539]\n",
      "Graph created: 395 nodes, 394 edges\n"
     ]
    },
    {
     "name": "stderr",
     "output_type": "stream",
     "text": [
      " 11%|█         | 53/500 [00:12<01:40,  4.45it/s]"
     ]
    },
    {
     "name": "stdout",
     "output_type": "stream",
     "text": [
      "Attention shape: (368, 368), min: 0.000000, max: 0.472412, mean: 0.002605\n",
      "Using fallback threshold (10% of max): 0.047241\n",
      "Non-zero values: 67528/67528 (100.0%)\n",
      "Value range: [0.000012, 0.472412]\n",
      "Graph created: 368 nodes, 367 edges\n",
      "Attention shape: (347, 347), min: 0.000000, max: 0.477539, mean: 0.002758\n",
      "Using percentile-based threshold: 0.000243 (50th percentile)\n",
      "Non-zero values: 60031/60031 (100.0%)\n",
      "Value range: [0.000011, 0.477539]\n"
     ]
    },
    {
     "name": "stderr",
     "output_type": "stream",
     "text": [
      " 11%|█         | 54/500 [00:12<01:43,  4.31it/s]"
     ]
    },
    {
     "name": "stdout",
     "output_type": "stream",
     "text": [
      "Graph created: 347 nodes, 30006 edges\n"
     ]
    },
    {
     "name": "stderr",
     "output_type": "stream",
     "text": [
      " 11%|█         | 55/500 [00:13<01:41,  4.39it/s]"
     ]
    },
    {
     "name": "stdout",
     "output_type": "stream",
     "text": [
      "Attention shape: (381, 381), min: 0.000000, max: 0.478760, mean: 0.002516\n",
      "Using fallback threshold (10% of max): 0.047852\n",
      "Non-zero values: 72390/72390 (100.0%)\n",
      "Value range: [0.000010, 0.478760]\n",
      "Graph created: 381 nodes, 380 edges\n"
     ]
    },
    {
     "name": "stderr",
     "output_type": "stream",
     "text": [
      " 11%|█         | 56/500 [00:13<01:39,  4.45it/s]"
     ]
    },
    {
     "name": "stdout",
     "output_type": "stream",
     "text": [
      "Attention shape: (379, 379), min: 0.000000, max: 0.473145, mean: 0.002531\n",
      "Using fallback threshold (10% of max): 0.047302\n",
      "Non-zero values: 71631/71631 (100.0%)\n",
      "Value range: [0.000017, 0.473145]\n",
      "Graph created: 379 nodes, 378 edges\n"
     ]
    },
    {
     "name": "stderr",
     "output_type": "stream",
     "text": [
      " 11%|█▏        | 57/500 [00:13<01:40,  4.41it/s]"
     ]
    },
    {
     "name": "stdout",
     "output_type": "stream",
     "text": [
      "Attention shape: (389, 389), min: 0.000000, max: 0.476562, mean: 0.002468\n",
      "Using fallback threshold (10% of max): 0.047638\n",
      "Non-zero values: 75466/75466 (100.0%)\n",
      "Value range: [0.000017, 0.476562]\n",
      "Graph created: 389 nodes, 388 edges\n"
     ]
    },
    {
     "name": "stderr",
     "output_type": "stream",
     "text": [
      " 12%|█▏        | 58/500 [00:13<01:42,  4.30it/s]"
     ]
    },
    {
     "name": "stdout",
     "output_type": "stream",
     "text": [
      "Attention shape: (398, 398), min: 0.000000, max: 0.480225, mean: 0.002403\n",
      "Using fallback threshold (10% of max): 0.048004\n",
      "Non-zero values: 79003/79003 (100.0%)\n",
      "Value range: [0.000008, 0.480225]\n",
      "Graph created: 398 nodes, 397 edges\n"
     ]
    },
    {
     "name": "stderr",
     "output_type": "stream",
     "text": [
      " 12%|█▏        | 59/500 [00:14<01:43,  4.27it/s]"
     ]
    },
    {
     "name": "stdout",
     "output_type": "stream",
     "text": [
      "Attention shape: (396, 396), min: 0.000000, max: 0.476807, mean: 0.002417\n",
      "Using fallback threshold (10% of max): 0.047668\n",
      "Non-zero values: 78210/78210 (100.0%)\n",
      "Value range: [0.000016, 0.476807]\n",
      "Graph created: 396 nodes, 395 edges\n"
     ]
    },
    {
     "name": "stderr",
     "output_type": "stream",
     "text": [
      " 12%|█▏        | 60/500 [00:14<01:47,  4.11it/s]"
     ]
    },
    {
     "name": "stdout",
     "output_type": "stream",
     "text": [
      "Attention shape: (354, 354), min: 0.000000, max: 0.479736, mean: 0.002703\n",
      "Using percentile-based threshold: 0.000309 (50th percentile)\n",
      "Non-zero values: 62481/62481 (100.0%)\n",
      "Value range: [0.000015, 0.479736]\n",
      "Graph created: 354 nodes, 31242 edges\n"
     ]
    },
    {
     "name": "stderr",
     "output_type": "stream",
     "text": [
      " 12%|█▏        | 61/500 [00:14<01:47,  4.07it/s]"
     ]
    },
    {
     "name": "stdout",
     "output_type": "stream",
     "text": [
      "Attention shape: (414, 414), min: 0.000000, max: 0.472900, mean: 0.002317\n",
      "Using fallback threshold (10% of max): 0.047272\n",
      "Non-zero values: 85491/85491 (100.0%)\n",
      "Value range: [0.000008, 0.472900]\n",
      "Graph created: 414 nodes, 413 edges\n"
     ]
    },
    {
     "name": "stderr",
     "output_type": "stream",
     "text": [
      " 12%|█▏        | 62/500 [00:14<01:48,  4.05it/s]"
     ]
    },
    {
     "name": "stdout",
     "output_type": "stream",
     "text": [
      "Attention shape: (405, 405), min: 0.000000, max: 0.478760, mean: 0.002371\n",
      "Using fallback threshold (10% of max): 0.047852\n",
      "Non-zero values: 81810/81810 (100.0%)\n",
      "Value range: [0.000005, 0.478760]\n",
      "Graph created: 405 nodes, 404 edges\n"
     ]
    },
    {
     "name": "stderr",
     "output_type": "stream",
     "text": [
      " 13%|█▎        | 63/500 [00:15<01:43,  4.23it/s]"
     ]
    },
    {
     "name": "stdout",
     "output_type": "stream",
     "text": [
      "Attention shape: (383, 383), min: 0.000000, max: 0.473389, mean: 0.002501\n",
      "Using fallback threshold (10% of max): 0.047333\n",
      "Non-zero values: 73153/73153 (100.0%)\n",
      "Value range: [0.000007, 0.473389]\n",
      "Graph created: 383 nodes, 382 edges\n"
     ]
    },
    {
     "name": "stderr",
     "output_type": "stream",
     "text": [
      " 13%|█▎        | 64/500 [00:15<01:40,  4.34it/s]"
     ]
    },
    {
     "name": "stdout",
     "output_type": "stream",
     "text": [
      "Attention shape: (382, 382), min: 0.000000, max: 0.469238, mean: 0.002504\n",
      "Using fallback threshold (10% of max): 0.046906\n",
      "Non-zero values: 72771/72771 (100.0%)\n",
      "Value range: [0.000015, 0.469238]\n",
      "Graph created: 382 nodes, 381 edges\n"
     ]
    },
    {
     "name": "stderr",
     "output_type": "stream",
     "text": [
      " 13%|█▎        | 65/500 [00:15<01:41,  4.28it/s]"
     ]
    },
    {
     "name": "stdout",
     "output_type": "stream",
     "text": [
      "Attention shape: (395, 395), min: 0.000000, max: 0.473145, mean: 0.002428\n",
      "Using fallback threshold (10% of max): 0.047302\n",
      "Non-zero values: 77815/77815 (100.0%)\n",
      "Value range: [0.000008, 0.473145]\n",
      "Graph created: 395 nodes, 394 edges\n"
     ]
    },
    {
     "name": "stderr",
     "output_type": "stream",
     "text": [
      " 13%|█▎        | 66/500 [00:15<01:38,  4.42it/s]"
     ]
    },
    {
     "name": "stdout",
     "output_type": "stream",
     "text": [
      "Attention shape: (372, 372), min: 0.000000, max: 0.476318, mean: 0.002584\n",
      "Using fallback threshold (10% of max): 0.047607\n",
      "Non-zero values: 69006/69006 (100.0%)\n",
      "Value range: [0.000016, 0.476318]\n",
      "Graph created: 372 nodes, 371 edges\n"
     ]
    },
    {
     "name": "stderr",
     "output_type": "stream",
     "text": [
      " 13%|█▎        | 67/500 [00:15<01:42,  4.24it/s]"
     ]
    },
    {
     "name": "stdout",
     "output_type": "stream",
     "text": [
      "Attention shape: (358, 358), min: 0.000000, max: 0.472656, mean: 0.002672\n",
      "Using percentile-based threshold: 0.000264 (50th percentile)\n",
      "Non-zero values: 63903/63903 (100.0%)\n",
      "Value range: [0.000015, 0.472656]\n",
      "Graph created: 358 nodes, 31935 edges\n"
     ]
    },
    {
     "name": "stderr",
     "output_type": "stream",
     "text": [
      " 14%|█▎        | 68/500 [00:16<01:38,  4.40it/s]"
     ]
    },
    {
     "name": "stdout",
     "output_type": "stream",
     "text": [
      "Attention shape: (368, 368), min: 0.000000, max: 0.474609, mean: 0.002609\n",
      "Using fallback threshold (10% of max): 0.047455\n",
      "Non-zero values: 67528/67528 (100.0%)\n",
      "Value range: [0.000022, 0.474609]\n",
      "Graph created: 368 nodes, 367 edges\n"
     ]
    },
    {
     "name": "stderr",
     "output_type": "stream",
     "text": [
      " 14%|█▍        | 69/500 [00:16<01:35,  4.52it/s]"
     ]
    },
    {
     "name": "stdout",
     "output_type": "stream",
     "text": [
      "Attention shape: (367, 367), min: 0.000000, max: 0.468506, mean: 0.002609\n",
      "Using fallback threshold (10% of max): 0.046844\n",
      "Non-zero values: 67161/67161 (100.0%)\n",
      "Value range: [0.000012, 0.468506]\n",
      "Graph created: 367 nodes, 367 edges\n",
      "Attention shape: (349, 349), min: 0.000000, max: 0.477295, mean: 0.002748\n",
      "Using percentile-based threshold: 0.000282 (50th percentile)\n",
      "Non-zero values: 60726/60726 (100.0%)\n",
      "Value range: [0.000018, 0.477295]\n"
     ]
    },
    {
     "name": "stderr",
     "output_type": "stream",
     "text": [
      " 14%|█▍        | 70/500 [00:16<01:38,  4.36it/s]"
     ]
    },
    {
     "name": "stdout",
     "output_type": "stream",
     "text": [
      "Graph created: 349 nodes, 30357 edges\n"
     ]
    },
    {
     "name": "stderr",
     "output_type": "stream",
     "text": [
      " 14%|█▍        | 71/500 [00:16<01:40,  4.27it/s]"
     ]
    },
    {
     "name": "stdout",
     "output_type": "stream",
     "text": [
      "Attention shape: (400, 400), min: 0.000000, max: 0.473145, mean: 0.002392\n",
      "Using fallback threshold (10% of max): 0.047302\n",
      "Non-zero values: 79800/79800 (100.0%)\n",
      "Value range: [0.000007, 0.473145]\n",
      "Graph created: 400 nodes, 399 edges\n"
     ]
    },
    {
     "name": "stderr",
     "output_type": "stream",
     "text": [
      " 14%|█▍        | 72/500 [00:17<01:41,  4.23it/s]"
     ]
    },
    {
     "name": "stdout",
     "output_type": "stream",
     "text": [
      "Attention shape: (398, 398), min: 0.000000, max: 0.472656, mean: 0.002411\n",
      "Using fallback threshold (10% of max): 0.047241\n",
      "Non-zero values: 79003/79003 (100.0%)\n",
      "Value range: [0.000015, 0.472656]\n",
      "Graph created: 398 nodes, 397 edges\n"
     ]
    },
    {
     "name": "stderr",
     "output_type": "stream",
     "text": [
      " 15%|█▍        | 73/500 [00:17<01:41,  4.21it/s]"
     ]
    },
    {
     "name": "stdout",
     "output_type": "stream",
     "text": [
      "Attention shape: (393, 393), min: 0.000000, max: 0.472168, mean: 0.002438\n",
      "Using fallback threshold (10% of max): 0.047211\n",
      "Non-zero values: 77028/77028 (100.0%)\n",
      "Value range: [0.000017, 0.472168]\n",
      "Graph created: 393 nodes, 394 edges\n"
     ]
    },
    {
     "name": "stderr",
     "output_type": "stream",
     "text": [
      " 15%|█▍        | 74/500 [00:17<01:44,  4.08it/s]"
     ]
    },
    {
     "name": "stdout",
     "output_type": "stream",
     "text": [
      "Attention shape: (358, 358), min: 0.000000, max: 0.474121, mean: 0.002674\n",
      "Using percentile-based threshold: 0.000244 (50th percentile)\n",
      "Non-zero values: 63903/63903 (100.0%)\n",
      "Value range: [0.000008, 0.474121]\n",
      "Graph created: 358 nodes, 31947 edges\n"
     ]
    },
    {
     "name": "stderr",
     "output_type": "stream",
     "text": [
      " 15%|█▌        | 75/500 [00:17<01:41,  4.20it/s]"
     ]
    },
    {
     "name": "stdout",
     "output_type": "stream",
     "text": [
      "Attention shape: (384, 384), min: 0.000000, max: 0.470947, mean: 0.002493\n",
      "Using fallback threshold (10% of max): 0.047089\n",
      "Non-zero values: 73536/73536 (100.0%)\n",
      "Value range: [0.000012, 0.470947]\n",
      "Graph created: 384 nodes, 383 edges\n"
     ]
    },
    {
     "name": "stderr",
     "output_type": "stream",
     "text": [
      " 15%|█▌        | 76/500 [00:18<01:42,  4.15it/s]"
     ]
    },
    {
     "name": "stdout",
     "output_type": "stream",
     "text": [
      "Attention shape: (400, 400), min: 0.000000, max: 0.479736, mean: 0.002401\n",
      "Using fallback threshold (10% of max): 0.047974\n",
      "Non-zero values: 79800/79800 (100.0%)\n",
      "Value range: [0.000017, 0.479736]\n",
      "Graph created: 400 nodes, 399 edges\n"
     ]
    },
    {
     "name": "stderr",
     "output_type": "stream",
     "text": [
      " 15%|█▌        | 77/500 [00:18<01:39,  4.25it/s]"
     ]
    },
    {
     "name": "stdout",
     "output_type": "stream",
     "text": [
      "Attention shape: (384, 384), min: 0.000000, max: 0.476562, mean: 0.002501\n",
      "Using fallback threshold (10% of max): 0.047638\n",
      "Non-zero values: 73536/73536 (100.0%)\n",
      "Value range: [0.000011, 0.476562]\n",
      "Graph created: 384 nodes, 383 edges\n"
     ]
    },
    {
     "name": "stderr",
     "output_type": "stream",
     "text": [
      " 16%|█▌        | 78/500 [00:18<01:37,  4.34it/s]"
     ]
    },
    {
     "name": "stdout",
     "output_type": "stream",
     "text": [
      "Attention shape: (373, 373), min: 0.000000, max: 0.473145, mean: 0.002567\n",
      "Using fallback threshold (10% of max): 0.047302\n",
      "Non-zero values: 69378/69378 (100.0%)\n",
      "Value range: [0.000013, 0.473145]\n",
      "Graph created: 373 nodes, 372 edges\n"
     ]
    },
    {
     "name": "stderr",
     "output_type": "stream",
     "text": [
      " 16%|█▌        | 79/500 [00:18<01:37,  4.30it/s]"
     ]
    },
    {
     "name": "stdout",
     "output_type": "stream",
     "text": [
      "Attention shape: (390, 390), min: 0.000000, max: 0.479248, mean: 0.002462\n",
      "Using fallback threshold (10% of max): 0.047913\n",
      "Non-zero values: 75855/75855 (100.0%)\n",
      "Value range: [0.000007, 0.479248]\n",
      "Graph created: 390 nodes, 389 edges\n",
      "Attention shape: (317, 317), min: 0.000000, max: 0.469971, mean: 0.003017\n",
      "Using percentile-based threshold: 0.000324 (50th percentile)\n",
      "Non-zero values: 50086/50086 (100.0%)\n",
      "Value range: [0.000016, 0.469971]\n"
     ]
    },
    {
     "name": "stderr",
     "output_type": "stream",
     "text": [
      " 16%|█▌        | 80/500 [00:18<01:35,  4.41it/s]"
     ]
    },
    {
     "name": "stdout",
     "output_type": "stream",
     "text": [
      "Graph created: 317 nodes, 25033 edges\n"
     ]
    },
    {
     "name": "stderr",
     "output_type": "stream",
     "text": [
      " 16%|█▌        | 81/500 [00:19<01:36,  4.32it/s]"
     ]
    },
    {
     "name": "stdout",
     "output_type": "stream",
     "text": [
      "Attention shape: (392, 392), min: 0.000000, max: 0.474121, mean: 0.002453\n",
      "Using fallback threshold (10% of max): 0.047394\n",
      "Non-zero values: 76636/76636 (100.0%)\n",
      "Value range: [0.000014, 0.474121]\n",
      "Graph created: 392 nodes, 391 edges\n"
     ]
    },
    {
     "name": "stderr",
     "output_type": "stream",
     "text": [
      " 16%|█▋        | 82/500 [00:19<01:40,  4.15it/s]"
     ]
    },
    {
     "name": "stdout",
     "output_type": "stream",
     "text": [
      "Attention shape: (414, 414), min: 0.000000, max: 0.473877, mean: 0.002319\n",
      "Using fallback threshold (10% of max): 0.047363\n",
      "Non-zero values: 85491/85491 (100.0%)\n",
      "Value range: [0.000012, 0.473877]\n",
      "Graph created: 414 nodes, 413 edges\n",
      "Attention shape: (310, 310), min: 0.000000, max: 0.471924, mean: 0.003090\n",
      "Using percentile-based threshold: 0.000363 (50th percentile)\n",
      "Non-zero values: 47895/47895 (100.0%)\n",
      "Value range: [0.000012, 0.471924]\n"
     ]
    },
    {
     "name": "stderr",
     "output_type": "stream",
     "text": [
      " 17%|█▋        | 83/500 [00:19<01:36,  4.33it/s]"
     ]
    },
    {
     "name": "stdout",
     "output_type": "stream",
     "text": [
      "Graph created: 310 nodes, 23934 edges\n"
     ]
    },
    {
     "name": "stderr",
     "output_type": "stream",
     "text": [
      " 17%|█▋        | 84/500 [00:19<01:37,  4.26it/s]"
     ]
    },
    {
     "name": "stdout",
     "output_type": "stream",
     "text": [
      "Attention shape: (391, 391), min: 0.000000, max: 0.468506, mean: 0.002455\n",
      "Using fallback threshold (10% of max): 0.046844\n",
      "Non-zero values: 76245/76245 (100.0%)\n",
      "Value range: [0.000013, 0.468506]\n",
      "Graph created: 391 nodes, 390 edges\n"
     ]
    },
    {
     "name": "stderr",
     "output_type": "stream",
     "text": [
      " 17%|█▋        | 85/500 [00:20<01:34,  4.38it/s]"
     ]
    },
    {
     "name": "stdout",
     "output_type": "stream",
     "text": [
      "Attention shape: (364, 364), min: 0.000000, max: 0.470703, mean: 0.002636\n",
      "Using fallback threshold (10% of max): 0.047058\n",
      "Non-zero values: 66066/66066 (100.0%)\n",
      "Value range: [0.000013, 0.470703]\n",
      "Graph created: 364 nodes, 363 edges\n"
     ]
    },
    {
     "name": "stderr",
     "output_type": "stream",
     "text": [
      " 17%|█▋        | 86/500 [00:20<01:37,  4.25it/s]"
     ]
    },
    {
     "name": "stdout",
     "output_type": "stream",
     "text": [
      "Attention shape: (404, 404), min: 0.000000, max: 0.471680, mean: 0.002378\n",
      "Using fallback threshold (10% of max): 0.047150\n",
      "Non-zero values: 81406/81406 (100.0%)\n",
      "Value range: [0.000014, 0.471680]\n",
      "Graph created: 404 nodes, 403 edges\n"
     ]
    },
    {
     "name": "stderr",
     "output_type": "stream",
     "text": [
      " 17%|█▋        | 87/500 [00:20<01:38,  4.17it/s]"
     ]
    },
    {
     "name": "stdout",
     "output_type": "stream",
     "text": [
      "Attention shape: (398, 398), min: 0.000000, max: 0.477295, mean: 0.002411\n",
      "Using fallback threshold (10% of max): 0.047729\n",
      "Non-zero values: 79003/79003 (100.0%)\n",
      "Value range: [0.000008, 0.477295]\n",
      "Graph created: 398 nodes, 397 edges\n"
     ]
    },
    {
     "name": "stderr",
     "output_type": "stream",
     "text": [
      " 18%|█▊        | 88/500 [00:20<01:38,  4.19it/s]"
     ]
    },
    {
     "name": "stdout",
     "output_type": "stream",
     "text": [
      "Attention shape: (385, 385), min: 0.000000, max: 0.470703, mean: 0.002493\n",
      "Using fallback threshold (10% of max): 0.047058\n",
      "Non-zero values: 73920/73920 (100.0%)\n",
      "Value range: [0.000013, 0.470703]\n",
      "Graph created: 385 nodes, 384 edges\n"
     ]
    },
    {
     "name": "stderr",
     "output_type": "stream",
     "text": [
      " 18%|█▊        | 89/500 [00:21<01:39,  4.12it/s]"
     ]
    },
    {
     "name": "stdout",
     "output_type": "stream",
     "text": [
      "Attention shape: (399, 399), min: 0.000000, max: 0.469971, mean: 0.002403\n",
      "Using fallback threshold (10% of max): 0.046997\n",
      "Non-zero values: 79401/79401 (100.0%)\n",
      "Value range: [0.000016, 0.469971]\n",
      "Graph created: 399 nodes, 398 edges\n"
     ]
    },
    {
     "name": "stderr",
     "output_type": "stream",
     "text": [
      " 18%|█▊        | 90/500 [00:21<01:40,  4.10it/s]"
     ]
    },
    {
     "name": "stdout",
     "output_type": "stream",
     "text": [
      "Attention shape: (397, 397), min: 0.000000, max: 0.474609, mean: 0.002420\n",
      "Using fallback threshold (10% of max): 0.047455\n",
      "Non-zero values: 78606/78606 (100.0%)\n",
      "Value range: [0.000021, 0.474609]\n",
      "Graph created: 397 nodes, 396 edges\n"
     ]
    },
    {
     "name": "stderr",
     "output_type": "stream",
     "text": [
      " 18%|█▊        | 91/500 [00:21<01:39,  4.11it/s]"
     ]
    },
    {
     "name": "stdout",
     "output_type": "stream",
     "text": [
      "Attention shape: (388, 388), min: 0.000000, max: 0.470459, mean: 0.002470\n",
      "Using fallback threshold (10% of max): 0.047028\n",
      "Non-zero values: 75078/75078 (100.0%)\n",
      "Value range: [0.000011, 0.470459]\n",
      "Graph created: 388 nodes, 387 edges\n"
     ]
    },
    {
     "name": "stderr",
     "output_type": "stream",
     "text": [
      " 18%|█▊        | 92/500 [00:21<01:37,  4.17it/s]"
     ]
    },
    {
     "name": "stdout",
     "output_type": "stream",
     "text": [
      "Attention shape: (386, 386), min: 0.000000, max: 0.473145, mean: 0.002478\n",
      "Using fallback threshold (10% of max): 0.047302\n",
      "Non-zero values: 74305/74305 (100.0%)\n",
      "Value range: [0.000012, 0.473145]\n",
      "Graph created: 386 nodes, 385 edges\n"
     ]
    },
    {
     "name": "stderr",
     "output_type": "stream",
     "text": [
      " 19%|█▊        | 93/500 [00:22<01:36,  4.24it/s]"
     ]
    },
    {
     "name": "stdout",
     "output_type": "stream",
     "text": [
      "Attention shape: (379, 379), min: 0.000000, max: 0.468506, mean: 0.002525\n",
      "Using fallback threshold (10% of max): 0.046844\n",
      "Non-zero values: 71631/71631 (100.0%)\n",
      "Value range: [0.000010, 0.468506]\n",
      "Graph created: 379 nodes, 378 edges\n"
     ]
    },
    {
     "name": "stderr",
     "output_type": "stream",
     "text": [
      " 19%|█▉        | 94/500 [00:22<01:35,  4.23it/s]"
     ]
    },
    {
     "name": "stdout",
     "output_type": "stream",
     "text": [
      "Attention shape: (385, 385), min: 0.000000, max: 0.470459, mean: 0.002491\n",
      "Using fallback threshold (10% of max): 0.047028\n",
      "Non-zero values: 73920/73920 (100.0%)\n",
      "Value range: [0.000015, 0.470459]\n",
      "Graph created: 385 nodes, 384 edges\n"
     ]
    },
    {
     "name": "stderr",
     "output_type": "stream",
     "text": [
      " 19%|█▉        | 95/500 [00:22<01:34,  4.29it/s]"
     ]
    },
    {
     "name": "stdout",
     "output_type": "stream",
     "text": [
      "Attention shape: (374, 374), min: 0.000000, max: 0.472168, mean: 0.002560\n",
      "Using fallback threshold (10% of max): 0.047211\n",
      "Non-zero values: 69751/69751 (100.0%)\n",
      "Value range: [0.000010, 0.472168]\n",
      "Graph created: 374 nodes, 373 edges\n"
     ]
    },
    {
     "name": "stderr",
     "output_type": "stream",
     "text": [
      " 19%|█▉        | 96/500 [00:22<01:37,  4.14it/s]"
     ]
    },
    {
     "name": "stdout",
     "output_type": "stream",
     "text": [
      "Attention shape: (361, 361), min: 0.000000, max: 0.478271, mean: 0.002651\n",
      "Using percentile-based threshold: 0.000297 (50th percentile)\n",
      "Non-zero values: 64980/64980 (100.0%)\n",
      "Value range: [0.000015, 0.478271]\n",
      "Graph created: 361 nodes, 32466 edges\n"
     ]
    },
    {
     "name": "stderr",
     "output_type": "stream",
     "text": [
      " 19%|█▉        | 97/500 [00:22<01:33,  4.31it/s]"
     ]
    },
    {
     "name": "stdout",
     "output_type": "stream",
     "text": [
      "Attention shape: (363, 363), min: 0.000000, max: 0.472168, mean: 0.002634\n",
      "Using fallback threshold (10% of max): 0.047211\n",
      "Non-zero values: 65703/65703 (100.0%)\n",
      "Value range: [0.000014, 0.472168]\n",
      "Graph created: 363 nodes, 362 edges\n"
     ]
    },
    {
     "name": "stderr",
     "output_type": "stream",
     "text": [
      " 20%|█▉        | 98/500 [00:23<01:33,  4.30it/s]"
     ]
    },
    {
     "name": "stdout",
     "output_type": "stream",
     "text": [
      "Attention shape: (382, 382), min: 0.000000, max: 0.472168, mean: 0.002504\n",
      "Using fallback threshold (10% of max): 0.047211\n",
      "Non-zero values: 72771/72771 (100.0%)\n",
      "Value range: [0.000012, 0.472168]\n",
      "Graph created: 382 nodes, 381 edges\n"
     ]
    },
    {
     "name": "stderr",
     "output_type": "stream",
     "text": [
      " 20%|█▉        | 99/500 [00:23<01:34,  4.26it/s]"
     ]
    },
    {
     "name": "stdout",
     "output_type": "stream",
     "text": [
      "Attention shape: (398, 398), min: 0.000000, max: 0.471924, mean: 0.002409\n",
      "Using fallback threshold (10% of max): 0.047180\n",
      "Non-zero values: 79003/79003 (100.0%)\n",
      "Value range: [0.000012, 0.471924]\n",
      "Graph created: 398 nodes, 398 edges\n"
     ]
    },
    {
     "name": "stderr",
     "output_type": "stream",
     "text": [
      " 20%|██        | 100/500 [00:23<01:31,  4.37it/s]"
     ]
    },
    {
     "name": "stdout",
     "output_type": "stream",
     "text": [
      "Attention shape: (374, 374), min: 0.000000, max: 0.475830, mean: 0.002562\n",
      "Using fallback threshold (10% of max): 0.047577\n",
      "Non-zero values: 69751/69751 (100.0%)\n",
      "Value range: [0.000009, 0.475830]\n",
      "Graph created: 374 nodes, 373 edges\n"
     ]
    },
    {
     "name": "stderr",
     "output_type": "stream",
     "text": [
      " 20%|██        | 101/500 [00:23<01:32,  4.33it/s]"
     ]
    },
    {
     "name": "stdout",
     "output_type": "stream",
     "text": [
      "Attention shape: (392, 392), min: 0.000000, max: 0.475830, mean: 0.002443\n",
      "Using fallback threshold (10% of max): 0.047577\n",
      "Non-zero values: 76636/76636 (100.0%)\n",
      "Value range: [0.000007, 0.475830]\n",
      "Graph created: 392 nodes, 391 edges\n"
     ]
    },
    {
     "name": "stderr",
     "output_type": "stream",
     "text": [
      " 20%|██        | 102/500 [00:24<01:32,  4.32it/s]"
     ]
    },
    {
     "name": "stdout",
     "output_type": "stream",
     "text": [
      "Attention shape: (387, 387), min: 0.000000, max: 0.479248, mean: 0.002476\n",
      "Using fallback threshold (10% of max): 0.047913\n",
      "Non-zero values: 74691/74691 (100.0%)\n",
      "Value range: [0.000011, 0.479248]\n",
      "Graph created: 387 nodes, 386 edges\n"
     ]
    },
    {
     "name": "stderr",
     "output_type": "stream",
     "text": [
      " 21%|██        | 103/500 [00:24<01:32,  4.31it/s]"
     ]
    },
    {
     "name": "stdout",
     "output_type": "stream",
     "text": [
      "Attention shape: (392, 392), min: 0.000000, max: 0.479492, mean: 0.002445\n",
      "Using fallback threshold (10% of max): 0.047943\n",
      "Non-zero values: 76636/76636 (100.0%)\n",
      "Value range: [0.000009, 0.479492]\n",
      "Graph created: 392 nodes, 391 edges\n"
     ]
    },
    {
     "name": "stderr",
     "output_type": "stream",
     "text": [
      " 21%|██        | 104/500 [00:24<01:34,  4.20it/s]"
     ]
    },
    {
     "name": "stdout",
     "output_type": "stream",
     "text": [
      "Attention shape: (398, 398), min: 0.000000, max: 0.478760, mean: 0.002409\n",
      "Using fallback threshold (10% of max): 0.047852\n",
      "Non-zero values: 79003/79003 (100.0%)\n",
      "Value range: [0.000009, 0.478760]\n",
      "Graph created: 398 nodes, 397 edges\n"
     ]
    },
    {
     "name": "stderr",
     "output_type": "stream",
     "text": [
      " 21%|██        | 105/500 [00:24<01:32,  4.28it/s]"
     ]
    },
    {
     "name": "stdout",
     "output_type": "stream",
     "text": [
      "Attention shape: (378, 378), min: 0.000000, max: 0.473877, mean: 0.002537\n",
      "Using fallback threshold (10% of max): 0.047363\n",
      "Non-zero values: 71253/71253 (100.0%)\n",
      "Value range: [0.000011, 0.473877]\n",
      "Graph created: 378 nodes, 377 edges\n"
     ]
    },
    {
     "name": "stderr",
     "output_type": "stream",
     "text": [
      " 21%|██        | 106/500 [00:25<01:31,  4.32it/s]"
     ]
    },
    {
     "name": "stdout",
     "output_type": "stream",
     "text": [
      "Attention shape: (378, 378), min: 0.000000, max: 0.470703, mean: 0.002535\n",
      "Using fallback threshold (10% of max): 0.047058\n",
      "Non-zero values: 71253/71253 (100.0%)\n",
      "Value range: [0.000006, 0.470703]\n",
      "Graph created: 378 nodes, 377 edges\n"
     ]
    },
    {
     "name": "stderr",
     "output_type": "stream",
     "text": [
      " 21%|██▏       | 107/500 [00:25<01:32,  4.26it/s]"
     ]
    },
    {
     "name": "stdout",
     "output_type": "stream",
     "text": [
      "Attention shape: (390, 390), min: 0.000000, max: 0.479004, mean: 0.002460\n",
      "Using fallback threshold (10% of max): 0.047882\n",
      "Non-zero values: 75855/75855 (100.0%)\n",
      "Value range: [0.000013, 0.479004]\n",
      "Graph created: 390 nodes, 389 edges\n"
     ]
    },
    {
     "name": "stderr",
     "output_type": "stream",
     "text": [
      " 22%|██▏       | 108/500 [00:25<01:28,  4.41it/s]"
     ]
    },
    {
     "name": "stdout",
     "output_type": "stream",
     "text": [
      "Attention shape: (368, 368), min: 0.000000, max: 0.475830, mean: 0.002600\n",
      "Using fallback threshold (10% of max): 0.047577\n",
      "Non-zero values: 67528/67528 (100.0%)\n",
      "Value range: [0.000010, 0.475830]\n",
      "Graph created: 368 nodes, 367 edges\n"
     ]
    },
    {
     "name": "stderr",
     "output_type": "stream",
     "text": [
      " 22%|██▏       | 109/500 [00:25<01:28,  4.40it/s]"
     ]
    },
    {
     "name": "stdout",
     "output_type": "stream",
     "text": [
      "Attention shape: (380, 380), min: 0.000000, max: 0.468506, mean: 0.002520\n",
      "Using fallback threshold (10% of max): 0.046844\n",
      "Non-zero values: 72010/72010 (100.0%)\n",
      "Value range: [0.000006, 0.468506]\n",
      "Graph created: 380 nodes, 379 edges\n"
     ]
    },
    {
     "name": "stderr",
     "output_type": "stream",
     "text": [
      " 22%|██▏       | 110/500 [00:26<01:30,  4.32it/s]"
     ]
    },
    {
     "name": "stdout",
     "output_type": "stream",
     "text": [
      "Attention shape: (386, 386), min: 0.000000, max: 0.479248, mean: 0.002485\n",
      "Using fallback threshold (10% of max): 0.047913\n",
      "Non-zero values: 74305/74305 (100.0%)\n",
      "Value range: [0.000018, 0.479248]\n",
      "Graph created: 386 nodes, 385 edges\n",
      "Attention shape: (328, 328), min: 0.000000, max: 0.481689, mean: 0.002914\n",
      "Using percentile-based threshold: 0.000259 (50th percentile)\n",
      "Non-zero values: 53628/53628 (100.0%)\n",
      "Value range: [0.000004, 0.481689]\n"
     ]
    },
    {
     "name": "stderr",
     "output_type": "stream",
     "text": [
      " 22%|██▏       | 111/500 [00:26<01:30,  4.31it/s]"
     ]
    },
    {
     "name": "stdout",
     "output_type": "stream",
     "text": [
      "Graph created: 328 nodes, 26809 edges\n"
     ]
    },
    {
     "name": "stderr",
     "output_type": "stream",
     "text": [
      " 22%|██▏       | 112/500 [00:26<01:29,  4.36it/s]"
     ]
    },
    {
     "name": "stdout",
     "output_type": "stream",
     "text": [
      "Attention shape: (378, 378), min: 0.000000, max: 0.475098, mean: 0.002533\n",
      "Using fallback threshold (10% of max): 0.047485\n",
      "Non-zero values: 71253/71253 (100.0%)\n",
      "Value range: [0.000012, 0.475098]\n",
      "Graph created: 378 nodes, 377 edges\n"
     ]
    },
    {
     "name": "stderr",
     "output_type": "stream",
     "text": [
      " 23%|██▎       | 113/500 [00:26<01:33,  4.13it/s]"
     ]
    },
    {
     "name": "stdout",
     "output_type": "stream",
     "text": [
      "Attention shape: (359, 359), min: 0.000000, max: 0.470703, mean: 0.002670\n",
      "Using percentile-based threshold: 0.000252 (50th percentile)\n",
      "Non-zero values: 64261/64261 (100.0%)\n",
      "Value range: [0.000010, 0.470703]\n",
      "Graph created: 359 nodes, 32122 edges\n"
     ]
    },
    {
     "name": "stderr",
     "output_type": "stream",
     "text": [
      " 23%|██▎       | 114/500 [00:26<01:33,  4.14it/s]"
     ]
    },
    {
     "name": "stdout",
     "output_type": "stream",
     "text": [
      "Attention shape: (388, 388), min: 0.000000, max: 0.468506, mean: 0.002470\n",
      "Using fallback threshold (10% of max): 0.046844\n",
      "Non-zero values: 75078/75078 (100.0%)\n",
      "Value range: [0.000011, 0.468506]\n",
      "Graph created: 388 nodes, 387 edges\n"
     ]
    },
    {
     "name": "stderr",
     "output_type": "stream",
     "text": [
      " 23%|██▎       | 115/500 [00:27<01:31,  4.22it/s]"
     ]
    },
    {
     "name": "stdout",
     "output_type": "stream",
     "text": [
      "Attention shape: (377, 377), min: 0.000000, max: 0.472656, mean: 0.002537\n",
      "Using fallback threshold (10% of max): 0.047241\n",
      "Non-zero values: 70876/70876 (100.0%)\n",
      "Value range: [0.000011, 0.472656]\n",
      "Graph created: 377 nodes, 376 edges\n"
     ]
    },
    {
     "name": "stderr",
     "output_type": "stream",
     "text": [
      " 23%|██▎       | 116/500 [00:27<01:31,  4.21it/s]"
     ]
    },
    {
     "name": "stdout",
     "output_type": "stream",
     "text": [
      "Attention shape: (388, 388), min: 0.000000, max: 0.473145, mean: 0.002472\n",
      "Using fallback threshold (10% of max): 0.047302\n",
      "Non-zero values: 75078/75078 (100.0%)\n",
      "Value range: [0.000014, 0.473145]\n",
      "Graph created: 388 nodes, 387 edges\n"
     ]
    },
    {
     "name": "stderr",
     "output_type": "stream",
     "text": [
      " 23%|██▎       | 117/500 [00:27<01:30,  4.23it/s]"
     ]
    },
    {
     "name": "stdout",
     "output_type": "stream",
     "text": [
      "Attention shape: (385, 385), min: 0.000000, max: 0.477539, mean: 0.002487\n",
      "Using fallback threshold (10% of max): 0.047729\n",
      "Non-zero values: 73920/73920 (100.0%)\n",
      "Value range: [0.000014, 0.477539]\n",
      "Graph created: 385 nodes, 384 edges\n"
     ]
    },
    {
     "name": "stderr",
     "output_type": "stream",
     "text": [
      " 24%|██▎       | 118/500 [00:27<01:29,  4.29it/s]"
     ]
    },
    {
     "name": "stdout",
     "output_type": "stream",
     "text": [
      "Attention shape: (379, 379), min: 0.000000, max: 0.476807, mean: 0.002533\n",
      "Using fallback threshold (10% of max): 0.047668\n",
      "Non-zero values: 71631/71631 (100.0%)\n",
      "Value range: [0.000010, 0.476807]\n",
      "Graph created: 379 nodes, 378 edges\n"
     ]
    },
    {
     "name": "stderr",
     "output_type": "stream",
     "text": [
      " 24%|██▍       | 119/500 [00:28<01:26,  4.40it/s]"
     ]
    },
    {
     "name": "stdout",
     "output_type": "stream",
     "text": [
      "Attention shape: (366, 366), min: 0.000000, max: 0.475342, mean: 0.002625\n",
      "Using fallback threshold (10% of max): 0.047516\n",
      "Non-zero values: 66795/66795 (100.0%)\n",
      "Value range: [0.000014, 0.475342]\n",
      "Graph created: 366 nodes, 365 edges\n"
     ]
    },
    {
     "name": "stderr",
     "output_type": "stream",
     "text": [
      " 24%|██▍       | 120/500 [00:28<01:26,  4.37it/s]"
     ]
    },
    {
     "name": "stdout",
     "output_type": "stream",
     "text": [
      "Attention shape: (383, 383), min: 0.000000, max: 0.479248, mean: 0.002522\n",
      "Using fallback threshold (10% of max): 0.047913\n",
      "Non-zero values: 73153/73153 (100.0%)\n",
      "Value range: [0.000006, 0.479248]\n",
      "Graph created: 383 nodes, 382 edges\n"
     ]
    },
    {
     "name": "stderr",
     "output_type": "stream",
     "text": [
      " 24%|██▍       | 121/500 [00:28<01:24,  4.46it/s]"
     ]
    },
    {
     "name": "stdout",
     "output_type": "stream",
     "text": [
      "Attention shape: (367, 367), min: 0.000000, max: 0.474854, mean: 0.002605\n",
      "Using fallback threshold (10% of max): 0.047485\n",
      "Non-zero values: 67161/67161 (100.0%)\n",
      "Value range: [0.000009, 0.474854]\n",
      "Graph created: 367 nodes, 366 edges\n"
     ]
    },
    {
     "name": "stderr",
     "output_type": "stream",
     "text": [
      " 24%|██▍       | 122/500 [00:28<01:25,  4.45it/s]"
     ]
    },
    {
     "name": "stdout",
     "output_type": "stream",
     "text": [
      "Attention shape: (378, 378), min: 0.000000, max: 0.479980, mean: 0.002537\n",
      "Using fallback threshold (10% of max): 0.047974\n",
      "Non-zero values: 71253/71253 (100.0%)\n",
      "Value range: [0.000017, 0.479980]\n",
      "Graph created: 378 nodes, 377 edges\n"
     ]
    },
    {
     "name": "stderr",
     "output_type": "stream",
     "text": [
      " 25%|██▍       | 123/500 [00:29<01:27,  4.32it/s]"
     ]
    },
    {
     "name": "stdout",
     "output_type": "stream",
     "text": [
      "Attention shape: (395, 395), min: 0.000000, max: 0.472656, mean: 0.002430\n",
      "Using fallback threshold (10% of max): 0.047241\n",
      "Non-zero values: 77815/77815 (100.0%)\n",
      "Value range: [0.000013, 0.472656]\n",
      "Graph created: 395 nodes, 394 edges\n"
     ]
    },
    {
     "name": "stderr",
     "output_type": "stream",
     "text": [
      " 25%|██▍       | 124/500 [00:29<01:28,  4.23it/s]"
     ]
    },
    {
     "name": "stdout",
     "output_type": "stream",
     "text": [
      "Attention shape: (397, 397), min: 0.000000, max: 0.479980, mean: 0.002420\n",
      "Using fallback threshold (10% of max): 0.047974\n",
      "Non-zero values: 78606/78606 (100.0%)\n",
      "Value range: [0.000021, 0.479980]\n",
      "Graph created: 397 nodes, 396 edges\n"
     ]
    },
    {
     "name": "stderr",
     "output_type": "stream",
     "text": [
      " 25%|██▌       | 125/500 [00:29<01:25,  4.41it/s]"
     ]
    },
    {
     "name": "stdout",
     "output_type": "stream",
     "text": [
      "Attention shape: (368, 368), min: 0.000000, max: 0.480225, mean: 0.002602\n",
      "Using fallback threshold (10% of max): 0.048004\n",
      "Non-zero values: 67528/67528 (100.0%)\n",
      "Value range: [0.000008, 0.480225]\n",
      "Graph created: 368 nodes, 367 edges\n"
     ]
    },
    {
     "name": "stderr",
     "output_type": "stream",
     "text": [
      " 25%|██▌       | 126/500 [00:29<01:25,  4.36it/s]"
     ]
    },
    {
     "name": "stdout",
     "output_type": "stream",
     "text": [
      "Attention shape: (391, 391), min: 0.000000, max: 0.470703, mean: 0.002459\n",
      "Using fallback threshold (10% of max): 0.047058\n",
      "Non-zero values: 76245/76245 (100.0%)\n",
      "Value range: [0.000012, 0.470703]\n",
      "Graph created: 391 nodes, 390 edges\n",
      "Attention shape: (329, 329), min: 0.000000, max: 0.473633, mean: 0.002911\n",
      "Using percentile-based threshold: 0.000279 (50th percentile)\n",
      "Non-zero values: 53956/53956 (100.0%)\n",
      "Value range: [0.000003, 0.473633]\n"
     ]
    },
    {
     "name": "stderr",
     "output_type": "stream",
     "text": [
      " 25%|██▌       | 127/500 [00:29<01:25,  4.36it/s]"
     ]
    },
    {
     "name": "stdout",
     "output_type": "stream",
     "text": [
      "Graph created: 329 nodes, 26963 edges\n"
     ]
    },
    {
     "name": "stderr",
     "output_type": "stream",
     "text": [
      " 26%|██▌       | 128/500 [00:30<01:26,  4.31it/s]"
     ]
    },
    {
     "name": "stdout",
     "output_type": "stream",
     "text": [
      "Attention shape: (396, 396), min: 0.000000, max: 0.478027, mean: 0.002422\n",
      "Using fallback threshold (10% of max): 0.047791\n",
      "Non-zero values: 78210/78210 (100.0%)\n",
      "Value range: [0.000010, 0.478027]\n",
      "Graph created: 396 nodes, 395 edges\n"
     ]
    },
    {
     "name": "stderr",
     "output_type": "stream",
     "text": [
      " 26%|██▌       | 129/500 [00:30<01:28,  4.21it/s]"
     ]
    },
    {
     "name": "stdout",
     "output_type": "stream",
     "text": [
      "Attention shape: (396, 396), min: 0.000000, max: 0.472412, mean: 0.002430\n",
      "Using fallback threshold (10% of max): 0.047241\n",
      "Non-zero values: 78210/78210 (100.0%)\n",
      "Value range: [0.000012, 0.472412]\n",
      "Graph created: 396 nodes, 395 edges\n",
      "Attention shape: (315, 315), min: 0.000000, max: 0.477783, mean: 0.003031\n",
      "Using percentile-based threshold: 0.000309 (50th percentile)\n",
      "Non-zero values: 49455/49455 (100.0%)\n",
      "Value range: [0.000018, 0.477783]\n"
     ]
    },
    {
     "name": "stderr",
     "output_type": "stream",
     "text": [
      " 26%|██▌       | 130/500 [00:30<01:25,  4.32it/s]"
     ]
    },
    {
     "name": "stdout",
     "output_type": "stream",
     "text": [
      "Graph created: 315 nodes, 24730 edges\n"
     ]
    },
    {
     "name": "stderr",
     "output_type": "stream",
     "text": [
      " 26%|██▌       | 131/500 [00:30<01:23,  4.40it/s]"
     ]
    },
    {
     "name": "stdout",
     "output_type": "stream",
     "text": [
      "Attention shape: (368, 368), min: 0.000000, max: 0.477295, mean: 0.002604\n",
      "Using fallback threshold (10% of max): 0.047729\n",
      "Non-zero values: 67528/67528 (100.0%)\n",
      "Value range: [0.000014, 0.477295]\n",
      "Graph created: 368 nodes, 367 edges\n"
     ]
    },
    {
     "name": "stderr",
     "output_type": "stream",
     "text": [
      " 26%|██▋       | 132/500 [00:31<01:24,  4.34it/s]"
     ]
    },
    {
     "name": "stdout",
     "output_type": "stream",
     "text": [
      "Attention shape: (385, 385), min: 0.000000, max: 0.468506, mean: 0.002485\n",
      "Using fallback threshold (10% of max): 0.046844\n",
      "Non-zero values: 73920/73920 (100.0%)\n",
      "Value range: [0.000014, 0.468506]\n",
      "Graph created: 385 nodes, 384 edges\n"
     ]
    },
    {
     "name": "stderr",
     "output_type": "stream",
     "text": [
      " 27%|██▋       | 133/500 [00:31<01:25,  4.29it/s]"
     ]
    },
    {
     "name": "stdout",
     "output_type": "stream",
     "text": [
      "Attention shape: (385, 385), min: 0.000000, max: 0.480225, mean: 0.002487\n",
      "Using fallback threshold (10% of max): 0.048004\n",
      "Non-zero values: 73920/73920 (100.0%)\n",
      "Value range: [0.000010, 0.480225]\n",
      "Graph created: 385 nodes, 384 edges\n"
     ]
    },
    {
     "name": "stderr",
     "output_type": "stream",
     "text": [
      " 27%|██▋       | 134/500 [00:31<01:25,  4.26it/s]"
     ]
    },
    {
     "name": "stdout",
     "output_type": "stream",
     "text": [
      "Attention shape: (388, 388), min: 0.000000, max: 0.468506, mean: 0.002470\n",
      "Using fallback threshold (10% of max): 0.046844\n",
      "Non-zero values: 75078/75078 (100.0%)\n",
      "Value range: [0.000011, 0.468506]\n",
      "Graph created: 388 nodes, 387 edges\n"
     ]
    },
    {
     "name": "stderr",
     "output_type": "stream",
     "text": [
      " 27%|██▋       | 135/500 [00:31<01:29,  4.10it/s]"
     ]
    },
    {
     "name": "stdout",
     "output_type": "stream",
     "text": [
      "Attention shape: (410, 410), min: 0.000000, max: 0.476074, mean: 0.002340\n",
      "Using fallback threshold (10% of max): 0.047607\n",
      "Non-zero values: 83845/83845 (100.0%)\n",
      "Value range: [0.000008, 0.476074]\n",
      "Graph created: 410 nodes, 409 edges\n"
     ]
    },
    {
     "name": "stderr",
     "output_type": "stream",
     "text": [
      " 27%|██▋       | 136/500 [00:32<01:32,  3.95it/s]"
     ]
    },
    {
     "name": "stdout",
     "output_type": "stream",
     "text": [
      "Attention shape: (362, 362), min: 0.000000, max: 0.474609, mean: 0.002642\n",
      "Using percentile-based threshold: 0.000197 (50th percentile)\n",
      "Non-zero values: 65341/65341 (100.0%)\n",
      "Value range: [0.000014, 0.474609]\n",
      "Graph created: 362 nodes, 32665 edges\n"
     ]
    },
    {
     "name": "stderr",
     "output_type": "stream",
     "text": [
      " 27%|██▋       | 137/500 [00:32<01:31,  3.96it/s]"
     ]
    },
    {
     "name": "stdout",
     "output_type": "stream",
     "text": [
      "Attention shape: (394, 394), min: 0.000000, max: 0.470703, mean: 0.002434\n",
      "Using fallback threshold (10% of max): 0.047058\n",
      "Non-zero values: 77421/77421 (100.0%)\n",
      "Value range: [0.000007, 0.470703]\n",
      "Graph created: 394 nodes, 393 edges\n"
     ]
    },
    {
     "name": "stderr",
     "output_type": "stream",
     "text": [
      " 28%|██▊       | 138/500 [00:32<01:30,  4.01it/s]"
     ]
    },
    {
     "name": "stdout",
     "output_type": "stream",
     "text": [
      "Attention shape: (400, 400), min: 0.000000, max: 0.477539, mean: 0.002411\n",
      "Using fallback threshold (10% of max): 0.047729\n",
      "Non-zero values: 79800/79800 (100.0%)\n",
      "Value range: [0.000013, 0.477539]\n",
      "Graph created: 400 nodes, 399 edges\n"
     ]
    },
    {
     "name": "stderr",
     "output_type": "stream",
     "text": [
      " 28%|██▊       | 139/500 [00:32<01:28,  4.09it/s]"
     ]
    },
    {
     "name": "stdout",
     "output_type": "stream",
     "text": [
      "Attention shape: (381, 381), min: 0.000000, max: 0.476562, mean: 0.002516\n",
      "Using fallback threshold (10% of max): 0.047638\n",
      "Non-zero values: 72390/72390 (100.0%)\n",
      "Value range: [0.000016, 0.476562]\n",
      "Graph created: 381 nodes, 380 edges\n"
     ]
    },
    {
     "name": "stderr",
     "output_type": "stream",
     "text": [
      " 28%|██▊       | 140/500 [00:33<01:26,  4.16it/s]"
     ]
    },
    {
     "name": "stdout",
     "output_type": "stream",
     "text": [
      "Attention shape: (387, 387), min: 0.000000, max: 0.469971, mean: 0.002476\n",
      "Using fallback threshold (10% of max): 0.046997\n",
      "Non-zero values: 74691/74691 (100.0%)\n",
      "Value range: [0.000012, 0.469971]\n",
      "Graph created: 387 nodes, 386 edges\n"
     ]
    },
    {
     "name": "stderr",
     "output_type": "stream",
     "text": [
      " 28%|██▊       | 141/500 [00:33<01:26,  4.16it/s]"
     ]
    },
    {
     "name": "stdout",
     "output_type": "stream",
     "text": [
      "Attention shape: (392, 392), min: 0.000000, max: 0.481934, mean: 0.002449\n",
      "Using fallback threshold (10% of max): 0.048187\n",
      "Non-zero values: 76636/76636 (100.0%)\n",
      "Value range: [0.000010, 0.481934]\n",
      "Graph created: 392 nodes, 391 edges\n"
     ]
    },
    {
     "name": "stderr",
     "output_type": "stream",
     "text": [
      " 28%|██▊       | 142/500 [00:33<01:23,  4.27it/s]"
     ]
    },
    {
     "name": "stdout",
     "output_type": "stream",
     "text": [
      "Attention shape: (378, 378), min: 0.000000, max: 0.472168, mean: 0.002535\n",
      "Using fallback threshold (10% of max): 0.047211\n",
      "Non-zero values: 71253/71253 (100.0%)\n",
      "Value range: [0.000010, 0.472168]\n",
      "Graph created: 378 nodes, 377 edges\n"
     ]
    },
    {
     "name": "stderr",
     "output_type": "stream",
     "text": [
      " 29%|██▊       | 143/500 [00:33<01:24,  4.21it/s]"
     ]
    },
    {
     "name": "stdout",
     "output_type": "stream",
     "text": [
      "Attention shape: (394, 394), min: 0.000000, max: 0.468506, mean: 0.002438\n",
      "Using fallback threshold (10% of max): 0.046844\n",
      "Non-zero values: 77421/77421 (100.0%)\n",
      "Value range: [0.000016, 0.468506]\n",
      "Graph created: 394 nodes, 393 edges\n"
     ]
    },
    {
     "name": "stderr",
     "output_type": "stream",
     "text": [
      " 29%|██▉       | 144/500 [00:34<01:23,  4.27it/s]"
     ]
    },
    {
     "name": "stdout",
     "output_type": "stream",
     "text": [
      "Attention shape: (379, 379), min: 0.000000, max: 0.478027, mean: 0.002525\n",
      "Using fallback threshold (10% of max): 0.047791\n",
      "Non-zero values: 71631/71631 (100.0%)\n",
      "Value range: [0.000008, 0.478027]\n",
      "Graph created: 379 nodes, 378 edges\n"
     ]
    },
    {
     "name": "stderr",
     "output_type": "stream",
     "text": [
      " 29%|██▉       | 145/500 [00:34<01:23,  4.25it/s]"
     ]
    },
    {
     "name": "stdout",
     "output_type": "stream",
     "text": [
      "Attention shape: (385, 385), min: 0.000000, max: 0.473145, mean: 0.002487\n",
      "Using fallback threshold (10% of max): 0.047302\n",
      "Non-zero values: 73920/73920 (100.0%)\n",
      "Value range: [0.000007, 0.473145]\n",
      "Graph created: 385 nodes, 384 edges\n"
     ]
    },
    {
     "name": "stderr",
     "output_type": "stream",
     "text": [
      " 29%|██▉       | 146/500 [00:34<01:22,  4.27it/s]"
     ]
    },
    {
     "name": "stdout",
     "output_type": "stream",
     "text": [
      "Attention shape: (385, 385), min: 0.000000, max: 0.477539, mean: 0.002491\n",
      "Using fallback threshold (10% of max): 0.047729\n",
      "Non-zero values: 73920/73920 (100.0%)\n",
      "Value range: [0.000021, 0.477539]\n",
      "Graph created: 385 nodes, 384 edges\n"
     ]
    },
    {
     "name": "stderr",
     "output_type": "stream",
     "text": [
      " 29%|██▉       | 147/500 [00:34<01:20,  4.37it/s]"
     ]
    },
    {
     "name": "stdout",
     "output_type": "stream",
     "text": [
      "Attention shape: (367, 367), min: 0.000000, max: 0.472900, mean: 0.002604\n",
      "Using fallback threshold (10% of max): 0.047272\n",
      "Non-zero values: 67161/67161 (100.0%)\n",
      "Value range: [0.000013, 0.472900]\n",
      "Graph created: 367 nodes, 366 edges\n"
     ]
    },
    {
     "name": "stderr",
     "output_type": "stream",
     "text": [
      " 30%|██▉       | 148/500 [00:34<01:22,  4.27it/s]"
     ]
    },
    {
     "name": "stdout",
     "output_type": "stream",
     "text": [
      "Attention shape: (397, 397), min: 0.000000, max: 0.471924, mean: 0.002419\n",
      "Using fallback threshold (10% of max): 0.047180\n",
      "Non-zero values: 78606/78606 (100.0%)\n",
      "Value range: [0.000018, 0.471924]\n",
      "Graph created: 397 nodes, 396 edges\n"
     ]
    },
    {
     "name": "stderr",
     "output_type": "stream",
     "text": [
      " 30%|██▉       | 149/500 [00:35<01:24,  4.17it/s]"
     ]
    },
    {
     "name": "stdout",
     "output_type": "stream",
     "text": [
      "Attention shape: (400, 400), min: 0.000000, max: 0.472168, mean: 0.002403\n",
      "Using fallback threshold (10% of max): 0.047211\n",
      "Non-zero values: 79800/79800 (100.0%)\n",
      "Value range: [0.000010, 0.472168]\n",
      "Graph created: 400 nodes, 399 edges\n"
     ]
    },
    {
     "name": "stderr",
     "output_type": "stream",
     "text": [
      " 30%|███       | 150/500 [00:35<01:22,  4.24it/s]"
     ]
    },
    {
     "name": "stdout",
     "output_type": "stream",
     "text": [
      "Attention shape: (384, 384), min: 0.000000, max: 0.471680, mean: 0.002495\n",
      "Using fallback threshold (10% of max): 0.047150\n",
      "Non-zero values: 73536/73536 (100.0%)\n",
      "Value range: [0.000010, 0.471680]\n",
      "Graph created: 384 nodes, 385 edges\n"
     ]
    },
    {
     "name": "stderr",
     "output_type": "stream",
     "text": [
      " 30%|███       | 151/500 [00:35<01:21,  4.28it/s]"
     ]
    },
    {
     "name": "stdout",
     "output_type": "stream",
     "text": [
      "Attention shape: (382, 382), min: 0.000000, max: 0.475342, mean: 0.002510\n",
      "Using fallback threshold (10% of max): 0.047516\n",
      "Non-zero values: 72771/72771 (100.0%)\n",
      "Value range: [0.000011, 0.475342]\n",
      "Graph created: 382 nodes, 381 edges\n"
     ]
    },
    {
     "name": "stderr",
     "output_type": "stream",
     "text": [
      " 30%|███       | 152/500 [00:35<01:21,  4.28it/s]"
     ]
    },
    {
     "name": "stdout",
     "output_type": "stream",
     "text": [
      "Attention shape: (385, 385), min: 0.000000, max: 0.477783, mean: 0.002489\n",
      "Using fallback threshold (10% of max): 0.047760\n",
      "Non-zero values: 73920/73920 (100.0%)\n",
      "Value range: [0.000005, 0.477783]\n",
      "Graph created: 385 nodes, 384 edges\n"
     ]
    },
    {
     "name": "stderr",
     "output_type": "stream",
     "text": [
      " 31%|███       | 153/500 [00:36<01:19,  4.35it/s]"
     ]
    },
    {
     "name": "stdout",
     "output_type": "stream",
     "text": [
      "Attention shape: (375, 375), min: 0.000000, max: 0.479492, mean: 0.002550\n",
      "Using fallback threshold (10% of max): 0.047943\n",
      "Non-zero values: 70125/70125 (100.0%)\n",
      "Value range: [0.000008, 0.479492]\n",
      "Graph created: 375 nodes, 374 edges\n"
     ]
    },
    {
     "name": "stderr",
     "output_type": "stream",
     "text": [
      " 31%|███       | 154/500 [00:36<01:22,  4.21it/s]"
     ]
    },
    {
     "name": "stdout",
     "output_type": "stream",
     "text": [
      "Attention shape: (414, 414), min: 0.000000, max: 0.476074, mean: 0.002316\n",
      "Using fallback threshold (10% of max): 0.047607\n",
      "Non-zero values: 85491/85491 (100.0%)\n",
      "Value range: [0.000013, 0.476074]\n",
      "Graph created: 414 nodes, 413 edges\n"
     ]
    },
    {
     "name": "stderr",
     "output_type": "stream",
     "text": [
      " 31%|███       | 155/500 [00:36<01:21,  4.21it/s]"
     ]
    },
    {
     "name": "stdout",
     "output_type": "stream",
     "text": [
      "Attention shape: (394, 394), min: 0.000000, max: 0.477051, mean: 0.002430\n",
      "Using fallback threshold (10% of max): 0.047699\n",
      "Non-zero values: 77421/77421 (100.0%)\n",
      "Value range: [0.000010, 0.477051]\n",
      "Graph created: 394 nodes, 393 edges\n"
     ]
    },
    {
     "name": "stderr",
     "output_type": "stream",
     "text": [
      " 31%|███       | 156/500 [00:36<01:20,  4.29it/s]"
     ]
    },
    {
     "name": "stdout",
     "output_type": "stream",
     "text": [
      "Attention shape: (379, 379), min: 0.000000, max: 0.471924, mean: 0.002529\n",
      "Using fallback threshold (10% of max): 0.047180\n",
      "Non-zero values: 71631/71631 (100.0%)\n",
      "Value range: [0.000010, 0.471924]\n",
      "Graph created: 379 nodes, 378 edges\n"
     ]
    },
    {
     "name": "stderr",
     "output_type": "stream",
     "text": [
      " 31%|███▏      | 157/500 [00:37<01:18,  4.39it/s]"
     ]
    },
    {
     "name": "stdout",
     "output_type": "stream",
     "text": [
      "Attention shape: (378, 378), min: 0.000000, max: 0.476562, mean: 0.002541\n",
      "Using fallback threshold (10% of max): 0.047638\n",
      "Non-zero values: 71253/71253 (100.0%)\n",
      "Value range: [0.000013, 0.476562]\n",
      "Graph created: 378 nodes, 377 edges\n"
     ]
    },
    {
     "name": "stderr",
     "output_type": "stream",
     "text": [
      " 32%|███▏      | 158/500 [00:37<01:19,  4.29it/s]"
     ]
    },
    {
     "name": "stdout",
     "output_type": "stream",
     "text": [
      "Attention shape: (397, 397), min: 0.000000, max: 0.475098, mean: 0.002417\n",
      "Using fallback threshold (10% of max): 0.047485\n",
      "Non-zero values: 78606/78606 (100.0%)\n",
      "Value range: [0.000014, 0.475098]\n",
      "Graph created: 397 nodes, 396 edges\n"
     ]
    },
    {
     "name": "stderr",
     "output_type": "stream",
     "text": [
      " 32%|███▏      | 159/500 [00:37<01:18,  4.36it/s]"
     ]
    },
    {
     "name": "stdout",
     "output_type": "stream",
     "text": [
      "Attention shape: (383, 383), min: 0.000000, max: 0.479492, mean: 0.002499\n",
      "Using fallback threshold (10% of max): 0.047943\n",
      "Non-zero values: 73153/73153 (100.0%)\n",
      "Value range: [0.000013, 0.479492]\n",
      "Graph created: 383 nodes, 382 edges\n"
     ]
    },
    {
     "name": "stderr",
     "output_type": "stream",
     "text": [
      " 32%|███▏      | 160/500 [00:37<01:17,  4.40it/s]"
     ]
    },
    {
     "name": "stdout",
     "output_type": "stream",
     "text": [
      "Attention shape: (381, 381), min: 0.000000, max: 0.468506, mean: 0.002516\n",
      "Using fallback threshold (10% of max): 0.046844\n",
      "Non-zero values: 72390/72390 (100.0%)\n",
      "Value range: [0.000015, 0.468506]\n",
      "Graph created: 381 nodes, 380 edges\n"
     ]
    },
    {
     "name": "stderr",
     "output_type": "stream",
     "text": [
      " 32%|███▏      | 161/500 [00:37<01:18,  4.31it/s]"
     ]
    },
    {
     "name": "stdout",
     "output_type": "stream",
     "text": [
      "Attention shape: (398, 398), min: 0.000000, max: 0.468506, mean: 0.002407\n",
      "Using fallback threshold (10% of max): 0.046844\n",
      "Non-zero values: 79003/79003 (100.0%)\n",
      "Value range: [0.000010, 0.468506]\n",
      "Graph created: 398 nodes, 397 edges\n"
     ]
    },
    {
     "name": "stderr",
     "output_type": "stream",
     "text": [
      " 32%|███▏      | 162/500 [00:38<01:17,  4.39it/s]"
     ]
    },
    {
     "name": "stdout",
     "output_type": "stream",
     "text": [
      "Attention shape: (379, 379), min: 0.000000, max: 0.479004, mean: 0.002523\n",
      "Using fallback threshold (10% of max): 0.047882\n",
      "Non-zero values: 71631/71631 (100.0%)\n",
      "Value range: [0.000012, 0.479004]\n",
      "Graph created: 379 nodes, 378 edges\n"
     ]
    },
    {
     "name": "stderr",
     "output_type": "stream",
     "text": [
      " 33%|███▎      | 163/500 [00:38<01:17,  4.35it/s]"
     ]
    },
    {
     "name": "stdout",
     "output_type": "stream",
     "text": [
      "Attention shape: (385, 385), min: 0.000000, max: 0.474121, mean: 0.002489\n",
      "Using fallback threshold (10% of max): 0.047394\n",
      "Non-zero values: 73920/73920 (100.0%)\n",
      "Value range: [0.000009, 0.474121]\n",
      "Graph created: 385 nodes, 384 edges\n"
     ]
    },
    {
     "name": "stderr",
     "output_type": "stream",
     "text": [
      " 33%|███▎      | 164/500 [00:38<01:15,  4.43it/s]"
     ]
    },
    {
     "name": "stdout",
     "output_type": "stream",
     "text": [
      "Attention shape: (377, 377), min: 0.000000, max: 0.476562, mean: 0.002541\n",
      "Using fallback threshold (10% of max): 0.047638\n",
      "Non-zero values: 70876/70876 (100.0%)\n",
      "Value range: [0.000009, 0.476562]\n",
      "Graph created: 377 nodes, 376 edges\n"
     ]
    },
    {
     "name": "stderr",
     "output_type": "stream",
     "text": [
      " 33%|███▎      | 165/500 [00:38<01:14,  4.47it/s]"
     ]
    },
    {
     "name": "stdout",
     "output_type": "stream",
     "text": [
      "Attention shape: (379, 379), min: 0.000000, max: 0.479004, mean: 0.002525\n",
      "Using fallback threshold (10% of max): 0.047882\n",
      "Non-zero values: 71631/71631 (100.0%)\n",
      "Value range: [0.000009, 0.479004]\n",
      "Graph created: 379 nodes, 378 edges\n"
     ]
    },
    {
     "name": "stderr",
     "output_type": "stream",
     "text": [
      " 33%|███▎      | 166/500 [00:39<01:15,  4.42it/s]"
     ]
    },
    {
     "name": "stdout",
     "output_type": "stream",
     "text": [
      "Attention shape: (388, 388), min: 0.000000, max: 0.468506, mean: 0.002472\n",
      "Using fallback threshold (10% of max): 0.046844\n",
      "Non-zero values: 75078/75078 (100.0%)\n",
      "Value range: [0.000016, 0.468506]\n",
      "Graph created: 388 nodes, 387 edges\n"
     ]
    },
    {
     "name": "stderr",
     "output_type": "stream",
     "text": [
      " 33%|███▎      | 167/500 [00:39<01:18,  4.26it/s]"
     ]
    },
    {
     "name": "stdout",
     "output_type": "stream",
     "text": [
      "Attention shape: (393, 393), min: 0.000000, max: 0.478027, mean: 0.002441\n",
      "Using fallback threshold (10% of max): 0.047791\n",
      "Non-zero values: 77028/77028 (100.0%)\n",
      "Value range: [0.000014, 0.478027]\n",
      "Graph created: 393 nodes, 392 edges\n"
     ]
    },
    {
     "name": "stderr",
     "output_type": "stream",
     "text": [
      " 34%|███▎      | 168/500 [00:39<01:16,  4.32it/s]"
     ]
    },
    {
     "name": "stdout",
     "output_type": "stream",
     "text": [
      "Attention shape: (377, 377), min: 0.000000, max: 0.480225, mean: 0.002544\n",
      "Using fallback threshold (10% of max): 0.048004\n",
      "Non-zero values: 70876/70876 (100.0%)\n",
      "Value range: [0.000015, 0.480225]\n",
      "Graph created: 377 nodes, 376 edges\n"
     ]
    },
    {
     "name": "stderr",
     "output_type": "stream",
     "text": [
      " 34%|███▍      | 169/500 [00:39<01:20,  4.12it/s]"
     ]
    },
    {
     "name": "stdout",
     "output_type": "stream",
     "text": [
      "Attention shape: (360, 360), min: 0.000000, max: 0.472412, mean: 0.002663\n",
      "Using percentile-based threshold: 0.000278 (50th percentile)\n",
      "Non-zero values: 64620/64620 (100.0%)\n",
      "Value range: [0.000012, 0.472412]\n",
      "Graph created: 360 nodes, 32314 edges\n"
     ]
    },
    {
     "name": "stderr",
     "output_type": "stream",
     "text": [
      " 34%|███▍      | 170/500 [00:40<01:20,  4.11it/s]"
     ]
    },
    {
     "name": "stdout",
     "output_type": "stream",
     "text": [
      "Attention shape: (387, 387), min: 0.000000, max: 0.470459, mean: 0.002474\n",
      "Using fallback threshold (10% of max): 0.047028\n",
      "Non-zero values: 74691/74691 (100.0%)\n",
      "Value range: [0.000011, 0.470459]\n",
      "Graph created: 387 nodes, 386 edges\n",
      "Attention shape: (331, 331), min: 0.000000, max: 0.475342, mean: 0.002890\n",
      "Using percentile-based threshold: 0.000315 (50th percentile)\n",
      "Non-zero values: 54615/54615 (100.0%)\n",
      "Value range: [0.000017, 0.475342]\n"
     ]
    },
    {
     "name": "stderr",
     "output_type": "stream",
     "text": [
      " 34%|███▍      | 171/500 [00:40<01:19,  4.15it/s]"
     ]
    },
    {
     "name": "stdout",
     "output_type": "stream",
     "text": [
      "Graph created: 331 nodes, 27300 edges\n"
     ]
    },
    {
     "name": "stderr",
     "output_type": "stream",
     "text": [
      " 34%|███▍      | 172/500 [00:40<01:17,  4.26it/s]"
     ]
    },
    {
     "name": "stdout",
     "output_type": "stream",
     "text": [
      "Attention shape: (366, 366), min: 0.000000, max: 0.471924, mean: 0.002615\n",
      "Using fallback threshold (10% of max): 0.047180\n",
      "Non-zero values: 66795/66795 (100.0%)\n",
      "Value range: [0.000013, 0.471924]\n",
      "Graph created: 366 nodes, 365 edges\n"
     ]
    },
    {
     "name": "stderr",
     "output_type": "stream",
     "text": [
      " 35%|███▍      | 173/500 [00:40<01:15,  4.35it/s]"
     ]
    },
    {
     "name": "stdout",
     "output_type": "stream",
     "text": [
      "Attention shape: (381, 381), min: 0.000000, max: 0.480957, mean: 0.002516\n",
      "Using fallback threshold (10% of max): 0.048096\n",
      "Non-zero values: 72390/72390 (100.0%)\n",
      "Value range: [0.000007, 0.480957]\n",
      "Graph created: 381 nodes, 380 edges\n"
     ]
    },
    {
     "name": "stderr",
     "output_type": "stream",
     "text": [
      " 35%|███▍      | 174/500 [00:41<01:15,  4.31it/s]"
     ]
    },
    {
     "name": "stdout",
     "output_type": "stream",
     "text": [
      "Attention shape: (386, 386), min: 0.000000, max: 0.479980, mean: 0.002483\n",
      "Using fallback threshold (10% of max): 0.047974\n",
      "Non-zero values: 74305/74305 (100.0%)\n",
      "Value range: [0.000011, 0.479980]\n",
      "Graph created: 386 nodes, 385 edges\n"
     ]
    },
    {
     "name": "stderr",
     "output_type": "stream",
     "text": [
      " 35%|███▌      | 175/500 [00:41<01:18,  4.12it/s]"
     ]
    },
    {
     "name": "stdout",
     "output_type": "stream",
     "text": [
      "Attention shape: (360, 360), min: 0.000000, max: 0.473389, mean: 0.002659\n",
      "Using percentile-based threshold: 0.000257 (50th percentile)\n",
      "Non-zero values: 64620/64620 (100.0%)\n",
      "Value range: [0.000011, 0.473389]\n",
      "Graph created: 360 nodes, 32300 edges\n"
     ]
    },
    {
     "name": "stderr",
     "output_type": "stream",
     "text": [
      " 35%|███▌      | 176/500 [00:41<01:19,  4.09it/s]"
     ]
    },
    {
     "name": "stdout",
     "output_type": "stream",
     "text": [
      "Attention shape: (340, 340), min: 0.000000, max: 0.473633, mean: 0.002813\n",
      "Using percentile-based threshold: 0.000302 (50th percentile)\n",
      "Non-zero values: 57630/57630 (100.0%)\n",
      "Value range: [0.000013, 0.473633]\n",
      "Graph created: 340 nodes, 28807 edges\n"
     ]
    },
    {
     "name": "stderr",
     "output_type": "stream",
     "text": [
      " 35%|███▌      | 177/500 [00:41<01:17,  4.14it/s]"
     ]
    },
    {
     "name": "stdout",
     "output_type": "stream",
     "text": [
      "Attention shape: (387, 387), min: 0.000000, max: 0.477295, mean: 0.002481\n",
      "Using fallback threshold (10% of max): 0.047729\n",
      "Non-zero values: 74691/74691 (100.0%)\n",
      "Value range: [0.000014, 0.477295]\n",
      "Graph created: 387 nodes, 386 edges\n"
     ]
    },
    {
     "name": "stderr",
     "output_type": "stream",
     "text": [
      " 36%|███▌      | 178/500 [00:41<01:14,  4.33it/s]"
     ]
    },
    {
     "name": "stdout",
     "output_type": "stream",
     "text": [
      "Attention shape: (369, 369), min: 0.000000, max: 0.469971, mean: 0.002596\n",
      "Using fallback threshold (10% of max): 0.046997\n",
      "Non-zero values: 67896/67896 (100.0%)\n",
      "Value range: [0.000010, 0.469971]\n",
      "Graph created: 369 nodes, 368 edges\n"
     ]
    },
    {
     "name": "stderr",
     "output_type": "stream",
     "text": [
      " 36%|███▌      | 179/500 [00:42<01:12,  4.42it/s]"
     ]
    },
    {
     "name": "stdout",
     "output_type": "stream",
     "text": [
      "Attention shape: (376, 376), min: 0.000000, max: 0.473389, mean: 0.002552\n",
      "Using fallback threshold (10% of max): 0.047333\n",
      "Non-zero values: 70500/70500 (100.0%)\n",
      "Value range: [0.000011, 0.473389]\n",
      "Graph created: 376 nodes, 375 edges\n"
     ]
    },
    {
     "name": "stderr",
     "output_type": "stream",
     "text": [
      " 36%|███▌      | 180/500 [00:42<01:11,  4.50it/s]"
     ]
    },
    {
     "name": "stdout",
     "output_type": "stream",
     "text": [
      "Attention shape: (377, 377), min: 0.000000, max: 0.473145, mean: 0.002541\n",
      "Using fallback threshold (10% of max): 0.047302\n",
      "Non-zero values: 70876/70876 (100.0%)\n",
      "Value range: [0.000014, 0.473145]\n",
      "Graph created: 377 nodes, 376 edges\n"
     ]
    },
    {
     "name": "stderr",
     "output_type": "stream",
     "text": [
      " 36%|███▌      | 181/500 [00:42<01:10,  4.52it/s]"
     ]
    },
    {
     "name": "stdout",
     "output_type": "stream",
     "text": [
      "Attention shape: (380, 380), min: 0.000000, max: 0.476562, mean: 0.002520\n",
      "Using fallback threshold (10% of max): 0.047638\n",
      "Non-zero values: 72010/72010 (100.0%)\n",
      "Value range: [0.000013, 0.476562]\n",
      "Graph created: 380 nodes, 379 edges\n"
     ]
    },
    {
     "name": "stderr",
     "output_type": "stream",
     "text": [
      " 36%|███▋      | 182/500 [00:42<01:14,  4.26it/s]"
     ]
    },
    {
     "name": "stdout",
     "output_type": "stream",
     "text": [
      "Attention shape: (361, 361), min: 0.000000, max: 0.469971, mean: 0.002653\n",
      "Using percentile-based threshold: 0.000314 (50th percentile)\n",
      "Non-zero values: 64980/64980 (100.0%)\n",
      "Value range: [0.000018, 0.469971]\n",
      "Graph created: 361 nodes, 32479 edges\n",
      "Attention shape: (235, 235), min: 0.000000, max: 0.474854, mean: 0.004059\n",
      "Using percentile-based threshold: 0.000461 (50th percentile)\n",
      "Non-zero values: 27495/27495 (100.0%)\n",
      "Value range: [0.000007, 0.474854]\n",
      "Graph created: 235 nodes, 13750 edges\n"
     ]
    },
    {
     "name": "stderr",
     "output_type": "stream",
     "text": [
      " 37%|███▋      | 184/500 [00:43<01:04,  4.87it/s]"
     ]
    },
    {
     "name": "stdout",
     "output_type": "stream",
     "text": [
      "Attention shape: (342, 342), min: 0.000000, max: 0.476807, mean: 0.002792\n",
      "Using percentile-based threshold: 0.000234 (50th percentile)\n",
      "Non-zero values: 58311/58311 (100.0%)\n",
      "Value range: [0.000007, 0.476807]\n",
      "Graph created: 342 nodes, 29150 edges\n"
     ]
    },
    {
     "name": "stderr",
     "output_type": "stream",
     "text": [
      " 37%|███▋      | 185/500 [00:43<01:07,  4.68it/s]"
     ]
    },
    {
     "name": "stdout",
     "output_type": "stream",
     "text": [
      "Attention shape: (400, 400), min: 0.000000, max: 0.471680, mean: 0.002399\n",
      "Using fallback threshold (10% of max): 0.047150\n",
      "Non-zero values: 79800/79800 (100.0%)\n",
      "Value range: [0.000019, 0.471680]\n",
      "Graph created: 400 nodes, 399 edges\n",
      "Attention shape: (343, 343), min: 0.000000, max: 0.468506, mean: 0.002789\n",
      "Using percentile-based threshold: 0.000371 (50th percentile)\n",
      "Non-zero values: 58653/58653 (100.0%)\n",
      "Value range: [0.000015, 0.468506]\n"
     ]
    },
    {
     "name": "stderr",
     "output_type": "stream",
     "text": [
      " 37%|███▋      | 186/500 [00:43<01:10,  4.47it/s]"
     ]
    },
    {
     "name": "stdout",
     "output_type": "stream",
     "text": [
      "Graph created: 343 nodes, 29324 edges\n"
     ]
    },
    {
     "name": "stderr",
     "output_type": "stream",
     "text": [
      " 37%|███▋      | 187/500 [00:43<01:10,  4.41it/s]"
     ]
    },
    {
     "name": "stdout",
     "output_type": "stream",
     "text": [
      "Attention shape: (400, 400), min: 0.000000, max: 0.471924, mean: 0.002398\n",
      "Using fallback threshold (10% of max): 0.047180\n",
      "Non-zero values: 79800/79800 (100.0%)\n",
      "Value range: [0.000011, 0.471924]\n",
      "Graph created: 400 nodes, 399 edges\n"
     ]
    },
    {
     "name": "stderr",
     "output_type": "stream",
     "text": [
      " 38%|███▊      | 188/500 [00:44<01:11,  4.36it/s]"
     ]
    },
    {
     "name": "stdout",
     "output_type": "stream",
     "text": [
      "Attention shape: (390, 390), min: 0.000000, max: 0.476562, mean: 0.002462\n",
      "Using fallback threshold (10% of max): 0.047638\n",
      "Non-zero values: 75855/75855 (100.0%)\n",
      "Value range: [0.000005, 0.476562]\n",
      "Graph created: 390 nodes, 389 edges\n"
     ]
    },
    {
     "name": "stderr",
     "output_type": "stream",
     "text": [
      " 38%|███▊      | 189/500 [00:44<01:12,  4.28it/s]"
     ]
    },
    {
     "name": "stdout",
     "output_type": "stream",
     "text": [
      "Attention shape: (398, 398), min: 0.000000, max: 0.476562, mean: 0.002415\n",
      "Using fallback threshold (10% of max): 0.047638\n",
      "Non-zero values: 79003/79003 (100.0%)\n",
      "Value range: [0.000017, 0.476562]\n",
      "Graph created: 398 nodes, 397 edges\n"
     ]
    },
    {
     "name": "stderr",
     "output_type": "stream",
     "text": [
      " 38%|███▊      | 190/500 [00:44<01:13,  4.24it/s]"
     ]
    },
    {
     "name": "stdout",
     "output_type": "stream",
     "text": [
      "Attention shape: (389, 389), min: 0.000000, max: 0.468506, mean: 0.002464\n",
      "Using fallback threshold (10% of max): 0.046844\n",
      "Non-zero values: 75466/75466 (100.0%)\n",
      "Value range: [0.000011, 0.468506]\n",
      "Graph created: 389 nodes, 388 edges\n"
     ]
    },
    {
     "name": "stderr",
     "output_type": "stream",
     "text": [
      " 38%|███▊      | 191/500 [00:44<01:13,  4.23it/s]"
     ]
    },
    {
     "name": "stdout",
     "output_type": "stream",
     "text": [
      "Attention shape: (392, 392), min: 0.000000, max: 0.480713, mean: 0.002445\n",
      "Using fallback threshold (10% of max): 0.048065\n",
      "Non-zero values: 76636/76636 (100.0%)\n",
      "Value range: [0.000013, 0.480713]\n",
      "Graph created: 392 nodes, 391 edges\n"
     ]
    },
    {
     "name": "stderr",
     "output_type": "stream",
     "text": [
      " 38%|███▊      | 192/500 [00:45<01:12,  4.24it/s]"
     ]
    },
    {
     "name": "stdout",
     "output_type": "stream",
     "text": [
      "Attention shape: (387, 387), min: 0.000000, max: 0.468750, mean: 0.002476\n",
      "Using fallback threshold (10% of max): 0.046875\n",
      "Non-zero values: 74691/74691 (100.0%)\n",
      "Value range: [0.000008, 0.468750]\n",
      "Graph created: 387 nodes, 386 edges\n"
     ]
    },
    {
     "name": "stderr",
     "output_type": "stream",
     "text": [
      " 39%|███▊      | 193/500 [00:45<01:09,  4.39it/s]"
     ]
    },
    {
     "name": "stdout",
     "output_type": "stream",
     "text": [
      "Attention shape: (369, 369), min: 0.000000, max: 0.480957, mean: 0.002598\n",
      "Using fallback threshold (10% of max): 0.048096\n",
      "Non-zero values: 67896/67896 (100.0%)\n",
      "Value range: [0.000016, 0.480957]\n",
      "Graph created: 369 nodes, 368 edges\n"
     ]
    },
    {
     "name": "stderr",
     "output_type": "stream",
     "text": [
      " 39%|███▉      | 194/500 [00:45<01:11,  4.30it/s]"
     ]
    },
    {
     "name": "stdout",
     "output_type": "stream",
     "text": [
      "Attention shape: (402, 402), min: 0.000000, max: 0.468262, mean: 0.002382\n",
      "Using fallback threshold (10% of max): 0.046814\n",
      "Non-zero values: 80601/80601 (100.0%)\n",
      "Value range: [0.000014, 0.468262]\n",
      "Graph created: 402 nodes, 401 edges\n"
     ]
    },
    {
     "name": "stderr",
     "output_type": "stream",
     "text": [
      " 39%|███▉      | 195/500 [00:45<01:14,  4.08it/s]"
     ]
    },
    {
     "name": "stdout",
     "output_type": "stream",
     "text": [
      "Attention shape: (417, 417), min: 0.000000, max: 0.475586, mean: 0.002300\n",
      "Using fallback threshold (10% of max): 0.047546\n",
      "Non-zero values: 86736/86736 (100.0%)\n",
      "Value range: [0.000007, 0.475586]\n",
      "Graph created: 417 nodes, 416 edges\n"
     ]
    },
    {
     "name": "stderr",
     "output_type": "stream",
     "text": [
      " 39%|███▉      | 196/500 [00:46<01:16,  3.99it/s]"
     ]
    },
    {
     "name": "stdout",
     "output_type": "stream",
     "text": [
      "Attention shape: (360, 360), min: 0.000000, max: 0.472900, mean: 0.002661\n",
      "Using percentile-based threshold: 0.000329 (50th percentile)\n",
      "Non-zero values: 64620/64620 (100.0%)\n",
      "Value range: [0.000013, 0.472900]\n",
      "Graph created: 360 nodes, 32302 edges\n"
     ]
    },
    {
     "name": "stderr",
     "output_type": "stream",
     "text": [
      " 39%|███▉      | 197/500 [00:46<01:15,  4.02it/s]"
     ]
    },
    {
     "name": "stdout",
     "output_type": "stream",
     "text": [
      "Attention shape: (388, 388), min: 0.000000, max: 0.471924, mean: 0.002472\n",
      "Using fallback threshold (10% of max): 0.047180\n",
      "Non-zero values: 75078/75078 (100.0%)\n",
      "Value range: [0.000013, 0.471924]\n",
      "Graph created: 388 nodes, 387 edges\n"
     ]
    },
    {
     "name": "stderr",
     "output_type": "stream",
     "text": [
      " 40%|███▉      | 198/500 [00:46<01:12,  4.17it/s]"
     ]
    },
    {
     "name": "stdout",
     "output_type": "stream",
     "text": [
      "Attention shape: (379, 379), min: 0.000000, max: 0.478760, mean: 0.002523\n",
      "Using fallback threshold (10% of max): 0.047852\n",
      "Non-zero values: 71631/71631 (100.0%)\n",
      "Value range: [0.000010, 0.478760]\n",
      "Graph created: 379 nodes, 378 edges\n"
     ]
    },
    {
     "name": "stderr",
     "output_type": "stream",
     "text": [
      " 40%|███▉      | 199/500 [00:46<01:15,  3.97it/s]"
     ]
    },
    {
     "name": "stdout",
     "output_type": "stream",
     "text": [
      "Attention shape: (362, 362), min: 0.000000, max: 0.476562, mean: 0.002651\n",
      "Using percentile-based threshold: 0.000164 (50th percentile)\n",
      "Non-zero values: 65341/65341 (100.0%)\n",
      "Value range: [0.000004, 0.476562]\n",
      "Graph created: 362 nodes, 32655 edges\n"
     ]
    },
    {
     "name": "stderr",
     "output_type": "stream",
     "text": [
      " 40%|████      | 200/500 [00:47<01:13,  4.07it/s]"
     ]
    },
    {
     "name": "stdout",
     "output_type": "stream",
     "text": [
      "Attention shape: (397, 397), min: 0.000000, max: 0.477051, mean: 0.002417\n",
      "Using fallback threshold (10% of max): 0.047699\n",
      "Non-zero values: 78606/78606 (100.0%)\n",
      "Value range: [0.000010, 0.477051]\n",
      "Graph created: 397 nodes, 396 edges\n"
     ]
    },
    {
     "name": "stderr",
     "output_type": "stream",
     "text": [
      " 40%|████      | 201/500 [00:47<01:12,  4.13it/s]"
     ]
    },
    {
     "name": "stdout",
     "output_type": "stream",
     "text": [
      "Attention shape: (400, 400), min: 0.000000, max: 0.476318, mean: 0.002396\n",
      "Using fallback threshold (10% of max): 0.047607\n",
      "Non-zero values: 79800/79800 (100.0%)\n",
      "Value range: [0.000009, 0.476318]\n",
      "Graph created: 400 nodes, 399 edges\n"
     ]
    },
    {
     "name": "stderr",
     "output_type": "stream",
     "text": [
      " 40%|████      | 202/500 [00:47<01:08,  4.33it/s]"
     ]
    },
    {
     "name": "stdout",
     "output_type": "stream",
     "text": [
      "Attention shape: (370, 370), min: 0.000000, max: 0.471924, mean: 0.002590\n",
      "Using fallback threshold (10% of max): 0.047180\n",
      "Non-zero values: 68265/68265 (100.0%)\n",
      "Value range: [0.000016, 0.471924]\n",
      "Graph created: 370 nodes, 369 edges\n"
     ]
    },
    {
     "name": "stderr",
     "output_type": "stream",
     "text": [
      " 41%|████      | 203/500 [00:47<01:06,  4.44it/s]"
     ]
    },
    {
     "name": "stdout",
     "output_type": "stream",
     "text": [
      "Attention shape: (377, 377), min: 0.000000, max: 0.480469, mean: 0.002541\n",
      "Using fallback threshold (10% of max): 0.048035\n",
      "Non-zero values: 70876/70876 (100.0%)\n",
      "Value range: [0.000014, 0.480469]\n",
      "Graph created: 377 nodes, 376 edges\n",
      "Attention shape: (358, 358), min: 0.000000, max: 0.471680, mean: 0.002676\n",
      "Using percentile-based threshold: 0.000245 (50th percentile)\n",
      "Non-zero values: 63903/63903 (100.0%)\n",
      "Value range: [0.000008, 0.471680]\n"
     ]
    },
    {
     "name": "stderr",
     "output_type": "stream",
     "text": [
      " 41%|████      | 204/500 [00:48<01:09,  4.25it/s]"
     ]
    },
    {
     "name": "stdout",
     "output_type": "stream",
     "text": [
      "Graph created: 358 nodes, 31937 edges\n"
     ]
    },
    {
     "name": "stderr",
     "output_type": "stream",
     "text": [
      " 41%|████      | 205/500 [00:48<01:08,  4.28it/s]"
     ]
    },
    {
     "name": "stdout",
     "output_type": "stream",
     "text": [
      "Attention shape: (390, 390), min: 0.000000, max: 0.477051, mean: 0.002455\n",
      "Using fallback threshold (10% of max): 0.047699\n",
      "Non-zero values: 75855/75855 (100.0%)\n",
      "Value range: [0.000012, 0.477051]\n",
      "Graph created: 390 nodes, 389 edges\n",
      "Attention shape: (332, 332), min: 0.000000, max: 0.478027, mean: 0.002878\n",
      "Using percentile-based threshold: 0.000337 (50th percentile)\n",
      "Non-zero values: 54946/54946 (100.0%)\n",
      "Value range: [0.000013, 0.478027]\n"
     ]
    },
    {
     "name": "stderr",
     "output_type": "stream",
     "text": [
      " 41%|████▏     | 207/500 [00:48<00:56,  5.19it/s]"
     ]
    },
    {
     "name": "stdout",
     "output_type": "stream",
     "text": [
      "Graph created: 332 nodes, 27471 edges\n",
      "Attention shape: (254, 254), min: 0.000000, max: 0.475586, mean: 0.003750\n",
      "Using percentile-based threshold: 0.000403 (50th percentile)\n",
      "Non-zero values: 32131/32131 (100.0%)\n",
      "Value range: [0.000015, 0.475586]\n",
      "Graph created: 254 nodes, 16063 edges\n"
     ]
    },
    {
     "name": "stderr",
     "output_type": "stream",
     "text": [
      " 42%|████▏     | 208/500 [00:48<01:00,  4.86it/s]"
     ]
    },
    {
     "name": "stdout",
     "output_type": "stream",
     "text": [
      "Attention shape: (397, 397), min: 0.000000, max: 0.479980, mean: 0.002415\n",
      "Using fallback threshold (10% of max): 0.047974\n",
      "Non-zero values: 78606/78606 (100.0%)\n",
      "Value range: [0.000014, 0.479980]\n",
      "Graph created: 397 nodes, 396 edges\n",
      "Attention shape: (343, 343), min: 0.000000, max: 0.475342, mean: 0.002802\n",
      "Using percentile-based threshold: 0.000250 (50th percentile)\n",
      "Non-zero values: 58653/58653 (100.0%)\n",
      "Value range: [0.000014, 0.475342]\n"
     ]
    },
    {
     "name": "stderr",
     "output_type": "stream",
     "text": [
      " 42%|████▏     | 209/500 [00:49<01:02,  4.64it/s]"
     ]
    },
    {
     "name": "stdout",
     "output_type": "stream",
     "text": [
      "Graph created: 343 nodes, 29318 edges\n"
     ]
    },
    {
     "name": "stderr",
     "output_type": "stream",
     "text": [
      " 42%|████▏     | 210/500 [00:49<01:02,  4.62it/s]"
     ]
    },
    {
     "name": "stdout",
     "output_type": "stream",
     "text": [
      "Attention shape: (381, 381), min: 0.000000, max: 0.468506, mean: 0.002520\n",
      "Using fallback threshold (10% of max): 0.046844\n",
      "Non-zero values: 72390/72390 (100.0%)\n",
      "Value range: [0.000017, 0.468506]\n",
      "Graph created: 381 nodes, 380 edges\n"
     ]
    },
    {
     "name": "stderr",
     "output_type": "stream",
     "text": [
      " 42%|████▏     | 211/500 [00:49<01:02,  4.65it/s]"
     ]
    },
    {
     "name": "stdout",
     "output_type": "stream",
     "text": [
      "Attention shape: (379, 379), min: 0.000000, max: 0.480225, mean: 0.002527\n",
      "Using fallback threshold (10% of max): 0.048004\n",
      "Non-zero values: 71631/71631 (100.0%)\n",
      "Value range: [0.000008, 0.480225]\n",
      "Graph created: 379 nodes, 378 edges\n"
     ]
    },
    {
     "name": "stderr",
     "output_type": "stream",
     "text": [
      " 42%|████▏     | 212/500 [00:49<01:01,  4.67it/s]"
     ]
    },
    {
     "name": "stdout",
     "output_type": "stream",
     "text": [
      "Attention shape: (376, 376), min: 0.000000, max: 0.477783, mean: 0.002550\n",
      "Using fallback threshold (10% of max): 0.047760\n",
      "Non-zero values: 70500/70500 (100.0%)\n",
      "Value range: [0.000015, 0.477783]\n",
      "Graph created: 376 nodes, 375 edges\n"
     ]
    },
    {
     "name": "stderr",
     "output_type": "stream",
     "text": [
      " 43%|████▎     | 213/500 [00:49<01:02,  4.57it/s]"
     ]
    },
    {
     "name": "stdout",
     "output_type": "stream",
     "text": [
      "Attention shape: (389, 389), min: 0.000000, max: 0.476074, mean: 0.002462\n",
      "Using fallback threshold (10% of max): 0.047607\n",
      "Non-zero values: 75466/75466 (100.0%)\n",
      "Value range: [0.000007, 0.476074]\n",
      "Graph created: 389 nodes, 388 edges\n"
     ]
    },
    {
     "name": "stderr",
     "output_type": "stream",
     "text": [
      " 43%|████▎     | 214/500 [00:50<01:05,  4.36it/s]"
     ]
    },
    {
     "name": "stdout",
     "output_type": "stream",
     "text": [
      "Attention shape: (406, 406), min: 0.000000, max: 0.479980, mean: 0.002361\n",
      "Using fallback threshold (10% of max): 0.047974\n",
      "Non-zero values: 82215/82215 (100.0%)\n",
      "Value range: [0.000010, 0.479980]\n",
      "Graph created: 406 nodes, 405 edges\n"
     ]
    },
    {
     "name": "stderr",
     "output_type": "stream",
     "text": [
      " 43%|████▎     | 215/500 [00:50<01:06,  4.28it/s]"
     ]
    },
    {
     "name": "stdout",
     "output_type": "stream",
     "text": [
      "Attention shape: (400, 400), min: 0.000000, max: 0.473389, mean: 0.002399\n",
      "Using fallback threshold (10% of max): 0.047333\n",
      "Non-zero values: 79800/79800 (100.0%)\n",
      "Value range: [0.000012, 0.473389]\n",
      "Graph created: 400 nodes, 399 edges\n"
     ]
    },
    {
     "name": "stderr",
     "output_type": "stream",
     "text": [
      " 43%|████▎     | 216/500 [00:50<01:07,  4.18it/s]"
     ]
    },
    {
     "name": "stdout",
     "output_type": "stream",
     "text": [
      "Attention shape: (400, 400), min: 0.000000, max: 0.475098, mean: 0.002394\n",
      "Using fallback threshold (10% of max): 0.047485\n",
      "Non-zero values: 79800/79800 (100.0%)\n",
      "Value range: [0.000010, 0.475098]\n",
      "Graph created: 400 nodes, 399 edges\n"
     ]
    },
    {
     "name": "stderr",
     "output_type": "stream",
     "text": [
      " 43%|████▎     | 217/500 [00:50<01:09,  4.05it/s]"
     ]
    },
    {
     "name": "stdout",
     "output_type": "stream",
     "text": [
      "Attention shape: (360, 360), min: 0.000000, max: 0.477051, mean: 0.002655\n",
      "Using percentile-based threshold: 0.000190 (50th percentile)\n",
      "Non-zero values: 64620/64620 (100.0%)\n",
      "Value range: [0.000005, 0.477051]\n",
      "Graph created: 360 nodes, 32310 edges\n"
     ]
    },
    {
     "name": "stderr",
     "output_type": "stream",
     "text": [
      " 44%|████▎     | 218/500 [00:51<01:08,  4.14it/s]"
     ]
    },
    {
     "name": "stdout",
     "output_type": "stream",
     "text": [
      "Attention shape: (389, 389), min: 0.000000, max: 0.477783, mean: 0.002464\n",
      "Using fallback threshold (10% of max): 0.047760\n",
      "Non-zero values: 75466/75466 (100.0%)\n",
      "Value range: [0.000015, 0.477783]\n",
      "Graph created: 389 nodes, 388 edges\n"
     ]
    },
    {
     "name": "stderr",
     "output_type": "stream",
     "text": [
      " 44%|████▍     | 219/500 [00:51<01:07,  4.16it/s]"
     ]
    },
    {
     "name": "stdout",
     "output_type": "stream",
     "text": [
      "Attention shape: (396, 396), min: 0.000000, max: 0.468506, mean: 0.002422\n",
      "Using fallback threshold (10% of max): 0.046844\n",
      "Non-zero values: 78210/78210 (100.0%)\n",
      "Value range: [0.000008, 0.468506]\n",
      "Graph created: 396 nodes, 395 edges\n"
     ]
    },
    {
     "name": "stderr",
     "output_type": "stream",
     "text": [
      " 44%|████▍     | 220/500 [00:51<01:04,  4.32it/s]"
     ]
    },
    {
     "name": "stdout",
     "output_type": "stream",
     "text": [
      "Attention shape: (376, 376), min: 0.000000, max: 0.474365, mean: 0.002548\n",
      "Using fallback threshold (10% of max): 0.047424\n",
      "Non-zero values: 70500/70500 (100.0%)\n",
      "Value range: [0.000010, 0.474365]\n",
      "Graph created: 376 nodes, 375 edges\n"
     ]
    },
    {
     "name": "stderr",
     "output_type": "stream",
     "text": [
      " 44%|████▍     | 221/500 [00:51<01:05,  4.27it/s]"
     ]
    },
    {
     "name": "stdout",
     "output_type": "stream",
     "text": [
      "Attention shape: (396, 396), min: 0.000000, max: 0.470459, mean: 0.002424\n",
      "Using fallback threshold (10% of max): 0.047028\n",
      "Non-zero values: 78210/78210 (100.0%)\n",
      "Value range: [0.000009, 0.470459]\n",
      "Graph created: 396 nodes, 395 edges\n"
     ]
    },
    {
     "name": "stderr",
     "output_type": "stream",
     "text": [
      " 44%|████▍     | 222/500 [00:52<01:04,  4.28it/s]"
     ]
    },
    {
     "name": "stdout",
     "output_type": "stream",
     "text": [
      "Attention shape: (397, 397), min: 0.000000, max: 0.468506, mean: 0.002415\n",
      "Using fallback threshold (10% of max): 0.046844\n",
      "Non-zero values: 78606/78606 (100.0%)\n",
      "Value range: [0.000013, 0.468506]\n",
      "Graph created: 397 nodes, 396 edges\n"
     ]
    },
    {
     "name": "stderr",
     "output_type": "stream",
     "text": [
      " 45%|████▍     | 223/500 [00:52<01:03,  4.38it/s]"
     ]
    },
    {
     "name": "stdout",
     "output_type": "stream",
     "text": [
      "Attention shape: (367, 367), min: 0.000000, max: 0.468506, mean: 0.002609\n",
      "Using fallback threshold (10% of max): 0.046844\n",
      "Non-zero values: 67161/67161 (100.0%)\n",
      "Value range: [0.000009, 0.468506]\n",
      "Graph created: 367 nodes, 366 edges\n"
     ]
    },
    {
     "name": "stderr",
     "output_type": "stream",
     "text": [
      " 45%|████▍     | 224/500 [00:52<01:02,  4.42it/s]"
     ]
    },
    {
     "name": "stdout",
     "output_type": "stream",
     "text": [
      "Attention shape: (383, 383), min: 0.000000, max: 0.472900, mean: 0.002501\n",
      "Using fallback threshold (10% of max): 0.047272\n",
      "Non-zero values: 73153/73153 (100.0%)\n",
      "Value range: [0.000009, 0.472900]\n",
      "Graph created: 383 nodes, 382 edges\n"
     ]
    },
    {
     "name": "stderr",
     "output_type": "stream",
     "text": [
      " 45%|████▌     | 225/500 [00:52<01:03,  4.31it/s]"
     ]
    },
    {
     "name": "stdout",
     "output_type": "stream",
     "text": [
      "Attention shape: (387, 387), min: 0.000000, max: 0.480469, mean: 0.002478\n",
      "Using fallback threshold (10% of max): 0.048035\n",
      "Non-zero values: 74691/74691 (100.0%)\n",
      "Value range: [0.000013, 0.480469]\n",
      "Graph created: 387 nodes, 386 edges\n"
     ]
    },
    {
     "name": "stderr",
     "output_type": "stream",
     "text": [
      " 45%|████▌     | 226/500 [00:52<01:02,  4.38it/s]"
     ]
    },
    {
     "name": "stdout",
     "output_type": "stream",
     "text": [
      "Attention shape: (384, 384), min: 0.000000, max: 0.477783, mean: 0.002497\n",
      "Using fallback threshold (10% of max): 0.047760\n",
      "Non-zero values: 73536/73536 (100.0%)\n",
      "Value range: [0.000010, 0.477783]\n",
      "Graph created: 384 nodes, 383 edges\n"
     ]
    },
    {
     "name": "stderr",
     "output_type": "stream",
     "text": [
      " 45%|████▌     | 227/500 [00:53<01:05,  4.19it/s]"
     ]
    },
    {
     "name": "stdout",
     "output_type": "stream",
     "text": [
      "Attention shape: (406, 406), min: 0.000000, max: 0.468506, mean: 0.002361\n",
      "Using fallback threshold (10% of max): 0.046844\n",
      "Non-zero values: 82215/82215 (100.0%)\n",
      "Value range: [0.000014, 0.468506]\n",
      "Graph created: 406 nodes, 405 edges\n"
     ]
    },
    {
     "name": "stderr",
     "output_type": "stream",
     "text": [
      " 46%|████▌     | 228/500 [00:53<01:02,  4.37it/s]"
     ]
    },
    {
     "name": "stdout",
     "output_type": "stream",
     "text": [
      "Attention shape: (366, 366), min: 0.000000, max: 0.473145, mean: 0.002621\n",
      "Using fallback threshold (10% of max): 0.047302\n",
      "Non-zero values: 66795/66795 (100.0%)\n",
      "Value range: [0.000015, 0.473145]\n",
      "Graph created: 366 nodes, 365 edges\n"
     ]
    },
    {
     "name": "stderr",
     "output_type": "stream",
     "text": [
      " 46%|████▌     | 229/500 [00:53<01:03,  4.24it/s]"
     ]
    },
    {
     "name": "stdout",
     "output_type": "stream",
     "text": [
      "Attention shape: (388, 388), min: 0.000000, max: 0.477783, mean: 0.002472\n",
      "Using fallback threshold (10% of max): 0.047760\n",
      "Non-zero values: 75078/75078 (100.0%)\n",
      "Value range: [0.000014, 0.477783]\n",
      "Graph created: 388 nodes, 387 edges\n"
     ]
    },
    {
     "name": "stderr",
     "output_type": "stream",
     "text": [
      " 46%|████▌     | 230/500 [00:53<01:01,  4.42it/s]"
     ]
    },
    {
     "name": "stdout",
     "output_type": "stream",
     "text": [
      "Attention shape: (365, 365), min: 0.000000, max: 0.473145, mean: 0.002630\n",
      "Using fallback threshold (10% of max): 0.047302\n",
      "Non-zero values: 66430/66430 (100.0%)\n",
      "Value range: [0.000008, 0.473145]\n",
      "Graph created: 365 nodes, 364 edges\n",
      "Attention shape: (346, 346), min: 0.000000, max: 0.478516, mean: 0.002764\n",
      "Using percentile-based threshold: 0.000314 (50th percentile)\n",
      "Non-zero values: 59685/59685 (100.0%)\n",
      "Value range: [0.000011, 0.478516]\n"
     ]
    },
    {
     "name": "stderr",
     "output_type": "stream",
     "text": [
      " 46%|████▌     | 231/500 [00:54<01:03,  4.23it/s]"
     ]
    },
    {
     "name": "stdout",
     "output_type": "stream",
     "text": [
      "Graph created: 346 nodes, 29839 edges\n"
     ]
    },
    {
     "name": "stderr",
     "output_type": "stream",
     "text": [
      " 46%|████▋     | 232/500 [00:54<01:01,  4.34it/s]"
     ]
    },
    {
     "name": "stdout",
     "output_type": "stream",
     "text": [
      "Attention shape: (379, 379), min: 0.000000, max: 0.473389, mean: 0.002527\n",
      "Using fallback threshold (10% of max): 0.047333\n",
      "Non-zero values: 71631/71631 (100.0%)\n",
      "Value range: [0.000013, 0.473389]\n",
      "Graph created: 379 nodes, 378 edges\n"
     ]
    },
    {
     "name": "stderr",
     "output_type": "stream",
     "text": [
      " 47%|████▋     | 233/500 [00:54<01:04,  4.13it/s]"
     ]
    },
    {
     "name": "stdout",
     "output_type": "stream",
     "text": [
      "Attention shape: (351, 351), min: 0.000000, max: 0.481445, mean: 0.002729\n",
      "Using percentile-based threshold: 0.000320 (50th percentile)\n",
      "Non-zero values: 61425/61425 (100.0%)\n",
      "Value range: [0.000012, 0.481445]\n",
      "Graph created: 351 nodes, 30704 edges\n"
     ]
    },
    {
     "name": "stderr",
     "output_type": "stream",
     "text": [
      " 47%|████▋     | 234/500 [00:54<01:02,  4.26it/s]"
     ]
    },
    {
     "name": "stdout",
     "output_type": "stream",
     "text": [
      "Attention shape: (381, 381), min: 0.000000, max: 0.475586, mean: 0.002514\n",
      "Using fallback threshold (10% of max): 0.047546\n",
      "Non-zero values: 72390/72390 (100.0%)\n",
      "Value range: [0.000013, 0.475586]\n",
      "Graph created: 381 nodes, 380 edges\n"
     ]
    },
    {
     "name": "stderr",
     "output_type": "stream",
     "text": [
      " 47%|████▋     | 235/500 [00:55<01:03,  4.17it/s]"
     ]
    },
    {
     "name": "stdout",
     "output_type": "stream",
     "text": [
      "Attention shape: (387, 387), min: 0.000000, max: 0.475342, mean: 0.002472\n",
      "Using fallback threshold (10% of max): 0.047516\n",
      "Non-zero values: 74691/74691 (100.0%)\n",
      "Value range: [0.000005, 0.475342]\n",
      "Graph created: 387 nodes, 386 edges\n"
     ]
    },
    {
     "name": "stderr",
     "output_type": "stream",
     "text": [
      " 47%|████▋     | 236/500 [00:55<01:03,  4.19it/s]"
     ]
    },
    {
     "name": "stdout",
     "output_type": "stream",
     "text": [
      "Attention shape: (396, 396), min: 0.000000, max: 0.468506, mean: 0.002419\n",
      "Using fallback threshold (10% of max): 0.046844\n",
      "Non-zero values: 78210/78210 (100.0%)\n",
      "Value range: [0.000019, 0.468506]\n",
      "Graph created: 396 nodes, 395 edges\n",
      "Attention shape: (328, 328), min: 0.000000, max: 0.475098, mean: 0.002913\n",
      "Using percentile-based threshold: 0.000299 (50th percentile)\n",
      "Non-zero values: 53628/53628 (100.0%)\n",
      "Value range: [0.000009, 0.475098]\n"
     ]
    },
    {
     "name": "stderr",
     "output_type": "stream",
     "text": [
      " 47%|████▋     | 237/500 [00:55<01:03,  4.14it/s]"
     ]
    },
    {
     "name": "stdout",
     "output_type": "stream",
     "text": [
      "Graph created: 328 nodes, 26802 edges\n",
      "Attention shape: (216, 216), min: 0.000000, max: 0.472656, mean: 0.004410\n",
      "Using percentile-based threshold: 0.000389 (50th percentile)\n",
      "Non-zero values: 23220/23220 (100.0%)\n",
      "Value range: [0.000009, 0.472656]\n",
      "Graph created: 216 nodes, 11605 edges\n"
     ]
    },
    {
     "name": "stderr",
     "output_type": "stream",
     "text": [
      " 48%|████▊     | 239/500 [00:55<00:53,  4.89it/s]"
     ]
    },
    {
     "name": "stdout",
     "output_type": "stream",
     "text": [
      "Attention shape: (387, 387), min: 0.000000, max: 0.477051, mean: 0.002480\n",
      "Using fallback threshold (10% of max): 0.047699\n",
      "Non-zero values: 74691/74691 (100.0%)\n",
      "Value range: [0.000013, 0.477051]\n",
      "Graph created: 387 nodes, 386 edges\n"
     ]
    },
    {
     "name": "stderr",
     "output_type": "stream",
     "text": [
      " 48%|████▊     | 240/500 [00:56<00:54,  4.74it/s]"
     ]
    },
    {
     "name": "stdout",
     "output_type": "stream",
     "text": [
      "Attention shape: (387, 387), min: 0.000000, max: 0.475586, mean: 0.002474\n",
      "Using fallback threshold (10% of max): 0.047546\n",
      "Non-zero values: 74691/74691 (100.0%)\n",
      "Value range: [0.000010, 0.475586]\n",
      "Graph created: 387 nodes, 386 edges\n"
     ]
    },
    {
     "name": "stderr",
     "output_type": "stream",
     "text": [
      " 48%|████▊     | 241/500 [00:56<00:56,  4.58it/s]"
     ]
    },
    {
     "name": "stdout",
     "output_type": "stream",
     "text": [
      "Attention shape: (391, 391), min: 0.000000, max: 0.474609, mean: 0.002455\n",
      "Using fallback threshold (10% of max): 0.047455\n",
      "Non-zero values: 76245/76245 (100.0%)\n",
      "Value range: [0.000005, 0.474609]\n",
      "Graph created: 391 nodes, 390 edges\n"
     ]
    },
    {
     "name": "stderr",
     "output_type": "stream",
     "text": [
      " 48%|████▊     | 242/500 [00:56<00:57,  4.47it/s]"
     ]
    },
    {
     "name": "stdout",
     "output_type": "stream",
     "text": [
      "Attention shape: (385, 385), min: 0.000000, max: 0.478516, mean: 0.002489\n",
      "Using fallback threshold (10% of max): 0.047852\n",
      "Non-zero values: 73920/73920 (100.0%)\n",
      "Value range: [0.000009, 0.478516]\n",
      "Graph created: 385 nodes, 384 edges\n"
     ]
    },
    {
     "name": "stderr",
     "output_type": "stream",
     "text": [
      " 49%|████▊     | 243/500 [00:56<00:58,  4.41it/s]"
     ]
    },
    {
     "name": "stdout",
     "output_type": "stream",
     "text": [
      "Attention shape: (387, 387), min: 0.000000, max: 0.475830, mean: 0.002478\n",
      "Using fallback threshold (10% of max): 0.047577\n",
      "Non-zero values: 74691/74691 (100.0%)\n",
      "Value range: [0.000013, 0.475830]\n",
      "Graph created: 387 nodes, 386 edges\n"
     ]
    },
    {
     "name": "stderr",
     "output_type": "stream",
     "text": [
      " 49%|████▉     | 244/500 [00:57<00:57,  4.43it/s]"
     ]
    },
    {
     "name": "stdout",
     "output_type": "stream",
     "text": [
      "Attention shape: (380, 380), min: 0.000000, max: 0.475586, mean: 0.002520\n",
      "Using fallback threshold (10% of max): 0.047546\n",
      "Non-zero values: 72010/72010 (100.0%)\n",
      "Value range: [0.000013, 0.475586]\n",
      "Graph created: 380 nodes, 379 edges\n"
     ]
    },
    {
     "name": "stderr",
     "output_type": "stream",
     "text": [
      " 49%|████▉     | 245/500 [00:57<01:00,  4.18it/s]"
     ]
    },
    {
     "name": "stdout",
     "output_type": "stream",
     "text": [
      "Attention shape: (437, 437), min: 0.000000, max: 0.472900, mean: 0.002201\n",
      "Using fallback threshold (10% of max): 0.047272\n",
      "Non-zero values: 95266/95266 (100.0%)\n",
      "Value range: [0.000013, 0.472900]\n",
      "Graph created: 437 nodes, 436 edges\n"
     ]
    },
    {
     "name": "stderr",
     "output_type": "stream",
     "text": [
      " 49%|████▉     | 246/500 [00:57<00:59,  4.24it/s]"
     ]
    },
    {
     "name": "stdout",
     "output_type": "stream",
     "text": [
      "Attention shape: (382, 382), min: 0.000000, max: 0.479492, mean: 0.002510\n",
      "Using fallback threshold (10% of max): 0.047943\n",
      "Non-zero values: 72771/72771 (100.0%)\n",
      "Value range: [0.000018, 0.479492]\n",
      "Graph created: 382 nodes, 381 edges\n",
      "Attention shape: (204, 204), min: 0.000000, max: 0.475098, mean: 0.004707\n",
      "Using percentile-based threshold: 0.000595 (50th percentile)\n",
      "Non-zero values: 20706/20706 (100.0%)\n",
      "Value range: [0.000022, 0.475098]\n",
      "Graph created: 204 nodes, 10353 edges\n"
     ]
    },
    {
     "name": "stderr",
     "output_type": "stream",
     "text": [
      " 50%|████▉     | 248/500 [00:57<00:51,  4.93it/s]"
     ]
    },
    {
     "name": "stdout",
     "output_type": "stream",
     "text": [
      "Attention shape: (344, 344), min: 0.000000, max: 0.479004, mean: 0.002787\n",
      "Using percentile-based threshold: 0.000338 (50th percentile)\n",
      "Non-zero values: 58996/58996 (100.0%)\n",
      "Value range: [0.000025, 0.479004]\n",
      "Graph created: 344 nodes, 29488 edges\n"
     ]
    },
    {
     "name": "stderr",
     "output_type": "stream",
     "text": [
      " 50%|████▉     | 249/500 [00:58<00:53,  4.74it/s]"
     ]
    },
    {
     "name": "stdout",
     "output_type": "stream",
     "text": [
      "Attention shape: (385, 385), min: 0.000000, max: 0.473877, mean: 0.002489\n",
      "Using fallback threshold (10% of max): 0.047363\n",
      "Non-zero values: 73920/73920 (100.0%)\n",
      "Value range: [0.000007, 0.473877]\n",
      "Graph created: 385 nodes, 384 edges\n"
     ]
    },
    {
     "name": "stderr",
     "output_type": "stream",
     "text": [
      " 50%|█████     | 250/500 [00:58<00:54,  4.59it/s]"
     ]
    },
    {
     "name": "stdout",
     "output_type": "stream",
     "text": [
      "Attention shape: (391, 391), min: 0.000000, max: 0.477051, mean: 0.002459\n",
      "Using fallback threshold (10% of max): 0.047699\n",
      "Non-zero values: 76245/76245 (100.0%)\n",
      "Value range: [0.000020, 0.477051]\n",
      "Graph created: 391 nodes, 390 edges\n"
     ]
    },
    {
     "name": "stderr",
     "output_type": "stream",
     "text": [
      " 50%|█████     | 251/500 [00:58<00:54,  4.57it/s]"
     ]
    },
    {
     "name": "stdout",
     "output_type": "stream",
     "text": [
      "Attention shape: (376, 376), min: 0.000000, max: 0.468506, mean: 0.002548\n",
      "Using fallback threshold (10% of max): 0.046844\n",
      "Non-zero values: 70500/70500 (100.0%)\n",
      "Value range: [0.000006, 0.468506]\n",
      "Graph created: 376 nodes, 375 edges\n",
      "Attention shape: (308, 308), min: 0.000000, max: 0.468506, mean: 0.003105\n",
      "Using percentile-based threshold: 0.000336 (50th percentile)\n",
      "Non-zero values: 47278/47278 (100.0%)\n",
      "Value range: [0.000013, 0.468506]\n",
      "Graph created: 308 nodes, 23643 edges\n"
     ]
    },
    {
     "name": "stderr",
     "output_type": "stream",
     "text": [
      " 51%|█████     | 253/500 [00:59<00:54,  4.52it/s]"
     ]
    },
    {
     "name": "stdout",
     "output_type": "stream",
     "text": [
      "Attention shape: (391, 391), min: 0.000000, max: 0.476562, mean: 0.002453\n",
      "Using fallback threshold (10% of max): 0.047638\n",
      "Non-zero values: 76245/76245 (100.0%)\n",
      "Value range: [0.000010, 0.476562]\n",
      "Graph created: 391 nodes, 390 edges\n"
     ]
    },
    {
     "name": "stderr",
     "output_type": "stream",
     "text": [
      " 51%|█████     | 254/500 [00:59<00:56,  4.38it/s]"
     ]
    },
    {
     "name": "stdout",
     "output_type": "stream",
     "text": [
      "Attention shape: (400, 400), min: 0.000000, max: 0.477539, mean: 0.002394\n",
      "Using fallback threshold (10% of max): 0.047729\n",
      "Non-zero values: 79800/79800 (100.0%)\n",
      "Value range: [0.000009, 0.477539]\n",
      "Graph created: 400 nodes, 399 edges\n"
     ]
    },
    {
     "name": "stderr",
     "output_type": "stream",
     "text": [
      " 51%|█████     | 255/500 [00:59<00:56,  4.37it/s]"
     ]
    },
    {
     "name": "stdout",
     "output_type": "stream",
     "text": [
      "Attention shape: (386, 386), min: 0.000000, max: 0.468506, mean: 0.002481\n",
      "Using fallback threshold (10% of max): 0.046844\n",
      "Non-zero values: 74305/74305 (100.0%)\n",
      "Value range: [0.000015, 0.468506]\n",
      "Graph created: 386 nodes, 385 edges\n"
     ]
    },
    {
     "name": "stderr",
     "output_type": "stream",
     "text": [
      " 51%|█████     | 256/500 [00:59<00:56,  4.29it/s]"
     ]
    },
    {
     "name": "stdout",
     "output_type": "stream",
     "text": [
      "Attention shape: (387, 387), min: 0.000000, max: 0.473145, mean: 0.002481\n",
      "Using fallback threshold (10% of max): 0.047302\n",
      "Non-zero values: 74691/74691 (100.0%)\n",
      "Value range: [0.000011, 0.473145]\n",
      "Graph created: 387 nodes, 386 edges\n"
     ]
    },
    {
     "name": "stderr",
     "output_type": "stream",
     "text": [
      " 51%|█████▏    | 257/500 [01:00<00:56,  4.29it/s]"
     ]
    },
    {
     "name": "stdout",
     "output_type": "stream",
     "text": [
      "Attention shape: (389, 389), min: 0.000000, max: 0.469971, mean: 0.002464\n",
      "Using fallback threshold (10% of max): 0.046997\n",
      "Non-zero values: 75466/75466 (100.0%)\n",
      "Value range: [0.000007, 0.469971]\n",
      "Graph created: 389 nodes, 388 edges\n"
     ]
    },
    {
     "name": "stderr",
     "output_type": "stream",
     "text": [
      " 52%|█████▏    | 258/500 [01:00<00:56,  4.29it/s]"
     ]
    },
    {
     "name": "stdout",
     "output_type": "stream",
     "text": [
      "Attention shape: (376, 376), min: 0.000000, max: 0.478271, mean: 0.002550\n",
      "Using fallback threshold (10% of max): 0.047821\n",
      "Non-zero values: 70500/70500 (100.0%)\n",
      "Value range: [0.000016, 0.478271]\n",
      "Graph created: 376 nodes, 375 edges\n"
     ]
    },
    {
     "name": "stderr",
     "output_type": "stream",
     "text": [
      " 52%|█████▏    | 259/500 [01:00<00:54,  4.43it/s]"
     ]
    },
    {
     "name": "stdout",
     "output_type": "stream",
     "text": [
      "Attention shape: (370, 370), min: 0.000000, max: 0.473633, mean: 0.002584\n",
      "Using fallback threshold (10% of max): 0.047363\n",
      "Non-zero values: 68265/68265 (100.0%)\n",
      "Value range: [0.000008, 0.473633]\n",
      "Graph created: 370 nodes, 369 edges\n"
     ]
    },
    {
     "name": "stderr",
     "output_type": "stream",
     "text": [
      " 52%|█████▏    | 260/500 [01:00<00:55,  4.31it/s]"
     ]
    },
    {
     "name": "stdout",
     "output_type": "stream",
     "text": [
      "Attention shape: (392, 392), min: 0.000000, max: 0.479004, mean: 0.002443\n",
      "Using fallback threshold (10% of max): 0.047882\n",
      "Non-zero values: 76636/76636 (100.0%)\n",
      "Value range: [0.000012, 0.479004]\n",
      "Graph created: 392 nodes, 391 edges\n"
     ]
    },
    {
     "name": "stderr",
     "output_type": "stream",
     "text": [
      " 52%|█████▏    | 261/500 [01:00<00:58,  4.11it/s]"
     ]
    },
    {
     "name": "stdout",
     "output_type": "stream",
     "text": [
      "Attention shape: (418, 418), min: 0.000000, max: 0.477539, mean: 0.002291\n",
      "Using fallback threshold (10% of max): 0.047729\n",
      "Non-zero values: 87153/87153 (100.0%)\n",
      "Value range: [0.000010, 0.477539]\n",
      "Graph created: 418 nodes, 417 edges\n"
     ]
    },
    {
     "name": "stderr",
     "output_type": "stream",
     "text": [
      " 52%|█████▏    | 262/500 [01:01<00:57,  4.13it/s]"
     ]
    },
    {
     "name": "stdout",
     "output_type": "stream",
     "text": [
      "Attention shape: (388, 388), min: 0.000000, max: 0.470459, mean: 0.002474\n",
      "Using fallback threshold (10% of max): 0.047028\n",
      "Non-zero values: 75078/75078 (100.0%)\n",
      "Value range: [0.000008, 0.470459]\n",
      "Graph created: 388 nodes, 387 edges\n"
     ]
    },
    {
     "name": "stderr",
     "output_type": "stream",
     "text": [
      " 53%|█████▎    | 263/500 [01:01<00:57,  4.09it/s]"
     ]
    },
    {
     "name": "stdout",
     "output_type": "stream",
     "text": [
      "Attention shape: (397, 397), min: 0.000000, max: 0.468506, mean: 0.002411\n",
      "Using fallback threshold (10% of max): 0.046844\n",
      "Non-zero values: 78606/78606 (100.0%)\n",
      "Value range: [0.000010, 0.468506]\n",
      "Graph created: 397 nodes, 396 edges\n"
     ]
    },
    {
     "name": "stderr",
     "output_type": "stream",
     "text": [
      " 53%|█████▎    | 264/500 [01:01<00:57,  4.12it/s]"
     ]
    },
    {
     "name": "stdout",
     "output_type": "stream",
     "text": [
      "Attention shape: (387, 387), min: 0.000000, max: 0.471924, mean: 0.002476\n",
      "Using fallback threshold (10% of max): 0.047180\n",
      "Non-zero values: 74691/74691 (100.0%)\n",
      "Value range: [0.000007, 0.471924]\n",
      "Graph created: 387 nodes, 386 edges\n"
     ]
    },
    {
     "name": "stderr",
     "output_type": "stream",
     "text": [
      " 53%|█████▎    | 265/500 [01:01<00:55,  4.26it/s]"
     ]
    },
    {
     "name": "stdout",
     "output_type": "stream",
     "text": [
      "Attention shape: (364, 364), min: 0.000000, max: 0.473145, mean: 0.002630\n",
      "Using fallback threshold (10% of max): 0.047302\n",
      "Non-zero values: 66066/66066 (100.0%)\n",
      "Value range: [0.000015, 0.473145]\n",
      "Graph created: 364 nodes, 363 edges\n"
     ]
    },
    {
     "name": "stderr",
     "output_type": "stream",
     "text": [
      " 53%|█████▎    | 266/500 [01:02<00:55,  4.20it/s]"
     ]
    },
    {
     "name": "stdout",
     "output_type": "stream",
     "text": [
      "Attention shape: (397, 397), min: 0.000000, max: 0.479248, mean: 0.002420\n",
      "Using fallback threshold (10% of max): 0.047913\n",
      "Non-zero values: 78606/78606 (100.0%)\n",
      "Value range: [0.000018, 0.479248]\n",
      "Graph created: 397 nodes, 396 edges\n"
     ]
    },
    {
     "name": "stderr",
     "output_type": "stream",
     "text": [
      " 53%|█████▎    | 267/500 [01:02<00:53,  4.32it/s]"
     ]
    },
    {
     "name": "stdout",
     "output_type": "stream",
     "text": [
      "Attention shape: (376, 376), min: 0.000000, max: 0.472168, mean: 0.002546\n",
      "Using fallback threshold (10% of max): 0.047211\n",
      "Non-zero values: 70500/70500 (100.0%)\n",
      "Value range: [0.000009, 0.472168]\n",
      "Graph created: 376 nodes, 375 edges\n"
     ]
    },
    {
     "name": "stderr",
     "output_type": "stream",
     "text": [
      " 54%|█████▎    | 268/500 [01:02<00:56,  4.13it/s]"
     ]
    },
    {
     "name": "stdout",
     "output_type": "stream",
     "text": [
      "Attention shape: (358, 358), min: 0.000000, max: 0.479248, mean: 0.002674\n",
      "Using percentile-based threshold: 0.000228 (50th percentile)\n",
      "Non-zero values: 63903/63903 (100.0%)\n",
      "Value range: [0.000012, 0.479248]\n",
      "Graph created: 358 nodes, 31942 edges\n"
     ]
    },
    {
     "name": "stderr",
     "output_type": "stream",
     "text": [
      " 54%|█████▍    | 269/500 [01:02<00:57,  3.99it/s]"
     ]
    },
    {
     "name": "stdout",
     "output_type": "stream",
     "text": [
      "Attention shape: (354, 354), min: 0.000000, max: 0.468506, mean: 0.002701\n",
      "Using percentile-based threshold: 0.000253 (50th percentile)\n",
      "Non-zero values: 62481/62481 (100.0%)\n",
      "Value range: [0.000008, 0.468506]\n",
      "Graph created: 354 nodes, 31241 edges\n"
     ]
    },
    {
     "name": "stderr",
     "output_type": "stream",
     "text": [
      " 54%|█████▍    | 270/500 [01:03<00:54,  4.20it/s]"
     ]
    },
    {
     "name": "stdout",
     "output_type": "stream",
     "text": [
      "Attention shape: (371, 371), min: 0.000000, max: 0.476074, mean: 0.002586\n",
      "Using fallback threshold (10% of max): 0.047607\n",
      "Non-zero values: 68635/68635 (100.0%)\n",
      "Value range: [0.000015, 0.476074]\n",
      "Graph created: 371 nodes, 370 edges\n",
      "Attention shape: (211, 211), min: 0.000000, max: 0.477539, mean: 0.004532\n",
      "Using percentile-based threshold: 0.000361 (50th percentile)\n",
      "Non-zero values: 22155/22155 (100.0%)\n",
      "Value range: [0.000013, 0.477539]\n",
      "Graph created: 211 nodes, 11071 edges\n"
     ]
    },
    {
     "name": "stderr",
     "output_type": "stream",
     "text": [
      " 54%|█████▍    | 272/500 [01:03<00:44,  5.08it/s]"
     ]
    },
    {
     "name": "stdout",
     "output_type": "stream",
     "text": [
      "Attention shape: (367, 367), min: 0.000000, max: 0.470703, mean: 0.002613\n",
      "Using fallback threshold (10% of max): 0.047058\n",
      "Non-zero values: 67161/67161 (100.0%)\n",
      "Value range: [0.000009, 0.470703]\n",
      "Graph created: 367 nodes, 366 edges\n",
      "Attention shape: (349, 349), min: 0.000000, max: 0.478760, mean: 0.002748\n",
      "Using percentile-based threshold: 0.000325 (50th percentile)\n",
      "Non-zero values: 60726/60726 (100.0%)\n",
      "Value range: [0.000024, 0.478760]\n"
     ]
    },
    {
     "name": "stderr",
     "output_type": "stream",
     "text": [
      " 55%|█████▍    | 273/500 [01:03<00:47,  4.73it/s]"
     ]
    },
    {
     "name": "stdout",
     "output_type": "stream",
     "text": [
      "Graph created: 349 nodes, 30353 edges\n"
     ]
    },
    {
     "name": "stderr",
     "output_type": "stream",
     "text": [
      " 55%|█████▍    | 274/500 [01:03<00:49,  4.59it/s]"
     ]
    },
    {
     "name": "stdout",
     "output_type": "stream",
     "text": [
      "Attention shape: (388, 388), min: 0.000000, max: 0.468018, mean: 0.002472\n",
      "Using fallback threshold (10% of max): 0.046783\n",
      "Non-zero values: 75078/75078 (100.0%)\n",
      "Value range: [0.000010, 0.468018]\n",
      "Graph created: 388 nodes, 388 edges\n"
     ]
    },
    {
     "name": "stderr",
     "output_type": "stream",
     "text": [
      " 55%|█████▌    | 275/500 [01:04<00:49,  4.58it/s]"
     ]
    },
    {
     "name": "stdout",
     "output_type": "stream",
     "text": [
      "Attention shape: (381, 381), min: 0.000000, max: 0.472900, mean: 0.002512\n",
      "Using fallback threshold (10% of max): 0.047272\n",
      "Non-zero values: 72390/72390 (100.0%)\n",
      "Value range: [0.000011, 0.472900]\n",
      "Graph created: 381 nodes, 380 edges\n"
     ]
    },
    {
     "name": "stderr",
     "output_type": "stream",
     "text": [
      " 55%|█████▌    | 276/500 [01:04<00:50,  4.47it/s]"
     ]
    },
    {
     "name": "stdout",
     "output_type": "stream",
     "text": [
      "Attention shape: (388, 388), min: 0.000000, max: 0.471436, mean: 0.002476\n",
      "Using fallback threshold (10% of max): 0.047119\n",
      "Non-zero values: 75078/75078 (100.0%)\n",
      "Value range: [0.000005, 0.471436]\n",
      "Graph created: 388 nodes, 387 edges\n"
     ]
    },
    {
     "name": "stderr",
     "output_type": "stream",
     "text": [
      " 55%|█████▌    | 277/500 [01:04<00:51,  4.36it/s]"
     ]
    },
    {
     "name": "stdout",
     "output_type": "stream",
     "text": [
      "Attention shape: (404, 404), min: 0.000000, max: 0.468506, mean: 0.002373\n",
      "Using fallback threshold (10% of max): 0.046844\n",
      "Non-zero values: 81406/81406 (100.0%)\n",
      "Value range: [0.000007, 0.468506]\n",
      "Graph created: 404 nodes, 403 edges\n"
     ]
    },
    {
     "name": "stderr",
     "output_type": "stream",
     "text": [
      " 56%|█████▌    | 278/500 [01:04<00:49,  4.47it/s]"
     ]
    },
    {
     "name": "stdout",
     "output_type": "stream",
     "text": [
      "Attention shape: (371, 371), min: 0.000000, max: 0.473389, mean: 0.002584\n",
      "Using fallback threshold (10% of max): 0.047333\n",
      "Non-zero values: 68635/68635 (100.0%)\n",
      "Value range: [0.000012, 0.473389]\n",
      "Graph created: 371 nodes, 370 edges\n"
     ]
    },
    {
     "name": "stderr",
     "output_type": "stream",
     "text": [
      " 56%|█████▌    | 279/500 [01:05<00:52,  4.19it/s]"
     ]
    },
    {
     "name": "stdout",
     "output_type": "stream",
     "text": [
      "Attention shape: (428, 428), min: 0.000000, max: 0.474365, mean: 0.002243\n",
      "Using fallback threshold (10% of max): 0.047424\n",
      "Non-zero values: 91378/91378 (100.0%)\n",
      "Value range: [0.000008, 0.474365]\n",
      "Graph created: 428 nodes, 427 edges\n"
     ]
    },
    {
     "name": "stderr",
     "output_type": "stream",
     "text": [
      " 56%|█████▌    | 280/500 [01:05<00:53,  4.08it/s]"
     ]
    },
    {
     "name": "stdout",
     "output_type": "stream",
     "text": [
      "Attention shape: (354, 354), min: 0.000000, max: 0.473389, mean: 0.002710\n",
      "Using percentile-based threshold: 0.000252 (50th percentile)\n",
      "Non-zero values: 62481/62481 (100.0%)\n",
      "Value range: [0.000015, 0.473389]\n",
      "Graph created: 354 nodes, 31247 edges\n"
     ]
    },
    {
     "name": "stderr",
     "output_type": "stream",
     "text": [
      " 56%|█████▌    | 281/500 [01:05<00:52,  4.13it/s]"
     ]
    },
    {
     "name": "stdout",
     "output_type": "stream",
     "text": [
      "Attention shape: (395, 395), min: 0.000000, max: 0.468506, mean: 0.002430\n",
      "Using fallback threshold (10% of max): 0.046844\n",
      "Non-zero values: 77815/77815 (100.0%)\n",
      "Value range: [0.000013, 0.468506]\n",
      "Graph created: 395 nodes, 394 edges\n"
     ]
    },
    {
     "name": "stderr",
     "output_type": "stream",
     "text": [
      " 56%|█████▋    | 282/500 [01:05<00:52,  4.12it/s]"
     ]
    },
    {
     "name": "stdout",
     "output_type": "stream",
     "text": [
      "Attention shape: (402, 402), min: 0.000000, max: 0.468506, mean: 0.002394\n",
      "Using fallback threshold (10% of max): 0.046844\n",
      "Non-zero values: 80601/80601 (100.0%)\n",
      "Value range: [0.000010, 0.468506]\n",
      "Graph created: 402 nodes, 402 edges\n"
     ]
    },
    {
     "name": "stderr",
     "output_type": "stream",
     "text": [
      " 57%|█████▋    | 283/500 [01:06<00:52,  4.11it/s]"
     ]
    },
    {
     "name": "stdout",
     "output_type": "stream",
     "text": [
      "Attention shape: (394, 394), min: 0.000000, max: 0.479492, mean: 0.002434\n",
      "Using fallback threshold (10% of max): 0.047943\n",
      "Non-zero values: 77421/77421 (100.0%)\n",
      "Value range: [0.000017, 0.479492]\n",
      "Graph created: 394 nodes, 393 edges\n",
      "Attention shape: (340, 340), min: 0.000000, max: 0.471191, mean: 0.002811\n",
      "Using percentile-based threshold: 0.000254 (50th percentile)\n",
      "Non-zero values: 57630/57630 (100.0%)\n",
      "Value range: [0.000011, 0.471191]\n"
     ]
    },
    {
     "name": "stderr",
     "output_type": "stream",
     "text": [
      " 57%|█████▋    | 284/500 [01:06<00:52,  4.10it/s]"
     ]
    },
    {
     "name": "stdout",
     "output_type": "stream",
     "text": [
      "Graph created: 340 nodes, 28809 edges\n"
     ]
    },
    {
     "name": "stderr",
     "output_type": "stream",
     "text": [
      " 57%|█████▋    | 285/500 [01:06<00:52,  4.08it/s]"
     ]
    },
    {
     "name": "stdout",
     "output_type": "stream",
     "text": [
      "Attention shape: (402, 402), min: 0.000000, max: 0.473145, mean: 0.002380\n",
      "Using fallback threshold (10% of max): 0.047302\n",
      "Non-zero values: 80601/80601 (100.0%)\n",
      "Value range: [0.000008, 0.473145]\n",
      "Graph created: 402 nodes, 401 edges\n"
     ]
    },
    {
     "name": "stderr",
     "output_type": "stream",
     "text": [
      " 57%|█████▋    | 286/500 [01:06<00:53,  4.03it/s]"
     ]
    },
    {
     "name": "stdout",
     "output_type": "stream",
     "text": [
      "Attention shape: (410, 410), min: 0.000000, max: 0.468506, mean: 0.002338\n",
      "Using fallback threshold (10% of max): 0.046844\n",
      "Non-zero values: 83845/83845 (100.0%)\n",
      "Value range: [0.000013, 0.468506]\n",
      "Graph created: 410 nodes, 409 edges\n"
     ]
    },
    {
     "name": "stderr",
     "output_type": "stream",
     "text": [
      " 57%|█████▋    | 287/500 [01:07<00:51,  4.11it/s]"
     ]
    },
    {
     "name": "stdout",
     "output_type": "stream",
     "text": [
      "Attention shape: (385, 385), min: 0.000000, max: 0.480957, mean: 0.002493\n",
      "Using fallback threshold (10% of max): 0.048096\n",
      "Non-zero values: 73920/73920 (100.0%)\n",
      "Value range: [0.000011, 0.480957]\n",
      "Graph created: 385 nodes, 384 edges\n"
     ]
    },
    {
     "name": "stderr",
     "output_type": "stream",
     "text": [
      " 58%|█████▊    | 288/500 [01:07<00:51,  4.10it/s]"
     ]
    },
    {
     "name": "stdout",
     "output_type": "stream",
     "text": [
      "Attention shape: (399, 399), min: 0.000000, max: 0.472168, mean: 0.002396\n",
      "Using fallback threshold (10% of max): 0.047211\n",
      "Non-zero values: 79401/79401 (100.0%)\n",
      "Value range: [0.000005, 0.472168]\n",
      "Graph created: 399 nodes, 398 edges\n",
      "Attention shape: (344, 344), min: 0.000000, max: 0.475098, mean: 0.002789\n",
      "Using percentile-based threshold: 0.000332 (50th percentile)\n",
      "Non-zero values: 58996/58996 (100.0%)\n",
      "Value range: [0.000020, 0.475098]\n"
     ]
    },
    {
     "name": "stderr",
     "output_type": "stream",
     "text": [
      " 58%|█████▊    | 289/500 [01:07<00:51,  4.08it/s]"
     ]
    },
    {
     "name": "stdout",
     "output_type": "stream",
     "text": [
      "Graph created: 344 nodes, 29488 edges\n"
     ]
    },
    {
     "name": "stderr",
     "output_type": "stream",
     "text": [
      " 58%|█████▊    | 290/500 [01:07<00:52,  3.98it/s]"
     ]
    },
    {
     "name": "stdout",
     "output_type": "stream",
     "text": [
      "Attention shape: (359, 359), min: 0.000000, max: 0.478516, mean: 0.002670\n",
      "Using percentile-based threshold: 0.000259 (50th percentile)\n",
      "Non-zero values: 64261/64261 (100.0%)\n",
      "Value range: [0.000013, 0.478516]\n",
      "Graph created: 359 nodes, 32125 edges\n"
     ]
    },
    {
     "name": "stderr",
     "output_type": "stream",
     "text": [
      " 58%|█████▊    | 291/500 [01:08<00:49,  4.19it/s]"
     ]
    },
    {
     "name": "stdout",
     "output_type": "stream",
     "text": [
      "Attention shape: (366, 366), min: 0.000000, max: 0.478027, mean: 0.002619\n",
      "Using fallback threshold (10% of max): 0.047791\n",
      "Non-zero values: 66795/66795 (100.0%)\n",
      "Value range: [0.000015, 0.478027]\n",
      "Graph created: 366 nodes, 365 edges\n"
     ]
    },
    {
     "name": "stderr",
     "output_type": "stream",
     "text": [
      " 58%|█████▊    | 292/500 [01:08<00:50,  4.10it/s]"
     ]
    },
    {
     "name": "stdout",
     "output_type": "stream",
     "text": [
      "Attention shape: (409, 409), min: 0.000000, max: 0.472168, mean: 0.002342\n",
      "Using fallback threshold (10% of max): 0.047211\n",
      "Non-zero values: 83436/83436 (100.0%)\n",
      "Value range: [0.000009, 0.472168]\n",
      "Graph created: 409 nodes, 408 edges\n",
      "Attention shape: (235, 235), min: 0.000000, max: 0.480469, mean: 0.004063\n",
      "Using percentile-based threshold: 0.000484 (50th percentile)\n",
      "Non-zero values: 27495/27495 (100.0%)\n",
      "Value range: [0.000024, 0.480469]\n",
      "Graph created: 235 nodes, 13749 edges\n"
     ]
    },
    {
     "name": "stderr",
     "output_type": "stream",
     "text": [
      " 59%|█████▉    | 294/500 [01:08<00:42,  4.79it/s]"
     ]
    },
    {
     "name": "stdout",
     "output_type": "stream",
     "text": [
      "Attention shape: (338, 338), min: 0.000000, max: 0.478027, mean: 0.002831\n",
      "Using percentile-based threshold: 0.000297 (50th percentile)\n",
      "Non-zero values: 56953/56953 (100.0%)\n",
      "Value range: [0.000010, 0.478027]\n",
      "Graph created: 338 nodes, 28467 edges\n"
     ]
    },
    {
     "name": "stderr",
     "output_type": "stream",
     "text": [
      " 59%|█████▉    | 295/500 [01:08<00:43,  4.73it/s]"
     ]
    },
    {
     "name": "stdout",
     "output_type": "stream",
     "text": [
      "Attention shape: (384, 384), min: 0.000000, max: 0.473389, mean: 0.002497\n",
      "Using fallback threshold (10% of max): 0.047333\n",
      "Non-zero values: 73536/73536 (100.0%)\n",
      "Value range: [0.000017, 0.473389]\n",
      "Graph created: 384 nodes, 385 edges\n"
     ]
    },
    {
     "name": "stderr",
     "output_type": "stream",
     "text": [
      " 59%|█████▉    | 296/500 [01:09<00:43,  4.68it/s]"
     ]
    },
    {
     "name": "stdout",
     "output_type": "stream",
     "text": [
      "Attention shape: (379, 379), min: 0.000000, max: 0.477783, mean: 0.002529\n",
      "Using fallback threshold (10% of max): 0.047760\n",
      "Non-zero values: 71631/71631 (100.0%)\n",
      "Value range: [0.000011, 0.477783]\n",
      "Graph created: 379 nodes, 378 edges\n"
     ]
    },
    {
     "name": "stderr",
     "output_type": "stream",
     "text": [
      " 59%|█████▉    | 297/500 [01:09<00:46,  4.37it/s]"
     ]
    },
    {
     "name": "stdout",
     "output_type": "stream",
     "text": [
      "Attention shape: (362, 362), min: 0.000000, max: 0.474121, mean: 0.002647\n",
      "Using percentile-based threshold: 0.000220 (50th percentile)\n",
      "Non-zero values: 65341/65341 (100.0%)\n",
      "Value range: [0.000005, 0.474121]\n",
      "Graph created: 362 nodes, 32663 edges\n"
     ]
    },
    {
     "name": "stderr",
     "output_type": "stream",
     "text": [
      " 60%|█████▉    | 298/500 [01:09<00:47,  4.21it/s]"
     ]
    },
    {
     "name": "stdout",
     "output_type": "stream",
     "text": [
      "Attention shape: (353, 353), min: 0.000000, max: 0.475830, mean: 0.002708\n",
      "Using percentile-based threshold: 0.000267 (50th percentile)\n",
      "Non-zero values: 62128/62128 (100.0%)\n",
      "Value range: [0.000012, 0.475830]\n",
      "Graph created: 353 nodes, 31068 edges\n"
     ]
    },
    {
     "name": "stderr",
     "output_type": "stream",
     "text": [
      " 60%|█████▉    | 299/500 [01:09<00:48,  4.15it/s]"
     ]
    },
    {
     "name": "stdout",
     "output_type": "stream",
     "text": [
      "Attention shape: (408, 408), min: 0.000000, max: 0.478027, mean: 0.002348\n",
      "Using fallback threshold (10% of max): 0.047791\n",
      "Non-zero values: 83028/83028 (100.0%)\n",
      "Value range: [0.000008, 0.478027]\n",
      "Graph created: 408 nodes, 407 edges\n"
     ]
    },
    {
     "name": "stderr",
     "output_type": "stream",
     "text": [
      " 60%|██████    | 300/500 [01:10<00:47,  4.17it/s]"
     ]
    },
    {
     "name": "stdout",
     "output_type": "stream",
     "text": [
      "Attention shape: (386, 386), min: 0.000000, max: 0.480957, mean: 0.002485\n",
      "Using fallback threshold (10% of max): 0.048096\n",
      "Non-zero values: 74305/74305 (100.0%)\n",
      "Value range: [0.000007, 0.480957]\n",
      "Graph created: 386 nodes, 385 edges\n",
      "Attention shape: (345, 345), min: 0.000000, max: 0.478760, mean: 0.002775\n",
      "Using percentile-based threshold: 0.000318 (50th percentile)\n",
      "Non-zero values: 59340/59340 (100.0%)\n",
      "Value range: [0.000006, 0.478760]\n"
     ]
    },
    {
     "name": "stderr",
     "output_type": "stream",
     "text": [
      " 60%|██████    | 301/500 [01:10<00:48,  4.13it/s]"
     ]
    },
    {
     "name": "stdout",
     "output_type": "stream",
     "text": [
      "Graph created: 345 nodes, 29665 edges\n"
     ]
    },
    {
     "name": "stderr",
     "output_type": "stream",
     "text": [
      " 60%|██████    | 302/500 [01:10<00:49,  4.04it/s]"
     ]
    },
    {
     "name": "stdout",
     "output_type": "stream",
     "text": [
      "Attention shape: (353, 353), min: 0.000000, max: 0.471680, mean: 0.002712\n",
      "Using percentile-based threshold: 0.000254 (50th percentile)\n",
      "Non-zero values: 62128/62128 (100.0%)\n",
      "Value range: [0.000011, 0.471680]\n",
      "Graph created: 353 nodes, 31067 edges\n"
     ]
    },
    {
     "name": "stderr",
     "output_type": "stream",
     "text": [
      " 61%|██████    | 303/500 [01:10<00:46,  4.19it/s]"
     ]
    },
    {
     "name": "stdout",
     "output_type": "stream",
     "text": [
      "Attention shape: (376, 376), min: 0.000000, max: 0.475830, mean: 0.002550\n",
      "Using fallback threshold (10% of max): 0.047577\n",
      "Non-zero values: 70500/70500 (100.0%)\n",
      "Value range: [0.000014, 0.475830]\n",
      "Graph created: 376 nodes, 375 edges\n",
      "Attention shape: (343, 343), min: 0.000000, max: 0.471680, mean: 0.002787\n",
      "Using percentile-based threshold: 0.000223 (50th percentile)\n",
      "Non-zero values: 58653/58653 (100.0%)\n",
      "Value range: [0.000008, 0.471680]\n"
     ]
    },
    {
     "name": "stderr",
     "output_type": "stream",
     "text": [
      " 61%|██████    | 304/500 [01:11<00:47,  4.14it/s]"
     ]
    },
    {
     "name": "stdout",
     "output_type": "stream",
     "text": [
      "Graph created: 343 nodes, 29321 edges\n"
     ]
    },
    {
     "name": "stderr",
     "output_type": "stream",
     "text": [
      " 61%|██████    | 305/500 [01:11<00:45,  4.27it/s]"
     ]
    },
    {
     "name": "stdout",
     "output_type": "stream",
     "text": [
      "Attention shape: (373, 373), min: 0.000000, max: 0.470703, mean: 0.002565\n",
      "Using fallback threshold (10% of max): 0.047058\n",
      "Non-zero values: 69378/69378 (100.0%)\n",
      "Value range: [0.000008, 0.470703]\n",
      "Graph created: 373 nodes, 372 edges\n"
     ]
    },
    {
     "name": "stderr",
     "output_type": "stream",
     "text": [
      " 61%|██████    | 306/500 [01:11<00:45,  4.26it/s]"
     ]
    },
    {
     "name": "stdout",
     "output_type": "stream",
     "text": [
      "Attention shape: (389, 389), min: 0.000000, max: 0.469971, mean: 0.002459\n",
      "Using fallback threshold (10% of max): 0.046997\n",
      "Non-zero values: 75466/75466 (100.0%)\n",
      "Value range: [0.000014, 0.469971]\n",
      "Graph created: 389 nodes, 388 edges\n"
     ]
    },
    {
     "name": "stderr",
     "output_type": "stream",
     "text": [
      " 61%|██████▏   | 307/500 [01:11<00:44,  4.37it/s]"
     ]
    },
    {
     "name": "stdout",
     "output_type": "stream",
     "text": [
      "Attention shape: (366, 366), min: 0.000000, max: 0.468506, mean: 0.002623\n",
      "Using fallback threshold (10% of max): 0.046844\n",
      "Non-zero values: 66795/66795 (100.0%)\n",
      "Value range: [0.000007, 0.468506]\n",
      "Graph created: 366 nodes, 365 edges\n"
     ]
    },
    {
     "name": "stderr",
     "output_type": "stream",
     "text": [
      " 62%|██████▏   | 308/500 [01:11<00:43,  4.45it/s]"
     ]
    },
    {
     "name": "stdout",
     "output_type": "stream",
     "text": [
      "Attention shape: (375, 375), min: 0.000000, max: 0.480469, mean: 0.002552\n",
      "Using fallback threshold (10% of max): 0.048035\n",
      "Non-zero values: 70125/70125 (100.0%)\n",
      "Value range: [0.000010, 0.480469]\n",
      "Graph created: 375 nodes, 374 edges\n"
     ]
    },
    {
     "name": "stderr",
     "output_type": "stream",
     "text": [
      " 62%|██████▏   | 309/500 [01:12<00:44,  4.34it/s]"
     ]
    },
    {
     "name": "stdout",
     "output_type": "stream",
     "text": [
      "Attention shape: (389, 389), min: 0.000000, max: 0.478271, mean: 0.002466\n",
      "Using fallback threshold (10% of max): 0.047821\n",
      "Non-zero values: 75466/75466 (100.0%)\n",
      "Value range: [0.000011, 0.478271]\n",
      "Graph created: 389 nodes, 388 edges\n"
     ]
    },
    {
     "name": "stderr",
     "output_type": "stream",
     "text": [
      " 62%|██████▏   | 310/500 [01:12<00:42,  4.48it/s]"
     ]
    },
    {
     "name": "stdout",
     "output_type": "stream",
     "text": [
      "Attention shape: (364, 364), min: 0.000000, max: 0.473389, mean: 0.002628\n",
      "Using fallback threshold (10% of max): 0.047333\n",
      "Non-zero values: 66066/66066 (100.0%)\n",
      "Value range: [0.000009, 0.473389]\n",
      "Graph created: 364 nodes, 363 edges\n"
     ]
    },
    {
     "name": "stderr",
     "output_type": "stream",
     "text": [
      " 62%|██████▏   | 311/500 [01:12<00:43,  4.31it/s]"
     ]
    },
    {
     "name": "stdout",
     "output_type": "stream",
     "text": [
      "Attention shape: (406, 406), min: 0.000000, max: 0.480469, mean: 0.002365\n",
      "Using fallback threshold (10% of max): 0.048035\n",
      "Non-zero values: 82215/82215 (100.0%)\n",
      "Value range: [0.000016, 0.480469]\n",
      "Graph created: 406 nodes, 405 edges\n"
     ]
    },
    {
     "name": "stderr",
     "output_type": "stream",
     "text": [
      " 62%|██████▏   | 312/500 [01:12<00:44,  4.26it/s]"
     ]
    },
    {
     "name": "stdout",
     "output_type": "stream",
     "text": [
      "Attention shape: (394, 394), min: 0.000000, max: 0.469971, mean: 0.002430\n",
      "Using fallback threshold (10% of max): 0.046997\n",
      "Non-zero values: 77421/77421 (100.0%)\n",
      "Value range: [0.000013, 0.469971]\n",
      "Graph created: 394 nodes, 393 edges\n"
     ]
    },
    {
     "name": "stderr",
     "output_type": "stream",
     "text": [
      " 63%|██████▎   | 313/500 [01:13<00:42,  4.38it/s]"
     ]
    },
    {
     "name": "stdout",
     "output_type": "stream",
     "text": [
      "Attention shape: (371, 371), min: 0.000000, max: 0.479980, mean: 0.002583\n",
      "Using fallback threshold (10% of max): 0.047974\n",
      "Non-zero values: 68635/68635 (100.0%)\n",
      "Value range: [0.000010, 0.479980]\n",
      "Graph created: 371 nodes, 370 edges\n"
     ]
    },
    {
     "name": "stderr",
     "output_type": "stream",
     "text": [
      " 63%|██████▎   | 314/500 [01:13<00:41,  4.46it/s]"
     ]
    },
    {
     "name": "stdout",
     "output_type": "stream",
     "text": [
      "Attention shape: (371, 371), min: 0.000000, max: 0.476807, mean: 0.002583\n",
      "Using fallback threshold (10% of max): 0.047668\n",
      "Non-zero values: 68635/68635 (100.0%)\n",
      "Value range: [0.000017, 0.476807]\n",
      "Graph created: 371 nodes, 370 edges\n",
      "Attention shape: (307, 307), min: 0.000000, max: 0.479736, mean: 0.003117\n",
      "Using percentile-based threshold: 0.000295 (50th percentile)\n",
      "Non-zero values: 46971/46971 (100.0%)\n",
      "Value range: [0.000011, 0.479736]\n",
      "Graph created: 307 nodes, 23477 edges\n"
     ]
    },
    {
     "name": "stderr",
     "output_type": "stream",
     "text": [
      " 63%|██████▎   | 316/500 [01:13<00:41,  4.47it/s]"
     ]
    },
    {
     "name": "stdout",
     "output_type": "stream",
     "text": [
      "Attention shape: (388, 388), min: 0.000000, max: 0.471680, mean: 0.002464\n",
      "Using fallback threshold (10% of max): 0.047150\n",
      "Non-zero values: 75078/75078 (100.0%)\n",
      "Value range: [0.000009, 0.471680]\n",
      "Graph created: 388 nodes, 387 edges\n"
     ]
    },
    {
     "name": "stderr",
     "output_type": "stream",
     "text": [
      " 63%|██████▎   | 317/500 [01:14<00:43,  4.16it/s]"
     ]
    },
    {
     "name": "stdout",
     "output_type": "stream",
     "text": [
      "Attention shape: (442, 442), min: 0.000000, max: 0.472412, mean: 0.002174\n",
      "Using fallback threshold (10% of max): 0.047241\n",
      "Non-zero values: 97461/97461 (100.0%)\n",
      "Value range: [0.000015, 0.472412]\n",
      "Graph created: 442 nodes, 441 edges\n"
     ]
    },
    {
     "name": "stderr",
     "output_type": "stream",
     "text": [
      " 64%|██████▎   | 318/500 [01:14<00:44,  4.07it/s]"
     ]
    },
    {
     "name": "stdout",
     "output_type": "stream",
     "text": [
      "Attention shape: (394, 394), min: 0.000000, max: 0.470703, mean: 0.002434\n",
      "Using fallback threshold (10% of max): 0.047058\n",
      "Non-zero values: 77421/77421 (100.0%)\n",
      "Value range: [0.000016, 0.470703]\n",
      "Graph created: 394 nodes, 393 edges\n"
     ]
    },
    {
     "name": "stderr",
     "output_type": "stream",
     "text": [
      " 64%|██████▍   | 319/500 [01:14<00:44,  4.11it/s]"
     ]
    },
    {
     "name": "stdout",
     "output_type": "stream",
     "text": [
      "Attention shape: (391, 391), min: 0.000000, max: 0.469971, mean: 0.002451\n",
      "Using fallback threshold (10% of max): 0.046997\n",
      "Non-zero values: 76245/76245 (100.0%)\n",
      "Value range: [0.000008, 0.469971]\n",
      "Graph created: 391 nodes, 390 edges\n"
     ]
    },
    {
     "name": "stderr",
     "output_type": "stream",
     "text": [
      " 64%|██████▍   | 320/500 [01:14<00:42,  4.26it/s]"
     ]
    },
    {
     "name": "stdout",
     "output_type": "stream",
     "text": [
      "Attention shape: (382, 382), min: 0.000000, max: 0.481201, mean: 0.002514\n",
      "Using fallback threshold (10% of max): 0.048096\n",
      "Non-zero values: 72771/72771 (100.0%)\n",
      "Value range: [0.000013, 0.481201]\n",
      "Graph created: 382 nodes, 381 edges\n"
     ]
    },
    {
     "name": "stderr",
     "output_type": "stream",
     "text": [
      " 64%|██████▍   | 321/500 [01:14<00:42,  4.20it/s]"
     ]
    },
    {
     "name": "stdout",
     "output_type": "stream",
     "text": [
      "Attention shape: (401, 401), min: 0.000000, max: 0.477295, mean: 0.002390\n",
      "Using fallback threshold (10% of max): 0.047729\n",
      "Non-zero values: 80200/80200 (100.0%)\n",
      "Value range: [0.000013, 0.477295]\n",
      "Graph created: 401 nodes, 400 edges\n"
     ]
    },
    {
     "name": "stderr",
     "output_type": "stream",
     "text": [
      " 64%|██████▍   | 322/500 [01:15<00:42,  4.20it/s]"
     ]
    },
    {
     "name": "stdout",
     "output_type": "stream",
     "text": [
      "Attention shape: (388, 388), min: 0.000000, max: 0.474609, mean: 0.002474\n",
      "Using fallback threshold (10% of max): 0.047455\n",
      "Non-zero values: 75078/75078 (100.0%)\n",
      "Value range: [0.000009, 0.474609]\n",
      "Graph created: 388 nodes, 387 edges\n"
     ]
    },
    {
     "name": "stderr",
     "output_type": "stream",
     "text": [
      " 65%|██████▍   | 323/500 [01:15<00:42,  4.16it/s]"
     ]
    },
    {
     "name": "stdout",
     "output_type": "stream",
     "text": [
      "Attention shape: (396, 396), min: 0.000000, max: 0.479492, mean: 0.002426\n",
      "Using fallback threshold (10% of max): 0.047943\n",
      "Non-zero values: 78210/78210 (100.0%)\n",
      "Value range: [0.000007, 0.479492]\n",
      "Graph created: 396 nodes, 395 edges\n"
     ]
    },
    {
     "name": "stderr",
     "output_type": "stream",
     "text": [
      " 65%|██████▍   | 324/500 [01:15<00:41,  4.25it/s]"
     ]
    },
    {
     "name": "stdout",
     "output_type": "stream",
     "text": [
      "Attention shape: (384, 384), min: 0.000000, max: 0.474121, mean: 0.002493\n",
      "Using fallback threshold (10% of max): 0.047394\n",
      "Non-zero values: 73536/73536 (100.0%)\n",
      "Value range: [0.000015, 0.474121]\n",
      "Graph created: 384 nodes, 383 edges\n"
     ]
    },
    {
     "name": "stderr",
     "output_type": "stream",
     "text": [
      " 65%|██████▌   | 325/500 [01:15<00:40,  4.32it/s]"
     ]
    },
    {
     "name": "stdout",
     "output_type": "stream",
     "text": [
      "Attention shape: (382, 382), min: 0.000000, max: 0.477295, mean: 0.002502\n",
      "Using fallback threshold (10% of max): 0.047729\n",
      "Non-zero values: 72771/72771 (100.0%)\n",
      "Value range: [0.000009, 0.477295]\n",
      "Graph created: 382 nodes, 381 edges\n"
     ]
    },
    {
     "name": "stderr",
     "output_type": "stream",
     "text": [
      " 65%|██████▌   | 326/500 [01:16<00:39,  4.38it/s]"
     ]
    },
    {
     "name": "stdout",
     "output_type": "stream",
     "text": [
      "Attention shape: (380, 380), min: 0.000000, max: 0.479248, mean: 0.002522\n",
      "Using fallback threshold (10% of max): 0.047913\n",
      "Non-zero values: 72010/72010 (100.0%)\n",
      "Value range: [0.000011, 0.479248]\n",
      "Graph created: 380 nodes, 379 edges\n"
     ]
    },
    {
     "name": "stderr",
     "output_type": "stream",
     "text": [
      " 65%|██████▌   | 327/500 [01:16<00:39,  4.40it/s]"
     ]
    },
    {
     "name": "stdout",
     "output_type": "stream",
     "text": [
      "Attention shape: (380, 380), min: 0.000000, max: 0.471680, mean: 0.002522\n",
      "Using fallback threshold (10% of max): 0.047150\n",
      "Non-zero values: 72010/72010 (100.0%)\n",
      "Value range: [0.000017, 0.471680]\n",
      "Graph created: 380 nodes, 380 edges\n"
     ]
    },
    {
     "name": "stderr",
     "output_type": "stream",
     "text": [
      " 66%|██████▌   | 328/500 [01:16<00:39,  4.34it/s]"
     ]
    },
    {
     "name": "stdout",
     "output_type": "stream",
     "text": [
      "Attention shape: (396, 396), min: 0.000000, max: 0.468506, mean: 0.002415\n",
      "Using fallback threshold (10% of max): 0.046844\n",
      "Non-zero values: 78210/78210 (100.0%)\n",
      "Value range: [0.000009, 0.468506]\n",
      "Graph created: 396 nodes, 395 edges\n"
     ]
    },
    {
     "name": "stderr",
     "output_type": "stream",
     "text": [
      " 66%|██████▌   | 329/500 [01:16<00:38,  4.41it/s]"
     ]
    },
    {
     "name": "stdout",
     "output_type": "stream",
     "text": [
      "Attention shape: (381, 381), min: 0.000000, max: 0.468506, mean: 0.002514\n",
      "Using fallback threshold (10% of max): 0.046844\n",
      "Non-zero values: 72390/72390 (100.0%)\n",
      "Value range: [0.000014, 0.468506]\n",
      "Graph created: 381 nodes, 380 edges\n"
     ]
    },
    {
     "name": "stderr",
     "output_type": "stream",
     "text": [
      " 66%|██████▌   | 330/500 [01:17<00:37,  4.51it/s]"
     ]
    },
    {
     "name": "stdout",
     "output_type": "stream",
     "text": [
      "Attention shape: (373, 373), min: 0.000000, max: 0.475098, mean: 0.002571\n",
      "Using fallback threshold (10% of max): 0.047485\n",
      "Non-zero values: 69378/69378 (100.0%)\n",
      "Value range: [0.000013, 0.475098]\n",
      "Graph created: 373 nodes, 372 edges\n"
     ]
    },
    {
     "name": "stderr",
     "output_type": "stream",
     "text": [
      " 66%|██████▌   | 331/500 [01:17<00:38,  4.44it/s]"
     ]
    },
    {
     "name": "stdout",
     "output_type": "stream",
     "text": [
      "Attention shape: (387, 387), min: 0.000000, max: 0.476074, mean: 0.002478\n",
      "Using fallback threshold (10% of max): 0.047607\n",
      "Non-zero values: 74691/74691 (100.0%)\n",
      "Value range: [0.000014, 0.476074]\n",
      "Graph created: 387 nodes, 386 edges\n"
     ]
    },
    {
     "name": "stderr",
     "output_type": "stream",
     "text": [
      " 66%|██████▋   | 332/500 [01:17<00:36,  4.55it/s]"
     ]
    },
    {
     "name": "stdout",
     "output_type": "stream",
     "text": [
      "Attention shape: (367, 367), min: 0.000000, max: 0.475586, mean: 0.002611\n",
      "Using fallback threshold (10% of max): 0.047546\n",
      "Non-zero values: 67161/67161 (100.0%)\n",
      "Value range: [0.000010, 0.475586]\n",
      "Graph created: 367 nodes, 367 edges\n"
     ]
    },
    {
     "name": "stderr",
     "output_type": "stream",
     "text": [
      " 67%|██████▋   | 333/500 [01:17<00:37,  4.43it/s]"
     ]
    },
    {
     "name": "stdout",
     "output_type": "stream",
     "text": [
      "Attention shape: (396, 396), min: 0.000000, max: 0.468506, mean: 0.002420\n",
      "Using fallback threshold (10% of max): 0.046844\n",
      "Non-zero values: 78210/78210 (100.0%)\n",
      "Value range: [0.000016, 0.468506]\n",
      "Graph created: 396 nodes, 395 edges\n"
     ]
    },
    {
     "name": "stderr",
     "output_type": "stream",
     "text": [
      " 67%|██████▋   | 334/500 [01:17<00:37,  4.40it/s]"
     ]
    },
    {
     "name": "stdout",
     "output_type": "stream",
     "text": [
      "Attention shape: (386, 386), min: 0.000000, max: 0.475830, mean: 0.002485\n",
      "Using fallback threshold (10% of max): 0.047577\n",
      "Non-zero values: 74305/74305 (100.0%)\n",
      "Value range: [0.000014, 0.475830]\n",
      "Graph created: 386 nodes, 385 edges\n",
      "Attention shape: (360, 360), min: 0.000000, max: 0.474609, mean: 0.002661\n"
     ]
    },
    {
     "name": "stderr",
     "output_type": "stream",
     "text": [
      " 67%|██████▋   | 335/500 [01:18<00:39,  4.21it/s]"
     ]
    },
    {
     "name": "stdout",
     "output_type": "stream",
     "text": [
      "Using percentile-based threshold: 0.000315 (50th percentile)\n",
      "Non-zero values: 64620/64620 (100.0%)\n",
      "Value range: [0.000013, 0.474609]\n",
      "Graph created: 360 nodes, 32303 edges\n"
     ]
    },
    {
     "name": "stderr",
     "output_type": "stream",
     "text": [
      " 67%|██████▋   | 336/500 [01:18<00:38,  4.22it/s]"
     ]
    },
    {
     "name": "stdout",
     "output_type": "stream",
     "text": [
      "Attention shape: (389, 389), min: 0.000000, max: 0.479736, mean: 0.002462\n",
      "Using fallback threshold (10% of max): 0.047974\n",
      "Non-zero values: 75466/75466 (100.0%)\n",
      "Value range: [0.000007, 0.479736]\n",
      "Graph created: 389 nodes, 388 edges\n"
     ]
    },
    {
     "name": "stderr",
     "output_type": "stream",
     "text": [
      " 67%|██████▋   | 337/500 [01:18<00:38,  4.21it/s]"
     ]
    },
    {
     "name": "stdout",
     "output_type": "stream",
     "text": [
      "Attention shape: (393, 393), min: 0.000000, max: 0.473389, mean: 0.002447\n",
      "Using fallback threshold (10% of max): 0.047333\n",
      "Non-zero values: 77028/77028 (100.0%)\n",
      "Value range: [0.000014, 0.473389]\n",
      "Graph created: 393 nodes, 392 edges\n"
     ]
    },
    {
     "name": "stderr",
     "output_type": "stream",
     "text": [
      " 68%|██████▊   | 338/500 [01:18<00:37,  4.34it/s]"
     ]
    },
    {
     "name": "stdout",
     "output_type": "stream",
     "text": [
      "Attention shape: (380, 380), min: 0.000000, max: 0.468506, mean: 0.002527\n",
      "Using fallback threshold (10% of max): 0.046844\n",
      "Non-zero values: 72010/72010 (100.0%)\n",
      "Value range: [0.000019, 0.468506]\n",
      "Graph created: 380 nodes, 379 edges\n"
     ]
    },
    {
     "name": "stderr",
     "output_type": "stream",
     "text": [
      " 68%|██████▊   | 339/500 [01:19<00:37,  4.32it/s]"
     ]
    },
    {
     "name": "stdout",
     "output_type": "stream",
     "text": [
      "Attention shape: (390, 390), min: 0.000000, max: 0.475098, mean: 0.002459\n",
      "Using fallback threshold (10% of max): 0.047485\n",
      "Non-zero values: 75855/75855 (100.0%)\n",
      "Value range: [0.000014, 0.475098]\n",
      "Graph created: 390 nodes, 389 edges\n",
      "Attention shape: (329, 329), min: 0.000000, max: 0.468506, mean: 0.002909\n",
      "Using percentile-based threshold: 0.000360 (50th percentile)\n",
      "Non-zero values: 53956/53956 (100.0%)\n",
      "Value range: [0.000017, 0.468506]\n"
     ]
    },
    {
     "name": "stderr",
     "output_type": "stream",
     "text": [
      " 68%|██████▊   | 340/500 [01:19<00:36,  4.33it/s]"
     ]
    },
    {
     "name": "stdout",
     "output_type": "stream",
     "text": [
      "Graph created: 329 nodes, 26975 edges\n"
     ]
    },
    {
     "name": "stderr",
     "output_type": "stream",
     "text": [
      " 68%|██████▊   | 341/500 [01:19<00:37,  4.25it/s]"
     ]
    },
    {
     "name": "stdout",
     "output_type": "stream",
     "text": [
      "Attention shape: (402, 402), min: 0.000000, max: 0.474121, mean: 0.002384\n",
      "Using fallback threshold (10% of max): 0.047394\n",
      "Non-zero values: 80601/80601 (100.0%)\n",
      "Value range: [0.000009, 0.474121]\n",
      "Graph created: 402 nodes, 401 edges\n"
     ]
    },
    {
     "name": "stderr",
     "output_type": "stream",
     "text": [
      " 68%|██████▊   | 342/500 [01:19<00:37,  4.23it/s]"
     ]
    },
    {
     "name": "stdout",
     "output_type": "stream",
     "text": [
      "Attention shape: (390, 390), min: 0.000000, max: 0.476074, mean: 0.002460\n",
      "Using fallback threshold (10% of max): 0.047607\n",
      "Non-zero values: 75855/75855 (100.0%)\n",
      "Value range: [0.000019, 0.476074]\n",
      "Graph created: 390 nodes, 389 edges\n",
      "Attention shape: (346, 346), min: 0.000000, max: 0.480469, mean: 0.002768\n",
      "Using percentile-based threshold: 0.000288 (50th percentile)\n",
      "Non-zero values: 59685/59685 (100.0%)\n",
      "Value range: [0.000015, 0.480469]\n"
     ]
    },
    {
     "name": "stderr",
     "output_type": "stream",
     "text": [
      " 69%|██████▊   | 343/500 [01:20<00:37,  4.15it/s]"
     ]
    },
    {
     "name": "stdout",
     "output_type": "stream",
     "text": [
      "Graph created: 346 nodes, 29837 edges\n"
     ]
    },
    {
     "name": "stderr",
     "output_type": "stream",
     "text": [
      " 69%|██████▉   | 344/500 [01:20<00:36,  4.30it/s]"
     ]
    },
    {
     "name": "stdout",
     "output_type": "stream",
     "text": [
      "Attention shape: (368, 368), min: 0.000000, max: 0.468506, mean: 0.002604\n",
      "Using fallback threshold (10% of max): 0.046844\n",
      "Non-zero values: 67528/67528 (100.0%)\n",
      "Value range: [0.000013, 0.468506]\n",
      "Graph created: 368 nodes, 367 edges\n"
     ]
    },
    {
     "name": "stderr",
     "output_type": "stream",
     "text": [
      " 69%|██████▉   | 345/500 [01:20<00:36,  4.26it/s]"
     ]
    },
    {
     "name": "stdout",
     "output_type": "stream",
     "text": [
      "Attention shape: (392, 392), min: 0.000000, max: 0.473389, mean: 0.002453\n",
      "Using fallback threshold (10% of max): 0.047333\n",
      "Non-zero values: 76636/76636 (100.0%)\n",
      "Value range: [0.000016, 0.473389]\n",
      "Graph created: 392 nodes, 391 edges\n",
      "Attention shape: (348, 348), min: 0.000000, max: 0.472168, mean: 0.002752\n"
     ]
    },
    {
     "name": "stderr",
     "output_type": "stream",
     "text": [
      " 69%|██████▉   | 346/500 [01:20<00:37,  4.15it/s]"
     ]
    },
    {
     "name": "stdout",
     "output_type": "stream",
     "text": [
      "Using percentile-based threshold: 0.000320 (50th percentile)\n",
      "Non-zero values: 60378/60378 (100.0%)\n",
      "Value range: [0.000010, 0.472168]\n",
      "Graph created: 348 nodes, 30173 edges\n"
     ]
    },
    {
     "name": "stderr",
     "output_type": "stream",
     "text": [
      " 69%|██████▉   | 347/500 [01:21<00:36,  4.16it/s]"
     ]
    },
    {
     "name": "stdout",
     "output_type": "stream",
     "text": [
      "Attention shape: (390, 390), min: 0.000000, max: 0.476074, mean: 0.002457\n",
      "Using fallback threshold (10% of max): 0.047607\n",
      "Non-zero values: 75855/75855 (100.0%)\n",
      "Value range: [0.000011, 0.476074]\n",
      "Graph created: 390 nodes, 389 edges\n",
      "Attention shape: (319, 319), min: 0.000000, max: 0.480957, mean: 0.003002\n",
      "Using percentile-based threshold: 0.000219 (50th percentile)\n",
      "Non-zero values: 50721/50721 (100.0%)\n",
      "Value range: [0.000003, 0.480957]\n"
     ]
    },
    {
     "name": "stderr",
     "output_type": "stream",
     "text": [
      " 70%|██████▉   | 348/500 [01:21<00:35,  4.26it/s]"
     ]
    },
    {
     "name": "stdout",
     "output_type": "stream",
     "text": [
      "Graph created: 319 nodes, 25351 edges\n"
     ]
    },
    {
     "name": "stderr",
     "output_type": "stream",
     "text": [
      " 70%|██████▉   | 349/500 [01:21<00:34,  4.38it/s]"
     ]
    },
    {
     "name": "stdout",
     "output_type": "stream",
     "text": [
      "Attention shape: (378, 378), min: 0.000000, max: 0.474854, mean: 0.002539\n",
      "Using fallback threshold (10% of max): 0.047485\n",
      "Non-zero values: 71253/71253 (100.0%)\n",
      "Value range: [0.000008, 0.474854]\n",
      "Graph created: 378 nodes, 377 edges\n"
     ]
    },
    {
     "name": "stderr",
     "output_type": "stream",
     "text": [
      " 70%|███████   | 350/500 [01:21<00:33,  4.47it/s]"
     ]
    },
    {
     "name": "stdout",
     "output_type": "stream",
     "text": [
      "Attention shape: (369, 369), min: 0.000000, max: 0.468506, mean: 0.002598\n",
      "Using fallback threshold (10% of max): 0.046844\n",
      "Non-zero values: 67896/67896 (100.0%)\n",
      "Value range: [0.000006, 0.468506]\n",
      "Graph created: 369 nodes, 368 edges\n"
     ]
    },
    {
     "name": "stderr",
     "output_type": "stream",
     "text": [
      " 70%|███████   | 351/500 [01:21<00:32,  4.52it/s]"
     ]
    },
    {
     "name": "stdout",
     "output_type": "stream",
     "text": [
      "Attention shape: (376, 376), min: 0.000000, max: 0.477051, mean: 0.002544\n",
      "Using fallback threshold (10% of max): 0.047699\n",
      "Non-zero values: 70500/70500 (100.0%)\n",
      "Value range: [0.000007, 0.477051]\n",
      "Graph created: 376 nodes, 375 edges\n"
     ]
    },
    {
     "name": "stderr",
     "output_type": "stream",
     "text": [
      " 70%|███████   | 352/500 [01:22<00:34,  4.27it/s]"
     ]
    },
    {
     "name": "stdout",
     "output_type": "stream",
     "text": [
      "Attention shape: (359, 359), min: 0.000000, max: 0.473145, mean: 0.002665\n",
      "Using percentile-based threshold: 0.000228 (50th percentile)\n",
      "Non-zero values: 64261/64261 (100.0%)\n",
      "Value range: [0.000011, 0.473145]\n",
      "Graph created: 359 nodes, 32130 edges\n"
     ]
    },
    {
     "name": "stderr",
     "output_type": "stream",
     "text": [
      " 71%|███████   | 353/500 [01:22<00:33,  4.42it/s]"
     ]
    },
    {
     "name": "stdout",
     "output_type": "stream",
     "text": [
      "Attention shape: (374, 374), min: 0.000000, max: 0.479004, mean: 0.002563\n",
      "Using fallback threshold (10% of max): 0.047882\n",
      "Non-zero values: 69751/69751 (100.0%)\n",
      "Value range: [0.000021, 0.479004]\n",
      "Graph created: 374 nodes, 373 edges\n"
     ]
    },
    {
     "name": "stderr",
     "output_type": "stream",
     "text": [
      " 71%|███████   | 354/500 [01:22<00:33,  4.39it/s]"
     ]
    },
    {
     "name": "stdout",
     "output_type": "stream",
     "text": [
      "Attention shape: (389, 389), min: 0.000000, max: 0.473633, mean: 0.002462\n",
      "Using fallback threshold (10% of max): 0.047363\n",
      "Non-zero values: 75466/75466 (100.0%)\n",
      "Value range: [0.000015, 0.473633]\n",
      "Graph created: 389 nodes, 388 edges\n"
     ]
    },
    {
     "name": "stderr",
     "output_type": "stream",
     "text": [
      " 71%|███████   | 355/500 [01:22<00:33,  4.28it/s]"
     ]
    },
    {
     "name": "stdout",
     "output_type": "stream",
     "text": [
      "Attention shape: (408, 408), min: 0.000000, max: 0.479492, mean: 0.002352\n",
      "Using fallback threshold (10% of max): 0.047943\n",
      "Non-zero values: 83028/83028 (100.0%)\n",
      "Value range: [0.000008, 0.479492]\n",
      "Graph created: 408 nodes, 407 edges\n"
     ]
    },
    {
     "name": "stderr",
     "output_type": "stream",
     "text": [
      " 71%|███████   | 356/500 [01:23<00:32,  4.45it/s]"
     ]
    },
    {
     "name": "stdout",
     "output_type": "stream",
     "text": [
      "Attention shape: (365, 365), min: 0.000000, max: 0.478271, mean: 0.002636\n",
      "Using fallback threshold (10% of max): 0.047821\n",
      "Non-zero values: 66430/66430 (100.0%)\n",
      "Value range: [0.000011, 0.478271]\n",
      "Graph created: 365 nodes, 364 edges\n"
     ]
    },
    {
     "name": "stderr",
     "output_type": "stream",
     "text": [
      " 71%|███████▏  | 357/500 [01:23<00:32,  4.40it/s]"
     ]
    },
    {
     "name": "stdout",
     "output_type": "stream",
     "text": [
      "Attention shape: (394, 394), min: 0.000000, max: 0.468506, mean: 0.002432\n",
      "Using fallback threshold (10% of max): 0.046844\n",
      "Non-zero values: 77421/77421 (100.0%)\n",
      "Value range: [0.000009, 0.468506]\n",
      "Graph created: 394 nodes, 393 edges\n"
     ]
    },
    {
     "name": "stderr",
     "output_type": "stream",
     "text": [
      " 72%|███████▏  | 358/500 [01:23<00:32,  4.32it/s]"
     ]
    },
    {
     "name": "stdout",
     "output_type": "stream",
     "text": [
      "Attention shape: (399, 399), min: 0.000000, max: 0.480225, mean: 0.002403\n",
      "Using fallback threshold (10% of max): 0.048004\n",
      "Non-zero values: 79401/79401 (100.0%)\n",
      "Value range: [0.000013, 0.480225]\n",
      "Graph created: 399 nodes, 398 edges\n"
     ]
    },
    {
     "name": "stderr",
     "output_type": "stream",
     "text": [
      " 72%|███████▏  | 359/500 [01:23<00:32,  4.34it/s]"
     ]
    },
    {
     "name": "stdout",
     "output_type": "stream",
     "text": [
      "Attention shape: (389, 389), min: 0.000000, max: 0.476074, mean: 0.002466\n",
      "Using fallback threshold (10% of max): 0.047607\n",
      "Non-zero values: 75466/75466 (100.0%)\n",
      "Value range: [0.000006, 0.476074]\n",
      "Graph created: 389 nodes, 388 edges\n"
     ]
    },
    {
     "name": "stderr",
     "output_type": "stream",
     "text": [
      " 72%|███████▏  | 360/500 [01:23<00:32,  4.30it/s]"
     ]
    },
    {
     "name": "stdout",
     "output_type": "stream",
     "text": [
      "Attention shape: (395, 395), min: 0.000000, max: 0.481201, mean: 0.002424\n",
      "Using fallback threshold (10% of max): 0.048096\n",
      "Non-zero values: 77815/77815 (100.0%)\n",
      "Value range: [0.000012, 0.481201]\n",
      "Graph created: 395 nodes, 394 edges\n"
     ]
    },
    {
     "name": "stderr",
     "output_type": "stream",
     "text": [
      " 72%|███████▏  | 361/500 [01:24<00:32,  4.34it/s]"
     ]
    },
    {
     "name": "stdout",
     "output_type": "stream",
     "text": [
      "Attention shape: (385, 385), min: 0.000000, max: 0.479004, mean: 0.002487\n",
      "Using fallback threshold (10% of max): 0.047882\n",
      "Non-zero values: 73920/73920 (100.0%)\n",
      "Value range: [0.000012, 0.479004]\n",
      "Graph created: 385 nodes, 384 edges\n"
     ]
    },
    {
     "name": "stderr",
     "output_type": "stream",
     "text": [
      " 72%|███████▏  | 362/500 [01:24<00:32,  4.25it/s]"
     ]
    },
    {
     "name": "stdout",
     "output_type": "stream",
     "text": [
      "Attention shape: (407, 407), min: 0.000000, max: 0.480957, mean: 0.002361\n",
      "Using fallback threshold (10% of max): 0.048096\n",
      "Non-zero values: 82621/82621 (100.0%)\n",
      "Value range: [0.000010, 0.480957]\n",
      "Graph created: 407 nodes, 406 edges\n",
      "Attention shape: (354, 354), min: 0.000000, max: 0.473877, mean: 0.002707\n"
     ]
    },
    {
     "name": "stderr",
     "output_type": "stream",
     "text": [
      " 73%|███████▎  | 363/500 [01:24<00:33,  4.14it/s]"
     ]
    },
    {
     "name": "stdout",
     "output_type": "stream",
     "text": [
      "Using percentile-based threshold: 0.000278 (50th percentile)\n",
      "Non-zero values: 62481/62481 (100.0%)\n",
      "Value range: [0.000014, 0.473877]\n",
      "Graph created: 354 nodes, 31241 edges\n"
     ]
    },
    {
     "name": "stderr",
     "output_type": "stream",
     "text": [
      " 73%|███████▎  | 364/500 [01:24<00:33,  4.12it/s]"
     ]
    },
    {
     "name": "stdout",
     "output_type": "stream",
     "text": [
      "Attention shape: (397, 397), min: 0.000000, max: 0.468506, mean: 0.002411\n",
      "Using fallback threshold (10% of max): 0.046844\n",
      "Non-zero values: 78606/78606 (100.0%)\n",
      "Value range: [0.000011, 0.468506]\n",
      "Graph created: 397 nodes, 396 edges\n"
     ]
    },
    {
     "name": "stderr",
     "output_type": "stream",
     "text": [
      " 73%|███████▎  | 365/500 [01:25<00:33,  4.00it/s]"
     ]
    },
    {
     "name": "stdout",
     "output_type": "stream",
     "text": [
      "Attention shape: (360, 360), min: 0.000000, max: 0.472900, mean: 0.002661\n",
      "Using percentile-based threshold: 0.000290 (50th percentile)\n",
      "Non-zero values: 64620/64620 (100.0%)\n",
      "Value range: [0.000007, 0.472900]\n",
      "Graph created: 360 nodes, 32301 edges\n"
     ]
    },
    {
     "name": "stderr",
     "output_type": "stream",
     "text": [
      " 73%|███████▎  | 366/500 [01:25<00:32,  4.12it/s]"
     ]
    },
    {
     "name": "stdout",
     "output_type": "stream",
     "text": [
      "Attention shape: (326, 326), min: 0.000000, max: 0.473389, mean: 0.002941\n",
      "Using percentile-based threshold: 0.000333 (50th percentile)\n",
      "Non-zero values: 52975/52975 (100.0%)\n",
      "Value range: [0.000020, 0.473389]\n",
      "Graph created: 326 nodes, 26484 edges\n"
     ]
    },
    {
     "name": "stderr",
     "output_type": "stream",
     "text": [
      " 73%|███████▎  | 367/500 [01:25<00:31,  4.28it/s]"
     ]
    },
    {
     "name": "stdout",
     "output_type": "stream",
     "text": [
      "Attention shape: (372, 372), min: 0.000000, max: 0.475098, mean: 0.002571\n",
      "Using fallback threshold (10% of max): 0.047485\n",
      "Non-zero values: 69006/69006 (100.0%)\n",
      "Value range: [0.000006, 0.475098]\n",
      "Graph created: 372 nodes, 371 edges\n"
     ]
    },
    {
     "name": "stderr",
     "output_type": "stream",
     "text": [
      " 74%|███████▎  | 368/500 [01:25<00:31,  4.17it/s]"
     ]
    },
    {
     "name": "stdout",
     "output_type": "stream",
     "text": [
      "Attention shape: (400, 400), min: 0.000000, max: 0.473145, mean: 0.002394\n",
      "Using fallback threshold (10% of max): 0.047302\n",
      "Non-zero values: 79800/79800 (100.0%)\n",
      "Value range: [0.000008, 0.473145]\n",
      "Graph created: 400 nodes, 399 edges\n"
     ]
    },
    {
     "name": "stderr",
     "output_type": "stream",
     "text": [
      " 74%|███████▍  | 369/500 [01:26<00:30,  4.27it/s]"
     ]
    },
    {
     "name": "stdout",
     "output_type": "stream",
     "text": [
      "Attention shape: (379, 379), min: 0.000000, max: 0.476562, mean: 0.002527\n",
      "Using fallback threshold (10% of max): 0.047638\n",
      "Non-zero values: 71631/71631 (100.0%)\n",
      "Value range: [0.000007, 0.476562]\n",
      "Graph created: 379 nodes, 378 edges\n"
     ]
    },
    {
     "name": "stderr",
     "output_type": "stream",
     "text": [
      " 74%|███████▍  | 370/500 [01:26<00:29,  4.43it/s]"
     ]
    },
    {
     "name": "stdout",
     "output_type": "stream",
     "text": [
      "Attention shape: (365, 365), min: 0.000000, max: 0.479248, mean: 0.002625\n",
      "Using fallback threshold (10% of max): 0.047913\n",
      "Non-zero values: 66430/66430 (100.0%)\n",
      "Value range: [0.000010, 0.479248]\n",
      "Graph created: 365 nodes, 364 edges\n"
     ]
    },
    {
     "name": "stderr",
     "output_type": "stream",
     "text": [
      " 74%|███████▍  | 371/500 [01:26<00:29,  4.35it/s]"
     ]
    },
    {
     "name": "stdout",
     "output_type": "stream",
     "text": [
      "Attention shape: (399, 399), min: 0.000000, max: 0.468506, mean: 0.002401\n",
      "Using fallback threshold (10% of max): 0.046844\n",
      "Non-zero values: 79401/79401 (100.0%)\n",
      "Value range: [0.000014, 0.468506]\n",
      "Graph created: 399 nodes, 398 edges\n"
     ]
    },
    {
     "name": "stderr",
     "output_type": "stream",
     "text": [
      " 74%|███████▍  | 372/500 [01:26<00:28,  4.47it/s]"
     ]
    },
    {
     "name": "stdout",
     "output_type": "stream",
     "text": [
      "Attention shape: (371, 371), min: 0.000000, max: 0.472656, mean: 0.002588\n",
      "Using fallback threshold (10% of max): 0.047241\n",
      "Non-zero values: 68635/68635 (100.0%)\n",
      "Value range: [0.000018, 0.472656]\n",
      "Graph created: 371 nodes, 370 edges\n"
     ]
    },
    {
     "name": "stderr",
     "output_type": "stream",
     "text": [
      " 75%|███████▍  | 373/500 [01:27<00:30,  4.19it/s]"
     ]
    },
    {
     "name": "stdout",
     "output_type": "stream",
     "text": [
      "Attention shape: (425, 425), min: 0.000000, max: 0.475098, mean: 0.002258\n",
      "Using fallback threshold (10% of max): 0.047485\n",
      "Non-zero values: 90100/90100 (100.0%)\n",
      "Value range: [0.000012, 0.475098]\n",
      "Graph created: 425 nodes, 424 edges\n",
      "Attention shape: (337, 337), min: 0.000000, max: 0.471680, mean: 0.002840\n",
      "Using percentile-based threshold: 0.000326 (50th percentile)\n",
      "Non-zero values: 56616/56616 (100.0%)\n",
      "Value range: [0.000018, 0.471680]\n"
     ]
    },
    {
     "name": "stderr",
     "output_type": "stream",
     "text": [
      " 75%|███████▍  | 374/500 [01:27<00:29,  4.21it/s]"
     ]
    },
    {
     "name": "stdout",
     "output_type": "stream",
     "text": [
      "Graph created: 337 nodes, 28300 edges\n"
     ]
    },
    {
     "name": "stderr",
     "output_type": "stream",
     "text": [
      " 75%|███████▌  | 375/500 [01:27<00:28,  4.32it/s]"
     ]
    },
    {
     "name": "stdout",
     "output_type": "stream",
     "text": [
      "Attention shape: (384, 384), min: 0.000000, max: 0.480957, mean: 0.002497\n",
      "Using fallback threshold (10% of max): 0.048096\n",
      "Non-zero values: 73536/73536 (100.0%)\n",
      "Value range: [0.000010, 0.480957]\n",
      "Graph created: 384 nodes, 383 edges\n"
     ]
    },
    {
     "name": "stderr",
     "output_type": "stream",
     "text": [
      " 75%|███████▌  | 376/500 [01:27<00:27,  4.46it/s]"
     ]
    },
    {
     "name": "stdout",
     "output_type": "stream",
     "text": [
      "Attention shape: (368, 368), min: 0.000000, max: 0.479004, mean: 0.002600\n",
      "Using fallback threshold (10% of max): 0.047882\n",
      "Non-zero values: 67528/67528 (100.0%)\n",
      "Value range: [0.000006, 0.479004]\n",
      "Graph created: 368 nodes, 367 edges\n"
     ]
    },
    {
     "name": "stderr",
     "output_type": "stream",
     "text": [
      " 75%|███████▌  | 377/500 [01:27<00:26,  4.57it/s]"
     ]
    },
    {
     "name": "stdout",
     "output_type": "stream",
     "text": [
      "Attention shape: (363, 363), min: 0.000000, max: 0.479736, mean: 0.002636\n",
      "Using fallback threshold (10% of max): 0.047974\n",
      "Non-zero values: 65703/65703 (100.0%)\n",
      "Value range: [0.000016, 0.479736]\n",
      "Graph created: 363 nodes, 362 edges\n"
     ]
    },
    {
     "name": "stderr",
     "output_type": "stream",
     "text": [
      " 76%|███████▌  | 378/500 [01:28<00:27,  4.44it/s]"
     ]
    },
    {
     "name": "stdout",
     "output_type": "stream",
     "text": [
      "Attention shape: (395, 395), min: 0.000000, max: 0.471680, mean: 0.002428\n",
      "Using fallback threshold (10% of max): 0.047150\n",
      "Non-zero values: 77815/77815 (100.0%)\n",
      "Value range: [0.000014, 0.471680]\n",
      "Graph created: 395 nodes, 394 edges\n"
     ]
    },
    {
     "name": "stderr",
     "output_type": "stream",
     "text": [
      " 76%|███████▌  | 379/500 [01:28<00:27,  4.35it/s]"
     ]
    },
    {
     "name": "stdout",
     "output_type": "stream",
     "text": [
      "Attention shape: (392, 392), min: 0.000000, max: 0.477783, mean: 0.002441\n",
      "Using fallback threshold (10% of max): 0.047760\n",
      "Non-zero values: 76636/76636 (100.0%)\n",
      "Value range: [0.000009, 0.477783]\n",
      "Graph created: 392 nodes, 391 edges\n"
     ]
    },
    {
     "name": "stderr",
     "output_type": "stream",
     "text": [
      " 76%|███████▌  | 380/500 [01:28<00:27,  4.41it/s]"
     ]
    },
    {
     "name": "stdout",
     "output_type": "stream",
     "text": [
      "Attention shape: (382, 382), min: 0.000000, max: 0.478027, mean: 0.002510\n",
      "Using fallback threshold (10% of max): 0.047791\n",
      "Non-zero values: 72771/72771 (100.0%)\n",
      "Value range: [0.000013, 0.478027]\n",
      "Graph created: 382 nodes, 381 edges\n",
      "Attention shape: (356, 356), min: 0.000000, max: 0.475342, mean: 0.002686\n"
     ]
    },
    {
     "name": "stderr",
     "output_type": "stream",
     "text": [
      " 76%|███████▌  | 381/500 [01:28<00:28,  4.22it/s]"
     ]
    },
    {
     "name": "stdout",
     "output_type": "stream",
     "text": [
      "Using percentile-based threshold: 0.000295 (50th percentile)\n",
      "Non-zero values: 63190/63190 (100.0%)\n",
      "Value range: [0.000008, 0.475342]\n",
      "Graph created: 356 nodes, 31589 edges\n"
     ]
    },
    {
     "name": "stderr",
     "output_type": "stream",
     "text": [
      " 76%|███████▋  | 382/500 [01:29<00:28,  4.19it/s]"
     ]
    },
    {
     "name": "stdout",
     "output_type": "stream",
     "text": [
      "Attention shape: (399, 399), min: 0.000000, max: 0.472900, mean: 0.002405\n",
      "Using fallback threshold (10% of max): 0.047272\n",
      "Non-zero values: 79401/79401 (100.0%)\n",
      "Value range: [0.000018, 0.472900]\n",
      "Graph created: 399 nodes, 398 edges\n"
     ]
    },
    {
     "name": "stderr",
     "output_type": "stream",
     "text": [
      " 77%|███████▋  | 383/500 [01:29<00:27,  4.28it/s]"
     ]
    },
    {
     "name": "stdout",
     "output_type": "stream",
     "text": [
      "Attention shape: (384, 384), min: 0.000000, max: 0.480713, mean: 0.002495\n",
      "Using fallback threshold (10% of max): 0.048065\n",
      "Non-zero values: 73536/73536 (100.0%)\n",
      "Value range: [0.000016, 0.480713]\n",
      "Graph created: 384 nodes, 383 edges\n"
     ]
    },
    {
     "name": "stderr",
     "output_type": "stream",
     "text": [
      " 77%|███████▋  | 384/500 [01:29<00:26,  4.34it/s]"
     ]
    },
    {
     "name": "stdout",
     "output_type": "stream",
     "text": [
      "Attention shape: (387, 387), min: 0.000000, max: 0.471680, mean: 0.002470\n",
      "Using fallback threshold (10% of max): 0.047150\n",
      "Non-zero values: 74691/74691 (100.0%)\n",
      "Value range: [0.000006, 0.471680]\n",
      "Graph created: 387 nodes, 386 edges\n",
      "Attention shape: (216, 216), min: 0.000000, max: 0.472168, mean: 0.004417\n",
      "Using percentile-based threshold: 0.000543 (50th percentile)\n",
      "Non-zero values: 23220/23220 (100.0%)\n",
      "Value range: [0.000021, 0.472168]\n",
      "Graph created: 216 nodes, 11606 edges\n"
     ]
    },
    {
     "name": "stderr",
     "output_type": "stream",
     "text": [
      " 77%|███████▋  | 386/500 [01:29<00:22,  5.02it/s]"
     ]
    },
    {
     "name": "stdout",
     "output_type": "stream",
     "text": [
      "Attention shape: (339, 339), min: 0.000000, max: 0.479736, mean: 0.002829\n",
      "Using percentile-based threshold: 0.000282 (50th percentile)\n",
      "Non-zero values: 57291/57291 (100.0%)\n",
      "Value range: [0.000012, 0.479736]\n",
      "Graph created: 339 nodes, 28638 edges\n"
     ]
    },
    {
     "name": "stderr",
     "output_type": "stream",
     "text": [
      " 77%|███████▋  | 387/500 [01:30<00:23,  4.91it/s]"
     ]
    },
    {
     "name": "stdout",
     "output_type": "stream",
     "text": [
      "Attention shape: (379, 379), min: 0.000000, max: 0.468506, mean: 0.002529\n",
      "Using fallback threshold (10% of max): 0.046844\n",
      "Non-zero values: 71631/71631 (100.0%)\n",
      "Value range: [0.000007, 0.468506]\n",
      "Graph created: 379 nodes, 378 edges\n",
      "Attention shape: (347, 347), min: 0.000000, max: 0.479980, mean: 0.002758\n",
      "Using percentile-based threshold: 0.000337 (50th percentile)\n",
      "Non-zero values: 60031/60031 (100.0%)\n",
      "Value range: [0.000020, 0.479980]\n"
     ]
    },
    {
     "name": "stderr",
     "output_type": "stream",
     "text": [
      " 78%|███████▊  | 388/500 [01:30<00:24,  4.63it/s]"
     ]
    },
    {
     "name": "stdout",
     "output_type": "stream",
     "text": [
      "Graph created: 347 nodes, 30014 edges\n"
     ]
    },
    {
     "name": "stderr",
     "output_type": "stream",
     "text": [
      " 78%|███████▊  | 389/500 [01:30<00:24,  4.61it/s]"
     ]
    },
    {
     "name": "stdout",
     "output_type": "stream",
     "text": [
      "Attention shape: (375, 375), min: 0.000000, max: 0.469971, mean: 0.002552\n",
      "Using fallback threshold (10% of max): 0.046997\n",
      "Non-zero values: 70125/70125 (100.0%)\n",
      "Value range: [0.000007, 0.469971]\n",
      "Graph created: 375 nodes, 374 edges\n"
     ]
    },
    {
     "name": "stderr",
     "output_type": "stream",
     "text": [
      " 78%|███████▊  | 390/500 [01:30<00:24,  4.49it/s]"
     ]
    },
    {
     "name": "stdout",
     "output_type": "stream",
     "text": [
      "Attention shape: (388, 388), min: 0.000000, max: 0.472656, mean: 0.002468\n",
      "Using fallback threshold (10% of max): 0.047241\n",
      "Non-zero values: 75078/75078 (100.0%)\n",
      "Value range: [0.000012, 0.472656]\n",
      "Graph created: 388 nodes, 387 edges\n"
     ]
    },
    {
     "name": "stderr",
     "output_type": "stream",
     "text": [
      " 78%|███████▊  | 391/500 [01:31<00:24,  4.51it/s]"
     ]
    },
    {
     "name": "stdout",
     "output_type": "stream",
     "text": [
      "Attention shape: (377, 377), min: 0.000000, max: 0.480469, mean: 0.002544\n",
      "Using fallback threshold (10% of max): 0.048035\n",
      "Non-zero values: 70876/70876 (100.0%)\n",
      "Value range: [0.000018, 0.480469]\n",
      "Graph created: 377 nodes, 376 edges\n",
      "Attention shape: (354, 354), min: 0.000000, max: 0.479004, mean: 0.002707\n"
     ]
    },
    {
     "name": "stderr",
     "output_type": "stream",
     "text": [
      " 78%|███████▊  | 392/500 [01:31<00:25,  4.30it/s]"
     ]
    },
    {
     "name": "stdout",
     "output_type": "stream",
     "text": [
      "Using percentile-based threshold: 0.000318 (50th percentile)\n",
      "Non-zero values: 62481/62481 (100.0%)\n",
      "Value range: [0.000024, 0.479004]\n",
      "Graph created: 354 nodes, 31236 edges\n"
     ]
    },
    {
     "name": "stderr",
     "output_type": "stream",
     "text": [
      " 79%|███████▊  | 393/500 [01:31<00:24,  4.34it/s]"
     ]
    },
    {
     "name": "stdout",
     "output_type": "stream",
     "text": [
      "Attention shape: (384, 384), min: 0.000000, max: 0.475098, mean: 0.002495\n",
      "Using fallback threshold (10% of max): 0.047485\n",
      "Non-zero values: 73536/73536 (100.0%)\n",
      "Value range: [0.000010, 0.475098]\n",
      "Graph created: 384 nodes, 383 edges\n"
     ]
    },
    {
     "name": "stderr",
     "output_type": "stream",
     "text": [
      " 79%|███████▉  | 394/500 [01:31<00:24,  4.31it/s]"
     ]
    },
    {
     "name": "stdout",
     "output_type": "stream",
     "text": [
      "Attention shape: (391, 391), min: 0.000000, max: 0.473145, mean: 0.002457\n",
      "Using fallback threshold (10% of max): 0.047302\n",
      "Non-zero values: 76245/76245 (100.0%)\n",
      "Value range: [0.000014, 0.473145]\n",
      "Graph created: 391 nodes, 390 edges\n"
     ]
    },
    {
     "name": "stderr",
     "output_type": "stream",
     "text": [
      " 79%|███████▉  | 395/500 [01:32<00:24,  4.24it/s]"
     ]
    },
    {
     "name": "stdout",
     "output_type": "stream",
     "text": [
      "Attention shape: (391, 391), min: 0.000000, max: 0.477051, mean: 0.002451\n",
      "Using fallback threshold (10% of max): 0.047699\n",
      "Non-zero values: 76245/76245 (100.0%)\n",
      "Value range: [0.000008, 0.477051]\n",
      "Graph created: 391 nodes, 390 edges\n"
     ]
    },
    {
     "name": "stderr",
     "output_type": "stream",
     "text": [
      " 79%|███████▉  | 396/500 [01:32<00:25,  4.08it/s]"
     ]
    },
    {
     "name": "stdout",
     "output_type": "stream",
     "text": [
      "Attention shape: (362, 362), min: 0.000000, max: 0.472168, mean: 0.002645\n",
      "Using percentile-based threshold: 0.000190 (50th percentile)\n",
      "Non-zero values: 65341/65341 (100.0%)\n",
      "Value range: [0.000008, 0.472168]\n",
      "Graph created: 362 nodes, 32658 edges\n",
      "Attention shape: (291, 291), min: 0.000000, max: 0.468506, mean: 0.003281\n",
      "Using percentile-based threshold: 0.000211 (50th percentile)\n",
      "Non-zero values: 42195/42195 (100.0%)\n",
      "Value range: [0.000008, 0.468506]\n",
      "Graph created: 291 nodes, 21086 edges\n"
     ]
    },
    {
     "name": "stderr",
     "output_type": "stream",
     "text": [
      " 80%|███████▉  | 398/500 [01:32<00:21,  4.65it/s]"
     ]
    },
    {
     "name": "stdout",
     "output_type": "stream",
     "text": [
      "Attention shape: (382, 382), min: 0.000000, max: 0.481934, mean: 0.002504\n",
      "Using fallback threshold (10% of max): 0.048187\n",
      "Non-zero values: 72771/72771 (100.0%)\n",
      "Value range: [0.000009, 0.481934]\n",
      "Graph created: 382 nodes, 381 edges\n",
      "Attention shape: (294, 294), min: 0.000000, max: 0.472656, mean: 0.003250\n",
      "Using percentile-based threshold: 0.000355 (50th percentile)\n",
      "Non-zero values: 43071/43071 (100.0%)\n",
      "Value range: [0.000008, 0.472656]\n",
      "Graph created: 294 nodes, 21534 edges\n"
     ]
    },
    {
     "name": "stderr",
     "output_type": "stream",
     "text": [
      " 80%|████████  | 400/500 [01:33<00:21,  4.57it/s]"
     ]
    },
    {
     "name": "stdout",
     "output_type": "stream",
     "text": [
      "Attention shape: (340, 340), min: 0.000000, max: 0.471924, mean: 0.002813\n",
      "Using percentile-based threshold: 0.000321 (50th percentile)\n",
      "Non-zero values: 57630/57630 (100.0%)\n",
      "Value range: [0.000008, 0.471924]\n",
      "Graph created: 340 nodes, 28813 edges\n"
     ]
    },
    {
     "name": "stderr",
     "output_type": "stream",
     "text": [
      " 80%|████████  | 401/500 [01:33<00:22,  4.46it/s]"
     ]
    },
    {
     "name": "stdout",
     "output_type": "stream",
     "text": [
      "Attention shape: (392, 392), min: 0.000000, max: 0.481934, mean: 0.002447\n",
      "Using fallback threshold (10% of max): 0.048187\n",
      "Non-zero values: 76636/76636 (100.0%)\n",
      "Value range: [0.000008, 0.481934]\n",
      "Graph created: 392 nodes, 391 edges\n"
     ]
    },
    {
     "name": "stderr",
     "output_type": "stream",
     "text": [
      " 80%|████████  | 402/500 [01:33<00:22,  4.42it/s]"
     ]
    },
    {
     "name": "stdout",
     "output_type": "stream",
     "text": [
      "Attention shape: (380, 380), min: 0.000000, max: 0.468506, mean: 0.002523\n",
      "Using fallback threshold (10% of max): 0.046844\n",
      "Non-zero values: 72010/72010 (100.0%)\n",
      "Value range: [0.000011, 0.468506]\n",
      "Graph created: 380 nodes, 379 edges\n"
     ]
    },
    {
     "name": "stderr",
     "output_type": "stream",
     "text": [
      " 81%|████████  | 403/500 [01:33<00:22,  4.39it/s]"
     ]
    },
    {
     "name": "stdout",
     "output_type": "stream",
     "text": [
      "Attention shape: (385, 385), min: 0.000000, max: 0.477539, mean: 0.002491\n",
      "Using fallback threshold (10% of max): 0.047729\n",
      "Non-zero values: 73920/73920 (100.0%)\n",
      "Value range: [0.000013, 0.477539]\n",
      "Graph created: 385 nodes, 384 edges\n"
     ]
    },
    {
     "name": "stderr",
     "output_type": "stream",
     "text": [
      " 81%|████████  | 404/500 [01:34<00:21,  4.38it/s]"
     ]
    },
    {
     "name": "stdout",
     "output_type": "stream",
     "text": [
      "Attention shape: (381, 381), min: 0.000000, max: 0.479248, mean: 0.002516\n",
      "Using fallback threshold (10% of max): 0.047913\n",
      "Non-zero values: 72390/72390 (100.0%)\n",
      "Value range: [0.000011, 0.479248]\n",
      "Graph created: 381 nodes, 380 edges\n"
     ]
    },
    {
     "name": "stderr",
     "output_type": "stream",
     "text": [
      " 81%|████████  | 405/500 [01:34<00:21,  4.36it/s]"
     ]
    },
    {
     "name": "stdout",
     "output_type": "stream",
     "text": [
      "Attention shape: (385, 385), min: 0.000000, max: 0.479248, mean: 0.002483\n",
      "Using fallback threshold (10% of max): 0.047913\n",
      "Non-zero values: 73920/73920 (100.0%)\n",
      "Value range: [0.000012, 0.479248]\n",
      "Graph created: 385 nodes, 384 edges\n"
     ]
    },
    {
     "name": "stderr",
     "output_type": "stream",
     "text": [
      " 81%|████████  | 406/500 [01:34<00:21,  4.40it/s]"
     ]
    },
    {
     "name": "stdout",
     "output_type": "stream",
     "text": [
      "Attention shape: (382, 382), min: 0.000000, max: 0.475830, mean: 0.002510\n",
      "Using fallback threshold (10% of max): 0.047577\n",
      "Non-zero values: 72771/72771 (100.0%)\n",
      "Value range: [0.000016, 0.475830]\n",
      "Graph created: 382 nodes, 381 edges\n"
     ]
    },
    {
     "name": "stderr",
     "output_type": "stream",
     "text": [
      " 81%|████████▏ | 407/500 [01:34<00:20,  4.50it/s]"
     ]
    },
    {
     "name": "stdout",
     "output_type": "stream",
     "text": [
      "Attention shape: (370, 370), min: 0.000000, max: 0.471924, mean: 0.002590\n",
      "Using fallback threshold (10% of max): 0.047180\n",
      "Non-zero values: 68265/68265 (100.0%)\n",
      "Value range: [0.000010, 0.471924]\n",
      "Graph created: 370 nodes, 370 edges\n"
     ]
    },
    {
     "name": "stderr",
     "output_type": "stream",
     "text": [
      " 82%|████████▏ | 408/500 [01:34<00:21,  4.38it/s]"
     ]
    },
    {
     "name": "stdout",
     "output_type": "stream",
     "text": [
      "Attention shape: (395, 395), min: 0.000000, max: 0.471680, mean: 0.002432\n",
      "Using fallback threshold (10% of max): 0.047150\n",
      "Non-zero values: 77815/77815 (100.0%)\n",
      "Value range: [0.000012, 0.471680]\n",
      "Graph created: 395 nodes, 394 edges\n",
      "Attention shape: (346, 346), min: 0.000000, max: 0.476562, mean: 0.002768\n",
      "Using percentile-based threshold: 0.000312 (50th percentile)\n",
      "Non-zero values: 59685/59685 (100.0%)\n",
      "Value range: [0.000016, 0.476562]\n"
     ]
    },
    {
     "name": "stderr",
     "output_type": "stream",
     "text": [
      " 82%|████████▏ | 409/500 [01:35<00:21,  4.27it/s]"
     ]
    },
    {
     "name": "stdout",
     "output_type": "stream",
     "text": [
      "Graph created: 346 nodes, 29833 edges\n"
     ]
    },
    {
     "name": "stderr",
     "output_type": "stream",
     "text": [
      " 82%|████████▏ | 410/500 [01:35<00:21,  4.17it/s]"
     ]
    },
    {
     "name": "stdout",
     "output_type": "stream",
     "text": [
      "Attention shape: (349, 349), min: 0.000000, max: 0.479980, mean: 0.002747\n",
      "Using percentile-based threshold: 0.000215 (50th percentile)\n",
      "Non-zero values: 60726/60726 (100.0%)\n",
      "Value range: [0.000015, 0.479980]\n",
      "Graph created: 349 nodes, 30350 edges\n"
     ]
    },
    {
     "name": "stderr",
     "output_type": "stream",
     "text": [
      " 82%|████████▏ | 411/500 [01:35<00:22,  4.02it/s]"
     ]
    },
    {
     "name": "stdout",
     "output_type": "stream",
     "text": [
      "Attention shape: (362, 362), min: 0.000000, max: 0.480225, mean: 0.002647\n",
      "Using percentile-based threshold: 0.000254 (50th percentile)\n",
      "Non-zero values: 65341/65341 (100.0%)\n",
      "Value range: [0.000009, 0.480225]\n",
      "Graph created: 362 nodes, 32655 edges\n"
     ]
    },
    {
     "name": "stderr",
     "output_type": "stream",
     "text": [
      " 82%|████████▏ | 412/500 [01:35<00:21,  4.08it/s]"
     ]
    },
    {
     "name": "stdout",
     "output_type": "stream",
     "text": [
      "Attention shape: (387, 387), min: 0.000000, max: 0.468506, mean: 0.002474\n",
      "Using fallback threshold (10% of max): 0.046844\n",
      "Non-zero values: 74691/74691 (100.0%)\n",
      "Value range: [0.000007, 0.468506]\n",
      "Graph created: 387 nodes, 386 edges\n"
     ]
    },
    {
     "name": "stderr",
     "output_type": "stream",
     "text": [
      " 83%|████████▎ | 413/500 [01:36<00:21,  4.10it/s]"
     ]
    },
    {
     "name": "stdout",
     "output_type": "stream",
     "text": [
      "Attention shape: (400, 400), min: 0.000000, max: 0.480469, mean: 0.002392\n",
      "Using fallback threshold (10% of max): 0.048035\n",
      "Non-zero values: 79800/79800 (100.0%)\n",
      "Value range: [0.000010, 0.480469]\n",
      "Graph created: 400 nodes, 399 edges\n"
     ]
    },
    {
     "name": "stderr",
     "output_type": "stream",
     "text": [
      " 83%|████████▎ | 414/500 [01:36<00:20,  4.16it/s]"
     ]
    },
    {
     "name": "stdout",
     "output_type": "stream",
     "text": [
      "Attention shape: (388, 388), min: 0.000000, max: 0.471924, mean: 0.002472\n",
      "Using fallback threshold (10% of max): 0.047180\n",
      "Non-zero values: 75078/75078 (100.0%)\n",
      "Value range: [0.000013, 0.471924]\n",
      "Graph created: 388 nodes, 387 edges\n"
     ]
    },
    {
     "name": "stderr",
     "output_type": "stream",
     "text": [
      " 83%|████████▎ | 415/500 [01:36<00:20,  4.16it/s]"
     ]
    },
    {
     "name": "stdout",
     "output_type": "stream",
     "text": [
      "Attention shape: (401, 401), min: 0.000000, max: 0.474121, mean: 0.002390\n",
      "Using fallback threshold (10% of max): 0.047394\n",
      "Non-zero values: 80200/80200 (100.0%)\n",
      "Value range: [0.000007, 0.474121]\n",
      "Graph created: 401 nodes, 400 edges\n"
     ]
    },
    {
     "name": "stderr",
     "output_type": "stream",
     "text": [
      " 83%|████████▎ | 416/500 [01:36<00:20,  4.12it/s]"
     ]
    },
    {
     "name": "stdout",
     "output_type": "stream",
     "text": [
      "Attention shape: (407, 407), min: 0.000000, max: 0.468506, mean: 0.002357\n",
      "Using fallback threshold (10% of max): 0.046844\n",
      "Non-zero values: 82621/82621 (100.0%)\n",
      "Value range: [0.000010, 0.468506]\n",
      "Graph created: 407 nodes, 406 edges\n",
      "Attention shape: (355, 355), min: 0.000000, max: 0.474121, mean: 0.002695\n"
     ]
    },
    {
     "name": "stderr",
     "output_type": "stream",
     "text": [
      " 83%|████████▎ | 417/500 [01:37<00:20,  4.04it/s]"
     ]
    },
    {
     "name": "stdout",
     "output_type": "stream",
     "text": [
      "Using percentile-based threshold: 0.000235 (50th percentile)\n",
      "Non-zero values: 62835/62835 (100.0%)\n",
      "Value range: [0.000018, 0.474121]\n",
      "Graph created: 355 nodes, 31405 edges\n"
     ]
    },
    {
     "name": "stderr",
     "output_type": "stream",
     "text": [
      " 84%|████████▎ | 418/500 [01:37<00:19,  4.12it/s]"
     ]
    },
    {
     "name": "stdout",
     "output_type": "stream",
     "text": [
      "Attention shape: (385, 385), min: 0.000000, max: 0.477539, mean: 0.002493\n",
      "Using fallback threshold (10% of max): 0.047729\n",
      "Non-zero values: 73920/73920 (100.0%)\n",
      "Value range: [0.000014, 0.477539]\n",
      "Graph created: 385 nodes, 384 edges\n"
     ]
    },
    {
     "name": "stderr",
     "output_type": "stream",
     "text": [
      " 84%|████████▍ | 419/500 [01:37<00:19,  4.06it/s]"
     ]
    },
    {
     "name": "stdout",
     "output_type": "stream",
     "text": [
      "Attention shape: (414, 414), min: 0.000000, max: 0.475830, mean: 0.002317\n",
      "Using fallback threshold (10% of max): 0.047577\n",
      "Non-zero values: 85491/85491 (100.0%)\n",
      "Value range: [0.000011, 0.475830]\n",
      "Graph created: 414 nodes, 413 edges\n"
     ]
    },
    {
     "name": "stderr",
     "output_type": "stream",
     "text": [
      " 84%|████████▍ | 420/500 [01:37<00:19,  4.00it/s]"
     ]
    },
    {
     "name": "stdout",
     "output_type": "stream",
     "text": [
      "Attention shape: (413, 413), min: 0.000000, max: 0.468750, mean: 0.002325\n",
      "Using fallback threshold (10% of max): 0.046875\n",
      "Non-zero values: 85078/85078 (100.0%)\n",
      "Value range: [0.000010, 0.468750]\n",
      "Graph created: 413 nodes, 412 edges\n"
     ]
    },
    {
     "name": "stderr",
     "output_type": "stream",
     "text": [
      " 84%|████████▍ | 421/500 [01:38<00:20,  3.91it/s]"
     ]
    },
    {
     "name": "stdout",
     "output_type": "stream",
     "text": [
      "Attention shape: (362, 362), min: 0.000000, max: 0.473389, mean: 0.002640\n",
      "Using percentile-based threshold: 0.000228 (50th percentile)\n",
      "Non-zero values: 65341/65341 (100.0%)\n",
      "Value range: [0.000009, 0.473389]\n",
      "Graph created: 362 nodes, 32657 edges\n"
     ]
    },
    {
     "name": "stderr",
     "output_type": "stream",
     "text": [
      " 84%|████████▍ | 422/500 [01:38<00:19,  3.98it/s]"
     ]
    },
    {
     "name": "stdout",
     "output_type": "stream",
     "text": [
      "Attention shape: (396, 396), min: 0.000000, max: 0.471924, mean: 0.002424\n",
      "Using fallback threshold (10% of max): 0.047180\n",
      "Non-zero values: 78210/78210 (100.0%)\n",
      "Value range: [0.000021, 0.471924]\n",
      "Graph created: 396 nodes, 395 edges\n",
      "Attention shape: (352, 352), min: 0.000000, max: 0.475342, mean: 0.002722\n"
     ]
    },
    {
     "name": "stderr",
     "output_type": "stream",
     "text": [
      " 85%|████████▍ | 423/500 [01:38<00:19,  3.96it/s]"
     ]
    },
    {
     "name": "stdout",
     "output_type": "stream",
     "text": [
      "Using percentile-based threshold: 0.000257 (50th percentile)\n",
      "Non-zero values: 61776/61776 (100.0%)\n",
      "Value range: [0.000014, 0.475342]\n",
      "Graph created: 352 nodes, 30877 edges\n"
     ]
    },
    {
     "name": "stderr",
     "output_type": "stream",
     "text": [
      " 85%|████████▍ | 424/500 [01:38<00:18,  4.00it/s]"
     ]
    },
    {
     "name": "stdout",
     "output_type": "stream",
     "text": [
      "Attention shape: (339, 339), min: 0.000000, max: 0.477539, mean: 0.002836\n",
      "Using percentile-based threshold: 0.000270 (50th percentile)\n",
      "Non-zero values: 57291/57291 (100.0%)\n",
      "Value range: [0.000007, 0.477539]\n",
      "Graph created: 339 nodes, 28639 edges\n"
     ]
    },
    {
     "name": "stderr",
     "output_type": "stream",
     "text": [
      " 85%|████████▌ | 425/500 [01:39<00:17,  4.19it/s]"
     ]
    },
    {
     "name": "stdout",
     "output_type": "stream",
     "text": [
      "Attention shape: (371, 371), min: 0.000000, max: 0.468506, mean: 0.002581\n",
      "Using fallback threshold (10% of max): 0.046844\n",
      "Non-zero values: 68635/68635 (100.0%)\n",
      "Value range: [0.000014, 0.468506]\n",
      "Graph created: 371 nodes, 370 edges\n"
     ]
    },
    {
     "name": "stderr",
     "output_type": "stream",
     "text": [
      " 85%|████████▌ | 426/500 [01:39<00:17,  4.12it/s]"
     ]
    },
    {
     "name": "stdout",
     "output_type": "stream",
     "text": [
      "Attention shape: (397, 397), min: 0.000000, max: 0.475586, mean: 0.002419\n",
      "Using fallback threshold (10% of max): 0.047546\n",
      "Non-zero values: 78606/78606 (100.0%)\n",
      "Value range: [0.000010, 0.475586]\n",
      "Graph created: 397 nodes, 396 edges\n"
     ]
    },
    {
     "name": "stderr",
     "output_type": "stream",
     "text": [
      " 85%|████████▌ | 427/500 [01:39<00:17,  4.26it/s]"
     ]
    },
    {
     "name": "stdout",
     "output_type": "stream",
     "text": [
      "Attention shape: (369, 369), min: 0.000000, max: 0.468506, mean: 0.002596\n",
      "Using fallback threshold (10% of max): 0.046844\n",
      "Non-zero values: 67896/67896 (100.0%)\n",
      "Value range: [0.000010, 0.468506]\n",
      "Graph created: 369 nodes, 368 edges\n"
     ]
    },
    {
     "name": "stderr",
     "output_type": "stream",
     "text": [
      " 86%|████████▌ | 428/500 [01:39<00:16,  4.33it/s]"
     ]
    },
    {
     "name": "stdout",
     "output_type": "stream",
     "text": [
      "Attention shape: (375, 375), min: 0.000000, max: 0.473145, mean: 0.002562\n",
      "Using fallback threshold (10% of max): 0.047302\n",
      "Non-zero values: 70125/70125 (100.0%)\n",
      "Value range: [0.000015, 0.473145]\n",
      "Graph created: 375 nodes, 374 edges\n"
     ]
    },
    {
     "name": "stderr",
     "output_type": "stream",
     "text": [
      " 86%|████████▌ | 429/500 [01:40<00:17,  4.15it/s]"
     ]
    },
    {
     "name": "stdout",
     "output_type": "stream",
     "text": [
      "Attention shape: (357, 357), min: 0.000000, max: 0.468506, mean: 0.002678\n",
      "Using percentile-based threshold: 0.000260 (50th percentile)\n",
      "Non-zero values: 63546/63546 (100.0%)\n",
      "Value range: [0.000011, 0.468506]\n",
      "Graph created: 357 nodes, 31753 edges\n"
     ]
    },
    {
     "name": "stderr",
     "output_type": "stream",
     "text": [
      " 86%|████████▌ | 430/500 [01:40<00:16,  4.19it/s]"
     ]
    },
    {
     "name": "stdout",
     "output_type": "stream",
     "text": [
      "Attention shape: (386, 386), min: 0.000000, max: 0.472168, mean: 0.002483\n",
      "Using fallback threshold (10% of max): 0.047211\n",
      "Non-zero values: 74305/74305 (100.0%)\n",
      "Value range: [0.000014, 0.472168]\n",
      "Graph created: 386 nodes, 385 edges\n"
     ]
    },
    {
     "name": "stderr",
     "output_type": "stream",
     "text": [
      " 86%|████████▌ | 431/500 [01:40<00:16,  4.24it/s]"
     ]
    },
    {
     "name": "stdout",
     "output_type": "stream",
     "text": [
      "Attention shape: (381, 381), min: 0.000000, max: 0.470459, mean: 0.002522\n",
      "Using fallback threshold (10% of max): 0.047028\n",
      "Non-zero values: 72390/72390 (100.0%)\n",
      "Value range: [0.000014, 0.470459]\n",
      "Graph created: 381 nodes, 380 edges\n"
     ]
    },
    {
     "name": "stderr",
     "output_type": "stream",
     "text": [
      " 86%|████████▋ | 432/500 [01:40<00:15,  4.34it/s]"
     ]
    },
    {
     "name": "stdout",
     "output_type": "stream",
     "text": [
      "Attention shape: (375, 375), min: 0.000000, max: 0.476318, mean: 0.002554\n",
      "Using fallback threshold (10% of max): 0.047607\n",
      "Non-zero values: 70125/70125 (100.0%)\n",
      "Value range: [0.000011, 0.476318]\n",
      "Graph created: 375 nodes, 374 edges\n"
     ]
    },
    {
     "name": "stderr",
     "output_type": "stream",
     "text": [
      " 87%|████████▋ | 433/500 [01:41<00:16,  4.13it/s]"
     ]
    },
    {
     "name": "stdout",
     "output_type": "stream",
     "text": [
      "Attention shape: (414, 414), min: 0.000000, max: 0.481689, mean: 0.002329\n",
      "Using fallback threshold (10% of max): 0.048157\n",
      "Non-zero values: 85491/85491 (100.0%)\n",
      "Value range: [0.000005, 0.481689]\n",
      "Graph created: 414 nodes, 413 edges\n"
     ]
    },
    {
     "name": "stderr",
     "output_type": "stream",
     "text": [
      " 87%|████████▋ | 434/500 [01:41<00:15,  4.24it/s]"
     ]
    },
    {
     "name": "stdout",
     "output_type": "stream",
     "text": [
      "Attention shape: (379, 379), min: 0.000000, max: 0.472900, mean: 0.002527\n",
      "Using fallback threshold (10% of max): 0.047272\n",
      "Non-zero values: 71631/71631 (100.0%)\n",
      "Value range: [0.000007, 0.472900]\n",
      "Graph created: 379 nodes, 378 edges\n"
     ]
    },
    {
     "name": "stderr",
     "output_type": "stream",
     "text": [
      " 87%|████████▋ | 435/500 [01:41<00:14,  4.34it/s]"
     ]
    },
    {
     "name": "stdout",
     "output_type": "stream",
     "text": [
      "Attention shape: (377, 377), min: 0.000000, max: 0.475586, mean: 0.002542\n",
      "Using fallback threshold (10% of max): 0.047546\n",
      "Non-zero values: 70876/70876 (100.0%)\n",
      "Value range: [0.000015, 0.475586]\n",
      "Graph created: 377 nodes, 376 edges\n"
     ]
    },
    {
     "name": "stderr",
     "output_type": "stream",
     "text": [
      " 87%|████████▋ | 436/500 [01:41<00:14,  4.41it/s]"
     ]
    },
    {
     "name": "stdout",
     "output_type": "stream",
     "text": [
      "Attention shape: (384, 384), min: 0.000000, max: 0.467773, mean: 0.002497\n",
      "Using fallback threshold (10% of max): 0.046753\n",
      "Non-zero values: 73536/73536 (100.0%)\n",
      "Value range: [0.000013, 0.467773]\n",
      "Graph created: 384 nodes, 383 edges\n"
     ]
    },
    {
     "name": "stderr",
     "output_type": "stream",
     "text": [
      " 87%|████████▋ | 437/500 [01:41<00:14,  4.23it/s]"
     ]
    },
    {
     "name": "stdout",
     "output_type": "stream",
     "text": [
      "Attention shape: (402, 402), min: 0.000000, max: 0.474121, mean: 0.002386\n",
      "Using fallback threshold (10% of max): 0.047394\n",
      "Non-zero values: 80601/80601 (100.0%)\n",
      "Value range: [0.000003, 0.474121]\n",
      "Graph created: 402 nodes, 401 edges\n"
     ]
    },
    {
     "name": "stderr",
     "output_type": "stream",
     "text": [
      " 88%|████████▊ | 438/500 [01:42<00:14,  4.19it/s]"
     ]
    },
    {
     "name": "stdout",
     "output_type": "stream",
     "text": [
      "Attention shape: (395, 395), min: 0.000000, max: 0.468506, mean: 0.002436\n",
      "Using fallback threshold (10% of max): 0.046844\n",
      "Non-zero values: 77815/77815 (100.0%)\n",
      "Value range: [0.000016, 0.468506]\n",
      "Graph created: 395 nodes, 394 edges\n"
     ]
    },
    {
     "name": "stderr",
     "output_type": "stream",
     "text": [
      " 88%|████████▊ | 439/500 [01:42<00:14,  4.14it/s]"
     ]
    },
    {
     "name": "stdout",
     "output_type": "stream",
     "text": [
      "Attention shape: (387, 387), min: 0.000000, max: 0.468506, mean: 0.002483\n",
      "Using fallback threshold (10% of max): 0.046844\n",
      "Non-zero values: 74691/74691 (100.0%)\n",
      "Value range: [0.000011, 0.468506]\n",
      "Graph created: 387 nodes, 386 edges\n"
     ]
    },
    {
     "name": "stderr",
     "output_type": "stream",
     "text": [
      " 88%|████████▊ | 440/500 [01:42<00:14,  4.12it/s]"
     ]
    },
    {
     "name": "stdout",
     "output_type": "stream",
     "text": [
      "Attention shape: (393, 393), min: 0.000000, max: 0.479004, mean: 0.002436\n",
      "Using fallback threshold (10% of max): 0.047882\n",
      "Non-zero values: 77028/77028 (100.0%)\n",
      "Value range: [0.000010, 0.479004]\n",
      "Graph created: 393 nodes, 392 edges\n"
     ]
    },
    {
     "name": "stderr",
     "output_type": "stream",
     "text": [
      " 88%|████████▊ | 441/500 [01:42<00:14,  4.00it/s]"
     ]
    },
    {
     "name": "stdout",
     "output_type": "stream",
     "text": [
      "Attention shape: (351, 351), min: 0.000000, max: 0.475342, mean: 0.002718\n",
      "Using percentile-based threshold: 0.000323 (50th percentile)\n",
      "Non-zero values: 61425/61425 (100.0%)\n",
      "Value range: [0.000021, 0.475342]\n",
      "Graph created: 351 nodes, 30702 edges\n"
     ]
    },
    {
     "name": "stderr",
     "output_type": "stream",
     "text": [
      " 88%|████████▊ | 442/500 [01:43<00:14,  4.08it/s]"
     ]
    },
    {
     "name": "stdout",
     "output_type": "stream",
     "text": [
      "Attention shape: (388, 388), min: 0.000000, max: 0.477539, mean: 0.002470\n",
      "Using fallback threshold (10% of max): 0.047729\n",
      "Non-zero values: 75078/75078 (100.0%)\n",
      "Value range: [0.000012, 0.477539]\n",
      "Graph created: 388 nodes, 387 edges\n"
     ]
    },
    {
     "name": "stderr",
     "output_type": "stream",
     "text": [
      " 89%|████████▊ | 443/500 [01:43<00:14,  4.04it/s]"
     ]
    },
    {
     "name": "stdout",
     "output_type": "stream",
     "text": [
      "Attention shape: (402, 402), min: 0.000000, max: 0.480469, mean: 0.002386\n",
      "Using fallback threshold (10% of max): 0.048035\n",
      "Non-zero values: 80601/80601 (100.0%)\n",
      "Value range: [0.000012, 0.480469]\n",
      "Graph created: 402 nodes, 401 edges\n"
     ]
    },
    {
     "name": "stderr",
     "output_type": "stream",
     "text": [
      " 89%|████████▉ | 444/500 [01:43<00:13,  4.03it/s]"
     ]
    },
    {
     "name": "stdout",
     "output_type": "stream",
     "text": [
      "Attention shape: (389, 389), min: 0.000000, max: 0.472168, mean: 0.002464\n",
      "Using fallback threshold (10% of max): 0.047211\n",
      "Non-zero values: 75466/75466 (100.0%)\n",
      "Value range: [0.000016, 0.472168]\n",
      "Graph created: 389 nodes, 388 edges\n"
     ]
    },
    {
     "name": "stderr",
     "output_type": "stream",
     "text": [
      " 89%|████████▉ | 445/500 [01:43<00:13,  4.16it/s]"
     ]
    },
    {
     "name": "stdout",
     "output_type": "stream",
     "text": [
      "Attention shape: (372, 372), min: 0.000000, max: 0.477051, mean: 0.002571\n",
      "Using fallback threshold (10% of max): 0.047699\n",
      "Non-zero values: 69006/69006 (100.0%)\n",
      "Value range: [0.000008, 0.477051]\n",
      "Graph created: 372 nodes, 371 edges\n"
     ]
    },
    {
     "name": "stderr",
     "output_type": "stream",
     "text": [
      " 89%|████████▉ | 446/500 [01:44<00:12,  4.26it/s]"
     ]
    },
    {
     "name": "stdout",
     "output_type": "stream",
     "text": [
      "Attention shape: (371, 371), min: 0.000000, max: 0.468506, mean: 0.002581\n",
      "Using fallback threshold (10% of max): 0.046844\n",
      "Non-zero values: 68635/68635 (100.0%)\n",
      "Value range: [0.000008, 0.468506]\n",
      "Graph created: 371 nodes, 370 edges\n"
     ]
    },
    {
     "name": "stderr",
     "output_type": "stream",
     "text": [
      " 89%|████████▉ | 447/500 [01:44<00:12,  4.31it/s]"
     ]
    },
    {
     "name": "stdout",
     "output_type": "stream",
     "text": [
      "Attention shape: (384, 384), min: 0.000000, max: 0.477539, mean: 0.002495\n",
      "Using fallback threshold (10% of max): 0.047729\n",
      "Non-zero values: 73536/73536 (100.0%)\n",
      "Value range: [0.000013, 0.477539]\n",
      "Graph created: 384 nodes, 383 edges\n"
     ]
    },
    {
     "name": "stderr",
     "output_type": "stream",
     "text": [
      " 90%|████████▉ | 448/500 [01:44<00:12,  4.31it/s]"
     ]
    },
    {
     "name": "stdout",
     "output_type": "stream",
     "text": [
      "Attention shape: (389, 389), min: 0.000000, max: 0.476074, mean: 0.002466\n",
      "Using fallback threshold (10% of max): 0.047607\n",
      "Non-zero values: 75466/75466 (100.0%)\n",
      "Value range: [0.000007, 0.476074]\n",
      "Graph created: 389 nodes, 388 edges\n"
     ]
    },
    {
     "name": "stderr",
     "output_type": "stream",
     "text": [
      " 90%|████████▉ | 449/500 [01:44<00:11,  4.32it/s]"
     ]
    },
    {
     "name": "stdout",
     "output_type": "stream",
     "text": [
      "Attention shape: (385, 385), min: 0.000000, max: 0.478760, mean: 0.002489\n",
      "Using fallback threshold (10% of max): 0.047852\n",
      "Non-zero values: 73920/73920 (100.0%)\n",
      "Value range: [0.000011, 0.478760]\n",
      "Graph created: 385 nodes, 384 edges\n"
     ]
    },
    {
     "name": "stderr",
     "output_type": "stream",
     "text": [
      " 90%|█████████ | 450/500 [01:45<00:11,  4.38it/s]"
     ]
    },
    {
     "name": "stdout",
     "output_type": "stream",
     "text": [
      "Attention shape: (384, 384), min: 0.000000, max: 0.472900, mean: 0.002493\n",
      "Using fallback threshold (10% of max): 0.047272\n",
      "Non-zero values: 73536/73536 (100.0%)\n",
      "Value range: [0.000008, 0.472900]\n",
      "Graph created: 384 nodes, 383 edges\n"
     ]
    },
    {
     "name": "stderr",
     "output_type": "stream",
     "text": [
      " 90%|█████████ | 451/500 [01:45<00:11,  4.31it/s]"
     ]
    },
    {
     "name": "stdout",
     "output_type": "stream",
     "text": [
      "Attention shape: (392, 392), min: 0.000000, max: 0.481445, mean: 0.002445\n",
      "Using fallback threshold (10% of max): 0.048126\n",
      "Non-zero values: 76636/76636 (100.0%)\n",
      "Value range: [0.000012, 0.481445]\n",
      "Graph created: 392 nodes, 391 edges\n"
     ]
    },
    {
     "name": "stderr",
     "output_type": "stream",
     "text": [
      " 91%|█████████ | 453/500 [01:45<00:09,  4.92it/s]"
     ]
    },
    {
     "name": "stdout",
     "output_type": "stream",
     "text": [
      "Attention shape: (410, 410), min: 0.000000, max: 0.478027, mean: 0.002335\n",
      "Using fallback threshold (10% of max): 0.047791\n",
      "Non-zero values: 83845/83845 (100.0%)\n",
      "Value range: [0.000011, 0.478027]\n",
      "Graph created: 410 nodes, 409 edges\n",
      "Attention shape: (265, 265), min: 0.000000, max: 0.477783, mean: 0.003603\n",
      "Using percentile-based threshold: 0.000382 (50th percentile)\n",
      "Non-zero values: 34980/34980 (100.0%)\n",
      "Value range: [0.000021, 0.477783]\n",
      "Graph created: 265 nodes, 17483 edges\n"
     ]
    },
    {
     "name": "stderr",
     "output_type": "stream",
     "text": [
      " 91%|█████████ | 454/500 [01:45<00:09,  4.66it/s]"
     ]
    },
    {
     "name": "stdout",
     "output_type": "stream",
     "text": [
      "Attention shape: (390, 390), min: 0.000000, max: 0.467529, mean: 0.002460\n",
      "Using fallback threshold (10% of max): 0.046753\n",
      "Non-zero values: 75855/75855 (100.0%)\n",
      "Value range: [0.000014, 0.467529]\n",
      "Graph created: 390 nodes, 389 edges\n"
     ]
    },
    {
     "name": "stderr",
     "output_type": "stream",
     "text": [
      " 91%|█████████ | 455/500 [01:46<00:10,  4.37it/s]"
     ]
    },
    {
     "name": "stdout",
     "output_type": "stream",
     "text": [
      "Attention shape: (406, 406), min: 0.000000, max: 0.474854, mean: 0.002367\n",
      "Using fallback threshold (10% of max): 0.047485\n",
      "Non-zero values: 82215/82215 (100.0%)\n",
      "Value range: [0.000022, 0.474854]\n",
      "Graph created: 406 nodes, 405 edges\n"
     ]
    },
    {
     "name": "stderr",
     "output_type": "stream",
     "text": [
      " 91%|█████████ | 456/500 [01:46<00:10,  4.18it/s]"
     ]
    },
    {
     "name": "stdout",
     "output_type": "stream",
     "text": [
      "Attention shape: (408, 408), min: 0.000000, max: 0.475098, mean: 0.002354\n",
      "Using fallback threshold (10% of max): 0.047485\n",
      "Non-zero values: 83028/83028 (100.0%)\n",
      "Value range: [0.000019, 0.475098]\n",
      "Graph created: 408 nodes, 407 edges\n"
     ]
    },
    {
     "name": "stderr",
     "output_type": "stream",
     "text": [
      " 91%|█████████▏| 457/500 [01:46<00:10,  4.11it/s]"
     ]
    },
    {
     "name": "stdout",
     "output_type": "stream",
     "text": [
      "Attention shape: (391, 391), min: 0.000000, max: 0.475586, mean: 0.002455\n",
      "Using fallback threshold (10% of max): 0.047546\n",
      "Non-zero values: 76245/76245 (100.0%)\n",
      "Value range: [0.000007, 0.475586]\n",
      "Graph created: 391 nodes, 390 edges\n",
      "Attention shape: (325, 325), min: 0.000000, max: 0.469971, mean: 0.002949\n",
      "Using percentile-based threshold: 0.000338 (50th percentile)\n",
      "Non-zero values: 52650/52650 (100.0%)\n",
      "Value range: [0.000006, 0.469971]\n"
     ]
    },
    {
     "name": "stderr",
     "output_type": "stream",
     "text": [
      " 92%|█████████▏| 458/500 [01:46<00:10,  4.12it/s]"
     ]
    },
    {
     "name": "stdout",
     "output_type": "stream",
     "text": [
      "Graph created: 325 nodes, 26328 edges\n"
     ]
    },
    {
     "name": "stderr",
     "output_type": "stream",
     "text": [
      " 92%|█████████▏| 459/500 [01:47<00:10,  4.07it/s]"
     ]
    },
    {
     "name": "stdout",
     "output_type": "stream",
     "text": [
      "Attention shape: (393, 393), min: 0.000000, max: 0.479248, mean: 0.002438\n",
      "Using fallback threshold (10% of max): 0.047913\n",
      "Non-zero values: 77028/77028 (100.0%)\n",
      "Value range: [0.000005, 0.479248]\n",
      "Graph created: 393 nodes, 392 edges\n"
     ]
    },
    {
     "name": "stderr",
     "output_type": "stream",
     "text": [
      " 92%|█████████▏| 460/500 [01:47<00:09,  4.01it/s]"
     ]
    },
    {
     "name": "stdout",
     "output_type": "stream",
     "text": [
      "Attention shape: (402, 402), min: 0.000000, max: 0.468506, mean: 0.002384\n",
      "Using fallback threshold (10% of max): 0.046844\n",
      "Non-zero values: 80601/80601 (100.0%)\n",
      "Value range: [0.000011, 0.468506]\n",
      "Graph created: 402 nodes, 401 edges\n"
     ]
    },
    {
     "name": "stderr",
     "output_type": "stream",
     "text": [
      " 92%|█████████▏| 461/500 [01:47<00:09,  3.97it/s]"
     ]
    },
    {
     "name": "stdout",
     "output_type": "stream",
     "text": [
      "Attention shape: (404, 404), min: 0.000000, max: 0.472412, mean: 0.002371\n",
      "Using fallback threshold (10% of max): 0.047241\n",
      "Non-zero values: 81406/81406 (100.0%)\n",
      "Value range: [0.000012, 0.472412]\n",
      "Graph created: 404 nodes, 403 edges\n"
     ]
    },
    {
     "name": "stderr",
     "output_type": "stream",
     "text": [
      " 92%|█████████▏| 462/500 [01:47<00:09,  4.00it/s]"
     ]
    },
    {
     "name": "stdout",
     "output_type": "stream",
     "text": [
      "Attention shape: (394, 394), min: 0.000000, max: 0.475830, mean: 0.002436\n",
      "Using fallback threshold (10% of max): 0.047577\n",
      "Non-zero values: 77421/77421 (100.0%)\n",
      "Value range: [0.000016, 0.475830]\n",
      "Graph created: 394 nodes, 393 edges\n"
     ]
    },
    {
     "name": "stderr",
     "output_type": "stream",
     "text": [
      " 93%|█████████▎| 463/500 [01:48<00:09,  3.98it/s]"
     ]
    },
    {
     "name": "stdout",
     "output_type": "stream",
     "text": [
      "Attention shape: (399, 399), min: 0.000000, max: 0.470947, mean: 0.002398\n",
      "Using fallback threshold (10% of max): 0.047089\n",
      "Non-zero values: 79401/79401 (100.0%)\n",
      "Value range: [0.000009, 0.470947]\n",
      "Graph created: 399 nodes, 398 edges\n"
     ]
    },
    {
     "name": "stderr",
     "output_type": "stream",
     "text": [
      " 93%|█████████▎| 464/500 [01:48<00:08,  4.03it/s]"
     ]
    },
    {
     "name": "stdout",
     "output_type": "stream",
     "text": [
      "Attention shape: (389, 389), min: 0.000000, max: 0.479980, mean: 0.002462\n",
      "Using fallback threshold (10% of max): 0.047974\n",
      "Non-zero values: 75466/75466 (100.0%)\n",
      "Value range: [0.000010, 0.479980]\n",
      "Graph created: 389 nodes, 388 edges\n"
     ]
    },
    {
     "name": "stderr",
     "output_type": "stream",
     "text": [
      " 93%|█████████▎| 465/500 [01:48<00:08,  4.08it/s]"
     ]
    },
    {
     "name": "stdout",
     "output_type": "stream",
     "text": [
      "Attention shape: (388, 388), min: 0.000000, max: 0.471191, mean: 0.002470\n",
      "Using fallback threshold (10% of max): 0.047119\n",
      "Non-zero values: 75078/75078 (100.0%)\n",
      "Value range: [0.000014, 0.471191]\n",
      "Graph created: 388 nodes, 388 edges\n"
     ]
    },
    {
     "name": "stderr",
     "output_type": "stream",
     "text": [
      " 93%|█████████▎| 466/500 [01:48<00:08,  4.17it/s]"
     ]
    },
    {
     "name": "stdout",
     "output_type": "stream",
     "text": [
      "Attention shape: (383, 383), min: 0.000000, max: 0.473145, mean: 0.002499\n",
      "Using fallback threshold (10% of max): 0.047302\n",
      "Non-zero values: 73153/73153 (100.0%)\n",
      "Value range: [0.000012, 0.473145]\n",
      "Graph created: 383 nodes, 382 edges\n"
     ]
    },
    {
     "name": "stderr",
     "output_type": "stream",
     "text": [
      " 93%|█████████▎| 467/500 [01:49<00:07,  4.23it/s]"
     ]
    },
    {
     "name": "stdout",
     "output_type": "stream",
     "text": [
      "Attention shape: (381, 381), min: 0.000000, max: 0.474121, mean: 0.002510\n",
      "Using fallback threshold (10% of max): 0.047394\n",
      "Non-zero values: 72390/72390 (100.0%)\n",
      "Value range: [0.000005, 0.474121]\n",
      "Graph created: 381 nodes, 380 edges\n"
     ]
    },
    {
     "name": "stderr",
     "output_type": "stream",
     "text": [
      " 94%|█████████▎| 468/500 [01:49<00:07,  4.23it/s]"
     ]
    },
    {
     "name": "stdout",
     "output_type": "stream",
     "text": [
      "Attention shape: (389, 389), min: 0.000000, max: 0.479736, mean: 0.002462\n",
      "Using fallback threshold (10% of max): 0.047974\n",
      "Non-zero values: 75466/75466 (100.0%)\n",
      "Value range: [0.000011, 0.479736]\n",
      "Graph created: 389 nodes, 388 edges\n"
     ]
    },
    {
     "name": "stderr",
     "output_type": "stream",
     "text": [
      " 94%|█████████▍| 469/500 [01:49<00:07,  4.22it/s]"
     ]
    },
    {
     "name": "stdout",
     "output_type": "stream",
     "text": [
      "Attention shape: (388, 388), min: 0.000000, max: 0.477295, mean: 0.002470\n",
      "Using fallback threshold (10% of max): 0.047729\n",
      "Non-zero values: 75078/75078 (100.0%)\n",
      "Value range: [0.000008, 0.477295]\n",
      "Graph created: 388 nodes, 387 edges\n"
     ]
    },
    {
     "name": "stderr",
     "output_type": "stream",
     "text": [
      " 94%|█████████▍| 470/500 [01:49<00:06,  4.33it/s]"
     ]
    },
    {
     "name": "stdout",
     "output_type": "stream",
     "text": [
      "Attention shape: (376, 376), min: 0.000000, max: 0.468506, mean: 0.002544\n",
      "Using fallback threshold (10% of max): 0.046844\n",
      "Non-zero values: 70500/70500 (100.0%)\n",
      "Value range: [0.000012, 0.468506]\n",
      "Graph created: 376 nodes, 375 edges\n"
     ]
    },
    {
     "name": "stderr",
     "output_type": "stream",
     "text": [
      " 94%|█████████▍| 471/500 [01:50<00:06,  4.40it/s]"
     ]
    },
    {
     "name": "stdout",
     "output_type": "stream",
     "text": [
      "Attention shape: (376, 376), min: 0.000000, max: 0.475830, mean: 0.002554\n",
      "Using fallback threshold (10% of max): 0.047577\n",
      "Non-zero values: 70500/70500 (100.0%)\n",
      "Value range: [0.000019, 0.475830]\n",
      "Graph created: 376 nodes, 375 edges\n"
     ]
    },
    {
     "name": "stderr",
     "output_type": "stream",
     "text": [
      " 94%|█████████▍| 472/500 [01:50<00:06,  4.26it/s]"
     ]
    },
    {
     "name": "stdout",
     "output_type": "stream",
     "text": [
      "Attention shape: (398, 398), min: 0.000000, max: 0.468506, mean: 0.002407\n",
      "Using fallback threshold (10% of max): 0.046844\n",
      "Non-zero values: 79003/79003 (100.0%)\n",
      "Value range: [0.000010, 0.468506]\n",
      "Graph created: 398 nodes, 397 edges\n"
     ]
    },
    {
     "name": "stderr",
     "output_type": "stream",
     "text": [
      " 95%|█████████▍| 473/500 [01:50<00:06,  4.06it/s]"
     ]
    },
    {
     "name": "stdout",
     "output_type": "stream",
     "text": [
      "Attention shape: (358, 358), min: 0.000000, max: 0.478271, mean: 0.002674\n",
      "Using percentile-based threshold: 0.000284 (50th percentile)\n",
      "Non-zero values: 63903/63903 (100.0%)\n",
      "Value range: [0.000016, 0.478271]\n",
      "Graph created: 358 nodes, 31949 edges\n"
     ]
    },
    {
     "name": "stderr",
     "output_type": "stream",
     "text": [
      " 95%|█████████▍| 474/500 [01:50<00:06,  4.06it/s]"
     ]
    },
    {
     "name": "stdout",
     "output_type": "stream",
     "text": [
      "Attention shape: (390, 390), min: 0.000000, max: 0.469971, mean: 0.002455\n",
      "Using fallback threshold (10% of max): 0.046997\n",
      "Non-zero values: 75855/75855 (100.0%)\n",
      "Value range: [0.000010, 0.469971]\n",
      "Graph created: 390 nodes, 389 edges\n"
     ]
    },
    {
     "name": "stderr",
     "output_type": "stream",
     "text": [
      " 95%|█████████▌| 475/500 [01:51<00:06,  4.01it/s]"
     ]
    },
    {
     "name": "stdout",
     "output_type": "stream",
     "text": [
      "Attention shape: (403, 403), min: 0.000000, max: 0.477783, mean: 0.002382\n",
      "Using fallback threshold (10% of max): 0.047760\n",
      "Non-zero values: 81003/81003 (100.0%)\n",
      "Value range: [0.000013, 0.477783]\n",
      "Graph created: 403 nodes, 402 edges\n"
     ]
    },
    {
     "name": "stderr",
     "output_type": "stream",
     "text": [
      " 95%|█████████▌| 476/500 [01:51<00:05,  4.10it/s]"
     ]
    },
    {
     "name": "stdout",
     "output_type": "stream",
     "text": [
      "Attention shape: (374, 374), min: 0.000000, max: 0.469971, mean: 0.002560\n",
      "Using fallback threshold (10% of max): 0.046997\n",
      "Non-zero values: 69751/69751 (100.0%)\n",
      "Value range: [0.000019, 0.469971]\n",
      "Graph created: 374 nodes, 373 edges\n"
     ]
    },
    {
     "name": "stderr",
     "output_type": "stream",
     "text": [
      " 95%|█████████▌| 477/500 [01:51<00:05,  4.12it/s]"
     ]
    },
    {
     "name": "stdout",
     "output_type": "stream",
     "text": [
      "Attention shape: (396, 396), min: 0.000000, max: 0.472900, mean: 0.002417\n",
      "Using fallback threshold (10% of max): 0.047272\n",
      "Non-zero values: 78210/78210 (100.0%)\n",
      "Value range: [0.000010, 0.472900]\n",
      "Graph created: 396 nodes, 395 edges\n"
     ]
    },
    {
     "name": "stderr",
     "output_type": "stream",
     "text": [
      " 96%|█████████▌| 478/500 [01:51<00:05,  4.25it/s]"
     ]
    },
    {
     "name": "stdout",
     "output_type": "stream",
     "text": [
      "Attention shape: (373, 373), min: 0.000000, max: 0.470459, mean: 0.002571\n",
      "Using fallback threshold (10% of max): 0.047028\n",
      "Non-zero values: 69378/69378 (100.0%)\n",
      "Value range: [0.000023, 0.470459]\n",
      "Graph created: 373 nodes, 372 edges\n"
     ]
    },
    {
     "name": "stderr",
     "output_type": "stream",
     "text": [
      " 96%|█████████▌| 479/500 [01:51<00:05,  4.18it/s]"
     ]
    },
    {
     "name": "stdout",
     "output_type": "stream",
     "text": [
      "Attention shape: (397, 397), min: 0.000000, max: 0.475830, mean: 0.002413\n",
      "Using fallback threshold (10% of max): 0.047577\n",
      "Non-zero values: 78606/78606 (100.0%)\n",
      "Value range: [0.000013, 0.475830]\n",
      "Graph created: 397 nodes, 396 edges\n"
     ]
    },
    {
     "name": "stderr",
     "output_type": "stream",
     "text": [
      " 96%|█████████▌| 480/500 [01:52<00:05,  3.84it/s]"
     ]
    },
    {
     "name": "stdout",
     "output_type": "stream",
     "text": [
      "Attention shape: (437, 437), min: 0.000000, max: 0.476318, mean: 0.002197\n",
      "Using fallback threshold (10% of max): 0.047607\n",
      "Non-zero values: 95266/95266 (100.0%)\n",
      "Value range: [0.000015, 0.476318]\n",
      "Graph created: 437 nodes, 436 edges\n"
     ]
    },
    {
     "name": "stderr",
     "output_type": "stream",
     "text": [
      " 96%|█████████▌| 481/500 [01:52<00:04,  3.91it/s]"
     ]
    },
    {
     "name": "stdout",
     "output_type": "stream",
     "text": [
      "Attention shape: (393, 393), min: 0.000000, max: 0.479248, mean: 0.002438\n",
      "Using fallback threshold (10% of max): 0.047913\n",
      "Non-zero values: 77028/77028 (100.0%)\n",
      "Value range: [0.000014, 0.479248]\n",
      "Graph created: 393 nodes, 392 edges\n"
     ]
    },
    {
     "name": "stderr",
     "output_type": "stream",
     "text": [
      " 96%|█████████▋| 482/500 [01:52<00:04,  4.08it/s]"
     ]
    },
    {
     "name": "stdout",
     "output_type": "stream",
     "text": [
      "Attention shape: (374, 374), min: 0.000000, max: 0.477295, mean: 0.002560\n",
      "Using fallback threshold (10% of max): 0.047729\n",
      "Non-zero values: 69751/69751 (100.0%)\n",
      "Value range: [0.000011, 0.477295]\n",
      "Graph created: 374 nodes, 373 edges\n"
     ]
    },
    {
     "name": "stderr",
     "output_type": "stream",
     "text": [
      " 97%|█████████▋| 483/500 [01:53<00:04,  4.03it/s]"
     ]
    },
    {
     "name": "stdout",
     "output_type": "stream",
     "text": [
      "Attention shape: (403, 403), min: 0.000000, max: 0.474121, mean: 0.002382\n",
      "Using fallback threshold (10% of max): 0.047394\n",
      "Non-zero values: 81003/81003 (100.0%)\n",
      "Value range: [0.000007, 0.474121]\n",
      "Graph created: 403 nodes, 402 edges\n"
     ]
    },
    {
     "name": "stderr",
     "output_type": "stream",
     "text": [
      " 97%|█████████▋| 484/500 [01:53<00:03,  4.07it/s]"
     ]
    },
    {
     "name": "stdout",
     "output_type": "stream",
     "text": [
      "Attention shape: (395, 395), min: 0.000000, max: 0.469971, mean: 0.002428\n",
      "Using fallback threshold (10% of max): 0.046997\n",
      "Non-zero values: 77815/77815 (100.0%)\n",
      "Value range: [0.000014, 0.469971]\n",
      "Graph created: 395 nodes, 394 edges\n"
     ]
    },
    {
     "name": "stderr",
     "output_type": "stream",
     "text": [
      " 97%|█████████▋| 485/500 [01:53<00:03,  4.29it/s]"
     ]
    },
    {
     "name": "stdout",
     "output_type": "stream",
     "text": [
      "Attention shape: (367, 367), min: 0.000000, max: 0.475342, mean: 0.002609\n",
      "Using fallback threshold (10% of max): 0.047516\n",
      "Non-zero values: 67161/67161 (100.0%)\n",
      "Value range: [0.000012, 0.475342]\n",
      "Graph created: 367 nodes, 366 edges\n"
     ]
    },
    {
     "name": "stderr",
     "output_type": "stream",
     "text": [
      " 97%|█████████▋| 486/500 [01:53<00:03,  4.27it/s]"
     ]
    },
    {
     "name": "stdout",
     "output_type": "stream",
     "text": [
      "Attention shape: (390, 390), min: 0.000000, max: 0.481201, mean: 0.002460\n",
      "Using fallback threshold (10% of max): 0.048096\n",
      "Non-zero values: 75855/75855 (100.0%)\n",
      "Value range: [0.000010, 0.481201]\n",
      "Graph created: 390 nodes, 389 edges\n"
     ]
    },
    {
     "name": "stderr",
     "output_type": "stream",
     "text": [
      " 97%|█████████▋| 487/500 [01:53<00:03,  4.28it/s]"
     ]
    },
    {
     "name": "stdout",
     "output_type": "stream",
     "text": [
      "Attention shape: (388, 388), min: 0.000000, max: 0.474121, mean: 0.002468\n",
      "Using fallback threshold (10% of max): 0.047394\n",
      "Non-zero values: 75078/75078 (100.0%)\n",
      "Value range: [0.000010, 0.474121]\n",
      "Graph created: 388 nodes, 387 edges\n"
     ]
    },
    {
     "name": "stderr",
     "output_type": "stream",
     "text": [
      " 98%|█████████▊| 488/500 [01:54<00:02,  4.26it/s]"
     ]
    },
    {
     "name": "stdout",
     "output_type": "stream",
     "text": [
      "Attention shape: (391, 391), min: 0.000000, max: 0.477051, mean: 0.002451\n",
      "Using fallback threshold (10% of max): 0.047699\n",
      "Non-zero values: 76245/76245 (100.0%)\n",
      "Value range: [0.000017, 0.477051]\n",
      "Graph created: 391 nodes, 390 edges\n"
     ]
    },
    {
     "name": "stderr",
     "output_type": "stream",
     "text": [
      " 98%|█████████▊| 489/500 [01:54<00:02,  4.39it/s]"
     ]
    },
    {
     "name": "stdout",
     "output_type": "stream",
     "text": [
      "Attention shape: (373, 373), min: 0.000000, max: 0.477051, mean: 0.002565\n",
      "Using fallback threshold (10% of max): 0.047699\n",
      "Non-zero values: 69378/69378 (100.0%)\n",
      "Value range: [0.000013, 0.477051]\n",
      "Graph created: 373 nodes, 374 edges\n"
     ]
    },
    {
     "name": "stderr",
     "output_type": "stream",
     "text": [
      " 98%|█████████▊| 490/500 [01:54<00:02,  4.27it/s]"
     ]
    },
    {
     "name": "stdout",
     "output_type": "stream",
     "text": [
      "Attention shape: (404, 404), min: 0.000000, max: 0.474121, mean: 0.002373\n",
      "Using fallback threshold (10% of max): 0.047394\n",
      "Non-zero values: 81406/81406 (100.0%)\n",
      "Value range: [0.000010, 0.474121]\n",
      "Graph created: 404 nodes, 403 edges\n"
     ]
    },
    {
     "name": "stderr",
     "output_type": "stream",
     "text": [
      " 98%|█████████▊| 491/500 [01:54<00:02,  4.24it/s]"
     ]
    },
    {
     "name": "stdout",
     "output_type": "stream",
     "text": [
      "Attention shape: (394, 394), min: 0.000000, max: 0.477783, mean: 0.002428\n",
      "Using fallback threshold (10% of max): 0.047760\n",
      "Non-zero values: 77421/77421 (100.0%)\n",
      "Value range: [0.000007, 0.477783]\n",
      "Graph created: 394 nodes, 393 edges\n",
      "Attention shape: (333, 333), min: 0.000000, max: 0.477783, mean: 0.002882\n",
      "Using percentile-based threshold: 0.000196 (50th percentile)\n",
      "Non-zero values: 55278/55278 (100.0%)\n",
      "Value range: [0.000011, 0.477783]\n"
     ]
    },
    {
     "name": "stderr",
     "output_type": "stream",
     "text": [
      " 98%|█████████▊| 492/500 [01:55<00:01,  4.24it/s]"
     ]
    },
    {
     "name": "stdout",
     "output_type": "stream",
     "text": [
      "Graph created: 333 nodes, 27641 edges\n"
     ]
    },
    {
     "name": "stderr",
     "output_type": "stream",
     "text": [
      " 99%|█████████▊| 493/500 [01:55<00:01,  4.37it/s]"
     ]
    },
    {
     "name": "stdout",
     "output_type": "stream",
     "text": [
      "Attention shape: (373, 373), min: 0.000000, max: 0.471924, mean: 0.002567\n",
      "Using fallback threshold (10% of max): 0.047180\n",
      "Non-zero values: 69378/69378 (100.0%)\n",
      "Value range: [0.000009, 0.471924]\n",
      "Graph created: 373 nodes, 372 edges\n",
      "Attention shape: (356, 356), min: 0.000000, max: 0.477783, mean: 0.002687\n"
     ]
    },
    {
     "name": "stderr",
     "output_type": "stream",
     "text": [
      " 99%|█████████▉| 494/500 [01:55<00:01,  4.20it/s]"
     ]
    },
    {
     "name": "stdout",
     "output_type": "stream",
     "text": [
      "Using percentile-based threshold: 0.000256 (50th percentile)\n",
      "Non-zero values: 63190/63190 (100.0%)\n",
      "Value range: [0.000011, 0.477783]\n",
      "Graph created: 356 nodes, 31583 edges\n"
     ]
    },
    {
     "name": "stderr",
     "output_type": "stream",
     "text": [
      " 99%|█████████▉| 495/500 [01:55<00:01,  4.16it/s]"
     ]
    },
    {
     "name": "stdout",
     "output_type": "stream",
     "text": [
      "Attention shape: (400, 400), min: 0.000000, max: 0.470703, mean: 0.002407\n",
      "Using fallback threshold (10% of max): 0.047058\n",
      "Non-zero values: 79800/79800 (100.0%)\n",
      "Value range: [0.000015, 0.470703]\n",
      "Graph created: 400 nodes, 399 edges\n"
     ]
    },
    {
     "name": "stderr",
     "output_type": "stream",
     "text": [
      " 99%|█████████▉| 496/500 [01:56<00:00,  4.30it/s]"
     ]
    },
    {
     "name": "stdout",
     "output_type": "stream",
     "text": [
      "Attention shape: (370, 370), min: 0.000000, max: 0.476074, mean: 0.002592\n",
      "Using fallback threshold (10% of max): 0.047607\n",
      "Non-zero values: 68265/68265 (100.0%)\n",
      "Value range: [0.000013, 0.476074]\n",
      "Graph created: 370 nodes, 369 edges\n"
     ]
    },
    {
     "name": "stderr",
     "output_type": "stream",
     "text": [
      " 99%|█████████▉| 497/500 [01:56<00:00,  4.24it/s]"
     ]
    },
    {
     "name": "stdout",
     "output_type": "stream",
     "text": [
      "Attention shape: (392, 392), min: 0.000000, max: 0.475586, mean: 0.002449\n",
      "Using fallback threshold (10% of max): 0.047546\n",
      "Non-zero values: 76636/76636 (100.0%)\n",
      "Value range: [0.000010, 0.475586]\n",
      "Graph created: 392 nodes, 391 edges\n"
     ]
    },
    {
     "name": "stderr",
     "output_type": "stream",
     "text": [
      "100%|█████████▉| 498/500 [01:56<00:00,  4.32it/s]"
     ]
    },
    {
     "name": "stdout",
     "output_type": "stream",
     "text": [
      "Attention shape: (375, 375), min: 0.000000, max: 0.472168, mean: 0.002556\n",
      "Using fallback threshold (10% of max): 0.047211\n",
      "Non-zero values: 70125/70125 (100.0%)\n",
      "Value range: [0.000009, 0.472168]\n",
      "Graph created: 375 nodes, 374 edges\n"
     ]
    },
    {
     "name": "stderr",
     "output_type": "stream",
     "text": [
      "100%|█████████▉| 499/500 [01:56<00:00,  4.42it/s]"
     ]
    },
    {
     "name": "stdout",
     "output_type": "stream",
     "text": [
      "Attention shape: (370, 370), min: 0.000000, max: 0.475342, mean: 0.002594\n",
      "Using fallback threshold (10% of max): 0.047516\n",
      "Non-zero values: 68265/68265 (100.0%)\n",
      "Value range: [0.000013, 0.475342]\n",
      "Graph created: 370 nodes, 369 edges\n"
     ]
    },
    {
     "name": "stderr",
     "output_type": "stream",
     "text": [
      "100%|██████████| 500/500 [01:56<00:00,  4.28it/s]"
     ]
    },
    {
     "name": "stdout",
     "output_type": "stream",
     "text": [
      "Attention shape: (377, 377), min: 0.000000, max: 0.468506, mean: 0.002542\n",
      "Using fallback threshold (10% of max): 0.046844\n",
      "Non-zero values: 70876/70876 (100.0%)\n",
      "Value range: [0.000015, 0.468506]\n",
      "Graph created: 377 nodes, 376 edges\n"
     ]
    },
    {
     "name": "stderr",
     "output_type": "stream",
     "text": [
      "\n"
     ]
    }
   ],
   "source": [
    "import pyarrow\n",
    "import pyarrow.parquet as pq\n",
    "\n",
    "from datasets import load_dataset\n",
    "\n",
    "# Load the dataset\n",
    "dataset = load_dataset(\"acmc/watermarked_c4_dataset\", split=\"train\")\n",
    "\n",
    "# Convert to pandas\n",
    "data_water = dataset.to_pandas()\n",
    "\n",
    "# Filter the data\n",
    "water = data_water[data_water['generated'] == True][0:500]\n",
    "nonwater = data_water[data_water['generated'] == False][0:500]\n",
    "\n",
    "# Process\n",
    "nonwater_tda = process_texts(nonwater['text'])"
   ]
  },
  {
   "cell_type": "code",
   "execution_count": 20,
   "id": "a340f571-07cb-48ff-9aa5-be300fcdcda7",
   "metadata": {},
   "outputs": [
    {
     "data": {
      "application/vnd.jupyter.widget-view+json": {
       "model_id": "d359e06626fb4a9692fbe158b46e5e8f",
       "version_major": 2,
       "version_minor": 0
      },
      "text/plain": [
       "Loading checkpoint shards:   0%|          | 0/4 [00:00<?, ?it/s]"
      ]
     },
     "metadata": {},
     "output_type": "display_data"
    },
    {
     "name": "stderr",
     "output_type": "stream",
     "text": [
      "  0%|          | 0/500 [00:00<?, ?it/s]/usr/local/lib/python3.12/dist-packages/numpy/lib/_function_base_impl.py:107: RuntimeWarning: overflow encountered in cast\n",
      "  get_virtual_index=lambda n, quantiles: (n - 1) * quantiles,\n",
      "/usr/local/lib/python3.12/dist-packages/numpy/lib/_function_base_impl.py:4717: RuntimeWarning: overflow encountered in cast\n",
      "  indexes_above_bounds = virtual_indexes >= valid_values_count - 1\n",
      "/usr/local/lib/python3.12/dist-packages/numpy/lib/_function_base_impl.py:4622: RuntimeWarning: invalid value encountered in multiply\n",
      "  lerp_interpolation = asanyarray(add(a, diff_b_a * t, out=out))\n",
      "/usr/local/lib/python3.12/dist-packages/numpy/lib/_function_base_impl.py:4623: RuntimeWarning: invalid value encountered in scalar multiply\n",
      "  subtract(b, diff_b_a * (1 - t), out=lerp_interpolation, where=t >= 0.5,\n",
      "  0%|          | 1/500 [00:00<02:32,  3.26it/s]"
     ]
    },
    {
     "name": "stdout",
     "output_type": "stream",
     "text": [
      "Attention shape: (390, 390), min: 0.000000, max: 0.478516, mean: 0.002459\n",
      "Using fallback threshold (10% of max): 0.047852\n",
      "Non-zero values: 75855/75855 (100.0%)\n",
      "Value range: [0.000012, 0.478516]\n",
      "Graph created: 390 nodes, 389 edges\n"
     ]
    },
    {
     "name": "stderr",
     "output_type": "stream",
     "text": [
      "  0%|          | 2/500 [00:00<02:09,  3.84it/s]"
     ]
    },
    {
     "name": "stdout",
     "output_type": "stream",
     "text": [
      "Attention shape: (388, 388), min: 0.000000, max: 0.476318, mean: 0.002466\n",
      "Using fallback threshold (10% of max): 0.047607\n",
      "Non-zero values: 75078/75078 (100.0%)\n",
      "Value range: [0.000006, 0.476318]\n",
      "Graph created: 388 nodes, 387 edges\n"
     ]
    },
    {
     "name": "stderr",
     "output_type": "stream",
     "text": [
      "  1%|          | 3/500 [00:00<02:07,  3.90it/s]"
     ]
    },
    {
     "name": "stdout",
     "output_type": "stream",
     "text": [
      "Attention shape: (402, 402), min: 0.000000, max: 0.473145, mean: 0.002388\n",
      "Using fallback threshold (10% of max): 0.047302\n",
      "Non-zero values: 80601/80601 (100.0%)\n",
      "Value range: [0.000012, 0.473145]\n",
      "Graph created: 402 nodes, 401 edges\n"
     ]
    },
    {
     "name": "stderr",
     "output_type": "stream",
     "text": [
      "  1%|          | 4/500 [00:00<01:57,  4.22it/s]"
     ]
    },
    {
     "name": "stdout",
     "output_type": "stream",
     "text": [
      "Attention shape: (364, 364), min: 0.000000, max: 0.468506, mean: 0.002632\n",
      "Using fallback threshold (10% of max): 0.046844\n",
      "Non-zero values: 66066/66066 (100.0%)\n",
      "Value range: [0.000011, 0.468506]\n",
      "Graph created: 364 nodes, 363 edges\n"
     ]
    },
    {
     "name": "stderr",
     "output_type": "stream",
     "text": [
      "  1%|          | 5/500 [00:01<01:55,  4.28it/s]"
     ]
    },
    {
     "name": "stdout",
     "output_type": "stream",
     "text": [
      "Attention shape: (388, 388), min: 0.000000, max: 0.476074, mean: 0.002470\n",
      "Using fallback threshold (10% of max): 0.047607\n",
      "Non-zero values: 75078/75078 (100.0%)\n",
      "Value range: [0.000015, 0.476074]\n",
      "Graph created: 388 nodes, 387 edges\n"
     ]
    },
    {
     "name": "stderr",
     "output_type": "stream",
     "text": [
      "  1%|          | 6/500 [00:01<01:54,  4.31it/s]"
     ]
    },
    {
     "name": "stdout",
     "output_type": "stream",
     "text": [
      "Attention shape: (389, 389), min: 0.000000, max: 0.473145, mean: 0.002464\n",
      "Using fallback threshold (10% of max): 0.047302\n",
      "Non-zero values: 75466/75466 (100.0%)\n",
      "Value range: [0.000015, 0.473145]\n",
      "Graph created: 389 nodes, 388 edges\n"
     ]
    },
    {
     "name": "stderr",
     "output_type": "stream",
     "text": [
      "  1%|▏         | 7/500 [00:01<01:59,  4.13it/s]"
     ]
    },
    {
     "name": "stdout",
     "output_type": "stream",
     "text": [
      "Attention shape: (415, 415), min: 0.000000, max: 0.475098, mean: 0.002317\n",
      "Using fallback threshold (10% of max): 0.047485\n",
      "Non-zero values: 85905/85905 (100.0%)\n",
      "Value range: [0.000020, 0.475098]\n",
      "Graph created: 415 nodes, 414 edges\n"
     ]
    },
    {
     "name": "stderr",
     "output_type": "stream",
     "text": [
      "  2%|▏         | 8/500 [00:01<01:58,  4.15it/s]"
     ]
    },
    {
     "name": "stdout",
     "output_type": "stream",
     "text": [
      "Attention shape: (396, 396), min: 0.000000, max: 0.471680, mean: 0.002424\n",
      "Using fallback threshold (10% of max): 0.047150\n",
      "Non-zero values: 78210/78210 (100.0%)\n",
      "Value range: [0.000019, 0.471680]\n",
      "Graph created: 396 nodes, 395 edges\n"
     ]
    },
    {
     "name": "stderr",
     "output_type": "stream",
     "text": [
      "  2%|▏         | 9/500 [00:02<01:56,  4.20it/s]"
     ]
    },
    {
     "name": "stdout",
     "output_type": "stream",
     "text": [
      "Attention shape: (390, 390), min: 0.000000, max: 0.475830, mean: 0.002460\n",
      "Using fallback threshold (10% of max): 0.047577\n",
      "Non-zero values: 75855/75855 (100.0%)\n",
      "Value range: [0.000017, 0.475830]\n",
      "Graph created: 390 nodes, 389 edges\n"
     ]
    },
    {
     "name": "stderr",
     "output_type": "stream",
     "text": [
      "  2%|▏         | 10/500 [00:02<01:53,  4.31it/s]"
     ]
    },
    {
     "name": "stdout",
     "output_type": "stream",
     "text": [
      "Attention shape: (383, 383), min: 0.000000, max: 0.475830, mean: 0.002501\n",
      "Using fallback threshold (10% of max): 0.047577\n",
      "Non-zero values: 73153/73153 (100.0%)\n",
      "Value range: [0.000019, 0.475830]\n",
      "Graph created: 383 nodes, 382 edges\n"
     ]
    },
    {
     "name": "stderr",
     "output_type": "stream",
     "text": [
      "  2%|▏         | 11/500 [00:02<01:51,  4.38it/s]"
     ]
    },
    {
     "name": "stdout",
     "output_type": "stream",
     "text": [
      "Attention shape: (384, 384), min: 0.000000, max: 0.475586, mean: 0.002497\n",
      "Using fallback threshold (10% of max): 0.047546\n",
      "Non-zero values: 73536/73536 (100.0%)\n",
      "Value range: [0.000008, 0.475586]\n",
      "Graph created: 384 nodes, 383 edges\n"
     ]
    },
    {
     "name": "stderr",
     "output_type": "stream",
     "text": [
      "  2%|▏         | 12/500 [00:02<01:47,  4.53it/s]"
     ]
    },
    {
     "name": "stdout",
     "output_type": "stream",
     "text": [
      "Attention shape: (364, 364), min: 0.000000, max: 0.474609, mean: 0.002634\n",
      "Using fallback threshold (10% of max): 0.047455\n",
      "Non-zero values: 66066/66066 (100.0%)\n",
      "Value range: [0.000009, 0.474609]\n",
      "Graph created: 364 nodes, 363 edges\n"
     ]
    },
    {
     "name": "stderr",
     "output_type": "stream",
     "text": [
      "  3%|▎         | 13/500 [00:03<01:47,  4.55it/s]"
     ]
    },
    {
     "name": "stdout",
     "output_type": "stream",
     "text": [
      "Attention shape: (382, 382), min: 0.000000, max: 0.474365, mean: 0.002508\n",
      "Using fallback threshold (10% of max): 0.047424\n",
      "Non-zero values: 72771/72771 (100.0%)\n",
      "Value range: [0.000013, 0.474365]\n",
      "Graph created: 382 nodes, 381 edges\n"
     ]
    },
    {
     "name": "stderr",
     "output_type": "stream",
     "text": [
      "  3%|▎         | 14/500 [00:03<01:50,  4.40it/s]"
     ]
    },
    {
     "name": "stdout",
     "output_type": "stream",
     "text": [
      "Attention shape: (403, 403), min: 0.000000, max: 0.470459, mean: 0.002378\n",
      "Using fallback threshold (10% of max): 0.047028\n",
      "Non-zero values: 81003/81003 (100.0%)\n",
      "Value range: [0.000012, 0.470459]\n",
      "Graph created: 403 nodes, 402 edges\n"
     ]
    },
    {
     "name": "stderr",
     "output_type": "stream",
     "text": [
      "  3%|▎         | 15/500 [00:03<01:51,  4.34it/s]"
     ]
    },
    {
     "name": "stdout",
     "output_type": "stream",
     "text": [
      "Attention shape: (395, 395), min: 0.000000, max: 0.475586, mean: 0.002439\n",
      "Using fallback threshold (10% of max): 0.047546\n",
      "Non-zero values: 77815/77815 (100.0%)\n",
      "Value range: [0.000015, 0.475586]\n",
      "Graph created: 395 nodes, 394 edges\n"
     ]
    },
    {
     "name": "stderr",
     "output_type": "stream",
     "text": [
      "  3%|▎         | 16/500 [00:03<01:52,  4.30it/s]"
     ]
    },
    {
     "name": "stdout",
     "output_type": "stream",
     "text": [
      "Attention shape: (396, 396), min: 0.000000, max: 0.477295, mean: 0.002424\n",
      "Using fallback threshold (10% of max): 0.047729\n",
      "Non-zero values: 78210/78210 (100.0%)\n",
      "Value range: [0.000020, 0.477295]\n",
      "Graph created: 396 nodes, 395 edges\n"
     ]
    },
    {
     "name": "stderr",
     "output_type": "stream",
     "text": [
      "  3%|▎         | 17/500 [00:03<01:49,  4.39it/s]"
     ]
    },
    {
     "name": "stdout",
     "output_type": "stream",
     "text": [
      "Attention shape: (380, 380), min: 0.000000, max: 0.475098, mean: 0.002520\n",
      "Using fallback threshold (10% of max): 0.047485\n",
      "Non-zero values: 72010/72010 (100.0%)\n",
      "Value range: [0.000014, 0.475098]\n",
      "Graph created: 380 nodes, 379 edges\n"
     ]
    },
    {
     "name": "stderr",
     "output_type": "stream",
     "text": [
      "  4%|▎         | 18/500 [00:04<01:50,  4.37it/s]"
     ]
    },
    {
     "name": "stdout",
     "output_type": "stream",
     "text": [
      "Attention shape: (390, 390), min: 0.000000, max: 0.468506, mean: 0.002455\n",
      "Using fallback threshold (10% of max): 0.046844\n",
      "Non-zero values: 75855/75855 (100.0%)\n",
      "Value range: [0.000009, 0.468506]\n",
      "Graph created: 390 nodes, 389 edges\n"
     ]
    },
    {
     "name": "stderr",
     "output_type": "stream",
     "text": [
      "  4%|▍         | 19/500 [00:04<01:50,  4.37it/s]"
     ]
    },
    {
     "name": "stdout",
     "output_type": "stream",
     "text": [
      "Attention shape: (385, 385), min: 0.000000, max: 0.479004, mean: 0.002485\n",
      "Using fallback threshold (10% of max): 0.047882\n",
      "Non-zero values: 73920/73920 (100.0%)\n",
      "Value range: [0.000010, 0.479004]\n",
      "Graph created: 385 nodes, 384 edges\n"
     ]
    },
    {
     "name": "stderr",
     "output_type": "stream",
     "text": [
      "  4%|▍         | 20/500 [00:04<01:46,  4.50it/s]"
     ]
    },
    {
     "name": "stdout",
     "output_type": "stream",
     "text": [
      "Attention shape: (367, 367), min: 0.000000, max: 0.475098, mean: 0.002607\n",
      "Using fallback threshold (10% of max): 0.047485\n",
      "Non-zero values: 67161/67161 (100.0%)\n",
      "Value range: [0.000013, 0.475098]\n",
      "Graph created: 367 nodes, 367 edges\n"
     ]
    },
    {
     "name": "stderr",
     "output_type": "stream",
     "text": [
      "  4%|▍         | 21/500 [00:04<01:47,  4.44it/s]"
     ]
    },
    {
     "name": "stdout",
     "output_type": "stream",
     "text": [
      "Attention shape: (390, 390), min: 0.000000, max: 0.477783, mean: 0.002455\n",
      "Using fallback threshold (10% of max): 0.047760\n",
      "Non-zero values: 75855/75855 (100.0%)\n",
      "Value range: [0.000009, 0.477783]\n",
      "Graph created: 390 nodes, 389 edges\n"
     ]
    },
    {
     "name": "stderr",
     "output_type": "stream",
     "text": [
      "  4%|▍         | 22/500 [00:05<01:49,  4.39it/s]"
     ]
    },
    {
     "name": "stdout",
     "output_type": "stream",
     "text": [
      "Attention shape: (392, 392), min: 0.000000, max: 0.471191, mean: 0.002439\n",
      "Using fallback threshold (10% of max): 0.047119\n",
      "Non-zero values: 76636/76636 (100.0%)\n",
      "Value range: [0.000004, 0.471191]\n",
      "Graph created: 392 nodes, 391 edges\n"
     ]
    },
    {
     "name": "stderr",
     "output_type": "stream",
     "text": [
      "  5%|▍         | 23/500 [00:05<01:46,  4.49it/s]"
     ]
    },
    {
     "name": "stdout",
     "output_type": "stream",
     "text": [
      "Attention shape: (374, 374), min: 0.000000, max: 0.468506, mean: 0.002563\n",
      "Using fallback threshold (10% of max): 0.046844\n",
      "Non-zero values: 69751/69751 (100.0%)\n",
      "Value range: [0.000013, 0.468506]\n",
      "Graph created: 374 nodes, 373 edges\n"
     ]
    },
    {
     "name": "stderr",
     "output_type": "stream",
     "text": [
      "  5%|▍         | 24/500 [00:05<01:49,  4.36it/s]"
     ]
    },
    {
     "name": "stdout",
     "output_type": "stream",
     "text": [
      "Attention shape: (402, 402), min: 0.000000, max: 0.470703, mean: 0.002392\n",
      "Using fallback threshold (10% of max): 0.047058\n",
      "Non-zero values: 80601/80601 (100.0%)\n",
      "Value range: [0.000013, 0.470703]\n",
      "Graph created: 402 nodes, 401 edges\n"
     ]
    },
    {
     "name": "stderr",
     "output_type": "stream",
     "text": [
      "  5%|▌         | 25/500 [00:05<01:51,  4.28it/s]"
     ]
    },
    {
     "name": "stdout",
     "output_type": "stream",
     "text": [
      "Attention shape: (401, 401), min: 0.000000, max: 0.468506, mean: 0.002392\n",
      "Using fallback threshold (10% of max): 0.046844\n",
      "Non-zero values: 80200/80200 (100.0%)\n",
      "Value range: [0.000011, 0.468506]\n",
      "Graph created: 401 nodes, 400 edges\n"
     ]
    },
    {
     "name": "stderr",
     "output_type": "stream",
     "text": [
      "  5%|▌         | 26/500 [00:06<01:50,  4.27it/s]"
     ]
    },
    {
     "name": "stdout",
     "output_type": "stream",
     "text": [
      "Attention shape: (389, 389), min: 0.000000, max: 0.476074, mean: 0.002464\n",
      "Using fallback threshold (10% of max): 0.047607\n",
      "Non-zero values: 75466/75466 (100.0%)\n",
      "Value range: [0.000010, 0.476074]\n",
      "Graph created: 389 nodes, 388 edges\n"
     ]
    },
    {
     "name": "stderr",
     "output_type": "stream",
     "text": [
      "  5%|▌         | 27/500 [00:06<01:48,  4.35it/s]"
     ]
    },
    {
     "name": "stdout",
     "output_type": "stream",
     "text": [
      "Attention shape: (383, 383), min: 0.000000, max: 0.469238, mean: 0.002495\n",
      "Using fallback threshold (10% of max): 0.046906\n",
      "Non-zero values: 73153/73153 (100.0%)\n",
      "Value range: [0.000008, 0.469238]\n",
      "Graph created: 383 nodes, 382 edges\n"
     ]
    },
    {
     "name": "stderr",
     "output_type": "stream",
     "text": [
      "  6%|▌         | 28/500 [00:06<01:48,  4.35it/s]"
     ]
    },
    {
     "name": "stdout",
     "output_type": "stream",
     "text": [
      "Attention shape: (387, 387), min: 0.000000, max: 0.468506, mean: 0.002478\n",
      "Using fallback threshold (10% of max): 0.046844\n",
      "Non-zero values: 74691/74691 (100.0%)\n",
      "Value range: [0.000010, 0.468506]\n",
      "Graph created: 387 nodes, 386 edges\n"
     ]
    },
    {
     "name": "stderr",
     "output_type": "stream",
     "text": [
      "  6%|▌         | 29/500 [00:06<01:50,  4.27it/s]"
     ]
    },
    {
     "name": "stdout",
     "output_type": "stream",
     "text": [
      "Attention shape: (402, 402), min: 0.000000, max: 0.480225, mean: 0.002401\n",
      "Using fallback threshold (10% of max): 0.048004\n",
      "Non-zero values: 80601/80601 (100.0%)\n",
      "Value range: [0.000003, 0.480225]\n",
      "Graph created: 402 nodes, 401 edges\n"
     ]
    },
    {
     "name": "stderr",
     "output_type": "stream",
     "text": [
      "  6%|▌         | 30/500 [00:06<01:50,  4.27it/s]"
     ]
    },
    {
     "name": "stdout",
     "output_type": "stream",
     "text": [
      "Attention shape: (392, 392), min: 0.000000, max: 0.473145, mean: 0.002455\n",
      "Using fallback threshold (10% of max): 0.047302\n",
      "Non-zero values: 76636/76636 (100.0%)\n",
      "Value range: [0.000010, 0.473145]\n",
      "Graph created: 392 nodes, 391 edges\n"
     ]
    },
    {
     "name": "stderr",
     "output_type": "stream",
     "text": [
      "  6%|▌         | 31/500 [00:07<01:51,  4.21it/s]"
     ]
    },
    {
     "name": "stdout",
     "output_type": "stream",
     "text": [
      "Attention shape: (403, 403), min: 0.000000, max: 0.479492, mean: 0.002378\n",
      "Using fallback threshold (10% of max): 0.047943\n",
      "Non-zero values: 81003/81003 (100.0%)\n",
      "Value range: [0.000008, 0.479492]\n",
      "Graph created: 403 nodes, 402 edges\n"
     ]
    },
    {
     "name": "stderr",
     "output_type": "stream",
     "text": [
      "  6%|▋         | 32/500 [00:07<01:54,  4.08it/s]"
     ]
    },
    {
     "name": "stdout",
     "output_type": "stream",
     "text": [
      "Attention shape: (357, 357), min: 0.000000, max: 0.477783, mean: 0.002678\n",
      "Using percentile-based threshold: 0.000286 (50th percentile)\n",
      "Non-zero values: 63546/63546 (100.0%)\n",
      "Value range: [0.000015, 0.477783]\n",
      "Graph created: 357 nodes, 31768 edges\n"
     ]
    },
    {
     "name": "stderr",
     "output_type": "stream",
     "text": [
      "  7%|▋         | 33/500 [00:07<01:51,  4.20it/s]"
     ]
    },
    {
     "name": "stdout",
     "output_type": "stream",
     "text": [
      "Attention shape: (383, 383), min: 0.000000, max: 0.475830, mean: 0.002512\n",
      "Using fallback threshold (10% of max): 0.047577\n",
      "Non-zero values: 73153/73153 (100.0%)\n",
      "Value range: [0.000018, 0.475830]\n",
      "Graph created: 383 nodes, 383 edges\n"
     ]
    },
    {
     "name": "stderr",
     "output_type": "stream",
     "text": [
      "  7%|▋         | 35/500 [00:08<01:31,  5.09it/s]"
     ]
    },
    {
     "name": "stdout",
     "output_type": "stream",
     "text": [
      "Attention shape: (389, 389), min: 0.000000, max: 0.473389, mean: 0.002462\n",
      "Using fallback threshold (10% of max): 0.047333\n",
      "Non-zero values: 75466/75466 (100.0%)\n",
      "Value range: [0.000008, 0.473389]\n",
      "Graph created: 389 nodes, 388 edges\n",
      "Attention shape: (253, 253), min: 0.000000, max: 0.472168, mean: 0.003771\n",
      "Using percentile-based threshold: 0.000268 (50th percentile)\n",
      "Non-zero values: 31878/31878 (100.0%)\n",
      "Value range: [0.000014, 0.472168]\n",
      "Graph created: 253 nodes, 15932 edges\n"
     ]
    },
    {
     "name": "stderr",
     "output_type": "stream",
     "text": [
      "  7%|▋         | 36/500 [00:08<01:36,  4.82it/s]"
     ]
    },
    {
     "name": "stdout",
     "output_type": "stream",
     "text": [
      "Attention shape: (389, 389), min: 0.000000, max: 0.475342, mean: 0.002464\n",
      "Using fallback threshold (10% of max): 0.047516\n",
      "Non-zero values: 75466/75466 (100.0%)\n",
      "Value range: [0.000009, 0.475342]\n",
      "Graph created: 389 nodes, 388 edges\n"
     ]
    },
    {
     "name": "stderr",
     "output_type": "stream",
     "text": [
      "  7%|▋         | 37/500 [00:08<01:39,  4.63it/s]"
     ]
    },
    {
     "name": "stdout",
     "output_type": "stream",
     "text": [
      "Attention shape: (391, 391), min: 0.000000, max: 0.472900, mean: 0.002451\n",
      "Using fallback threshold (10% of max): 0.047272\n",
      "Non-zero values: 76245/76245 (100.0%)\n",
      "Value range: [0.000019, 0.472900]\n",
      "Graph created: 391 nodes, 390 edges\n"
     ]
    },
    {
     "name": "stderr",
     "output_type": "stream",
     "text": [
      "  8%|▊         | 38/500 [00:08<01:43,  4.47it/s]"
     ]
    },
    {
     "name": "stdout",
     "output_type": "stream",
     "text": [
      "Attention shape: (400, 400), min: 0.000000, max: 0.481934, mean: 0.002399\n",
      "Using fallback threshold (10% of max): 0.048187\n",
      "Non-zero values: 79800/79800 (100.0%)\n",
      "Value range: [0.000008, 0.481934]\n",
      "Graph created: 400 nodes, 399 edges\n"
     ]
    },
    {
     "name": "stderr",
     "output_type": "stream",
     "text": [
      "  8%|▊         | 39/500 [00:08<01:42,  4.51it/s]"
     ]
    },
    {
     "name": "stdout",
     "output_type": "stream",
     "text": [
      "Attention shape: (379, 379), min: 0.000000, max: 0.481689, mean: 0.002531\n",
      "Using fallback threshold (10% of max): 0.048157\n",
      "Non-zero values: 71631/71631 (100.0%)\n",
      "Value range: [0.000016, 0.481689]\n",
      "Graph created: 379 nodes, 378 edges\n"
     ]
    },
    {
     "name": "stderr",
     "output_type": "stream",
     "text": [
      "  8%|▊         | 40/500 [00:09<01:44,  4.40it/s]"
     ]
    },
    {
     "name": "stdout",
     "output_type": "stream",
     "text": [
      "Attention shape: (397, 397), min: 0.000000, max: 0.473389, mean: 0.002417\n",
      "Using fallback threshold (10% of max): 0.047333\n",
      "Non-zero values: 78606/78606 (100.0%)\n",
      "Value range: [0.000010, 0.473389]\n",
      "Graph created: 397 nodes, 396 edges\n"
     ]
    },
    {
     "name": "stderr",
     "output_type": "stream",
     "text": [
      "  8%|▊         | 41/500 [00:09<01:45,  4.35it/s]"
     ]
    },
    {
     "name": "stdout",
     "output_type": "stream",
     "text": [
      "Attention shape: (393, 393), min: 0.000000, max: 0.472900, mean: 0.002447\n",
      "Using fallback threshold (10% of max): 0.047272\n",
      "Non-zero values: 77028/77028 (100.0%)\n",
      "Value range: [0.000015, 0.472900]\n",
      "Graph created: 393 nodes, 392 edges\n"
     ]
    },
    {
     "name": "stderr",
     "output_type": "stream",
     "text": [
      "  8%|▊         | 42/500 [00:09<01:51,  4.12it/s]"
     ]
    },
    {
     "name": "stdout",
     "output_type": "stream",
     "text": [
      "Attention shape: (431, 431), min: 0.000000, max: 0.477051, mean: 0.002234\n",
      "Using fallback threshold (10% of max): 0.047699\n",
      "Non-zero values: 92665/92665 (100.0%)\n",
      "Value range: [0.000016, 0.477051]\n",
      "Graph created: 431 nodes, 430 edges\n"
     ]
    },
    {
     "name": "stderr",
     "output_type": "stream",
     "text": [
      "  9%|▊         | 43/500 [00:09<01:50,  4.12it/s]"
     ]
    },
    {
     "name": "stdout",
     "output_type": "stream",
     "text": [
      "Attention shape: (399, 399), min: 0.000000, max: 0.480957, mean: 0.002405\n",
      "Using fallback threshold (10% of max): 0.048096\n",
      "Non-zero values: 79401/79401 (100.0%)\n",
      "Value range: [0.000009, 0.480957]\n",
      "Graph created: 399 nodes, 398 edges\n"
     ]
    },
    {
     "name": "stderr",
     "output_type": "stream",
     "text": [
      "  9%|▉         | 44/500 [00:10<01:47,  4.23it/s]"
     ]
    },
    {
     "name": "stdout",
     "output_type": "stream",
     "text": [
      "Attention shape: (384, 384), min: 0.000000, max: 0.480957, mean: 0.002495\n",
      "Using fallback threshold (10% of max): 0.048096\n",
      "Non-zero values: 73536/73536 (100.0%)\n",
      "Value range: [0.000007, 0.480957]\n",
      "Graph created: 384 nodes, 383 edges\n"
     ]
    },
    {
     "name": "stderr",
     "output_type": "stream",
     "text": [
      "  9%|▉         | 45/500 [00:10<01:44,  4.37it/s]"
     ]
    },
    {
     "name": "stdout",
     "output_type": "stream",
     "text": [
      "Attention shape: (372, 372), min: 0.000000, max: 0.468506, mean: 0.002575\n",
      "Using fallback threshold (10% of max): 0.046844\n",
      "Non-zero values: 69006/69006 (100.0%)\n",
      "Value range: [0.000012, 0.468506]\n",
      "Graph created: 372 nodes, 371 edges\n"
     ]
    },
    {
     "name": "stderr",
     "output_type": "stream",
     "text": [
      "  9%|▉         | 46/500 [00:10<01:44,  4.35it/s]"
     ]
    },
    {
     "name": "stdout",
     "output_type": "stream",
     "text": [
      "Attention shape: (387, 387), min: 0.000000, max: 0.477295, mean: 0.002478\n",
      "Using fallback threshold (10% of max): 0.047729\n",
      "Non-zero values: 74691/74691 (100.0%)\n",
      "Value range: [0.000015, 0.477295]\n",
      "Graph created: 387 nodes, 386 edges\n"
     ]
    },
    {
     "name": "stderr",
     "output_type": "stream",
     "text": [
      "  9%|▉         | 47/500 [00:10<01:46,  4.26it/s]"
     ]
    },
    {
     "name": "stdout",
     "output_type": "stream",
     "text": [
      "Attention shape: (403, 403), min: 0.000000, max: 0.473633, mean: 0.002380\n",
      "Using fallback threshold (10% of max): 0.047363\n",
      "Non-zero values: 81003/81003 (100.0%)\n",
      "Value range: [0.000019, 0.473633]\n",
      "Graph created: 403 nodes, 402 edges\n"
     ]
    },
    {
     "name": "stderr",
     "output_type": "stream",
     "text": [
      " 10%|▉         | 48/500 [00:11<01:44,  4.34it/s]"
     ]
    },
    {
     "name": "stdout",
     "output_type": "stream",
     "text": [
      "Attention shape: (384, 384), min: 0.000000, max: 0.469971, mean: 0.002499\n",
      "Using fallback threshold (10% of max): 0.046997\n",
      "Non-zero values: 73536/73536 (100.0%)\n",
      "Value range: [0.000017, 0.469971]\n",
      "Graph created: 384 nodes, 383 edges\n"
     ]
    },
    {
     "name": "stderr",
     "output_type": "stream",
     "text": [
      " 10%|▉         | 49/500 [00:11<01:44,  4.33it/s]"
     ]
    },
    {
     "name": "stdout",
     "output_type": "stream",
     "text": [
      "Attention shape: (389, 389), min: 0.000000, max: 0.467529, mean: 0.002462\n",
      "Using fallback threshold (10% of max): 0.046753\n",
      "Non-zero values: 75466/75466 (100.0%)\n",
      "Value range: [0.000008, 0.467529]\n",
      "Graph created: 389 nodes, 388 edges\n",
      "Attention shape: (350, 350), min: 0.000000, max: 0.474121, mean: 0.002737\n",
      "Using percentile-based threshold: 0.000241 (50th percentile)\n",
      "Non-zero values: 61075/61075 (100.0%)\n",
      "Value range: [0.000009, 0.474121]\n"
     ]
    },
    {
     "name": "stderr",
     "output_type": "stream",
     "text": [
      " 10%|█         | 50/500 [00:11<01:47,  4.20it/s]"
     ]
    },
    {
     "name": "stdout",
     "output_type": "stream",
     "text": [
      "Graph created: 350 nodes, 30529 edges\n",
      "Attention shape: (336, 336), min: 0.000000, max: 0.474121, mean: 0.002846\n",
      "Using percentile-based threshold: 0.000217 (50th percentile)\n",
      "Non-zero values: 56280/56280 (100.0%)\n",
      "Value range: [0.000008, 0.474121]\n"
     ]
    },
    {
     "name": "stderr",
     "output_type": "stream",
     "text": [
      " 10%|█         | 51/500 [00:11<01:45,  4.24it/s]"
     ]
    },
    {
     "name": "stdout",
     "output_type": "stream",
     "text": [
      "Graph created: 336 nodes, 28133 edges\n",
      "Attention shape: (341, 341), min: 0.000000, max: 0.469971, mean: 0.002813\n"
     ]
    },
    {
     "name": "stderr",
     "output_type": "stream",
     "text": [
      " 10%|█         | 52/500 [00:12<01:46,  4.19it/s]"
     ]
    },
    {
     "name": "stdout",
     "output_type": "stream",
     "text": [
      "Using percentile-based threshold: 0.000385 (50th percentile)\n",
      "Non-zero values: 57970/57970 (100.0%)\n",
      "Value range: [0.000021, 0.469971]\n",
      "Graph created: 341 nodes, 28974 edges\n"
     ]
    },
    {
     "name": "stderr",
     "output_type": "stream",
     "text": [
      " 11%|█         | 53/500 [00:12<01:43,  4.30it/s]"
     ]
    },
    {
     "name": "stdout",
     "output_type": "stream",
     "text": [
      "Attention shape: (372, 372), min: 0.000000, max: 0.479736, mean: 0.002573\n",
      "Using fallback threshold (10% of max): 0.047974\n",
      "Non-zero values: 69006/69006 (100.0%)\n",
      "Value range: [0.000015, 0.479736]\n",
      "Graph created: 372 nodes, 371 edges\n"
     ]
    },
    {
     "name": "stderr",
     "output_type": "stream",
     "text": [
      " 11%|█         | 54/500 [00:12<01:46,  4.20it/s]"
     ]
    },
    {
     "name": "stdout",
     "output_type": "stream",
     "text": [
      "Attention shape: (399, 399), min: 0.000000, max: 0.468506, mean: 0.002405\n",
      "Using fallback threshold (10% of max): 0.046844\n",
      "Non-zero values: 79401/79401 (100.0%)\n",
      "Value range: [0.000011, 0.468506]\n",
      "Graph created: 399 nodes, 398 edges\n"
     ]
    },
    {
     "name": "stderr",
     "output_type": "stream",
     "text": [
      " 11%|█         | 55/500 [00:12<01:44,  4.26it/s]"
     ]
    },
    {
     "name": "stdout",
     "output_type": "stream",
     "text": [
      "Attention shape: (383, 383), min: 0.000000, max: 0.477783, mean: 0.002522\n",
      "Using fallback threshold (10% of max): 0.047760\n",
      "Non-zero values: 73153/73153 (100.0%)\n",
      "Value range: [0.000008, 0.477783]\n",
      "Graph created: 383 nodes, 382 edges\n"
     ]
    },
    {
     "name": "stderr",
     "output_type": "stream",
     "text": [
      " 11%|█         | 56/500 [00:12<01:42,  4.33it/s]"
     ]
    },
    {
     "name": "stdout",
     "output_type": "stream",
     "text": [
      "Attention shape: (376, 376), min: 0.000000, max: 0.479248, mean: 0.002565\n",
      "Using fallback threshold (10% of max): 0.047913\n",
      "Non-zero values: 70500/70500 (100.0%)\n",
      "Value range: [0.000007, 0.479248]\n",
      "Graph created: 376 nodes, 375 edges\n"
     ]
    },
    {
     "name": "stderr",
     "output_type": "stream",
     "text": [
      " 11%|█▏        | 57/500 [00:13<01:39,  4.45it/s]"
     ]
    },
    {
     "name": "stdout",
     "output_type": "stream",
     "text": [
      "Attention shape: (372, 372), min: 0.000000, max: 0.470703, mean: 0.002573\n",
      "Using fallback threshold (10% of max): 0.047058\n",
      "Non-zero values: 69006/69006 (100.0%)\n",
      "Value range: [0.000007, 0.470703]\n",
      "Graph created: 372 nodes, 371 edges\n"
     ]
    },
    {
     "name": "stderr",
     "output_type": "stream",
     "text": [
      " 12%|█▏        | 58/500 [00:13<01:40,  4.41it/s]"
     ]
    },
    {
     "name": "stdout",
     "output_type": "stream",
     "text": [
      "Attention shape: (392, 392), min: 0.000000, max: 0.473145, mean: 0.002449\n",
      "Using fallback threshold (10% of max): 0.047302\n",
      "Non-zero values: 76636/76636 (100.0%)\n",
      "Value range: [0.000019, 0.473145]\n",
      "Graph created: 392 nodes, 391 edges\n"
     ]
    },
    {
     "name": "stderr",
     "output_type": "stream",
     "text": [
      " 12%|█▏        | 59/500 [00:13<01:38,  4.47it/s]"
     ]
    },
    {
     "name": "stdout",
     "output_type": "stream",
     "text": [
      "Attention shape: (381, 381), min: 0.000000, max: 0.479492, mean: 0.002516\n",
      "Using fallback threshold (10% of max): 0.047943\n",
      "Non-zero values: 72390/72390 (100.0%)\n",
      "Value range: [0.000013, 0.479492]\n",
      "Graph created: 381 nodes, 380 edges\n"
     ]
    },
    {
     "name": "stderr",
     "output_type": "stream",
     "text": [
      " 12%|█▏        | 60/500 [00:13<01:39,  4.40it/s]"
     ]
    },
    {
     "name": "stdout",
     "output_type": "stream",
     "text": [
      "Attention shape: (391, 391), min: 0.000000, max: 0.477539, mean: 0.002462\n",
      "Using fallback threshold (10% of max): 0.047729\n",
      "Non-zero values: 76245/76245 (100.0%)\n",
      "Value range: [0.000013, 0.477539]\n",
      "Graph created: 391 nodes, 390 edges\n"
     ]
    },
    {
     "name": "stderr",
     "output_type": "stream",
     "text": [
      " 12%|█▏        | 61/500 [00:14<01:48,  4.05it/s]"
     ]
    },
    {
     "name": "stdout",
     "output_type": "stream",
     "text": [
      "Attention shape: (439, 439), min: 0.000000, max: 0.479004, mean: 0.002190\n",
      "Using fallback threshold (10% of max): 0.047882\n",
      "Non-zero values: 96141/96141 (100.0%)\n",
      "Value range: [0.000018, 0.479004]\n",
      "Graph created: 439 nodes, 438 edges\n"
     ]
    },
    {
     "name": "stderr",
     "output_type": "stream",
     "text": [
      " 12%|█▏        | 62/500 [00:14<01:42,  4.26it/s]"
     ]
    },
    {
     "name": "stdout",
     "output_type": "stream",
     "text": [
      "Attention shape: (369, 369), min: 0.000000, max: 0.477051, mean: 0.002592\n",
      "Using fallback threshold (10% of max): 0.047699\n",
      "Non-zero values: 67896/67896 (100.0%)\n",
      "Value range: [0.000009, 0.477051]\n",
      "Graph created: 369 nodes, 368 edges\n"
     ]
    },
    {
     "name": "stderr",
     "output_type": "stream",
     "text": [
      " 13%|█▎        | 63/500 [00:14<01:41,  4.30it/s]"
     ]
    },
    {
     "name": "stdout",
     "output_type": "stream",
     "text": [
      "Attention shape: (386, 386), min: 0.000000, max: 0.469971, mean: 0.002478\n",
      "Using fallback threshold (10% of max): 0.046997\n",
      "Non-zero values: 74305/74305 (100.0%)\n",
      "Value range: [0.000011, 0.469971]\n",
      "Graph created: 386 nodes, 385 edges\n",
      "Attention shape: (356, 356), min: 0.000000, max: 0.474609, mean: 0.002693\n"
     ]
    },
    {
     "name": "stderr",
     "output_type": "stream",
     "text": [
      " 13%|█▎        | 64/500 [00:14<01:44,  4.18it/s]"
     ]
    },
    {
     "name": "stdout",
     "output_type": "stream",
     "text": [
      "Using percentile-based threshold: 0.000292 (50th percentile)\n",
      "Non-zero values: 63190/63190 (100.0%)\n",
      "Value range: [0.000017, 0.474609]\n",
      "Graph created: 356 nodes, 31572 edges\n"
     ]
    },
    {
     "name": "stderr",
     "output_type": "stream",
     "text": [
      " 13%|█▎        | 65/500 [00:15<01:44,  4.18it/s]"
     ]
    },
    {
     "name": "stdout",
     "output_type": "stream",
     "text": [
      "Attention shape: (397, 397), min: 0.000000, max: 0.471680, mean: 0.002413\n",
      "Using fallback threshold (10% of max): 0.047150\n",
      "Non-zero values: 78606/78606 (100.0%)\n",
      "Value range: [0.000011, 0.471680]\n",
      "Graph created: 397 nodes, 396 edges\n",
      "Attention shape: (357, 357), min: 0.000000, max: 0.477539, mean: 0.002686\n"
     ]
    },
    {
     "name": "stderr",
     "output_type": "stream",
     "text": [
      " 13%|█▎        | 67/500 [00:15<01:27,  4.92it/s]"
     ]
    },
    {
     "name": "stdout",
     "output_type": "stream",
     "text": [
      "Using percentile-based threshold: 0.000291 (50th percentile)\n",
      "Non-zero values: 63546/63546 (100.0%)\n",
      "Value range: [0.000017, 0.477539]\n",
      "Graph created: 357 nodes, 31763 edges\n",
      "Attention shape: (260, 260), min: 0.000000, max: 0.477539, mean: 0.003685\n",
      "Using percentile-based threshold: 0.000312 (50th percentile)\n",
      "Non-zero values: 33670/33670 (100.0%)\n",
      "Value range: [0.000011, 0.477539]\n",
      "Graph created: 260 nodes, 16832 edges\n"
     ]
    },
    {
     "name": "stderr",
     "output_type": "stream",
     "text": [
      " 14%|█▎        | 68/500 [00:15<01:32,  4.67it/s]"
     ]
    },
    {
     "name": "stdout",
     "output_type": "stream",
     "text": [
      "Attention shape: (397, 397), min: 0.000000, max: 0.479248, mean: 0.002422\n",
      "Using fallback threshold (10% of max): 0.047913\n",
      "Non-zero values: 78606/78606 (100.0%)\n",
      "Value range: [0.000014, 0.479248]\n",
      "Graph created: 397 nodes, 396 edges\n",
      "Attention shape: (353, 353), min: 0.000000, max: 0.473145, mean: 0.002716\n",
      "Using percentile-based threshold: 0.000348 (50th percentile)\n",
      "Non-zero values: 62128/62128 (100.0%)\n",
      "Value range: [0.000019, 0.473145]\n"
     ]
    },
    {
     "name": "stderr",
     "output_type": "stream",
     "text": [
      " 14%|█▍        | 69/500 [00:15<01:36,  4.45it/s]"
     ]
    },
    {
     "name": "stdout",
     "output_type": "stream",
     "text": [
      "Graph created: 353 nodes, 31065 edges\n"
     ]
    },
    {
     "name": "stderr",
     "output_type": "stream",
     "text": [
      " 14%|█▍        | 70/500 [00:16<01:38,  4.35it/s]"
     ]
    },
    {
     "name": "stdout",
     "output_type": "stream",
     "text": [
      "Attention shape: (401, 401), min: 0.000000, max: 0.474121, mean: 0.002394\n",
      "Using fallback threshold (10% of max): 0.047394\n",
      "Non-zero values: 80200/80200 (100.0%)\n",
      "Value range: [0.000008, 0.474121]\n",
      "Graph created: 401 nodes, 400 edges\n"
     ]
    },
    {
     "name": "stderr",
     "output_type": "stream",
     "text": [
      " 14%|█▍        | 71/500 [00:16<01:37,  4.38it/s]"
     ]
    },
    {
     "name": "stdout",
     "output_type": "stream",
     "text": [
      "Attention shape: (381, 381), min: 0.000000, max: 0.474609, mean: 0.002520\n",
      "Using fallback threshold (10% of max): 0.047455\n",
      "Non-zero values: 72390/72390 (100.0%)\n",
      "Value range: [0.000011, 0.474609]\n",
      "Graph created: 381 nodes, 380 edges\n"
     ]
    },
    {
     "name": "stderr",
     "output_type": "stream",
     "text": [
      " 14%|█▍        | 72/500 [00:16<01:41,  4.21it/s]"
     ]
    },
    {
     "name": "stdout",
     "output_type": "stream",
     "text": [
      "Attention shape: (404, 404), min: 0.000000, max: 0.475098, mean: 0.002371\n",
      "Using fallback threshold (10% of max): 0.047485\n",
      "Non-zero values: 81406/81406 (100.0%)\n",
      "Value range: [0.000012, 0.475098]\n",
      "Graph created: 404 nodes, 403 edges\n"
     ]
    },
    {
     "name": "stderr",
     "output_type": "stream",
     "text": [
      " 15%|█▍        | 73/500 [00:16<01:41,  4.23it/s]"
     ]
    },
    {
     "name": "stdout",
     "output_type": "stream",
     "text": [
      "Attention shape: (391, 391), min: 0.000000, max: 0.477295, mean: 0.002451\n",
      "Using fallback threshold (10% of max): 0.047729\n",
      "Non-zero values: 76245/76245 (100.0%)\n",
      "Value range: [0.000006, 0.477295]\n",
      "Graph created: 391 nodes, 390 edges\n"
     ]
    },
    {
     "name": "stderr",
     "output_type": "stream",
     "text": [
      " 15%|█▍        | 74/500 [00:17<01:42,  4.17it/s]"
     ]
    },
    {
     "name": "stdout",
     "output_type": "stream",
     "text": [
      "Attention shape: (406, 406), min: 0.000000, max: 0.471436, mean: 0.002363\n",
      "Using fallback threshold (10% of max): 0.047119\n",
      "Non-zero values: 82215/82215 (100.0%)\n",
      "Value range: [0.000009, 0.471436]\n",
      "Graph created: 406 nodes, 405 edges\n"
     ]
    },
    {
     "name": "stderr",
     "output_type": "stream",
     "text": [
      " 15%|█▌        | 75/500 [00:17<01:40,  4.21it/s]"
     ]
    },
    {
     "name": "stdout",
     "output_type": "stream",
     "text": [
      "Attention shape: (390, 390), min: 0.000000, max: 0.469971, mean: 0.002468\n",
      "Using fallback threshold (10% of max): 0.046997\n",
      "Non-zero values: 75855/75855 (100.0%)\n",
      "Value range: [0.000012, 0.469971]\n",
      "Graph created: 390 nodes, 389 edges\n"
     ]
    },
    {
     "name": "stderr",
     "output_type": "stream",
     "text": [
      " 15%|█▌        | 76/500 [00:17<01:40,  4.22it/s]"
     ]
    },
    {
     "name": "stdout",
     "output_type": "stream",
     "text": [
      "Attention shape: (394, 394), min: 0.000000, max: 0.476318, mean: 0.002436\n",
      "Using fallback threshold (10% of max): 0.047607\n",
      "Non-zero values: 77421/77421 (100.0%)\n",
      "Value range: [0.000016, 0.476318]\n",
      "Graph created: 394 nodes, 393 edges\n"
     ]
    },
    {
     "name": "stderr",
     "output_type": "stream",
     "text": [
      " 15%|█▌        | 77/500 [00:17<01:40,  4.20it/s]"
     ]
    },
    {
     "name": "stdout",
     "output_type": "stream",
     "text": [
      "Attention shape: (394, 394), min: 0.000000, max: 0.478271, mean: 0.002445\n",
      "Using fallback threshold (10% of max): 0.047821\n",
      "Non-zero values: 77421/77421 (100.0%)\n",
      "Value range: [0.000017, 0.478271]\n",
      "Graph created: 394 nodes, 393 edges\n"
     ]
    },
    {
     "name": "stderr",
     "output_type": "stream",
     "text": [
      " 16%|█▌        | 78/500 [00:18<01:45,  4.01it/s]"
     ]
    },
    {
     "name": "stdout",
     "output_type": "stream",
     "text": [
      "Attention shape: (422, 422), min: 0.000000, max: 0.468262, mean: 0.002272\n",
      "Using fallback threshold (10% of max): 0.046814\n",
      "Non-zero values: 88831/88831 (100.0%)\n",
      "Value range: [0.000013, 0.468262]\n",
      "Graph created: 422 nodes, 421 edges\n",
      "Attention shape: (352, 352), min: 0.000000, max: 0.479980, mean: 0.002720\n"
     ]
    },
    {
     "name": "stderr",
     "output_type": "stream",
     "text": [
      " 16%|█▌        | 79/500 [00:18<01:44,  4.01it/s]"
     ]
    },
    {
     "name": "stdout",
     "output_type": "stream",
     "text": [
      "Using percentile-based threshold: 0.000282 (50th percentile)\n",
      "Non-zero values: 61776/61776 (100.0%)\n",
      "Value range: [0.000011, 0.479980]\n",
      "Graph created: 352 nodes, 30884 edges\n"
     ]
    },
    {
     "name": "stderr",
     "output_type": "stream",
     "text": [
      " 16%|█▌        | 80/500 [00:18<01:44,  4.03it/s]"
     ]
    },
    {
     "name": "stdout",
     "output_type": "stream",
     "text": [
      "Attention shape: (350, 350), min: 0.000000, max: 0.477783, mean: 0.002728\n",
      "Using percentile-based threshold: 0.000247 (50th percentile)\n",
      "Non-zero values: 61075/61075 (100.0%)\n",
      "Value range: [0.000013, 0.477783]\n",
      "Graph created: 350 nodes, 30516 edges\n"
     ]
    },
    {
     "name": "stderr",
     "output_type": "stream",
     "text": [
      " 16%|█▌        | 81/500 [00:18<01:39,  4.22it/s]"
     ]
    },
    {
     "name": "stdout",
     "output_type": "stream",
     "text": [
      "Attention shape: (374, 374), min: 0.000000, max: 0.468506, mean: 0.002560\n",
      "Using fallback threshold (10% of max): 0.046844\n",
      "Non-zero values: 69751/69751 (100.0%)\n",
      "Value range: [0.000009, 0.468506]\n",
      "Graph created: 374 nodes, 373 edges\n"
     ]
    },
    {
     "name": "stderr",
     "output_type": "stream",
     "text": [
      " 16%|█▋        | 82/500 [00:19<01:35,  4.40it/s]"
     ]
    },
    {
     "name": "stdout",
     "output_type": "stream",
     "text": [
      "Attention shape: (368, 368), min: 0.000000, max: 0.480469, mean: 0.002602\n",
      "Using fallback threshold (10% of max): 0.048035\n",
      "Non-zero values: 67528/67528 (100.0%)\n",
      "Value range: [0.000013, 0.480469]\n",
      "Graph created: 368 nodes, 367 edges\n"
     ]
    },
    {
     "name": "stderr",
     "output_type": "stream",
     "text": [
      " 17%|█▋        | 83/500 [00:19<01:36,  4.33it/s]"
     ]
    },
    {
     "name": "stdout",
     "output_type": "stream",
     "text": [
      "Attention shape: (400, 400), min: 0.000000, max: 0.471680, mean: 0.002398\n",
      "Using fallback threshold (10% of max): 0.047150\n",
      "Non-zero values: 79800/79800 (100.0%)\n",
      "Value range: [0.000025, 0.471680]\n",
      "Graph created: 400 nodes, 399 edges\n"
     ]
    },
    {
     "name": "stderr",
     "output_type": "stream",
     "text": [
      " 17%|█▋        | 84/500 [00:19<01:33,  4.47it/s]"
     ]
    },
    {
     "name": "stdout",
     "output_type": "stream",
     "text": [
      "Attention shape: (369, 369), min: 0.000000, max: 0.480957, mean: 0.002592\n",
      "Using fallback threshold (10% of max): 0.048096\n",
      "Non-zero values: 67896/67896 (100.0%)\n",
      "Value range: [0.000011, 0.480957]\n",
      "Graph created: 369 nodes, 368 edges\n"
     ]
    },
    {
     "name": "stderr",
     "output_type": "stream",
     "text": [
      " 17%|█▋        | 85/500 [00:19<01:31,  4.52it/s]"
     ]
    },
    {
     "name": "stdout",
     "output_type": "stream",
     "text": [
      "Attention shape: (380, 380), min: 0.000000, max: 0.471680, mean: 0.002523\n",
      "Using fallback threshold (10% of max): 0.047150\n",
      "Non-zero values: 72010/72010 (100.0%)\n",
      "Value range: [0.000009, 0.471680]\n",
      "Graph created: 380 nodes, 379 edges\n",
      "Attention shape: (192, 192), min: 0.000000, max: 0.475098, mean: 0.004997\n",
      "Using percentile-based threshold: 0.000697 (50th percentile)\n",
      "Non-zero values: 18336/18336 (100.0%)\n",
      "Value range: [0.000029, 0.475098]\n",
      "Graph created: 192 nodes, 9165 edges\n"
     ]
    },
    {
     "name": "stderr",
     "output_type": "stream",
     "text": [
      " 17%|█▋        | 87/500 [00:19<01:16,  5.37it/s]"
     ]
    },
    {
     "name": "stdout",
     "output_type": "stream",
     "text": [
      "Attention shape: (378, 378), min: 0.000000, max: 0.472900, mean: 0.002539\n",
      "Using fallback threshold (10% of max): 0.047272\n",
      "Non-zero values: 71253/71253 (100.0%)\n",
      "Value range: [0.000010, 0.472900]\n",
      "Graph created: 378 nodes, 377 edges\n"
     ]
    },
    {
     "name": "stderr",
     "output_type": "stream",
     "text": [
      " 18%|█▊        | 88/500 [00:20<01:25,  4.84it/s]"
     ]
    },
    {
     "name": "stdout",
     "output_type": "stream",
     "text": [
      "Attention shape: (431, 431), min: 0.000000, max: 0.474854, mean: 0.002226\n",
      "Using fallback threshold (10% of max): 0.047485\n",
      "Non-zero values: 92665/92665 (100.0%)\n",
      "Value range: [0.000011, 0.474854]\n",
      "Graph created: 431 nodes, 430 edges\n"
     ]
    },
    {
     "name": "stderr",
     "output_type": "stream",
     "text": [
      " 18%|█▊        | 89/500 [00:20<01:31,  4.50it/s]"
     ]
    },
    {
     "name": "stdout",
     "output_type": "stream",
     "text": [
      "Attention shape: (428, 428), min: 0.000000, max: 0.480225, mean: 0.002235\n",
      "Using fallback threshold (10% of max): 0.048004\n",
      "Non-zero values: 91378/91378 (100.0%)\n",
      "Value range: [0.000005, 0.480225]\n",
      "Graph created: 428 nodes, 427 edges\n",
      "Attention shape: (350, 350), min: 0.000000, max: 0.481201, mean: 0.002737\n",
      "Using percentile-based threshold: 0.000313 (50th percentile)\n",
      "Non-zero values: 61075/61075 (100.0%)\n",
      "Value range: [0.000016, 0.481201]\n"
     ]
    },
    {
     "name": "stderr",
     "output_type": "stream",
     "text": [
      " 18%|█▊        | 90/500 [00:20<01:33,  4.38it/s]"
     ]
    },
    {
     "name": "stdout",
     "output_type": "stream",
     "text": [
      "Graph created: 350 nodes, 30525 edges\n"
     ]
    },
    {
     "name": "stderr",
     "output_type": "stream",
     "text": [
      " 18%|█▊        | 91/500 [00:20<01:31,  4.49it/s]"
     ]
    },
    {
     "name": "stdout",
     "output_type": "stream",
     "text": [
      "Attention shape: (375, 375), min: 0.000000, max: 0.477295, mean: 0.002548\n",
      "Using fallback threshold (10% of max): 0.047729\n",
      "Non-zero values: 70125/70125 (100.0%)\n",
      "Value range: [0.000011, 0.477295]\n",
      "Graph created: 375 nodes, 374 edges\n"
     ]
    },
    {
     "name": "stderr",
     "output_type": "stream",
     "text": [
      " 18%|█▊        | 92/500 [00:21<01:28,  4.62it/s]"
     ]
    },
    {
     "name": "stdout",
     "output_type": "stream",
     "text": [
      "Attention shape: (364, 364), min: 0.000000, max: 0.473389, mean: 0.002628\n",
      "Using fallback threshold (10% of max): 0.047333\n",
      "Non-zero values: 66066/66066 (100.0%)\n",
      "Value range: [0.000008, 0.473389]\n",
      "Graph created: 364 nodes, 363 edges\n"
     ]
    },
    {
     "name": "stderr",
     "output_type": "stream",
     "text": [
      " 19%|█▊        | 93/500 [00:21<01:27,  4.67it/s]"
     ]
    },
    {
     "name": "stdout",
     "output_type": "stream",
     "text": [
      "Attention shape: (372, 372), min: 0.000000, max: 0.476807, mean: 0.002581\n",
      "Using fallback threshold (10% of max): 0.047668\n",
      "Non-zero values: 69006/69006 (100.0%)\n",
      "Value range: [0.000016, 0.476807]\n",
      "Graph created: 372 nodes, 371 edges\n"
     ]
    },
    {
     "name": "stderr",
     "output_type": "stream",
     "text": [
      " 19%|█▉        | 94/500 [00:21<01:30,  4.50it/s]"
     ]
    },
    {
     "name": "stdout",
     "output_type": "stream",
     "text": [
      "Attention shape: (403, 403), min: 0.000000, max: 0.468506, mean: 0.002377\n",
      "Using fallback threshold (10% of max): 0.046844\n",
      "Non-zero values: 81003/81003 (100.0%)\n",
      "Value range: [0.000014, 0.468506]\n",
      "Graph created: 403 nodes, 402 edges\n"
     ]
    },
    {
     "name": "stderr",
     "output_type": "stream",
     "text": [
      " 19%|█▉        | 95/500 [00:21<01:32,  4.36it/s]"
     ]
    },
    {
     "name": "stdout",
     "output_type": "stream",
     "text": [
      "Attention shape: (407, 407), min: 0.000000, max: 0.470703, mean: 0.002357\n",
      "Using fallback threshold (10% of max): 0.047058\n",
      "Non-zero values: 82621/82621 (100.0%)\n",
      "Value range: [0.000011, 0.470703]\n",
      "Graph created: 407 nodes, 406 edges\n"
     ]
    },
    {
     "name": "stderr",
     "output_type": "stream",
     "text": [
      " 19%|█▉        | 96/500 [00:22<01:33,  4.33it/s]"
     ]
    },
    {
     "name": "stdout",
     "output_type": "stream",
     "text": [
      "Attention shape: (393, 393), min: 0.000000, max: 0.479980, mean: 0.002436\n",
      "Using fallback threshold (10% of max): 0.047974\n",
      "Non-zero values: 77028/77028 (100.0%)\n",
      "Value range: [0.000011, 0.479980]\n",
      "Graph created: 393 nodes, 392 edges\n"
     ]
    },
    {
     "name": "stderr",
     "output_type": "stream",
     "text": [
      " 19%|█▉        | 97/500 [00:22<01:30,  4.45it/s]"
     ]
    },
    {
     "name": "stdout",
     "output_type": "stream",
     "text": [
      "Attention shape: (372, 372), min: 0.000000, max: 0.478271, mean: 0.002581\n",
      "Using fallback threshold (10% of max): 0.047821\n",
      "Non-zero values: 69006/69006 (100.0%)\n",
      "Value range: [0.000018, 0.478271]\n",
      "Graph created: 372 nodes, 372 edges\n"
     ]
    },
    {
     "name": "stderr",
     "output_type": "stream",
     "text": [
      " 20%|█▉        | 98/500 [00:22<01:30,  4.43it/s]"
     ]
    },
    {
     "name": "stdout",
     "output_type": "stream",
     "text": [
      "Attention shape: (385, 385), min: 0.000000, max: 0.468506, mean: 0.002489\n",
      "Using fallback threshold (10% of max): 0.046844\n",
      "Non-zero values: 73920/73920 (100.0%)\n",
      "Value range: [0.000012, 0.468506]\n",
      "Graph created: 385 nodes, 384 edges\n"
     ]
    },
    {
     "name": "stderr",
     "output_type": "stream",
     "text": [
      " 20%|█▉        | 99/500 [00:22<01:29,  4.48it/s]"
     ]
    },
    {
     "name": "stdout",
     "output_type": "stream",
     "text": [
      "Attention shape: (381, 381), min: 0.000000, max: 0.480469, mean: 0.002512\n",
      "Using fallback threshold (10% of max): 0.048035\n",
      "Non-zero values: 72390/72390 (100.0%)\n",
      "Value range: [0.000006, 0.480469]\n",
      "Graph created: 381 nodes, 380 edges\n",
      "Attention shape: (340, 340), min: 0.000000, max: 0.475342, mean: 0.002825\n",
      "Using percentile-based threshold: 0.000244 (50th percentile)\n",
      "Non-zero values: 57630/57630 (100.0%)\n",
      "Value range: [0.000009, 0.475342]\n"
     ]
    },
    {
     "name": "stderr",
     "output_type": "stream",
     "text": [
      " 20%|██        | 100/500 [00:23<01:30,  4.41it/s]"
     ]
    },
    {
     "name": "stdout",
     "output_type": "stream",
     "text": [
      "Graph created: 340 nodes, 28802 edges\n"
     ]
    },
    {
     "name": "stderr",
     "output_type": "stream",
     "text": [
      " 20%|██        | 101/500 [00:23<01:31,  4.38it/s]"
     ]
    },
    {
     "name": "stdout",
     "output_type": "stream",
     "text": [
      "Attention shape: (390, 390), min: 0.000000, max: 0.477295, mean: 0.002457\n",
      "Using fallback threshold (10% of max): 0.047729\n",
      "Non-zero values: 75855/75855 (100.0%)\n",
      "Value range: [0.000010, 0.477295]\n",
      "Graph created: 390 nodes, 389 edges\n"
     ]
    },
    {
     "name": "stderr",
     "output_type": "stream",
     "text": [
      " 20%|██        | 102/500 [00:23<01:31,  4.36it/s]"
     ]
    },
    {
     "name": "stdout",
     "output_type": "stream",
     "text": [
      "Attention shape: (390, 390), min: 0.000000, max: 0.478027, mean: 0.002460\n",
      "Using fallback threshold (10% of max): 0.047791\n",
      "Non-zero values: 75855/75855 (100.0%)\n",
      "Value range: [0.000016, 0.478027]\n",
      "Graph created: 390 nodes, 389 edges\n"
     ]
    },
    {
     "name": "stderr",
     "output_type": "stream",
     "text": [
      " 21%|██        | 103/500 [00:23<01:33,  4.26it/s]"
     ]
    },
    {
     "name": "stdout",
     "output_type": "stream",
     "text": [
      "Attention shape: (407, 407), min: 0.000000, max: 0.478027, mean: 0.002359\n",
      "Using fallback threshold (10% of max): 0.047791\n",
      "Non-zero values: 82621/82621 (100.0%)\n",
      "Value range: [0.000011, 0.478027]\n",
      "Graph created: 407 nodes, 406 edges\n"
     ]
    },
    {
     "name": "stderr",
     "output_type": "stream",
     "text": [
      " 21%|██        | 104/500 [00:23<01:33,  4.25it/s]"
     ]
    },
    {
     "name": "stdout",
     "output_type": "stream",
     "text": [
      "Attention shape: (395, 395), min: 0.000000, max: 0.468262, mean: 0.002428\n",
      "Using fallback threshold (10% of max): 0.046814\n",
      "Non-zero values: 77815/77815 (100.0%)\n",
      "Value range: [0.000009, 0.468262]\n",
      "Graph created: 395 nodes, 394 edges\n"
     ]
    },
    {
     "name": "stderr",
     "output_type": "stream",
     "text": [
      " 21%|██        | 105/500 [00:24<01:30,  4.34it/s]"
     ]
    },
    {
     "name": "stdout",
     "output_type": "stream",
     "text": [
      "Attention shape: (384, 384), min: 0.000000, max: 0.468506, mean: 0.002495\n",
      "Using fallback threshold (10% of max): 0.046844\n",
      "Non-zero values: 73536/73536 (100.0%)\n",
      "Value range: [0.000008, 0.468506]\n",
      "Graph created: 384 nodes, 383 edges\n"
     ]
    },
    {
     "name": "stderr",
     "output_type": "stream",
     "text": [
      " 21%|██        | 106/500 [00:24<01:30,  4.33it/s]"
     ]
    },
    {
     "name": "stdout",
     "output_type": "stream",
     "text": [
      "Attention shape: (390, 390), min: 0.000000, max: 0.473145, mean: 0.002455\n",
      "Using fallback threshold (10% of max): 0.047302\n",
      "Non-zero values: 75855/75855 (100.0%)\n",
      "Value range: [0.000010, 0.473145]\n",
      "Graph created: 390 nodes, 389 edges\n"
     ]
    },
    {
     "name": "stderr",
     "output_type": "stream",
     "text": [
      " 21%|██▏       | 107/500 [00:24<01:29,  4.40it/s]"
     ]
    },
    {
     "name": "stdout",
     "output_type": "stream",
     "text": [
      "Attention shape: (384, 384), min: 0.000000, max: 0.468506, mean: 0.002497\n",
      "Using fallback threshold (10% of max): 0.046844\n",
      "Non-zero values: 73536/73536 (100.0%)\n",
      "Value range: [0.000009, 0.468506]\n",
      "Graph created: 384 nodes, 383 edges\n"
     ]
    },
    {
     "name": "stderr",
     "output_type": "stream",
     "text": [
      " 22%|██▏       | 108/500 [00:24<01:29,  4.39it/s]"
     ]
    },
    {
     "name": "stdout",
     "output_type": "stream",
     "text": [
      "Attention shape: (386, 386), min: 0.000000, max: 0.475098, mean: 0.002491\n",
      "Using fallback threshold (10% of max): 0.047485\n",
      "Non-zero values: 74305/74305 (100.0%)\n",
      "Value range: [0.000010, 0.475098]\n",
      "Graph created: 386 nodes, 385 edges\n"
     ]
    },
    {
     "name": "stderr",
     "output_type": "stream",
     "text": [
      " 22%|██▏       | 109/500 [00:25<01:27,  4.45it/s]"
     ]
    },
    {
     "name": "stdout",
     "output_type": "stream",
     "text": [
      "Attention shape: (381, 381), min: 0.000000, max: 0.469727, mean: 0.002516\n",
      "Using fallback threshold (10% of max): 0.046967\n",
      "Non-zero values: 72390/72390 (100.0%)\n",
      "Value range: [0.000011, 0.469727]\n",
      "Graph created: 381 nodes, 380 edges\n"
     ]
    },
    {
     "name": "stderr",
     "output_type": "stream",
     "text": [
      " 22%|██▏       | 110/500 [00:25<01:28,  4.39it/s]"
     ]
    },
    {
     "name": "stdout",
     "output_type": "stream",
     "text": [
      "Attention shape: (394, 394), min: 0.000000, max: 0.468506, mean: 0.002434\n",
      "Using fallback threshold (10% of max): 0.046844\n",
      "Non-zero values: 77421/77421 (100.0%)\n",
      "Value range: [0.000008, 0.468506]\n",
      "Graph created: 394 nodes, 393 edges\n"
     ]
    },
    {
     "name": "stderr",
     "output_type": "stream",
     "text": [
      " 22%|██▏       | 111/500 [00:25<01:30,  4.30it/s]"
     ]
    },
    {
     "name": "stdout",
     "output_type": "stream",
     "text": [
      "Attention shape: (397, 397), min: 0.000000, max: 0.475098, mean: 0.002420\n",
      "Using fallback threshold (10% of max): 0.047485\n",
      "Non-zero values: 78606/78606 (100.0%)\n",
      "Value range: [0.000011, 0.475098]\n",
      "Graph created: 397 nodes, 396 edges\n"
     ]
    },
    {
     "name": "stderr",
     "output_type": "stream",
     "text": [
      " 22%|██▏       | 112/500 [00:25<01:32,  4.20it/s]"
     ]
    },
    {
     "name": "stdout",
     "output_type": "stream",
     "text": [
      "Attention shape: (400, 400), min: 0.000000, max: 0.479736, mean: 0.002394\n",
      "Using fallback threshold (10% of max): 0.047974\n",
      "Non-zero values: 79800/79800 (100.0%)\n",
      "Value range: [0.000012, 0.479736]\n",
      "Graph created: 400 nodes, 399 edges\n"
     ]
    },
    {
     "name": "stderr",
     "output_type": "stream",
     "text": [
      " 23%|██▎       | 113/500 [00:26<01:33,  4.15it/s]"
     ]
    },
    {
     "name": "stdout",
     "output_type": "stream",
     "text": [
      "Attention shape: (397, 397), min: 0.000000, max: 0.470703, mean: 0.002415\n",
      "Using fallback threshold (10% of max): 0.047058\n",
      "Non-zero values: 78606/78606 (100.0%)\n",
      "Value range: [0.000013, 0.470703]\n",
      "Graph created: 397 nodes, 396 edges\n"
     ]
    },
    {
     "name": "stderr",
     "output_type": "stream",
     "text": [
      " 23%|██▎       | 114/500 [00:26<01:30,  4.27it/s]"
     ]
    },
    {
     "name": "stdout",
     "output_type": "stream",
     "text": [
      "Attention shape: (374, 374), min: 0.000000, max: 0.478516, mean: 0.002563\n",
      "Using fallback threshold (10% of max): 0.047852\n",
      "Non-zero values: 69751/69751 (100.0%)\n",
      "Value range: [0.000007, 0.478516]\n",
      "Graph created: 374 nodes, 373 edges\n"
     ]
    },
    {
     "name": "stderr",
     "output_type": "stream",
     "text": [
      " 23%|██▎       | 115/500 [00:26<01:28,  4.37it/s]"
     ]
    },
    {
     "name": "stdout",
     "output_type": "stream",
     "text": [
      "Attention shape: (377, 377), min: 0.000000, max: 0.477539, mean: 0.002541\n",
      "Using fallback threshold (10% of max): 0.047729\n",
      "Non-zero values: 70876/70876 (100.0%)\n",
      "Value range: [0.000012, 0.477539]\n",
      "Graph created: 377 nodes, 376 edges\n"
     ]
    },
    {
     "name": "stderr",
     "output_type": "stream",
     "text": [
      " 23%|██▎       | 116/500 [00:26<01:29,  4.30it/s]"
     ]
    },
    {
     "name": "stdout",
     "output_type": "stream",
     "text": [
      "Attention shape: (388, 388), min: 0.000000, max: 0.478760, mean: 0.002462\n",
      "Using fallback threshold (10% of max): 0.047852\n",
      "Non-zero values: 75078/75078 (100.0%)\n",
      "Value range: [0.000014, 0.478760]\n",
      "Graph created: 388 nodes, 387 edges\n"
     ]
    },
    {
     "name": "stderr",
     "output_type": "stream",
     "text": [
      " 23%|██▎       | 117/500 [00:26<01:29,  4.26it/s]"
     ]
    },
    {
     "name": "stdout",
     "output_type": "stream",
     "text": [
      "Attention shape: (390, 390), min: 0.000000, max: 0.473633, mean: 0.002459\n",
      "Using fallback threshold (10% of max): 0.047363\n",
      "Non-zero values: 75855/75855 (100.0%)\n",
      "Value range: [0.000018, 0.473633]\n",
      "Graph created: 390 nodes, 389 edges\n"
     ]
    },
    {
     "name": "stderr",
     "output_type": "stream",
     "text": [
      " 24%|██▎       | 118/500 [00:27<01:30,  4.21it/s]"
     ]
    },
    {
     "name": "stdout",
     "output_type": "stream",
     "text": [
      "Attention shape: (392, 392), min: 0.000000, max: 0.480469, mean: 0.002441\n",
      "Using fallback threshold (10% of max): 0.048035\n",
      "Non-zero values: 76636/76636 (100.0%)\n",
      "Value range: [0.000008, 0.480469]\n",
      "Graph created: 392 nodes, 391 edges\n",
      "Attention shape: (347, 347), min: 0.000000, max: 0.468506, mean: 0.002758\n"
     ]
    },
    {
     "name": "stderr",
     "output_type": "stream",
     "text": [
      " 24%|██▍       | 119/500 [00:27<01:31,  4.14it/s]"
     ]
    },
    {
     "name": "stdout",
     "output_type": "stream",
     "text": [
      "Using percentile-based threshold: 0.000386 (50th percentile)\n",
      "Non-zero values: 60031/60031 (100.0%)\n",
      "Value range: [0.000016, 0.468506]\n",
      "Graph created: 347 nodes, 30002 edges\n"
     ]
    },
    {
     "name": "stderr",
     "output_type": "stream",
     "text": [
      " 24%|██▍       | 120/500 [00:27<01:31,  4.16it/s]"
     ]
    },
    {
     "name": "stdout",
     "output_type": "stream",
     "text": [
      "Attention shape: (388, 388), min: 0.000000, max: 0.472900, mean: 0.002472\n",
      "Using fallback threshold (10% of max): 0.047272\n",
      "Non-zero values: 75078/75078 (100.0%)\n",
      "Value range: [0.000012, 0.472900]\n",
      "Graph created: 388 nodes, 387 edges\n"
     ]
    },
    {
     "name": "stderr",
     "output_type": "stream",
     "text": [
      " 24%|██▍       | 121/500 [00:27<01:30,  4.17it/s]"
     ]
    },
    {
     "name": "stdout",
     "output_type": "stream",
     "text": [
      "Attention shape: (388, 388), min: 0.000000, max: 0.472168, mean: 0.002464\n",
      "Using fallback threshold (10% of max): 0.047211\n",
      "Non-zero values: 75078/75078 (100.0%)\n",
      "Value range: [0.000012, 0.472168]\n",
      "Graph created: 388 nodes, 387 edges\n"
     ]
    },
    {
     "name": "stderr",
     "output_type": "stream",
     "text": [
      " 24%|██▍       | 122/500 [00:28<01:31,  4.12it/s]"
     ]
    },
    {
     "name": "stdout",
     "output_type": "stream",
     "text": [
      "Attention shape: (400, 400), min: 0.000000, max: 0.469971, mean: 0.002396\n",
      "Using fallback threshold (10% of max): 0.046997\n",
      "Non-zero values: 79800/79800 (100.0%)\n",
      "Value range: [0.000009, 0.469971]\n",
      "Graph created: 400 nodes, 399 edges\n"
     ]
    },
    {
     "name": "stderr",
     "output_type": "stream",
     "text": [
      " 25%|██▍       | 123/500 [00:28<01:27,  4.33it/s]"
     ]
    },
    {
     "name": "stdout",
     "output_type": "stream",
     "text": [
      "Attention shape: (366, 366), min: 0.000000, max: 0.477539, mean: 0.002621\n",
      "Using fallback threshold (10% of max): 0.047729\n",
      "Non-zero values: 66795/66795 (100.0%)\n",
      "Value range: [0.000012, 0.477539]\n",
      "Graph created: 366 nodes, 365 edges\n"
     ]
    },
    {
     "name": "stderr",
     "output_type": "stream",
     "text": [
      " 25%|██▍       | 124/500 [00:28<01:27,  4.29it/s]"
     ]
    },
    {
     "name": "stdout",
     "output_type": "stream",
     "text": [
      "Attention shape: (398, 398), min: 0.000000, max: 0.473145, mean: 0.002409\n",
      "Using fallback threshold (10% of max): 0.047302\n",
      "Non-zero values: 79003/79003 (100.0%)\n",
      "Value range: [0.000008, 0.473145]\n",
      "Graph created: 398 nodes, 397 edges\n",
      "Attention shape: (353, 353), min: 0.000000, max: 0.468506, mean: 0.002718\n",
      "Using percentile-based threshold: 0.000285 (50th percentile)\n",
      "Non-zero values: 62128/62128 (100.0%)\n",
      "Value range: [0.000014, 0.468506]\n"
     ]
    },
    {
     "name": "stderr",
     "output_type": "stream",
     "text": [
      " 25%|██▌       | 125/500 [00:28<01:29,  4.19it/s]"
     ]
    },
    {
     "name": "stdout",
     "output_type": "stream",
     "text": [
      "Graph created: 353 nodes, 31061 edges\n"
     ]
    },
    {
     "name": "stderr",
     "output_type": "stream",
     "text": [
      " 25%|██▌       | 126/500 [00:29<01:28,  4.25it/s]"
     ]
    },
    {
     "name": "stdout",
     "output_type": "stream",
     "text": [
      "Attention shape: (385, 385), min: 0.000000, max: 0.469971, mean: 0.002489\n",
      "Using fallback threshold (10% of max): 0.046997\n",
      "Non-zero values: 73920/73920 (100.0%)\n",
      "Value range: [0.000011, 0.469971]\n",
      "Graph created: 385 nodes, 384 edges\n"
     ]
    },
    {
     "name": "stderr",
     "output_type": "stream",
     "text": [
      " 25%|██▌       | 127/500 [00:29<01:27,  4.24it/s]"
     ]
    },
    {
     "name": "stdout",
     "output_type": "stream",
     "text": [
      "Attention shape: (395, 395), min: 0.000000, max: 0.473389, mean: 0.002441\n",
      "Using fallback threshold (10% of max): 0.047333\n",
      "Non-zero values: 77815/77815 (100.0%)\n",
      "Value range: [0.000011, 0.473389]\n",
      "Graph created: 395 nodes, 394 edges\n"
     ]
    },
    {
     "name": "stderr",
     "output_type": "stream",
     "text": [
      " 26%|██▌       | 128/500 [00:29<01:28,  4.22it/s]"
     ]
    },
    {
     "name": "stdout",
     "output_type": "stream",
     "text": [
      "Attention shape: (389, 389), min: 0.000000, max: 0.472412, mean: 0.002460\n",
      "Using fallback threshold (10% of max): 0.047241\n",
      "Non-zero values: 75466/75466 (100.0%)\n",
      "Value range: [0.000014, 0.472412]\n",
      "Graph created: 389 nodes, 388 edges\n"
     ]
    },
    {
     "name": "stderr",
     "output_type": "stream",
     "text": [
      " 26%|██▌       | 129/500 [00:29<01:26,  4.28it/s]"
     ]
    },
    {
     "name": "stdout",
     "output_type": "stream",
     "text": [
      "Attention shape: (384, 384), min: 0.000000, max: 0.473389, mean: 0.002491\n",
      "Using fallback threshold (10% of max): 0.047333\n",
      "Non-zero values: 73536/73536 (100.0%)\n",
      "Value range: [0.000012, 0.473389]\n",
      "Graph created: 384 nodes, 383 edges\n",
      "Attention shape: (206, 206), min: 0.000000, max: 0.476074, mean: 0.004608\n",
      "Using percentile-based threshold: 0.000463 (50th percentile)\n",
      "Non-zero values: 21115/21115 (100.0%)\n",
      "Value range: [0.000013, 0.476074]\n",
      "Graph created: 206 nodes, 10551 edges\n"
     ]
    },
    {
     "name": "stderr",
     "output_type": "stream",
     "text": [
      " 26%|██▌       | 131/500 [00:30<01:11,  5.15it/s]"
     ]
    },
    {
     "name": "stdout",
     "output_type": "stream",
     "text": [
      "Attention shape: (373, 373), min: 0.000000, max: 0.475586, mean: 0.002573\n",
      "Using fallback threshold (10% of max): 0.047546\n",
      "Non-zero values: 69378/69378 (100.0%)\n",
      "Value range: [0.000013, 0.475586]\n",
      "Graph created: 373 nodes, 372 edges\n"
     ]
    },
    {
     "name": "stderr",
     "output_type": "stream",
     "text": [
      " 26%|██▋       | 132/500 [00:30<01:16,  4.83it/s]"
     ]
    },
    {
     "name": "stdout",
     "output_type": "stream",
     "text": [
      "Attention shape: (397, 397), min: 0.000000, max: 0.479492, mean: 0.002417\n",
      "Using fallback threshold (10% of max): 0.047943\n",
      "Non-zero values: 78606/78606 (100.0%)\n",
      "Value range: [0.000010, 0.479492]\n",
      "Graph created: 397 nodes, 396 edges\n"
     ]
    },
    {
     "name": "stderr",
     "output_type": "stream",
     "text": [
      " 27%|██▋       | 133/500 [00:30<01:19,  4.61it/s]"
     ]
    },
    {
     "name": "stdout",
     "output_type": "stream",
     "text": [
      "Attention shape: (394, 394), min: 0.000000, max: 0.468506, mean: 0.002432\n",
      "Using fallback threshold (10% of max): 0.046844\n",
      "Non-zero values: 77421/77421 (100.0%)\n",
      "Value range: [0.000020, 0.468506]\n",
      "Graph created: 394 nodes, 393 edges\n"
     ]
    },
    {
     "name": "stderr",
     "output_type": "stream",
     "text": [
      " 27%|██▋       | 134/500 [00:30<01:21,  4.47it/s]"
     ]
    },
    {
     "name": "stdout",
     "output_type": "stream",
     "text": [
      "Attention shape: (394, 394), min: 0.000000, max: 0.470703, mean: 0.002430\n",
      "Using fallback threshold (10% of max): 0.047058\n",
      "Non-zero values: 77421/77421 (100.0%)\n",
      "Value range: [0.000007, 0.470703]\n",
      "Graph created: 394 nodes, 393 edges\n"
     ]
    },
    {
     "name": "stderr",
     "output_type": "stream",
     "text": [
      " 27%|██▋       | 135/500 [00:31<01:21,  4.45it/s]"
     ]
    },
    {
     "name": "stdout",
     "output_type": "stream",
     "text": [
      "Attention shape: (384, 384), min: 0.000000, max: 0.477295, mean: 0.002497\n",
      "Using fallback threshold (10% of max): 0.047729\n",
      "Non-zero values: 73536/73536 (100.0%)\n",
      "Value range: [0.000012, 0.477295]\n",
      "Graph created: 384 nodes, 383 edges\n"
     ]
    },
    {
     "name": "stderr",
     "output_type": "stream",
     "text": [
      " 27%|██▋       | 136/500 [00:31<01:21,  4.47it/s]"
     ]
    },
    {
     "name": "stdout",
     "output_type": "stream",
     "text": [
      "Attention shape: (378, 378), min: 0.000000, max: 0.474121, mean: 0.002531\n",
      "Using fallback threshold (10% of max): 0.047394\n",
      "Non-zero values: 71253/71253 (100.0%)\n",
      "Value range: [0.000016, 0.474121]\n",
      "Graph created: 378 nodes, 377 edges\n",
      "Attention shape: (340, 340), min: 0.000000, max: 0.475830, mean: 0.002821\n",
      "Using percentile-based threshold: 0.000289 (50th percentile)\n",
      "Non-zero values: 57630/57630 (100.0%)\n",
      "Value range: [0.000017, 0.475830]\n"
     ]
    },
    {
     "name": "stderr",
     "output_type": "stream",
     "text": [
      " 27%|██▋       | 137/500 [00:31<01:22,  4.39it/s]"
     ]
    },
    {
     "name": "stdout",
     "output_type": "stream",
     "text": [
      "Graph created: 340 nodes, 28806 edges\n"
     ]
    },
    {
     "name": "stderr",
     "output_type": "stream",
     "text": [
      " 28%|██▊       | 138/500 [00:31<01:21,  4.44it/s]"
     ]
    },
    {
     "name": "stdout",
     "output_type": "stream",
     "text": [
      "Attention shape: (382, 382), min: 0.000000, max: 0.478027, mean: 0.002504\n",
      "Using fallback threshold (10% of max): 0.047791\n",
      "Non-zero values: 72771/72771 (100.0%)\n",
      "Value range: [0.000011, 0.478027]\n",
      "Graph created: 382 nodes, 381 edges\n",
      "Attention shape: (240, 240), min: 0.000000, max: 0.468506, mean: 0.003963\n",
      "Using percentile-based threshold: 0.000343 (50th percentile)\n",
      "Non-zero values: 28680/28680 (100.0%)\n",
      "Value range: [0.000018, 0.468506]\n",
      "Graph created: 240 nodes, 14339 edges\n"
     ]
    },
    {
     "name": "stderr",
     "output_type": "stream",
     "text": [
      " 28%|██▊       | 140/500 [00:32<01:09,  5.17it/s]"
     ]
    },
    {
     "name": "stdout",
     "output_type": "stream",
     "text": [
      "Attention shape: (378, 378), min: 0.000000, max: 0.479492, mean: 0.002537\n",
      "Using fallback threshold (10% of max): 0.047943\n",
      "Non-zero values: 71253/71253 (100.0%)\n",
      "Value range: [0.000014, 0.479492]\n",
      "Graph created: 378 nodes, 377 edges\n"
     ]
    },
    {
     "name": "stderr",
     "output_type": "stream",
     "text": [
      " 28%|██▊       | 141/500 [00:32<01:12,  4.94it/s]"
     ]
    },
    {
     "name": "stdout",
     "output_type": "stream",
     "text": [
      "Attention shape: (386, 386), min: 0.000000, max: 0.475098, mean: 0.002483\n",
      "Using fallback threshold (10% of max): 0.047485\n",
      "Non-zero values: 74305/74305 (100.0%)\n",
      "Value range: [0.000017, 0.475098]\n",
      "Graph created: 386 nodes, 385 edges\n"
     ]
    },
    {
     "name": "stderr",
     "output_type": "stream",
     "text": [
      " 28%|██▊       | 142/500 [00:32<01:13,  4.86it/s]"
     ]
    },
    {
     "name": "stdout",
     "output_type": "stream",
     "text": [
      "Attention shape: (377, 377), min: 0.000000, max: 0.481445, mean: 0.002544\n",
      "Using fallback threshold (10% of max): 0.048126\n",
      "Non-zero values: 70876/70876 (100.0%)\n",
      "Value range: [0.000018, 0.481445]\n",
      "Graph created: 377 nodes, 376 edges\n"
     ]
    },
    {
     "name": "stderr",
     "output_type": "stream",
     "text": [
      " 29%|██▊       | 143/500 [00:32<01:15,  4.71it/s]"
     ]
    },
    {
     "name": "stdout",
     "output_type": "stream",
     "text": [
      "Attention shape: (386, 386), min: 0.000000, max: 0.478760, mean: 0.002487\n",
      "Using fallback threshold (10% of max): 0.047852\n",
      "Non-zero values: 74305/74305 (100.0%)\n",
      "Value range: [0.000010, 0.478760]\n",
      "Graph created: 386 nodes, 385 edges\n"
     ]
    },
    {
     "name": "stderr",
     "output_type": "stream",
     "text": [
      " 29%|██▉       | 144/500 [00:32<01:21,  4.35it/s]"
     ]
    },
    {
     "name": "stdout",
     "output_type": "stream",
     "text": [
      "Attention shape: (434, 434), min: 0.000000, max: 0.480957, mean: 0.002214\n",
      "Using fallback threshold (10% of max): 0.048096\n",
      "Non-zero values: 93961/93961 (100.0%)\n",
      "Value range: [0.000008, 0.480957]\n",
      "Graph created: 434 nodes, 433 edges\n"
     ]
    },
    {
     "name": "stderr",
     "output_type": "stream",
     "text": [
      " 29%|██▉       | 145/500 [00:33<01:20,  4.43it/s]"
     ]
    },
    {
     "name": "stdout",
     "output_type": "stream",
     "text": [
      "Attention shape: (379, 379), min: 0.000000, max: 0.477295, mean: 0.002531\n",
      "Using fallback threshold (10% of max): 0.047729\n",
      "Non-zero values: 71631/71631 (100.0%)\n",
      "Value range: [0.000018, 0.477295]\n",
      "Graph created: 379 nodes, 378 edges\n"
     ]
    },
    {
     "name": "stderr",
     "output_type": "stream",
     "text": [
      " 29%|██▉       | 146/500 [00:33<01:20,  4.37it/s]"
     ]
    },
    {
     "name": "stdout",
     "output_type": "stream",
     "text": [
      "Attention shape: (393, 393), min: 0.000000, max: 0.480957, mean: 0.002445\n",
      "Using fallback threshold (10% of max): 0.048096\n",
      "Non-zero values: 77028/77028 (100.0%)\n",
      "Value range: [0.000012, 0.480957]\n",
      "Graph created: 393 nodes, 392 edges\n"
     ]
    },
    {
     "name": "stderr",
     "output_type": "stream",
     "text": [
      " 29%|██▉       | 147/500 [00:33<01:21,  4.32it/s]"
     ]
    },
    {
     "name": "stdout",
     "output_type": "stream",
     "text": [
      "Attention shape: (390, 390), min: 0.000000, max: 0.478760, mean: 0.002453\n",
      "Using fallback threshold (10% of max): 0.047852\n",
      "Non-zero values: 75855/75855 (100.0%)\n",
      "Value range: [0.000011, 0.478760]\n",
      "Graph created: 390 nodes, 389 edges\n"
     ]
    },
    {
     "name": "stderr",
     "output_type": "stream",
     "text": [
      " 30%|██▉       | 148/500 [00:33<01:21,  4.31it/s]"
     ]
    },
    {
     "name": "stdout",
     "output_type": "stream",
     "text": [
      "Attention shape: (386, 386), min: 0.000000, max: 0.479004, mean: 0.002485\n",
      "Using fallback threshold (10% of max): 0.047882\n",
      "Non-zero values: 74305/74305 (100.0%)\n",
      "Value range: [0.000013, 0.479004]\n",
      "Graph created: 386 nodes, 385 edges\n",
      "Attention shape: (353, 353), min: 0.000000, max: 0.478271, mean: 0.002716\n",
      "Using percentile-based threshold: 0.000297 (50th percentile)\n",
      "Non-zero values: 62128/62128 (100.0%)\n",
      "Value range: [0.000019, 0.478271]\n"
     ]
    },
    {
     "name": "stderr",
     "output_type": "stream",
     "text": [
      " 30%|██▉       | 149/500 [00:34<01:23,  4.19it/s]"
     ]
    },
    {
     "name": "stdout",
     "output_type": "stream",
     "text": [
      "Graph created: 353 nodes, 31066 edges\n"
     ]
    },
    {
     "name": "stderr",
     "output_type": "stream",
     "text": [
      " 30%|███       | 150/500 [00:34<01:20,  4.34it/s]"
     ]
    },
    {
     "name": "stdout",
     "output_type": "stream",
     "text": [
      "Attention shape: (382, 382), min: 0.000000, max: 0.468506, mean: 0.002508\n",
      "Using fallback threshold (10% of max): 0.046844\n",
      "Non-zero values: 72771/72771 (100.0%)\n",
      "Value range: [0.000008, 0.468506]\n",
      "Graph created: 382 nodes, 381 edges\n",
      "Attention shape: (349, 349), min: 0.000000, max: 0.479004, mean: 0.002745\n",
      "Using percentile-based threshold: 0.000324 (50th percentile)\n",
      "Non-zero values: 60726/60726 (100.0%)\n"
     ]
    },
    {
     "name": "stderr",
     "output_type": "stream",
     "text": [
      " 30%|███       | 151/500 [00:34<01:22,  4.21it/s]"
     ]
    },
    {
     "name": "stdout",
     "output_type": "stream",
     "text": [
      "Value range: [0.000022, 0.479004]\n",
      "Graph created: 349 nodes, 30353 edges\n"
     ]
    },
    {
     "name": "stderr",
     "output_type": "stream",
     "text": [
      " 30%|███       | 152/500 [00:34<01:22,  4.20it/s]"
     ]
    },
    {
     "name": "stdout",
     "output_type": "stream",
     "text": [
      "Attention shape: (394, 394), min: 0.000000, max: 0.475586, mean: 0.002434\n",
      "Using fallback threshold (10% of max): 0.047546\n",
      "Non-zero values: 77421/77421 (100.0%)\n",
      "Value range: [0.000013, 0.475586]\n",
      "Graph created: 394 nodes, 393 edges\n"
     ]
    },
    {
     "name": "stderr",
     "output_type": "stream",
     "text": [
      " 31%|███       | 153/500 [00:35<01:24,  4.10it/s]"
     ]
    },
    {
     "name": "stdout",
     "output_type": "stream",
     "text": [
      "Attention shape: (411, 411), min: 0.000000, max: 0.468506, mean: 0.002331\n",
      "Using fallback threshold (10% of max): 0.046844\n",
      "Non-zero values: 84255/84255 (100.0%)\n",
      "Value range: [0.000007, 0.468506]\n",
      "Graph created: 411 nodes, 410 edges\n"
     ]
    },
    {
     "name": "stderr",
     "output_type": "stream",
     "text": [
      " 31%|███       | 154/500 [00:35<01:22,  4.20it/s]"
     ]
    },
    {
     "name": "stdout",
     "output_type": "stream",
     "text": [
      "Attention shape: (384, 384), min: 0.000000, max: 0.476074, mean: 0.002502\n",
      "Using fallback threshold (10% of max): 0.047607\n",
      "Non-zero values: 73536/73536 (100.0%)\n",
      "Value range: [0.000012, 0.476074]\n",
      "Graph created: 384 nodes, 383 edges\n",
      "Attention shape: (314, 314), min: 0.000000, max: 0.479980, mean: 0.003056\n",
      "Using percentile-based threshold: 0.000258 (50th percentile)\n",
      "Non-zero values: 49141/49141 (100.0%)\n",
      "Value range: [0.000006, 0.479980]\n"
     ]
    },
    {
     "name": "stderr",
     "output_type": "stream",
     "text": [
      " 31%|███       | 155/500 [00:35<01:19,  4.34it/s]"
     ]
    },
    {
     "name": "stdout",
     "output_type": "stream",
     "text": [
      "Graph created: 314 nodes, 24548 edges\n"
     ]
    },
    {
     "name": "stderr",
     "output_type": "stream",
     "text": [
      " 31%|███       | 156/500 [00:35<01:21,  4.21it/s]"
     ]
    },
    {
     "name": "stdout",
     "output_type": "stream",
     "text": [
      "Attention shape: (416, 416), min: 0.000000, max: 0.473877, mean: 0.002306\n",
      "Using fallback threshold (10% of max): 0.047363\n",
      "Non-zero values: 86320/86320 (100.0%)\n",
      "Value range: [0.000010, 0.473877]\n",
      "Graph created: 416 nodes, 415 edges\n"
     ]
    },
    {
     "name": "stderr",
     "output_type": "stream",
     "text": [
      " 31%|███▏      | 157/500 [00:36<01:21,  4.21it/s]"
     ]
    },
    {
     "name": "stdout",
     "output_type": "stream",
     "text": [
      "Attention shape: (399, 399), min: 0.000000, max: 0.471436, mean: 0.002407\n",
      "Using fallback threshold (10% of max): 0.047119\n",
      "Non-zero values: 79401/79401 (100.0%)\n",
      "Value range: [0.000018, 0.471436]\n",
      "Graph created: 399 nodes, 398 edges\n"
     ]
    },
    {
     "name": "stderr",
     "output_type": "stream",
     "text": [
      " 32%|███▏      | 158/500 [00:36<01:18,  4.34it/s]"
     ]
    },
    {
     "name": "stdout",
     "output_type": "stream",
     "text": [
      "Attention shape: (379, 379), min: 0.000000, max: 0.481445, mean: 0.002527\n",
      "Using fallback threshold (10% of max): 0.048126\n",
      "Non-zero values: 71631/71631 (100.0%)\n",
      "Value range: [0.000012, 0.481445]\n",
      "Graph created: 379 nodes, 378 edges\n"
     ]
    },
    {
     "name": "stderr",
     "output_type": "stream",
     "text": [
      " 32%|███▏      | 159/500 [00:36<01:17,  4.43it/s]"
     ]
    },
    {
     "name": "stdout",
     "output_type": "stream",
     "text": [
      "Attention shape: (381, 381), min: 0.000000, max: 0.475098, mean: 0.002516\n",
      "Using fallback threshold (10% of max): 0.047485\n",
      "Non-zero values: 72390/72390 (100.0%)\n",
      "Value range: [0.000010, 0.475098]\n",
      "Graph created: 381 nodes, 380 edges\n"
     ]
    },
    {
     "name": "stderr",
     "output_type": "stream",
     "text": [
      " 32%|███▏      | 160/500 [00:36<01:17,  4.39it/s]"
     ]
    },
    {
     "name": "stdout",
     "output_type": "stream",
     "text": [
      "Attention shape: (390, 390), min: 0.000000, max: 0.475586, mean: 0.002462\n",
      "Using fallback threshold (10% of max): 0.047546\n",
      "Non-zero values: 75855/75855 (100.0%)\n",
      "Value range: [0.000008, 0.475586]\n",
      "Graph created: 390 nodes, 389 edges\n"
     ]
    },
    {
     "name": "stderr",
     "output_type": "stream",
     "text": [
      " 32%|███▏      | 161/500 [00:36<01:18,  4.30it/s]"
     ]
    },
    {
     "name": "stdout",
     "output_type": "stream",
     "text": [
      "Attention shape: (405, 405), min: 0.000000, max: 0.478760, mean: 0.002375\n",
      "Using fallback threshold (10% of max): 0.047852\n",
      "Non-zero values: 81810/81810 (100.0%)\n",
      "Value range: [0.000013, 0.478760]\n",
      "Graph created: 405 nodes, 404 edges\n"
     ]
    },
    {
     "name": "stderr",
     "output_type": "stream",
     "text": [
      " 32%|███▏      | 162/500 [00:37<01:18,  4.30it/s]"
     ]
    },
    {
     "name": "stdout",
     "output_type": "stream",
     "text": [
      "Attention shape: (394, 394), min: 0.000000, max: 0.470703, mean: 0.002439\n",
      "Using fallback threshold (10% of max): 0.047058\n",
      "Non-zero values: 77421/77421 (100.0%)\n",
      "Value range: [0.000012, 0.470703]\n",
      "Graph created: 394 nodes, 393 edges\n"
     ]
    },
    {
     "name": "stderr",
     "output_type": "stream",
     "text": [
      " 33%|███▎      | 163/500 [00:37<01:19,  4.23it/s]"
     ]
    },
    {
     "name": "stdout",
     "output_type": "stream",
     "text": [
      "Attention shape: (408, 408), min: 0.000000, max: 0.480713, mean: 0.002350\n",
      "Using fallback threshold (10% of max): 0.048065\n",
      "Non-zero values: 83028/83028 (100.0%)\n",
      "Value range: [0.000010, 0.480713]\n",
      "Graph created: 408 nodes, 407 edges\n"
     ]
    },
    {
     "name": "stderr",
     "output_type": "stream",
     "text": [
      " 33%|███▎      | 164/500 [00:37<01:17,  4.36it/s]"
     ]
    },
    {
     "name": "stdout",
     "output_type": "stream",
     "text": [
      "Attention shape: (380, 380), min: 0.000000, max: 0.474609, mean: 0.002518\n",
      "Using fallback threshold (10% of max): 0.047455\n",
      "Non-zero values: 72010/72010 (100.0%)\n",
      "Value range: [0.000008, 0.474609]\n",
      "Graph created: 380 nodes, 379 edges\n"
     ]
    },
    {
     "name": "stderr",
     "output_type": "stream",
     "text": [
      " 33%|███▎      | 165/500 [00:37<01:17,  4.31it/s]"
     ]
    },
    {
     "name": "stdout",
     "output_type": "stream",
     "text": [
      "Attention shape: (397, 397), min: 0.000000, max: 0.475098, mean: 0.002415\n",
      "Using fallback threshold (10% of max): 0.047485\n",
      "Non-zero values: 78606/78606 (100.0%)\n",
      "Value range: [0.000008, 0.475098]\n",
      "Graph created: 397 nodes, 396 edges\n"
     ]
    },
    {
     "name": "stderr",
     "output_type": "stream",
     "text": [
      " 33%|███▎      | 166/500 [00:38<01:18,  4.26it/s]"
     ]
    },
    {
     "name": "stdout",
     "output_type": "stream",
     "text": [
      "Attention shape: (399, 399), min: 0.000000, max: 0.470703, mean: 0.002405\n",
      "Using fallback threshold (10% of max): 0.047058\n",
      "Non-zero values: 79401/79401 (100.0%)\n",
      "Value range: [0.000009, 0.470703]\n",
      "Graph created: 399 nodes, 398 edges\n"
     ]
    },
    {
     "name": "stderr",
     "output_type": "stream",
     "text": [
      " 33%|███▎      | 167/500 [00:38<01:18,  4.26it/s]"
     ]
    },
    {
     "name": "stdout",
     "output_type": "stream",
     "text": [
      "Attention shape: (393, 393), min: 0.000000, max: 0.477539, mean: 0.002434\n",
      "Using fallback threshold (10% of max): 0.047729\n",
      "Non-zero values: 77028/77028 (100.0%)\n",
      "Value range: [0.000008, 0.477539]\n",
      "Graph created: 393 nodes, 392 edges\n"
     ]
    },
    {
     "name": "stderr",
     "output_type": "stream",
     "text": [
      " 34%|███▎      | 168/500 [00:38<01:16,  4.35it/s]"
     ]
    },
    {
     "name": "stdout",
     "output_type": "stream",
     "text": [
      "Attention shape: (384, 384), min: 0.000000, max: 0.472168, mean: 0.002497\n",
      "Using fallback threshold (10% of max): 0.047211\n",
      "Non-zero values: 73536/73536 (100.0%)\n",
      "Value range: [0.000010, 0.472168]\n",
      "Graph created: 384 nodes, 383 edges\n"
     ]
    },
    {
     "name": "stderr",
     "output_type": "stream",
     "text": [
      " 34%|███▍      | 169/500 [00:38<01:13,  4.50it/s]"
     ]
    },
    {
     "name": "stdout",
     "output_type": "stream",
     "text": [
      "Attention shape: (365, 365), min: 0.000000, max: 0.473389, mean: 0.002630\n",
      "Using fallback threshold (10% of max): 0.047333\n",
      "Non-zero values: 66430/66430 (100.0%)\n",
      "Value range: [0.000012, 0.473389]\n",
      "Graph created: 365 nodes, 364 edges\n"
     ]
    },
    {
     "name": "stderr",
     "output_type": "stream",
     "text": [
      " 34%|███▍      | 170/500 [00:39<01:14,  4.43it/s]"
     ]
    },
    {
     "name": "stdout",
     "output_type": "stream",
     "text": [
      "Attention shape: (390, 390), min: 0.000000, max: 0.468506, mean: 0.002459\n",
      "Using fallback threshold (10% of max): 0.046844\n",
      "Non-zero values: 75855/75855 (100.0%)\n",
      "Value range: [0.000011, 0.468506]\n",
      "Graph created: 390 nodes, 389 edges\n"
     ]
    },
    {
     "name": "stderr",
     "output_type": "stream",
     "text": [
      " 34%|███▍      | 171/500 [00:39<01:14,  4.41it/s]"
     ]
    },
    {
     "name": "stdout",
     "output_type": "stream",
     "text": [
      "Attention shape: (387, 387), min: 0.000000, max: 0.477783, mean: 0.002480\n",
      "Using fallback threshold (10% of max): 0.047760\n",
      "Non-zero values: 74691/74691 (100.0%)\n",
      "Value range: [0.000013, 0.477783]\n",
      "Graph created: 387 nodes, 386 edges\n"
     ]
    },
    {
     "name": "stderr",
     "output_type": "stream",
     "text": [
      " 34%|███▍      | 172/500 [00:39<01:12,  4.55it/s]"
     ]
    },
    {
     "name": "stdout",
     "output_type": "stream",
     "text": [
      "Attention shape: (366, 366), min: 0.000000, max: 0.476318, mean: 0.002611\n",
      "Using fallback threshold (10% of max): 0.047607\n",
      "Non-zero values: 66795/66795 (100.0%)\n",
      "Value range: [0.000019, 0.476318]\n",
      "Graph created: 366 nodes, 365 edges\n"
     ]
    },
    {
     "name": "stderr",
     "output_type": "stream",
     "text": [
      " 35%|███▍      | 173/500 [00:39<01:11,  4.59it/s]"
     ]
    },
    {
     "name": "stdout",
     "output_type": "stream",
     "text": [
      "Attention shape: (380, 380), min: 0.000000, max: 0.473389, mean: 0.002522\n",
      "Using fallback threshold (10% of max): 0.047333\n",
      "Non-zero values: 72010/72010 (100.0%)\n",
      "Value range: [0.000009, 0.473389]\n",
      "Graph created: 380 nodes, 379 edges\n"
     ]
    },
    {
     "name": "stderr",
     "output_type": "stream",
     "text": [
      " 35%|███▍      | 174/500 [00:39<01:11,  4.58it/s]"
     ]
    },
    {
     "name": "stdout",
     "output_type": "stream",
     "text": [
      "Attention shape: (378, 378), min: 0.000000, max: 0.474365, mean: 0.002531\n",
      "Using fallback threshold (10% of max): 0.047424\n",
      "Non-zero values: 71253/71253 (100.0%)\n",
      "Value range: [0.000010, 0.474365]\n",
      "Graph created: 378 nodes, 377 edges\n"
     ]
    },
    {
     "name": "stderr",
     "output_type": "stream",
     "text": [
      " 35%|███▌      | 175/500 [00:40<01:10,  4.60it/s]"
     ]
    },
    {
     "name": "stdout",
     "output_type": "stream",
     "text": [
      "Attention shape: (381, 381), min: 0.000000, max: 0.476562, mean: 0.002514\n",
      "Using fallback threshold (10% of max): 0.047638\n",
      "Non-zero values: 72390/72390 (100.0%)\n",
      "Value range: [0.000012, 0.476562]\n",
      "Graph created: 381 nodes, 380 edges\n",
      "Attention shape: (247, 247), min: 0.000000, max: 0.474121, mean: 0.003860\n",
      "Using percentile-based threshold: 0.000341 (50th percentile)\n",
      "Non-zero values: 30381/30381 (100.0%)\n",
      "Value range: [0.000020, 0.474121]\n",
      "Graph created: 247 nodes, 15185 edges\n"
     ]
    },
    {
     "name": "stderr",
     "output_type": "stream",
     "text": [
      " 35%|███▌      | 177/500 [00:40<01:02,  5.16it/s]"
     ]
    },
    {
     "name": "stdout",
     "output_type": "stream",
     "text": [
      "Attention shape: (392, 392), min: 0.000000, max: 0.471680, mean: 0.002443\n",
      "Using fallback threshold (10% of max): 0.047150\n",
      "Non-zero values: 76636/76636 (100.0%)\n",
      "Value range: [0.000005, 0.471680]\n",
      "Graph created: 392 nodes, 391 edges\n"
     ]
    },
    {
     "name": "stderr",
     "output_type": "stream",
     "text": [
      " 36%|███▌      | 178/500 [00:40<01:05,  4.89it/s]"
     ]
    },
    {
     "name": "stdout",
     "output_type": "stream",
     "text": [
      "Attention shape: (393, 393), min: 0.000000, max: 0.481934, mean: 0.002441\n",
      "Using fallback threshold (10% of max): 0.048187\n",
      "Non-zero values: 77028/77028 (100.0%)\n",
      "Value range: [0.000013, 0.481934]\n",
      "Graph created: 393 nodes, 392 edges\n"
     ]
    },
    {
     "name": "stderr",
     "output_type": "stream",
     "text": [
      " 36%|███▌      | 179/500 [00:40<01:05,  4.91it/s]"
     ]
    },
    {
     "name": "stdout",
     "output_type": "stream",
     "text": [
      "Attention shape: (377, 377), min: 0.000000, max: 0.475586, mean: 0.002542\n",
      "Using fallback threshold (10% of max): 0.047546\n",
      "Non-zero values: 70876/70876 (100.0%)\n",
      "Value range: [0.000010, 0.475586]\n",
      "Graph created: 377 nodes, 377 edges\n",
      "Attention shape: (364, 364), min: 0.000000, max: 0.474609, mean: 0.002632\n"
     ]
    },
    {
     "name": "stderr",
     "output_type": "stream",
     "text": [
      " 36%|███▌      | 180/500 [00:41<01:04,  4.94it/s]"
     ]
    },
    {
     "name": "stdout",
     "output_type": "stream",
     "text": [
      "Using fallback threshold (10% of max): 0.047455\n",
      "Non-zero values: 66066/66066 (100.0%)\n",
      "Value range: [0.000016, 0.474609]\n",
      "Graph created: 364 nodes, 363 edges\n"
     ]
    },
    {
     "name": "stderr",
     "output_type": "stream",
     "text": [
      " 36%|███▌      | 181/500 [00:41<01:11,  4.47it/s]"
     ]
    },
    {
     "name": "stdout",
     "output_type": "stream",
     "text": [
      "Attention shape: (442, 442), min: 0.000000, max: 0.472412, mean: 0.002174\n",
      "Using fallback threshold (10% of max): 0.047241\n",
      "Non-zero values: 97461/97461 (100.0%)\n",
      "Value range: [0.000014, 0.472412]\n",
      "Graph created: 442 nodes, 441 edges\n"
     ]
    },
    {
     "name": "stderr",
     "output_type": "stream",
     "text": [
      " 36%|███▋      | 182/500 [00:41<01:10,  4.51it/s]"
     ]
    },
    {
     "name": "stdout",
     "output_type": "stream",
     "text": [
      "Attention shape: (379, 379), min: 0.000000, max: 0.476562, mean: 0.002525\n",
      "Using fallback threshold (10% of max): 0.047638\n",
      "Non-zero values: 71631/71631 (100.0%)\n",
      "Value range: [0.000007, 0.476562]\n",
      "Graph created: 379 nodes, 378 edges\n"
     ]
    },
    {
     "name": "stderr",
     "output_type": "stream",
     "text": [
      " 37%|███▋      | 183/500 [00:41<01:10,  4.52it/s]"
     ]
    },
    {
     "name": "stdout",
     "output_type": "stream",
     "text": [
      "Attention shape: (386, 386), min: 0.000000, max: 0.468506, mean: 0.002483\n",
      "Using fallback threshold (10% of max): 0.046844\n",
      "Non-zero values: 74305/74305 (100.0%)\n",
      "Value range: [0.000020, 0.468506]\n",
      "Graph created: 386 nodes, 385 edges\n"
     ]
    },
    {
     "name": "stderr",
     "output_type": "stream",
     "text": [
      " 37%|███▋      | 184/500 [00:42<01:12,  4.38it/s]"
     ]
    },
    {
     "name": "stdout",
     "output_type": "stream",
     "text": [
      "Attention shape: (405, 405), min: 0.000000, max: 0.475830, mean: 0.002363\n",
      "Using fallback threshold (10% of max): 0.047577\n",
      "Non-zero values: 81810/81810 (100.0%)\n",
      "Value range: [0.000006, 0.475830]\n",
      "Graph created: 405 nodes, 404 edges\n"
     ]
    },
    {
     "name": "stderr",
     "output_type": "stream",
     "text": [
      " 37%|███▋      | 185/500 [00:42<01:11,  4.43it/s]"
     ]
    },
    {
     "name": "stdout",
     "output_type": "stream",
     "text": [
      "Attention shape: (384, 384), min: 0.000000, max: 0.473389, mean: 0.002501\n",
      "Using fallback threshold (10% of max): 0.047333\n",
      "Non-zero values: 73536/73536 (100.0%)\n",
      "Value range: [0.000015, 0.473389]\n",
      "Graph created: 384 nodes, 383 edges\n"
     ]
    },
    {
     "name": "stderr",
     "output_type": "stream",
     "text": [
      " 37%|███▋      | 186/500 [00:42<01:12,  4.32it/s]"
     ]
    },
    {
     "name": "stdout",
     "output_type": "stream",
     "text": [
      "Attention shape: (403, 403), min: 0.000000, max: 0.476318, mean: 0.002377\n",
      "Using fallback threshold (10% of max): 0.047607\n",
      "Non-zero values: 81003/81003 (100.0%)\n",
      "Value range: [0.000014, 0.476318]\n",
      "Graph created: 403 nodes, 402 edges\n"
     ]
    },
    {
     "name": "stderr",
     "output_type": "stream",
     "text": [
      " 37%|███▋      | 187/500 [00:42<01:13,  4.24it/s]"
     ]
    },
    {
     "name": "stdout",
     "output_type": "stream",
     "text": [
      "Attention shape: (401, 401), min: 0.000000, max: 0.475830, mean: 0.002401\n",
      "Using fallback threshold (10% of max): 0.047577\n",
      "Non-zero values: 80200/80200 (100.0%)\n",
      "Value range: [0.000007, 0.475830]\n",
      "Graph created: 401 nodes, 400 edges\n"
     ]
    },
    {
     "name": "stderr",
     "output_type": "stream",
     "text": [
      " 38%|███▊      | 188/500 [00:42<01:11,  4.37it/s]"
     ]
    },
    {
     "name": "stdout",
     "output_type": "stream",
     "text": [
      "Attention shape: (380, 380), min: 0.000000, max: 0.481689, mean: 0.002518\n",
      "Using fallback threshold (10% of max): 0.048157\n",
      "Non-zero values: 72010/72010 (100.0%)\n",
      "Value range: [0.000011, 0.481689]\n",
      "Graph created: 380 nodes, 379 edges\n"
     ]
    },
    {
     "name": "stderr",
     "output_type": "stream",
     "text": [
      " 38%|███▊      | 189/500 [00:43<01:08,  4.51it/s]"
     ]
    },
    {
     "name": "stdout",
     "output_type": "stream",
     "text": [
      "Attention shape: (373, 373), min: 0.000000, max: 0.474121, mean: 0.002571\n",
      "Using fallback threshold (10% of max): 0.047394\n",
      "Non-zero values: 69378/69378 (100.0%)\n",
      "Value range: [0.000010, 0.474121]\n",
      "Graph created: 373 nodes, 372 edges\n"
     ]
    },
    {
     "name": "stderr",
     "output_type": "stream",
     "text": [
      " 38%|███▊      | 190/500 [00:43<01:08,  4.56it/s]"
     ]
    },
    {
     "name": "stdout",
     "output_type": "stream",
     "text": [
      "Attention shape: (384, 384), min: 0.000000, max: 0.473145, mean: 0.002504\n",
      "Using fallback threshold (10% of max): 0.047302\n",
      "Non-zero values: 73536/73536 (100.0%)\n",
      "Value range: [0.000008, 0.473145]\n",
      "Graph created: 384 nodes, 383 edges\n"
     ]
    },
    {
     "name": "stderr",
     "output_type": "stream",
     "text": [
      " 38%|███▊      | 191/500 [00:43<01:08,  4.48it/s]"
     ]
    },
    {
     "name": "stdout",
     "output_type": "stream",
     "text": [
      "Attention shape: (400, 400), min: 0.000000, max: 0.471680, mean: 0.002399\n",
      "Using fallback threshold (10% of max): 0.047150\n",
      "Non-zero values: 79800/79800 (100.0%)\n",
      "Value range: [0.000014, 0.471680]\n",
      "Graph created: 400 nodes, 399 edges\n"
     ]
    },
    {
     "name": "stderr",
     "output_type": "stream",
     "text": [
      " 38%|███▊      | 192/500 [00:43<01:07,  4.58it/s]"
     ]
    },
    {
     "name": "stdout",
     "output_type": "stream",
     "text": [
      "Attention shape: (377, 377), min: 0.000000, max: 0.480957, mean: 0.002542\n",
      "Using fallback threshold (10% of max): 0.048096\n",
      "Non-zero values: 70876/70876 (100.0%)\n",
      "Value range: [0.000014, 0.480957]\n",
      "Graph created: 377 nodes, 376 edges\n"
     ]
    },
    {
     "name": "stderr",
     "output_type": "stream",
     "text": [
      " 39%|███▊      | 193/500 [00:44<01:07,  4.52it/s]"
     ]
    },
    {
     "name": "stdout",
     "output_type": "stream",
     "text": [
      "Attention shape: (391, 391), min: 0.000000, max: 0.477051, mean: 0.002447\n",
      "Using fallback threshold (10% of max): 0.047699\n",
      "Non-zero values: 76245/76245 (100.0%)\n",
      "Value range: [0.000014, 0.477051]\n",
      "Graph created: 391 nodes, 390 edges\n"
     ]
    },
    {
     "name": "stderr",
     "output_type": "stream",
     "text": [
      " 39%|███▉      | 194/500 [00:44<01:08,  4.46it/s]"
     ]
    },
    {
     "name": "stdout",
     "output_type": "stream",
     "text": [
      "Attention shape: (392, 392), min: 0.000000, max: 0.478027, mean: 0.002445\n",
      "Using fallback threshold (10% of max): 0.047791\n",
      "Non-zero values: 76636/76636 (100.0%)\n",
      "Value range: [0.000008, 0.478027]\n",
      "Graph created: 392 nodes, 391 edges\n"
     ]
    },
    {
     "name": "stderr",
     "output_type": "stream",
     "text": [
      " 39%|███▉      | 195/500 [00:44<01:07,  4.52it/s]"
     ]
    },
    {
     "name": "stdout",
     "output_type": "stream",
     "text": [
      "Attention shape: (384, 384), min: 0.000000, max: 0.471436, mean: 0.002495\n",
      "Using fallback threshold (10% of max): 0.047119\n",
      "Non-zero values: 73536/73536 (100.0%)\n",
      "Value range: [0.000016, 0.471436]\n",
      "Graph created: 384 nodes, 383 edges\n"
     ]
    },
    {
     "name": "stderr",
     "output_type": "stream",
     "text": [
      " 39%|███▉      | 196/500 [00:44<01:09,  4.40it/s]"
     ]
    },
    {
     "name": "stdout",
     "output_type": "stream",
     "text": [
      "Attention shape: (400, 400), min: 0.000000, max: 0.469482, mean: 0.002399\n",
      "Using fallback threshold (10% of max): 0.046936\n",
      "Non-zero values: 79800/79800 (100.0%)\n",
      "Value range: [0.000013, 0.469482]\n",
      "Graph created: 400 nodes, 399 edges\n",
      "Attention shape: (356, 356), min: 0.000000, max: 0.475098, mean: 0.002697\n"
     ]
    },
    {
     "name": "stderr",
     "output_type": "stream",
     "text": [
      " 39%|███▉      | 197/500 [00:44<01:11,  4.24it/s]"
     ]
    },
    {
     "name": "stdout",
     "output_type": "stream",
     "text": [
      "Using percentile-based threshold: 0.000310 (50th percentile)\n",
      "Non-zero values: 63190/63190 (100.0%)\n",
      "Value range: [0.000015, 0.475098]\n",
      "Graph created: 356 nodes, 31587 edges\n"
     ]
    },
    {
     "name": "stderr",
     "output_type": "stream",
     "text": [
      " 40%|███▉      | 198/500 [00:45<01:10,  4.28it/s]"
     ]
    },
    {
     "name": "stdout",
     "output_type": "stream",
     "text": [
      "Attention shape: (388, 388), min: 0.000000, max: 0.479248, mean: 0.002472\n",
      "Using fallback threshold (10% of max): 0.047913\n",
      "Non-zero values: 75078/75078 (100.0%)\n",
      "Value range: [0.000008, 0.479248]\n",
      "Graph created: 388 nodes, 387 edges\n"
     ]
    },
    {
     "name": "stderr",
     "output_type": "stream",
     "text": [
      " 40%|███▉      | 199/500 [00:45<01:07,  4.43it/s]"
     ]
    },
    {
     "name": "stdout",
     "output_type": "stream",
     "text": [
      "Attention shape: (371, 371), min: 0.000000, max: 0.475830, mean: 0.002579\n",
      "Using fallback threshold (10% of max): 0.047577\n",
      "Non-zero values: 68635/68635 (100.0%)\n",
      "Value range: [0.000005, 0.475830]\n",
      "Graph created: 371 nodes, 370 edges\n"
     ]
    },
    {
     "name": "stderr",
     "output_type": "stream",
     "text": [
      " 40%|████      | 200/500 [00:45<01:10,  4.25it/s]"
     ]
    },
    {
     "name": "stdout",
     "output_type": "stream",
     "text": [
      "Attention shape: (422, 422), min: 0.000000, max: 0.480225, mean: 0.002274\n",
      "Using fallback threshold (10% of max): 0.048004\n",
      "Non-zero values: 88831/88831 (100.0%)\n",
      "Value range: [0.000010, 0.480225]\n",
      "Graph created: 422 nodes, 421 edges\n"
     ]
    },
    {
     "name": "stderr",
     "output_type": "stream",
     "text": [
      " 40%|████      | 201/500 [00:45<01:10,  4.26it/s]"
     ]
    },
    {
     "name": "stdout",
     "output_type": "stream",
     "text": [
      "Attention shape: (394, 394), min: 0.000000, max: 0.470459, mean: 0.002428\n",
      "Using fallback threshold (10% of max): 0.047028\n",
      "Non-zero values: 77421/77421 (100.0%)\n",
      "Value range: [0.000008, 0.470459]\n",
      "Graph created: 394 nodes, 393 edges\n"
     ]
    },
    {
     "name": "stderr",
     "output_type": "stream",
     "text": [
      " 40%|████      | 202/500 [00:46<01:09,  4.26it/s]"
     ]
    },
    {
     "name": "stdout",
     "output_type": "stream",
     "text": [
      "Attention shape: (393, 393), min: 0.000000, max: 0.477295, mean: 0.002438\n",
      "Using fallback threshold (10% of max): 0.047729\n",
      "Non-zero values: 77028/77028 (100.0%)\n",
      "Value range: [0.000014, 0.477295]\n",
      "Graph created: 393 nodes, 392 edges\n"
     ]
    },
    {
     "name": "stderr",
     "output_type": "stream",
     "text": [
      " 41%|████      | 203/500 [00:46<01:08,  4.37it/s]"
     ]
    },
    {
     "name": "stdout",
     "output_type": "stream",
     "text": [
      "Attention shape: (381, 381), min: 0.000000, max: 0.468506, mean: 0.002520\n",
      "Using fallback threshold (10% of max): 0.046844\n",
      "Non-zero values: 72390/72390 (100.0%)\n",
      "Value range: [0.000019, 0.468506]\n",
      "Graph created: 381 nodes, 380 edges\n"
     ]
    },
    {
     "name": "stderr",
     "output_type": "stream",
     "text": [
      " 41%|████      | 204/500 [00:46<01:08,  4.33it/s]"
     ]
    },
    {
     "name": "stdout",
     "output_type": "stream",
     "text": [
      "Attention shape: (392, 392), min: 0.000000, max: 0.475098, mean: 0.002449\n",
      "Using fallback threshold (10% of max): 0.047485\n",
      "Non-zero values: 76636/76636 (100.0%)\n",
      "Value range: [0.000013, 0.475098]\n",
      "Graph created: 392 nodes, 391 edges\n"
     ]
    },
    {
     "name": "stderr",
     "output_type": "stream",
     "text": [
      " 41%|████      | 205/500 [00:46<01:08,  4.30it/s]"
     ]
    },
    {
     "name": "stdout",
     "output_type": "stream",
     "text": [
      "Attention shape: (397, 397), min: 0.000000, max: 0.474121, mean: 0.002415\n",
      "Using fallback threshold (10% of max): 0.047394\n",
      "Non-zero values: 78606/78606 (100.0%)\n",
      "Value range: [0.000010, 0.474121]\n",
      "Graph created: 397 nodes, 396 edges\n"
     ]
    },
    {
     "name": "stderr",
     "output_type": "stream",
     "text": [
      " 41%|████      | 206/500 [00:47<01:08,  4.32it/s]"
     ]
    },
    {
     "name": "stdout",
     "output_type": "stream",
     "text": [
      "Attention shape: (390, 390), min: 0.000000, max: 0.468506, mean: 0.002466\n",
      "Using fallback threshold (10% of max): 0.046844\n",
      "Non-zero values: 75855/75855 (100.0%)\n",
      "Value range: [0.000025, 0.468506]\n",
      "Graph created: 390 nodes, 389 edges\n"
     ]
    },
    {
     "name": "stderr",
     "output_type": "stream",
     "text": [
      " 41%|████▏     | 207/500 [00:47<01:07,  4.32it/s]"
     ]
    },
    {
     "name": "stdout",
     "output_type": "stream",
     "text": [
      "Attention shape: (393, 393), min: 0.000000, max: 0.468750, mean: 0.002439\n",
      "Using fallback threshold (10% of max): 0.046875\n",
      "Non-zero values: 77028/77028 (100.0%)\n",
      "Value range: [0.000013, 0.468750]\n",
      "Graph created: 393 nodes, 392 edges\n"
     ]
    },
    {
     "name": "stderr",
     "output_type": "stream",
     "text": [
      " 42%|████▏     | 208/500 [00:47<01:07,  4.31it/s]"
     ]
    },
    {
     "name": "stdout",
     "output_type": "stream",
     "text": [
      "Attention shape: (393, 393), min: 0.000000, max: 0.472168, mean: 0.002434\n",
      "Using fallback threshold (10% of max): 0.047211\n",
      "Non-zero values: 77028/77028 (100.0%)\n",
      "Value range: [0.000009, 0.472168]\n",
      "Graph created: 393 nodes, 392 edges\n"
     ]
    },
    {
     "name": "stderr",
     "output_type": "stream",
     "text": [
      " 42%|████▏     | 209/500 [00:47<01:05,  4.44it/s]"
     ]
    },
    {
     "name": "stdout",
     "output_type": "stream",
     "text": [
      "Attention shape: (373, 373), min: 0.000000, max: 0.473633, mean: 0.002567\n",
      "Using fallback threshold (10% of max): 0.047363\n",
      "Non-zero values: 69378/69378 (100.0%)\n",
      "Value range: [0.000012, 0.473633]\n",
      "Graph created: 373 nodes, 372 edges\n"
     ]
    },
    {
     "name": "stderr",
     "output_type": "stream",
     "text": [
      " 42%|████▏     | 210/500 [00:47<01:03,  4.58it/s]"
     ]
    },
    {
     "name": "stdout",
     "output_type": "stream",
     "text": [
      "Attention shape: (365, 365), min: 0.000000, max: 0.478271, mean: 0.002626\n",
      "Using fallback threshold (10% of max): 0.047821\n",
      "Non-zero values: 66430/66430 (100.0%)\n",
      "Value range: [0.000015, 0.478271]\n",
      "Graph created: 365 nodes, 364 edges\n"
     ]
    },
    {
     "name": "stderr",
     "output_type": "stream",
     "text": [
      " 42%|████▏     | 211/500 [00:48<01:04,  4.51it/s]"
     ]
    },
    {
     "name": "stdout",
     "output_type": "stream",
     "text": [
      "Attention shape: (391, 391), min: 0.000000, max: 0.471436, mean: 0.002459\n",
      "Using fallback threshold (10% of max): 0.047119\n",
      "Non-zero values: 76245/76245 (100.0%)\n",
      "Value range: [0.000016, 0.471436]\n",
      "Graph created: 391 nodes, 390 edges\n"
     ]
    },
    {
     "name": "stderr",
     "output_type": "stream",
     "text": [
      " 42%|████▏     | 212/500 [00:48<01:04,  4.44it/s]"
     ]
    },
    {
     "name": "stdout",
     "output_type": "stream",
     "text": [
      "Attention shape: (393, 393), min: 0.000000, max: 0.474854, mean: 0.002436\n",
      "Using fallback threshold (10% of max): 0.047485\n",
      "Non-zero values: 77028/77028 (100.0%)\n",
      "Value range: [0.000010, 0.474854]\n",
      "Graph created: 393 nodes, 392 edges\n"
     ]
    },
    {
     "name": "stderr",
     "output_type": "stream",
     "text": [
      " 43%|████▎     | 213/500 [00:48<01:03,  4.55it/s]"
     ]
    },
    {
     "name": "stdout",
     "output_type": "stream",
     "text": [
      "Attention shape: (371, 371), min: 0.000000, max: 0.475830, mean: 0.002584\n",
      "Using fallback threshold (10% of max): 0.047577\n",
      "Non-zero values: 68635/68635 (100.0%)\n",
      "Value range: [0.000016, 0.475830]\n",
      "Graph created: 371 nodes, 370 edges\n"
     ]
    },
    {
     "name": "stderr",
     "output_type": "stream",
     "text": [
      " 43%|████▎     | 214/500 [00:48<01:03,  4.48it/s]"
     ]
    },
    {
     "name": "stdout",
     "output_type": "stream",
     "text": [
      "Attention shape: (391, 391), min: 0.000000, max: 0.473145, mean: 0.002460\n",
      "Using fallback threshold (10% of max): 0.047302\n",
      "Non-zero values: 76245/76245 (100.0%)\n",
      "Value range: [0.000014, 0.473145]\n",
      "Graph created: 391 nodes, 390 edges\n"
     ]
    },
    {
     "name": "stderr",
     "output_type": "stream",
     "text": [
      " 43%|████▎     | 215/500 [00:49<01:04,  4.44it/s]"
     ]
    },
    {
     "name": "stdout",
     "output_type": "stream",
     "text": [
      "Attention shape: (389, 389), min: 0.000000, max: 0.475586, mean: 0.002462\n",
      "Using fallback threshold (10% of max): 0.047546\n",
      "Non-zero values: 75466/75466 (100.0%)\n",
      "Value range: [0.000014, 0.475586]\n",
      "Graph created: 389 nodes, 388 edges\n"
     ]
    },
    {
     "name": "stderr",
     "output_type": "stream",
     "text": [
      " 43%|████▎     | 216/500 [00:49<01:02,  4.54it/s]"
     ]
    },
    {
     "name": "stdout",
     "output_type": "stream",
     "text": [
      "Attention shape: (375, 375), min: 0.000000, max: 0.477783, mean: 0.002558\n",
      "Using fallback threshold (10% of max): 0.047760\n",
      "Non-zero values: 70125/70125 (100.0%)\n",
      "Value range: [0.000017, 0.477783]\n",
      "Graph created: 375 nodes, 374 edges\n"
     ]
    },
    {
     "name": "stderr",
     "output_type": "stream",
     "text": [
      " 43%|████▎     | 217/500 [00:49<01:03,  4.45it/s]"
     ]
    },
    {
     "name": "stdout",
     "output_type": "stream",
     "text": [
      "Attention shape: (395, 395), min: 0.000000, max: 0.478760, mean: 0.002428\n",
      "Using fallback threshold (10% of max): 0.047852\n",
      "Non-zero values: 77815/77815 (100.0%)\n",
      "Value range: [0.000010, 0.478760]\n",
      "Graph created: 395 nodes, 394 edges\n"
     ]
    },
    {
     "name": "stderr",
     "output_type": "stream",
     "text": [
      " 44%|████▎     | 218/500 [00:49<01:01,  4.57it/s]"
     ]
    },
    {
     "name": "stdout",
     "output_type": "stream",
     "text": [
      "Attention shape: (371, 371), min: 0.000000, max: 0.477051, mean: 0.002579\n",
      "Using fallback threshold (10% of max): 0.047699\n",
      "Non-zero values: 68635/68635 (100.0%)\n",
      "Value range: [0.000007, 0.477051]\n",
      "Graph created: 371 nodes, 370 edges\n"
     ]
    },
    {
     "name": "stderr",
     "output_type": "stream",
     "text": [
      " 44%|████▍     | 219/500 [00:49<01:05,  4.28it/s]"
     ]
    },
    {
     "name": "stdout",
     "output_type": "stream",
     "text": [
      "Attention shape: (436, 436), min: 0.000000, max: 0.480469, mean: 0.002203\n",
      "Using fallback threshold (10% of max): 0.048035\n",
      "Non-zero values: 94830/94830 (100.0%)\n",
      "Value range: [0.000010, 0.480469]\n",
      "Graph created: 436 nodes, 435 edges\n"
     ]
    },
    {
     "name": "stderr",
     "output_type": "stream",
     "text": [
      " 44%|████▍     | 220/500 [00:50<01:05,  4.27it/s]"
     ]
    },
    {
     "name": "stdout",
     "output_type": "stream",
     "text": [
      "Attention shape: (401, 401), min: 0.000000, max: 0.473145, mean: 0.002392\n",
      "Using fallback threshold (10% of max): 0.047302\n",
      "Non-zero values: 80200/80200 (100.0%)\n",
      "Value range: [0.000008, 0.473145]\n",
      "Graph created: 401 nodes, 400 edges\n"
     ]
    },
    {
     "name": "stderr",
     "output_type": "stream",
     "text": [
      " 44%|████▍     | 221/500 [00:50<01:03,  4.41it/s]"
     ]
    },
    {
     "name": "stdout",
     "output_type": "stream",
     "text": [
      "Attention shape: (381, 381), min: 0.000000, max: 0.479004, mean: 0.002512\n",
      "Using fallback threshold (10% of max): 0.047882\n",
      "Non-zero values: 72390/72390 (100.0%)\n",
      "Value range: [0.000009, 0.479004]\n",
      "Graph created: 381 nodes, 380 edges\n"
     ]
    },
    {
     "name": "stderr",
     "output_type": "stream",
     "text": [
      " 44%|████▍     | 222/500 [00:50<01:03,  4.39it/s]"
     ]
    },
    {
     "name": "stdout",
     "output_type": "stream",
     "text": [
      "Attention shape: (393, 393), min: 0.000000, max: 0.479492, mean: 0.002438\n",
      "Using fallback threshold (10% of max): 0.047943\n",
      "Non-zero values: 77028/77028 (100.0%)\n",
      "Value range: [0.000008, 0.479492]\n",
      "Graph created: 393 nodes, 392 edges\n"
     ]
    },
    {
     "name": "stderr",
     "output_type": "stream",
     "text": [
      " 45%|████▍     | 223/500 [00:50<01:03,  4.37it/s]"
     ]
    },
    {
     "name": "stdout",
     "output_type": "stream",
     "text": [
      "Attention shape: (392, 392), min: 0.000000, max: 0.475342, mean: 0.002447\n",
      "Using fallback threshold (10% of max): 0.047516\n",
      "Non-zero values: 76636/76636 (100.0%)\n",
      "Value range: [0.000008, 0.475342]\n",
      "Graph created: 392 nodes, 391 edges\n"
     ]
    },
    {
     "name": "stderr",
     "output_type": "stream",
     "text": [
      " 45%|████▍     | 224/500 [00:51<01:03,  4.33it/s]"
     ]
    },
    {
     "name": "stdout",
     "output_type": "stream",
     "text": [
      "Attention shape: (390, 390), min: 0.000000, max: 0.475830, mean: 0.002457\n",
      "Using fallback threshold (10% of max): 0.047577\n",
      "Non-zero values: 75855/75855 (100.0%)\n",
      "Value range: [0.000011, 0.475830]\n",
      "Graph created: 390 nodes, 389 edges\n"
     ]
    },
    {
     "name": "stderr",
     "output_type": "stream",
     "text": [
      " 45%|████▌     | 225/500 [00:51<01:02,  4.38it/s]"
     ]
    },
    {
     "name": "stdout",
     "output_type": "stream",
     "text": [
      "Attention shape: (384, 384), min: 0.000000, max: 0.473145, mean: 0.002495\n",
      "Using fallback threshold (10% of max): 0.047302\n",
      "Non-zero values: 73536/73536 (100.0%)\n",
      "Value range: [0.000011, 0.473145]\n",
      "Graph created: 384 nodes, 383 edges\n",
      "Attention shape: (348, 348), min: 0.000000, max: 0.474854, mean: 0.002756\n",
      "Using percentile-based threshold: 0.000366 (50th percentile)\n",
      "Non-zero values: 60378/60378 (100.0%)\n",
      "Value range: [0.000021, 0.474854]\n"
     ]
    },
    {
     "name": "stderr",
     "output_type": "stream",
     "text": [
      " 45%|████▌     | 226/500 [00:51<01:04,  4.26it/s]"
     ]
    },
    {
     "name": "stdout",
     "output_type": "stream",
     "text": [
      "Graph created: 348 nodes, 30183 edges\n"
     ]
    },
    {
     "name": "stderr",
     "output_type": "stream",
     "text": [
      " 45%|████▌     | 227/500 [00:51<01:06,  4.12it/s]"
     ]
    },
    {
     "name": "stdout",
     "output_type": "stream",
     "text": [
      "Attention shape: (417, 417), min: 0.000000, max: 0.480469, mean: 0.002304\n",
      "Using fallback threshold (10% of max): 0.048035\n",
      "Non-zero values: 86736/86736 (100.0%)\n",
      "Value range: [0.000011, 0.480469]\n",
      "Graph created: 417 nodes, 416 edges\n"
     ]
    },
    {
     "name": "stderr",
     "output_type": "stream",
     "text": [
      " 46%|████▌     | 228/500 [00:52<01:03,  4.28it/s]"
     ]
    },
    {
     "name": "stdout",
     "output_type": "stream",
     "text": [
      "Attention shape: (370, 370), min: 0.000000, max: 0.473145, mean: 0.002590\n",
      "Using fallback threshold (10% of max): 0.047302\n",
      "Non-zero values: 68265/68265 (100.0%)\n",
      "Value range: [0.000011, 0.473145]\n",
      "Graph created: 370 nodes, 369 edges\n"
     ]
    },
    {
     "name": "stderr",
     "output_type": "stream",
     "text": [
      " 46%|████▌     | 229/500 [00:52<01:05,  4.14it/s]"
     ]
    },
    {
     "name": "stdout",
     "output_type": "stream",
     "text": [
      "Attention shape: (421, 421), min: 0.000000, max: 0.476807, mean: 0.002281\n",
      "Using fallback threshold (10% of max): 0.047668\n",
      "Non-zero values: 88410/88410 (100.0%)\n",
      "Value range: [0.000011, 0.476807]\n",
      "Graph created: 421 nodes, 420 edges\n"
     ]
    },
    {
     "name": "stderr",
     "output_type": "stream",
     "text": [
      " 46%|████▌     | 230/500 [00:52<01:04,  4.18it/s]"
     ]
    },
    {
     "name": "stdout",
     "output_type": "stream",
     "text": [
      "Attention shape: (392, 392), min: 0.000000, max: 0.471436, mean: 0.002459\n",
      "Using fallback threshold (10% of max): 0.047119\n",
      "Non-zero values: 76636/76636 (100.0%)\n",
      "Value range: [0.000015, 0.471436]\n",
      "Graph created: 392 nodes, 391 edges\n"
     ]
    },
    {
     "name": "stderr",
     "output_type": "stream",
     "text": [
      " 46%|████▌     | 231/500 [00:52<01:03,  4.23it/s]"
     ]
    },
    {
     "name": "stdout",
     "output_type": "stream",
     "text": [
      "Attention shape: (391, 391), min: 0.000000, max: 0.480225, mean: 0.002453\n",
      "Using fallback threshold (10% of max): 0.048004\n",
      "Non-zero values: 76245/76245 (100.0%)\n",
      "Value range: [0.000017, 0.480225]\n",
      "Graph created: 391 nodes, 390 edges\n"
     ]
    },
    {
     "name": "stderr",
     "output_type": "stream",
     "text": [
      " 46%|████▋     | 232/500 [00:53<01:03,  4.24it/s]"
     ]
    },
    {
     "name": "stdout",
     "output_type": "stream",
     "text": [
      "Attention shape: (397, 397), min: 0.000000, max: 0.470703, mean: 0.002415\n",
      "Using fallback threshold (10% of max): 0.047058\n",
      "Non-zero values: 78606/78606 (100.0%)\n",
      "Value range: [0.000012, 0.470703]\n",
      "Graph created: 397 nodes, 396 edges\n"
     ]
    },
    {
     "name": "stderr",
     "output_type": "stream",
     "text": [
      " 47%|████▋     | 233/500 [00:53<01:01,  4.37it/s]"
     ]
    },
    {
     "name": "stdout",
     "output_type": "stream",
     "text": [
      "Attention shape: (380, 380), min: 0.000000, max: 0.477051, mean: 0.002518\n",
      "Using fallback threshold (10% of max): 0.047699\n",
      "Non-zero values: 72010/72010 (100.0%)\n",
      "Value range: [0.000014, 0.477051]\n",
      "Graph created: 380 nodes, 381 edges\n"
     ]
    },
    {
     "name": "stderr",
     "output_type": "stream",
     "text": [
      " 47%|████▋     | 234/500 [00:53<01:01,  4.29it/s]"
     ]
    },
    {
     "name": "stdout",
     "output_type": "stream",
     "text": [
      "Attention shape: (401, 401), min: 0.000000, max: 0.469971, mean: 0.002399\n",
      "Using fallback threshold (10% of max): 0.046997\n",
      "Non-zero values: 80200/80200 (100.0%)\n",
      "Value range: [0.000022, 0.469971]\n",
      "Graph created: 401 nodes, 400 edges\n"
     ]
    },
    {
     "name": "stderr",
     "output_type": "stream",
     "text": [
      " 47%|████▋     | 235/500 [00:53<01:03,  4.14it/s]"
     ]
    },
    {
     "name": "stdout",
     "output_type": "stream",
     "text": [
      "Attention shape: (412, 412), min: 0.000000, max: 0.481689, mean: 0.002338\n",
      "Using fallback threshold (10% of max): 0.048157\n",
      "Non-zero values: 84666/84666 (100.0%)\n",
      "Value range: [0.000004, 0.481689]\n",
      "Graph created: 412 nodes, 411 edges\n"
     ]
    },
    {
     "name": "stderr",
     "output_type": "stream",
     "text": [
      " 47%|████▋     | 236/500 [00:53<01:01,  4.32it/s]"
     ]
    },
    {
     "name": "stdout",
     "output_type": "stream",
     "text": [
      "Attention shape: (370, 370), min: 0.000000, max: 0.479004, mean: 0.002590\n",
      "Using fallback threshold (10% of max): 0.047882\n",
      "Non-zero values: 68265/68265 (100.0%)\n",
      "Value range: [0.000015, 0.479004]\n",
      "Graph created: 370 nodes, 369 edges\n"
     ]
    },
    {
     "name": "stderr",
     "output_type": "stream",
     "text": [
      " 47%|████▋     | 237/500 [00:54<01:01,  4.31it/s]"
     ]
    },
    {
     "name": "stdout",
     "output_type": "stream",
     "text": [
      "Attention shape: (385, 385), min: 0.000000, max: 0.474121, mean: 0.002483\n",
      "Using fallback threshold (10% of max): 0.047394\n",
      "Non-zero values: 73920/73920 (100.0%)\n",
      "Value range: [0.000006, 0.474121]\n",
      "Graph created: 385 nodes, 384 edges\n"
     ]
    },
    {
     "name": "stderr",
     "output_type": "stream",
     "text": [
      " 48%|████▊     | 238/500 [00:54<01:01,  4.25it/s]"
     ]
    },
    {
     "name": "stdout",
     "output_type": "stream",
     "text": [
      "Attention shape: (396, 396), min: 0.000000, max: 0.475830, mean: 0.002422\n",
      "Using fallback threshold (10% of max): 0.047577\n",
      "Non-zero values: 78210/78210 (100.0%)\n",
      "Value range: [0.000013, 0.475830]\n",
      "Graph created: 396 nodes, 395 edges\n"
     ]
    },
    {
     "name": "stderr",
     "output_type": "stream",
     "text": [
      " 48%|████▊     | 239/500 [00:54<01:02,  4.19it/s]"
     ]
    },
    {
     "name": "stdout",
     "output_type": "stream",
     "text": [
      "Attention shape: (406, 406), min: 0.000000, max: 0.470703, mean: 0.002361\n",
      "Using fallback threshold (10% of max): 0.047058\n",
      "Non-zero values: 82215/82215 (100.0%)\n",
      "Value range: [0.000010, 0.470703]\n",
      "Graph created: 406 nodes, 405 edges\n"
     ]
    },
    {
     "name": "stderr",
     "output_type": "stream",
     "text": [
      " 48%|████▊     | 240/500 [00:54<01:04,  4.06it/s]"
     ]
    },
    {
     "name": "stdout",
     "output_type": "stream",
     "text": [
      "Attention shape: (353, 353), min: 0.000000, max: 0.477783, mean: 0.002708\n",
      "Using percentile-based threshold: 0.000323 (50th percentile)\n",
      "Non-zero values: 62128/62128 (100.0%)\n",
      "Value range: [0.000011, 0.477783]\n",
      "Graph created: 353 nodes, 31066 edges\n"
     ]
    },
    {
     "name": "stderr",
     "output_type": "stream",
     "text": [
      " 48%|████▊     | 241/500 [00:55<01:00,  4.28it/s]"
     ]
    },
    {
     "name": "stdout",
     "output_type": "stream",
     "text": [
      "Attention shape: (367, 367), min: 0.000000, max: 0.473145, mean: 0.002617\n",
      "Using fallback threshold (10% of max): 0.047302\n",
      "Non-zero values: 67161/67161 (100.0%)\n",
      "Value range: [0.000007, 0.473145]\n",
      "Graph created: 367 nodes, 366 edges\n"
     ]
    },
    {
     "name": "stderr",
     "output_type": "stream",
     "text": [
      " 48%|████▊     | 242/500 [00:55<01:00,  4.25it/s]"
     ]
    },
    {
     "name": "stdout",
     "output_type": "stream",
     "text": [
      "Attention shape: (403, 403), min: 0.000000, max: 0.468506, mean: 0.002377\n",
      "Using fallback threshold (10% of max): 0.046844\n",
      "Non-zero values: 81003/81003 (100.0%)\n",
      "Value range: [0.000008, 0.468506]\n",
      "Graph created: 403 nodes, 402 edges\n"
     ]
    },
    {
     "name": "stderr",
     "output_type": "stream",
     "text": [
      " 49%|████▊     | 243/500 [00:55<00:58,  4.38it/s]"
     ]
    },
    {
     "name": "stdout",
     "output_type": "stream",
     "text": [
      "Attention shape: (374, 374), min: 0.000000, max: 0.473389, mean: 0.002562\n",
      "Using fallback threshold (10% of max): 0.047333\n",
      "Non-zero values: 69751/69751 (100.0%)\n",
      "Value range: [0.000017, 0.473389]\n",
      "Graph created: 374 nodes, 373 edges\n"
     ]
    },
    {
     "name": "stderr",
     "output_type": "stream",
     "text": [
      " 49%|████▉     | 244/500 [00:55<00:59,  4.33it/s]"
     ]
    },
    {
     "name": "stdout",
     "output_type": "stream",
     "text": [
      "Attention shape: (387, 387), min: 0.000000, max: 0.472168, mean: 0.002474\n",
      "Using fallback threshold (10% of max): 0.047211\n",
      "Non-zero values: 74691/74691 (100.0%)\n",
      "Value range: [0.000009, 0.472168]\n",
      "Graph created: 387 nodes, 386 edges\n"
     ]
    },
    {
     "name": "stderr",
     "output_type": "stream",
     "text": [
      " 49%|████▉     | 245/500 [00:56<00:57,  4.44it/s]"
     ]
    },
    {
     "name": "stdout",
     "output_type": "stream",
     "text": [
      "Attention shape: (373, 373), min: 0.000000, max: 0.463867, mean: 0.002569\n",
      "Using fallback threshold (10% of max): 0.046387\n",
      "Non-zero values: 69378/69378 (100.0%)\n",
      "Value range: [0.000013, 0.463867]\n",
      "Graph created: 373 nodes, 372 edges\n"
     ]
    },
    {
     "name": "stderr",
     "output_type": "stream",
     "text": [
      " 49%|████▉     | 246/500 [00:56<00:57,  4.40it/s]"
     ]
    },
    {
     "name": "stdout",
     "output_type": "stream",
     "text": [
      "Attention shape: (386, 386), min: 0.000000, max: 0.468506, mean: 0.002483\n",
      "Using fallback threshold (10% of max): 0.046844\n",
      "Non-zero values: 74305/74305 (100.0%)\n",
      "Value range: [0.000014, 0.468506]\n",
      "Graph created: 386 nodes, 385 edges\n"
     ]
    },
    {
     "name": "stderr",
     "output_type": "stream",
     "text": [
      " 49%|████▉     | 247/500 [00:56<00:59,  4.28it/s]"
     ]
    },
    {
     "name": "stdout",
     "output_type": "stream",
     "text": [
      "Attention shape: (406, 406), min: 0.000000, max: 0.473145, mean: 0.002363\n",
      "Using fallback threshold (10% of max): 0.047302\n",
      "Non-zero values: 82215/82215 (100.0%)\n",
      "Value range: [0.000012, 0.473145]\n",
      "Graph created: 406 nodes, 405 edges\n"
     ]
    },
    {
     "name": "stderr",
     "output_type": "stream",
     "text": [
      " 50%|████▉     | 248/500 [00:56<00:59,  4.20it/s]"
     ]
    },
    {
     "name": "stdout",
     "output_type": "stream",
     "text": [
      "Attention shape: (405, 405), min: 0.000000, max: 0.470703, mean: 0.002377\n",
      "Using fallback threshold (10% of max): 0.047058\n",
      "Non-zero values: 81810/81810 (100.0%)\n",
      "Value range: [0.000012, 0.470703]\n",
      "Graph created: 405 nodes, 404 edges\n"
     ]
    },
    {
     "name": "stderr",
     "output_type": "stream",
     "text": [
      " 50%|████▉     | 249/500 [00:57<01:00,  4.18it/s]"
     ]
    },
    {
     "name": "stdout",
     "output_type": "stream",
     "text": [
      "Attention shape: (400, 400), min: 0.000000, max: 0.470703, mean: 0.002394\n",
      "Using fallback threshold (10% of max): 0.047058\n",
      "Non-zero values: 79800/79800 (100.0%)\n",
      "Value range: [0.000010, 0.470703]\n",
      "Graph created: 400 nodes, 399 edges\n"
     ]
    },
    {
     "name": "stderr",
     "output_type": "stream",
     "text": [
      " 50%|█████     | 250/500 [00:57<00:59,  4.18it/s]"
     ]
    },
    {
     "name": "stdout",
     "output_type": "stream",
     "text": [
      "Attention shape: (389, 389), min: 0.000000, max: 0.477539, mean: 0.002464\n",
      "Using fallback threshold (10% of max): 0.047729\n",
      "Non-zero values: 75466/75466 (100.0%)\n",
      "Value range: [0.000009, 0.477539]\n",
      "Graph created: 389 nodes, 388 edges\n"
     ]
    },
    {
     "name": "stderr",
     "output_type": "stream",
     "text": [
      " 50%|█████     | 251/500 [00:57<00:58,  4.24it/s]"
     ]
    },
    {
     "name": "stdout",
     "output_type": "stream",
     "text": [
      "Attention shape: (386, 386), min: 0.000000, max: 0.478271, mean: 0.002480\n",
      "Using fallback threshold (10% of max): 0.047821\n",
      "Non-zero values: 74305/74305 (100.0%)\n",
      "Value range: [0.000011, 0.478271]\n",
      "Graph created: 386 nodes, 385 edges\n",
      "Attention shape: (345, 345), min: 0.000000, max: 0.477539, mean: 0.002785\n",
      "Using percentile-based threshold: 0.000287 (50th percentile)\n",
      "Non-zero values: 59340/59340 (100.0%)\n",
      "Value range: [0.000010, 0.477539]\n"
     ]
    },
    {
     "name": "stderr",
     "output_type": "stream",
     "text": [
      " 50%|█████     | 252/500 [00:57<00:59,  4.16it/s]"
     ]
    },
    {
     "name": "stdout",
     "output_type": "stream",
     "text": [
      "Graph created: 345 nodes, 29656 edges\n"
     ]
    },
    {
     "name": "stderr",
     "output_type": "stream",
     "text": [
      " 51%|█████     | 253/500 [00:57<00:59,  4.15it/s]"
     ]
    },
    {
     "name": "stdout",
     "output_type": "stream",
     "text": [
      "Attention shape: (393, 393), min: 0.000000, max: 0.472656, mean: 0.002439\n",
      "Using fallback threshold (10% of max): 0.047241\n",
      "Non-zero values: 77028/77028 (100.0%)\n",
      "Value range: [0.000016, 0.472656]\n",
      "Graph created: 393 nodes, 392 edges\n"
     ]
    },
    {
     "name": "stderr",
     "output_type": "stream",
     "text": [
      " 51%|█████     | 254/500 [00:58<00:58,  4.19it/s]"
     ]
    },
    {
     "name": "stdout",
     "output_type": "stream",
     "text": [
      "Attention shape: (391, 391), min: 0.000000, max: 0.468506, mean: 0.002451\n",
      "Using fallback threshold (10% of max): 0.046844\n",
      "Non-zero values: 76245/76245 (100.0%)\n",
      "Value range: [0.000014, 0.468506]\n",
      "Graph created: 391 nodes, 390 edges\n"
     ]
    },
    {
     "name": "stderr",
     "output_type": "stream",
     "text": [
      " 51%|█████     | 255/500 [00:58<00:56,  4.35it/s]"
     ]
    },
    {
     "name": "stdout",
     "output_type": "stream",
     "text": [
      "Attention shape: (368, 368), min: 0.000000, max: 0.473877, mean: 0.002602\n",
      "Using fallback threshold (10% of max): 0.047363\n",
      "Non-zero values: 67528/67528 (100.0%)\n",
      "Value range: [0.000006, 0.473877]\n",
      "Graph created: 368 nodes, 367 edges\n",
      "Attention shape: (358, 358), min: 0.000000, max: 0.481934, mean: 0.002676\n"
     ]
    },
    {
     "name": "stderr",
     "output_type": "stream",
     "text": [
      " 51%|█████     | 256/500 [00:58<00:58,  4.16it/s]"
     ]
    },
    {
     "name": "stdout",
     "output_type": "stream",
     "text": [
      "Using percentile-based threshold: 0.000275 (50th percentile)\n",
      "Non-zero values: 63903/63903 (100.0%)\n",
      "Value range: [0.000010, 0.481934]\n",
      "Graph created: 358 nodes, 31931 edges\n"
     ]
    },
    {
     "name": "stderr",
     "output_type": "stream",
     "text": [
      " 51%|█████▏    | 257/500 [00:58<00:58,  4.15it/s]"
     ]
    },
    {
     "name": "stdout",
     "output_type": "stream",
     "text": [
      "Attention shape: (395, 395), min: 0.000000, max: 0.480957, mean: 0.002434\n",
      "Using fallback threshold (10% of max): 0.048096\n",
      "Non-zero values: 77815/77815 (100.0%)\n",
      "Value range: [0.000015, 0.480957]\n",
      "Graph created: 395 nodes, 394 edges\n"
     ]
    },
    {
     "name": "stderr",
     "output_type": "stream",
     "text": [
      " 52%|█████▏    | 258/500 [00:59<00:58,  4.15it/s]"
     ]
    },
    {
     "name": "stdout",
     "output_type": "stream",
     "text": [
      "Attention shape: (397, 397), min: 0.000000, max: 0.477051, mean: 0.002422\n",
      "Using fallback threshold (10% of max): 0.047699\n",
      "Non-zero values: 78606/78606 (100.0%)\n",
      "Value range: [0.000017, 0.477051]\n",
      "Graph created: 397 nodes, 396 edges\n"
     ]
    },
    {
     "name": "stderr",
     "output_type": "stream",
     "text": [
      " 52%|█████▏    | 259/500 [00:59<00:56,  4.27it/s]"
     ]
    },
    {
     "name": "stdout",
     "output_type": "stream",
     "text": [
      "Attention shape: (382, 382), min: 0.000000, max: 0.475098, mean: 0.002508\n",
      "Using fallback threshold (10% of max): 0.047485\n",
      "Non-zero values: 72771/72771 (100.0%)\n",
      "Value range: [0.000017, 0.475098]\n",
      "Graph created: 382 nodes, 381 edges\n",
      "Attention shape: (215, 215), min: 0.000000, max: 0.472168, mean: 0.004436\n",
      "Using percentile-based threshold: 0.000556 (50th percentile)\n",
      "Non-zero values: 23005/23005 (100.0%)\n",
      "Value range: [0.000016, 0.472168]\n",
      "Graph created: 215 nodes, 11500 edges\n"
     ]
    },
    {
     "name": "stderr",
     "output_type": "stream",
     "text": [
      " 52%|█████▏    | 261/500 [00:59<00:47,  4.98it/s]"
     ]
    },
    {
     "name": "stdout",
     "output_type": "stream",
     "text": [
      "Attention shape: (394, 394), min: 0.000000, max: 0.479492, mean: 0.002436\n",
      "Using fallback threshold (10% of max): 0.047943\n",
      "Non-zero values: 77421/77421 (100.0%)\n",
      "Value range: [0.000018, 0.479492]\n",
      "Graph created: 394 nodes, 393 edges\n",
      "Attention shape: (356, 356), min: 0.000000, max: 0.475342, mean: 0.002693\n"
     ]
    },
    {
     "name": "stderr",
     "output_type": "stream",
     "text": [
      " 52%|█████▏    | 262/500 [00:59<00:51,  4.65it/s]"
     ]
    },
    {
     "name": "stdout",
     "output_type": "stream",
     "text": [
      "Using percentile-based threshold: 0.000282 (50th percentile)\n",
      "Non-zero values: 63190/63190 (100.0%)\n",
      "Value range: [0.000014, 0.475342]\n",
      "Graph created: 356 nodes, 31585 edges\n"
     ]
    },
    {
     "name": "stderr",
     "output_type": "stream",
     "text": [
      " 53%|█████▎    | 263/500 [01:00<00:50,  4.70it/s]"
     ]
    },
    {
     "name": "stdout",
     "output_type": "stream",
     "text": [
      "Attention shape: (369, 369), min: 0.000000, max: 0.476807, mean: 0.002598\n",
      "Using fallback threshold (10% of max): 0.047668\n",
      "Non-zero values: 67896/67896 (100.0%)\n",
      "Value range: [0.000005, 0.476807]\n",
      "Graph created: 369 nodes, 368 edges\n"
     ]
    },
    {
     "name": "stderr",
     "output_type": "stream",
     "text": [
      " 53%|█████▎    | 264/500 [01:00<00:51,  4.56it/s]"
     ]
    },
    {
     "name": "stdout",
     "output_type": "stream",
     "text": [
      "Attention shape: (396, 396), min: 0.000000, max: 0.475586, mean: 0.002422\n",
      "Using fallback threshold (10% of max): 0.047546\n",
      "Non-zero values: 78210/78210 (100.0%)\n",
      "Value range: [0.000015, 0.475586]\n",
      "Graph created: 396 nodes, 395 edges\n"
     ]
    },
    {
     "name": "stderr",
     "output_type": "stream",
     "text": [
      " 53%|█████▎    | 265/500 [01:00<00:51,  4.56it/s]"
     ]
    },
    {
     "name": "stdout",
     "output_type": "stream",
     "text": [
      "Attention shape: (381, 381), min: 0.000000, max: 0.477783, mean: 0.002514\n",
      "Using fallback threshold (10% of max): 0.047760\n",
      "Non-zero values: 72390/72390 (100.0%)\n",
      "Value range: [0.000012, 0.477783]\n",
      "Graph created: 381 nodes, 380 edges\n"
     ]
    },
    {
     "name": "stderr",
     "output_type": "stream",
     "text": [
      " 53%|█████▎    | 266/500 [01:00<00:52,  4.44it/s]"
     ]
    },
    {
     "name": "stdout",
     "output_type": "stream",
     "text": [
      "Attention shape: (396, 396), min: 0.000000, max: 0.470459, mean: 0.002424\n",
      "Using fallback threshold (10% of max): 0.047028\n",
      "Non-zero values: 78210/78210 (100.0%)\n",
      "Value range: [0.000020, 0.470459]\n",
      "Graph created: 396 nodes, 395 edges\n"
     ]
    },
    {
     "name": "stderr",
     "output_type": "stream",
     "text": [
      " 53%|█████▎    | 267/500 [01:01<00:52,  4.48it/s]"
     ]
    },
    {
     "name": "stdout",
     "output_type": "stream",
     "text": [
      "Attention shape: (380, 380), min: 0.000000, max: 0.473389, mean: 0.002516\n",
      "Using fallback threshold (10% of max): 0.047333\n",
      "Non-zero values: 72010/72010 (100.0%)\n",
      "Value range: [0.000008, 0.473389]\n",
      "Graph created: 380 nodes, 379 edges\n",
      "Attention shape: (346, 346), min: 0.000000, max: 0.468506, mean: 0.002769\n",
      "Using percentile-based threshold: 0.000312 (50th percentile)\n",
      "Non-zero values: 59685/59685 (100.0%)\n",
      "Value range: [0.000016, 0.468506]\n"
     ]
    },
    {
     "name": "stderr",
     "output_type": "stream",
     "text": [
      " 54%|█████▎    | 268/500 [01:01<00:53,  4.33it/s]"
     ]
    },
    {
     "name": "stdout",
     "output_type": "stream",
     "text": [
      "Graph created: 346 nodes, 29834 edges\n"
     ]
    },
    {
     "name": "stderr",
     "output_type": "stream",
     "text": [
      " 54%|█████▍    | 269/500 [01:01<00:51,  4.45it/s]"
     ]
    },
    {
     "name": "stdout",
     "output_type": "stream",
     "text": [
      "Attention shape: (368, 368), min: 0.000000, max: 0.479248, mean: 0.002604\n",
      "Using fallback threshold (10% of max): 0.047913\n",
      "Non-zero values: 67528/67528 (100.0%)\n",
      "Value range: [0.000010, 0.479248]\n",
      "Graph created: 368 nodes, 367 edges\n"
     ]
    },
    {
     "name": "stderr",
     "output_type": "stream",
     "text": [
      " 54%|█████▍    | 270/500 [01:01<00:51,  4.48it/s]"
     ]
    },
    {
     "name": "stdout",
     "output_type": "stream",
     "text": [
      "Attention shape: (380, 380), min: 0.000000, max: 0.472656, mean: 0.002523\n",
      "Using fallback threshold (10% of max): 0.047241\n",
      "Non-zero values: 72010/72010 (100.0%)\n",
      "Value range: [0.000016, 0.472656]\n",
      "Graph created: 380 nodes, 379 edges\n"
     ]
    },
    {
     "name": "stderr",
     "output_type": "stream",
     "text": [
      " 54%|█████▍    | 271/500 [01:02<00:51,  4.42it/s]"
     ]
    },
    {
     "name": "stdout",
     "output_type": "stream",
     "text": [
      "Attention shape: (386, 386), min: 0.000000, max: 0.473389, mean: 0.002483\n",
      "Using fallback threshold (10% of max): 0.047333\n",
      "Non-zero values: 74305/74305 (100.0%)\n",
      "Value range: [0.000006, 0.473389]\n",
      "Graph created: 386 nodes, 385 edges\n"
     ]
    },
    {
     "name": "stderr",
     "output_type": "stream",
     "text": [
      " 54%|█████▍    | 272/500 [01:02<00:51,  4.45it/s]"
     ]
    },
    {
     "name": "stdout",
     "output_type": "stream",
     "text": [
      "Attention shape: (378, 378), min: 0.000000, max: 0.480225, mean: 0.002535\n",
      "Using fallback threshold (10% of max): 0.048004\n",
      "Non-zero values: 71253/71253 (100.0%)\n",
      "Value range: [0.000007, 0.480225]\n",
      "Graph created: 378 nodes, 377 edges\n"
     ]
    },
    {
     "name": "stderr",
     "output_type": "stream",
     "text": [
      " 55%|█████▍    | 273/500 [01:02<00:50,  4.48it/s]"
     ]
    },
    {
     "name": "stdout",
     "output_type": "stream",
     "text": [
      "Attention shape: (378, 378), min: 0.000000, max: 0.476318, mean: 0.002535\n",
      "Using fallback threshold (10% of max): 0.047607\n",
      "Non-zero values: 71253/71253 (100.0%)\n",
      "Value range: [0.000010, 0.476318]\n",
      "Graph created: 378 nodes, 377 edges\n"
     ]
    },
    {
     "name": "stderr",
     "output_type": "stream",
     "text": [
      " 55%|█████▍    | 274/500 [01:02<00:51,  4.37it/s]"
     ]
    },
    {
     "name": "stdout",
     "output_type": "stream",
     "text": [
      "Attention shape: (395, 395), min: 0.000000, max: 0.469971, mean: 0.002428\n",
      "Using fallback threshold (10% of max): 0.046997\n",
      "Non-zero values: 77815/77815 (100.0%)\n",
      "Value range: [0.000020, 0.469971]\n",
      "Graph created: 395 nodes, 394 edges\n"
     ]
    },
    {
     "name": "stderr",
     "output_type": "stream",
     "text": [
      " 55%|█████▌    | 275/500 [01:02<00:50,  4.41it/s]"
     ]
    },
    {
     "name": "stdout",
     "output_type": "stream",
     "text": [
      "Attention shape: (380, 380), min: 0.000000, max: 0.477295, mean: 0.002518\n",
      "Using fallback threshold (10% of max): 0.047729\n",
      "Non-zero values: 72010/72010 (100.0%)\n",
      "Value range: [0.000014, 0.477295]\n",
      "Graph created: 380 nodes, 379 edges\n"
     ]
    },
    {
     "name": "stderr",
     "output_type": "stream",
     "text": [
      " 55%|█████▌    | 276/500 [01:03<00:52,  4.27it/s]"
     ]
    },
    {
     "name": "stdout",
     "output_type": "stream",
     "text": [
      "Attention shape: (405, 405), min: 0.000000, max: 0.480957, mean: 0.002371\n",
      "Using fallback threshold (10% of max): 0.048096\n",
      "Non-zero values: 81810/81810 (100.0%)\n",
      "Value range: [0.000008, 0.480957]\n",
      "Graph created: 405 nodes, 404 edges\n"
     ]
    },
    {
     "name": "stderr",
     "output_type": "stream",
     "text": [
      " 55%|█████▌    | 277/500 [01:03<00:50,  4.45it/s]"
     ]
    },
    {
     "name": "stdout",
     "output_type": "stream",
     "text": [
      "Attention shape: (366, 366), min: 0.000000, max: 0.471924, mean: 0.002617\n",
      "Using fallback threshold (10% of max): 0.047180\n",
      "Non-zero values: 66795/66795 (100.0%)\n",
      "Value range: [0.000007, 0.471924]\n",
      "Graph created: 366 nodes, 365 edges\n"
     ]
    },
    {
     "name": "stderr",
     "output_type": "stream",
     "text": [
      " 56%|█████▌    | 278/500 [01:03<00:51,  4.30it/s]"
     ]
    },
    {
     "name": "stdout",
     "output_type": "stream",
     "text": [
      "Attention shape: (409, 409), min: 0.000000, max: 0.475342, mean: 0.002344\n",
      "Using fallback threshold (10% of max): 0.047516\n",
      "Non-zero values: 83436/83436 (100.0%)\n",
      "Value range: [0.000010, 0.475342]\n",
      "Graph created: 409 nodes, 408 edges\n"
     ]
    },
    {
     "name": "stderr",
     "output_type": "stream",
     "text": [
      " 56%|█████▌    | 279/500 [01:03<00:50,  4.41it/s]"
     ]
    },
    {
     "name": "stdout",
     "output_type": "stream",
     "text": [
      "Attention shape: (374, 374), min: 0.000000, max: 0.478027, mean: 0.002560\n",
      "Using fallback threshold (10% of max): 0.047791\n",
      "Non-zero values: 69751/69751 (100.0%)\n",
      "Value range: [0.000003, 0.478027]\n",
      "Graph created: 374 nodes, 373 edges\n"
     ]
    },
    {
     "name": "stderr",
     "output_type": "stream",
     "text": [
      " 56%|█████▌    | 280/500 [01:04<00:49,  4.47it/s]"
     ]
    },
    {
     "name": "stdout",
     "output_type": "stream",
     "text": [
      "Attention shape: (379, 379), min: 0.000000, max: 0.479736, mean: 0.002531\n",
      "Using fallback threshold (10% of max): 0.047974\n",
      "Non-zero values: 71631/71631 (100.0%)\n",
      "Value range: [0.000008, 0.479736]\n",
      "Graph created: 379 nodes, 378 edges\n"
     ]
    },
    {
     "name": "stderr",
     "output_type": "stream",
     "text": [
      " 56%|█████▌    | 281/500 [01:04<00:50,  4.37it/s]"
     ]
    },
    {
     "name": "stdout",
     "output_type": "stream",
     "text": [
      "Attention shape: (397, 397), min: 0.000000, max: 0.469971, mean: 0.002411\n",
      "Using fallback threshold (10% of max): 0.046997\n",
      "Non-zero values: 78606/78606 (100.0%)\n",
      "Value range: [0.000007, 0.469971]\n",
      "Graph created: 397 nodes, 396 edges\n"
     ]
    },
    {
     "name": "stderr",
     "output_type": "stream",
     "text": [
      " 56%|█████▋    | 282/500 [01:04<00:49,  4.45it/s]"
     ]
    },
    {
     "name": "stdout",
     "output_type": "stream",
     "text": [
      "Attention shape: (378, 378), min: 0.000000, max: 0.476318, mean: 0.002548\n",
      "Using fallback threshold (10% of max): 0.047607\n",
      "Non-zero values: 71253/71253 (100.0%)\n",
      "Value range: [0.000021, 0.476318]\n",
      "Graph created: 378 nodes, 377 edges\n"
     ]
    },
    {
     "name": "stderr",
     "output_type": "stream",
     "text": [
      " 57%|█████▋    | 283/500 [01:04<00:49,  4.39it/s]"
     ]
    },
    {
     "name": "stdout",
     "output_type": "stream",
     "text": [
      "Attention shape: (389, 389), min: 0.000000, max: 0.469971, mean: 0.002464\n",
      "Using fallback threshold (10% of max): 0.046997\n",
      "Non-zero values: 75466/75466 (100.0%)\n",
      "Value range: [0.000014, 0.469971]\n",
      "Graph created: 389 nodes, 388 edges\n"
     ]
    },
    {
     "name": "stderr",
     "output_type": "stream",
     "text": [
      " 57%|█████▋    | 284/500 [01:04<00:50,  4.29it/s]"
     ]
    },
    {
     "name": "stdout",
     "output_type": "stream",
     "text": [
      "Attention shape: (402, 402), min: 0.000000, max: 0.474854, mean: 0.002384\n",
      "Using fallback threshold (10% of max): 0.047485\n",
      "Non-zero values: 80601/80601 (100.0%)\n",
      "Value range: [0.000014, 0.474854]\n",
      "Graph created: 402 nodes, 401 edges\n"
     ]
    },
    {
     "name": "stderr",
     "output_type": "stream",
     "text": [
      " 57%|█████▋    | 285/500 [01:05<00:50,  4.27it/s]"
     ]
    },
    {
     "name": "stdout",
     "output_type": "stream",
     "text": [
      "Attention shape: (394, 394), min: 0.000000, max: 0.478271, mean: 0.002438\n",
      "Using fallback threshold (10% of max): 0.047821\n",
      "Non-zero values: 77421/77421 (100.0%)\n",
      "Value range: [0.000013, 0.478271]\n",
      "Graph created: 394 nodes, 393 edges\n"
     ]
    },
    {
     "name": "stderr",
     "output_type": "stream",
     "text": [
      " 57%|█████▋    | 286/500 [01:05<00:50,  4.25it/s]"
     ]
    },
    {
     "name": "stdout",
     "output_type": "stream",
     "text": [
      "Attention shape: (390, 390), min: 0.000000, max: 0.477295, mean: 0.002459\n",
      "Using fallback threshold (10% of max): 0.047729\n",
      "Non-zero values: 75855/75855 (100.0%)\n",
      "Value range: [0.000008, 0.477295]\n",
      "Graph created: 390 nodes, 389 edges\n"
     ]
    },
    {
     "name": "stderr",
     "output_type": "stream",
     "text": [
      " 57%|█████▋    | 287/500 [01:05<00:48,  4.41it/s]"
     ]
    },
    {
     "name": "stdout",
     "output_type": "stream",
     "text": [
      "Attention shape: (368, 368), min: 0.000000, max: 0.473633, mean: 0.002596\n",
      "Using fallback threshold (10% of max): 0.047363\n",
      "Non-zero values: 67528/67528 (100.0%)\n",
      "Value range: [0.000007, 0.473633]\n",
      "Graph created: 368 nodes, 367 edges\n"
     ]
    },
    {
     "name": "stderr",
     "output_type": "stream",
     "text": [
      " 58%|█████▊    | 288/500 [01:05<00:49,  4.31it/s]"
     ]
    },
    {
     "name": "stdout",
     "output_type": "stream",
     "text": [
      "Attention shape: (402, 402), min: 0.000000, max: 0.481201, mean: 0.002388\n",
      "Using fallback threshold (10% of max): 0.048096\n",
      "Non-zero values: 80601/80601 (100.0%)\n",
      "Value range: [0.000015, 0.481201]\n",
      "Graph created: 402 nodes, 401 edges\n"
     ]
    },
    {
     "name": "stderr",
     "output_type": "stream",
     "text": [
      " 58%|█████▊    | 289/500 [01:06<00:49,  4.28it/s]"
     ]
    },
    {
     "name": "stdout",
     "output_type": "stream",
     "text": [
      "Attention shape: (391, 391), min: 0.000000, max: 0.477539, mean: 0.002449\n",
      "Using fallback threshold (10% of max): 0.047729\n",
      "Non-zero values: 76245/76245 (100.0%)\n",
      "Value range: [0.000010, 0.477539]\n",
      "Graph created: 391 nodes, 390 edges\n"
     ]
    },
    {
     "name": "stderr",
     "output_type": "stream",
     "text": [
      " 58%|█████▊    | 290/500 [01:06<00:48,  4.29it/s]"
     ]
    },
    {
     "name": "stdout",
     "output_type": "stream",
     "text": [
      "Attention shape: (387, 387), min: 0.000000, max: 0.473145, mean: 0.002474\n",
      "Using fallback threshold (10% of max): 0.047302\n",
      "Non-zero values: 74691/74691 (100.0%)\n",
      "Value range: [0.000008, 0.473145]\n",
      "Graph created: 387 nodes, 386 edges\n"
     ]
    },
    {
     "name": "stderr",
     "output_type": "stream",
     "text": [
      " 58%|█████▊    | 291/500 [01:06<00:47,  4.37it/s]"
     ]
    },
    {
     "name": "stdout",
     "output_type": "stream",
     "text": [
      "Attention shape: (380, 380), min: 0.000000, max: 0.472900, mean: 0.002516\n",
      "Using fallback threshold (10% of max): 0.047272\n",
      "Non-zero values: 72010/72010 (100.0%)\n",
      "Value range: [0.000017, 0.472900]\n",
      "Graph created: 380 nodes, 379 edges\n"
     ]
    },
    {
     "name": "stderr",
     "output_type": "stream",
     "text": [
      " 58%|█████▊    | 292/500 [01:06<00:47,  4.35it/s]"
     ]
    },
    {
     "name": "stdout",
     "output_type": "stream",
     "text": [
      "Attention shape: (387, 387), min: 0.000000, max: 0.475586, mean: 0.002472\n",
      "Using fallback threshold (10% of max): 0.047546\n",
      "Non-zero values: 74691/74691 (100.0%)\n",
      "Value range: [0.000009, 0.475586]\n",
      "Graph created: 387 nodes, 386 edges\n",
      "Attention shape: (349, 349), min: 0.000000, max: 0.480225, mean: 0.002754\n",
      "Using percentile-based threshold: 0.000287 (50th percentile)\n",
      "Non-zero values: 60726/60726 (100.0%)\n",
      "Value range: [0.000016, 0.480225]\n"
     ]
    },
    {
     "name": "stderr",
     "output_type": "stream",
     "text": [
      " 59%|█████▊    | 293/500 [01:07<00:48,  4.23it/s]"
     ]
    },
    {
     "name": "stdout",
     "output_type": "stream",
     "text": [
      "Graph created: 349 nodes, 30343 edges\n"
     ]
    },
    {
     "name": "stderr",
     "output_type": "stream",
     "text": [
      " 59%|█████▉    | 294/500 [01:07<00:47,  4.34it/s]"
     ]
    },
    {
     "name": "stdout",
     "output_type": "stream",
     "text": [
      "Attention shape: (376, 376), min: 0.000000, max: 0.481934, mean: 0.002542\n",
      "Using fallback threshold (10% of max): 0.048187\n",
      "Non-zero values: 70500/70500 (100.0%)\n",
      "Value range: [0.000012, 0.481934]\n",
      "Graph created: 376 nodes, 375 edges\n"
     ]
    },
    {
     "name": "stderr",
     "output_type": "stream",
     "text": [
      " 59%|█████▉    | 295/500 [01:07<00:45,  4.51it/s]"
     ]
    },
    {
     "name": "stdout",
     "output_type": "stream",
     "text": [
      "Attention shape: (369, 369), min: 0.000000, max: 0.469971, mean: 0.002596\n",
      "Using fallback threshold (10% of max): 0.046997\n",
      "Non-zero values: 67896/67896 (100.0%)\n",
      "Value range: [0.000016, 0.469971]\n",
      "Graph created: 369 nodes, 368 edges\n",
      "Attention shape: (342, 342), min: 0.000000, max: 0.471924, mean: 0.002798\n",
      "Using percentile-based threshold: 0.000284 (50th percentile)\n",
      "Non-zero values: 58311/58311 (100.0%)\n",
      "Value range: [0.000012, 0.471924]\n"
     ]
    },
    {
     "name": "stderr",
     "output_type": "stream",
     "text": [
      " 59%|█████▉    | 296/500 [01:07<00:46,  4.38it/s]"
     ]
    },
    {
     "name": "stdout",
     "output_type": "stream",
     "text": [
      "Graph created: 342 nodes, 29145 edges\n"
     ]
    },
    {
     "name": "stderr",
     "output_type": "stream",
     "text": [
      " 59%|█████▉    | 297/500 [01:07<00:46,  4.34it/s]"
     ]
    },
    {
     "name": "stdout",
     "output_type": "stream",
     "text": [
      "Attention shape: (392, 392), min: 0.000000, max: 0.473145, mean: 0.002466\n",
      "Using fallback threshold (10% of max): 0.047302\n",
      "Non-zero values: 76636/76636 (100.0%)\n",
      "Value range: [0.000010, 0.473145]\n",
      "Graph created: 392 nodes, 391 edges\n"
     ]
    },
    {
     "name": "stderr",
     "output_type": "stream",
     "text": [
      " 60%|█████▉    | 298/500 [01:08<00:48,  4.17it/s]"
     ]
    },
    {
     "name": "stdout",
     "output_type": "stream",
     "text": [
      "Attention shape: (424, 424), min: 0.000000, max: 0.471924, mean: 0.002266\n",
      "Using fallback threshold (10% of max): 0.047180\n",
      "Non-zero values: 89676/89676 (100.0%)\n",
      "Value range: [0.000017, 0.471924]\n",
      "Graph created: 424 nodes, 423 edges\n"
     ]
    },
    {
     "name": "stderr",
     "output_type": "stream",
     "text": [
      " 60%|█████▉    | 299/500 [01:08<00:48,  4.16it/s]"
     ]
    },
    {
     "name": "stdout",
     "output_type": "stream",
     "text": [
      "Attention shape: (400, 400), min: 0.000000, max: 0.473877, mean: 0.002396\n",
      "Using fallback threshold (10% of max): 0.047363\n",
      "Non-zero values: 79800/79800 (100.0%)\n",
      "Value range: [0.000015, 0.473877]\n",
      "Graph created: 400 nodes, 399 edges\n"
     ]
    },
    {
     "name": "stderr",
     "output_type": "stream",
     "text": [
      " 60%|██████    | 300/500 [01:08<00:47,  4.21it/s]"
     ]
    },
    {
     "name": "stdout",
     "output_type": "stream",
     "text": [
      "Attention shape: (385, 385), min: 0.000000, max: 0.475098, mean: 0.002485\n",
      "Using fallback threshold (10% of max): 0.047485\n",
      "Non-zero values: 73920/73920 (100.0%)\n",
      "Value range: [0.000014, 0.475098]\n",
      "Graph created: 385 nodes, 384 edges\n"
     ]
    },
    {
     "name": "stderr",
     "output_type": "stream",
     "text": [
      " 60%|██████    | 301/500 [01:08<00:45,  4.37it/s]"
     ]
    },
    {
     "name": "stdout",
     "output_type": "stream",
     "text": [
      "Attention shape: (369, 369), min: 0.000000, max: 0.468506, mean: 0.002598\n",
      "Using fallback threshold (10% of max): 0.046844\n",
      "Non-zero values: 67896/67896 (100.0%)\n",
      "Value range: [0.000011, 0.468506]\n",
      "Graph created: 369 nodes, 368 edges\n"
     ]
    },
    {
     "name": "stderr",
     "output_type": "stream",
     "text": [
      " 60%|██████    | 302/500 [01:09<00:44,  4.43it/s]"
     ]
    },
    {
     "name": "stdout",
     "output_type": "stream",
     "text": [
      "Attention shape: (380, 380), min: 0.000000, max: 0.468506, mean: 0.002522\n",
      "Using fallback threshold (10% of max): 0.046844\n",
      "Non-zero values: 72010/72010 (100.0%)\n",
      "Value range: [0.000012, 0.468506]\n",
      "Graph created: 380 nodes, 379 edges\n"
     ]
    },
    {
     "name": "stderr",
     "output_type": "stream",
     "text": [
      " 61%|██████    | 303/500 [01:09<00:44,  4.47it/s]"
     ]
    },
    {
     "name": "stdout",
     "output_type": "stream",
     "text": [
      "Attention shape: (379, 379), min: 0.000000, max: 0.474365, mean: 0.002529\n",
      "Using fallback threshold (10% of max): 0.047424\n",
      "Non-zero values: 71631/71631 (100.0%)\n",
      "Value range: [0.000018, 0.474365]\n",
      "Graph created: 379 nodes, 378 edges\n"
     ]
    },
    {
     "name": "stderr",
     "output_type": "stream",
     "text": [
      " 61%|██████    | 304/500 [01:09<00:43,  4.47it/s]"
     ]
    },
    {
     "name": "stdout",
     "output_type": "stream",
     "text": [
      "Attention shape: (391, 391), min: 0.000000, max: 0.475098, mean: 0.002449\n",
      "Using fallback threshold (10% of max): 0.047485\n",
      "Non-zero values: 76245/76245 (100.0%)\n",
      "Value range: [0.000008, 0.475098]\n",
      "Graph created: 391 nodes, 390 edges\n"
     ]
    },
    {
     "name": "stderr",
     "output_type": "stream",
     "text": [
      " 61%|██████    | 305/500 [01:09<00:45,  4.30it/s]"
     ]
    },
    {
     "name": "stdout",
     "output_type": "stream",
     "text": [
      "Attention shape: (413, 413), min: 0.000000, max: 0.478027, mean: 0.002321\n",
      "Using fallback threshold (10% of max): 0.047791\n",
      "Non-zero values: 85078/85078 (100.0%)\n",
      "Value range: [0.000010, 0.478027]\n",
      "Graph created: 413 nodes, 412 edges\n"
     ]
    },
    {
     "name": "stderr",
     "output_type": "stream",
     "text": [
      " 61%|██████    | 306/500 [01:10<00:44,  4.33it/s]"
     ]
    },
    {
     "name": "stdout",
     "output_type": "stream",
     "text": [
      "Attention shape: (386, 386), min: 0.000000, max: 0.478516, mean: 0.002485\n",
      "Using fallback threshold (10% of max): 0.047852\n",
      "Non-zero values: 74305/74305 (100.0%)\n",
      "Value range: [0.000015, 0.478516]\n",
      "Graph created: 386 nodes, 385 edges\n",
      "Attention shape: (346, 346), min: 0.000000, max: 0.481934, mean: 0.002769\n",
      "Using percentile-based threshold: 0.000320 (50th percentile)\n",
      "Non-zero values: 59685/59685 (100.0%)\n",
      "Value range: [0.000013, 0.481934]\n"
     ]
    },
    {
     "name": "stderr",
     "output_type": "stream",
     "text": [
      " 61%|██████▏   | 307/500 [01:10<00:45,  4.23it/s]"
     ]
    },
    {
     "name": "stdout",
     "output_type": "stream",
     "text": [
      "Graph created: 346 nodes, 29840 edges\n"
     ]
    },
    {
     "name": "stderr",
     "output_type": "stream",
     "text": [
      " 62%|██████▏   | 308/500 [01:10<00:47,  4.01it/s]"
     ]
    },
    {
     "name": "stdout",
     "output_type": "stream",
     "text": [
      "Attention shape: (441, 441), min: 0.000000, max: 0.476074, mean: 0.002178\n",
      "Using fallback threshold (10% of max): 0.047607\n",
      "Non-zero values: 97020/97020 (100.0%)\n",
      "Value range: [0.000015, 0.476074]\n",
      "Graph created: 441 nodes, 440 edges\n"
     ]
    },
    {
     "name": "stderr",
     "output_type": "stream",
     "text": [
      " 62%|██████▏   | 309/500 [01:10<00:46,  4.08it/s]"
     ]
    },
    {
     "name": "stdout",
     "output_type": "stream",
     "text": [
      "Attention shape: (408, 408), min: 0.000000, max: 0.480225, mean: 0.002350\n",
      "Using fallback threshold (10% of max): 0.048004\n",
      "Non-zero values: 83028/83028 (100.0%)\n",
      "Value range: [0.000016, 0.480225]\n",
      "Graph created: 408 nodes, 407 edges\n"
     ]
    },
    {
     "name": "stderr",
     "output_type": "stream",
     "text": [
      " 62%|██████▏   | 310/500 [01:11<00:45,  4.16it/s]"
     ]
    },
    {
     "name": "stdout",
     "output_type": "stream",
     "text": [
      "Attention shape: (396, 396), min: 0.000000, max: 0.473145, mean: 0.002419\n",
      "Using fallback threshold (10% of max): 0.047302\n",
      "Non-zero values: 78210/78210 (100.0%)\n",
      "Value range: [0.000010, 0.473145]\n",
      "Graph created: 396 nodes, 395 edges\n"
     ]
    },
    {
     "name": "stderr",
     "output_type": "stream",
     "text": [
      " 62%|██████▏   | 311/500 [01:11<00:44,  4.22it/s]"
     ]
    },
    {
     "name": "stdout",
     "output_type": "stream",
     "text": [
      "Attention shape: (390, 390), min: 0.000000, max: 0.475830, mean: 0.002457\n",
      "Using fallback threshold (10% of max): 0.047577\n",
      "Non-zero values: 75855/75855 (100.0%)\n",
      "Value range: [0.000010, 0.475830]\n",
      "Graph created: 390 nodes, 389 edges\n"
     ]
    },
    {
     "name": "stderr",
     "output_type": "stream",
     "text": [
      " 62%|██████▏   | 312/500 [01:11<00:44,  4.25it/s]"
     ]
    },
    {
     "name": "stdout",
     "output_type": "stream",
     "text": [
      "Attention shape: (393, 393), min: 0.000000, max: 0.477783, mean: 0.002436\n",
      "Using fallback threshold (10% of max): 0.047760\n",
      "Non-zero values: 77028/77028 (100.0%)\n",
      "Value range: [0.000011, 0.477783]\n",
      "Graph created: 393 nodes, 392 edges\n"
     ]
    },
    {
     "name": "stderr",
     "output_type": "stream",
     "text": [
      " 63%|██████▎   | 314/500 [01:11<00:36,  5.16it/s]"
     ]
    },
    {
     "name": "stdout",
     "output_type": "stream",
     "text": [
      "Attention shape: (385, 385), min: 0.000000, max: 0.475342, mean: 0.002487\n",
      "Using fallback threshold (10% of max): 0.047516\n",
      "Non-zero values: 73920/73920 (100.0%)\n",
      "Value range: [0.000007, 0.475342]\n",
      "Graph created: 385 nodes, 384 edges\n",
      "Attention shape: (257, 257), min: 0.000000, max: 0.477051, mean: 0.003710\n",
      "Using percentile-based threshold: 0.000305 (50th percentile)\n",
      "Non-zero values: 32896/32896 (100.0%)\n",
      "Value range: [0.000005, 0.477051]\n",
      "Graph created: 257 nodes, 16447 edges\n"
     ]
    },
    {
     "name": "stderr",
     "output_type": "stream",
     "text": [
      " 63%|██████▎   | 315/500 [01:12<00:38,  4.81it/s]"
     ]
    },
    {
     "name": "stdout",
     "output_type": "stream",
     "text": [
      "Attention shape: (402, 402), min: 0.000000, max: 0.471191, mean: 0.002384\n",
      "Using fallback threshold (10% of max): 0.047119\n",
      "Non-zero values: 80601/80601 (100.0%)\n",
      "Value range: [0.000008, 0.471191]\n",
      "Graph created: 402 nodes, 401 edges\n"
     ]
    },
    {
     "name": "stderr",
     "output_type": "stream",
     "text": [
      " 63%|██████▎   | 316/500 [01:12<00:38,  4.83it/s]"
     ]
    },
    {
     "name": "stdout",
     "output_type": "stream",
     "text": [
      "Attention shape: (371, 371), min: 0.000000, max: 0.473389, mean: 0.002586\n",
      "Using fallback threshold (10% of max): 0.047333\n",
      "Non-zero values: 68635/68635 (100.0%)\n",
      "Value range: [0.000011, 0.473389]\n",
      "Graph created: 371 nodes, 370 edges\n"
     ]
    },
    {
     "name": "stderr",
     "output_type": "stream",
     "text": [
      " 63%|██████▎   | 317/500 [01:12<00:39,  4.68it/s]"
     ]
    },
    {
     "name": "stdout",
     "output_type": "stream",
     "text": [
      "Attention shape: (391, 391), min: 0.000000, max: 0.480957, mean: 0.002447\n",
      "Using fallback threshold (10% of max): 0.048096\n",
      "Non-zero values: 76245/76245 (100.0%)\n",
      "Value range: [0.000010, 0.480957]\n",
      "Graph created: 391 nodes, 390 edges\n"
     ]
    },
    {
     "name": "stderr",
     "output_type": "stream",
     "text": [
      " 64%|██████▎   | 318/500 [01:12<00:39,  4.62it/s]"
     ]
    },
    {
     "name": "stdout",
     "output_type": "stream",
     "text": [
      "Attention shape: (385, 385), min: 0.000000, max: 0.474121, mean: 0.002489\n",
      "Using fallback threshold (10% of max): 0.047394\n",
      "Non-zero values: 73920/73920 (100.0%)\n",
      "Value range: [0.000019, 0.474121]\n",
      "Graph created: 385 nodes, 384 edges\n"
     ]
    },
    {
     "name": "stderr",
     "output_type": "stream",
     "text": [
      " 64%|██████▍   | 319/500 [01:12<00:38,  4.64it/s]"
     ]
    },
    {
     "name": "stdout",
     "output_type": "stream",
     "text": [
      "Attention shape: (381, 381), min: 0.000000, max: 0.474121, mean: 0.002510\n",
      "Using fallback threshold (10% of max): 0.047394\n",
      "Non-zero values: 72390/72390 (100.0%)\n",
      "Value range: [0.000006, 0.474121]\n",
      "Graph created: 381 nodes, 380 edges\n"
     ]
    },
    {
     "name": "stderr",
     "output_type": "stream",
     "text": [
      " 64%|██████▍   | 320/500 [01:13<00:39,  4.54it/s]"
     ]
    },
    {
     "name": "stdout",
     "output_type": "stream",
     "text": [
      "Attention shape: (395, 395), min: 0.000000, max: 0.476074, mean: 0.002428\n",
      "Using fallback threshold (10% of max): 0.047607\n",
      "Non-zero values: 77815/77815 (100.0%)\n",
      "Value range: [0.000015, 0.476074]\n",
      "Graph created: 395 nodes, 394 edges\n",
      "Attention shape: (361, 361), min: 0.000000, max: 0.471680, mean: 0.002649\n",
      "Using percentile-based threshold: 0.000299 (50th percentile)\n",
      "Non-zero values: 64980/64980 (100.0%)\n"
     ]
    },
    {
     "name": "stderr",
     "output_type": "stream",
     "text": [
      " 64%|██████▍   | 321/500 [01:13<00:41,  4.31it/s]"
     ]
    },
    {
     "name": "stdout",
     "output_type": "stream",
     "text": [
      "Value range: [0.000012, 0.471680]\n",
      "Graph created: 361 nodes, 32469 edges\n"
     ]
    },
    {
     "name": "stderr",
     "output_type": "stream",
     "text": [
      " 64%|██████▍   | 322/500 [01:13<00:41,  4.25it/s]"
     ]
    },
    {
     "name": "stdout",
     "output_type": "stream",
     "text": [
      "Attention shape: (346, 346), min: 0.000000, max: 0.476562, mean: 0.002768\n",
      "Using percentile-based threshold: 0.000342 (50th percentile)\n",
      "Non-zero values: 59685/59685 (100.0%)\n",
      "Value range: [0.000009, 0.476562]\n",
      "Graph created: 346 nodes, 29838 edges\n"
     ]
    },
    {
     "name": "stderr",
     "output_type": "stream",
     "text": [
      " 65%|██████▍   | 323/500 [01:13<00:41,  4.23it/s]"
     ]
    },
    {
     "name": "stdout",
     "output_type": "stream",
     "text": [
      "Attention shape: (402, 402), min: 0.000000, max: 0.471680, mean: 0.002390\n",
      "Using fallback threshold (10% of max): 0.047150\n",
      "Non-zero values: 80601/80601 (100.0%)\n",
      "Value range: [0.000011, 0.471680]\n",
      "Graph created: 402 nodes, 401 edges\n",
      "Attention shape: (364, 364), min: 0.000000, max: 0.479248, mean: 0.002634\n"
     ]
    },
    {
     "name": "stderr",
     "output_type": "stream",
     "text": [
      " 65%|██████▍   | 324/500 [01:14<00:39,  4.46it/s]"
     ]
    },
    {
     "name": "stdout",
     "output_type": "stream",
     "text": [
      "Using fallback threshold (10% of max): 0.047913\n",
      "Non-zero values: 66066/66066 (100.0%)\n",
      "Value range: [0.000022, 0.479248]\n",
      "Graph created: 364 nodes, 363 edges\n"
     ]
    },
    {
     "name": "stderr",
     "output_type": "stream",
     "text": [
      " 65%|██████▌   | 325/500 [01:14<00:39,  4.40it/s]"
     ]
    },
    {
     "name": "stdout",
     "output_type": "stream",
     "text": [
      "Attention shape: (402, 402), min: 0.000000, max: 0.469971, mean: 0.002384\n",
      "Using fallback threshold (10% of max): 0.046997\n",
      "Non-zero values: 80601/80601 (100.0%)\n",
      "Value range: [0.000012, 0.469971]\n",
      "Graph created: 402 nodes, 401 edges\n"
     ]
    },
    {
     "name": "stderr",
     "output_type": "stream",
     "text": [
      " 65%|██████▌   | 326/500 [01:14<00:39,  4.40it/s]"
     ]
    },
    {
     "name": "stdout",
     "output_type": "stream",
     "text": [
      "Attention shape: (397, 397), min: 0.000000, max: 0.472900, mean: 0.002417\n",
      "Using fallback threshold (10% of max): 0.047272\n",
      "Non-zero values: 78606/78606 (100.0%)\n",
      "Value range: [0.000014, 0.472900]\n",
      "Graph created: 397 nodes, 396 edges\n"
     ]
    },
    {
     "name": "stderr",
     "output_type": "stream",
     "text": [
      " 65%|██████▌   | 327/500 [01:14<00:37,  4.58it/s]"
     ]
    },
    {
     "name": "stdout",
     "output_type": "stream",
     "text": [
      "Attention shape: (364, 364), min: 0.000000, max: 0.473145, mean: 0.002630\n",
      "Using fallback threshold (10% of max): 0.047302\n",
      "Non-zero values: 66066/66066 (100.0%)\n",
      "Value range: [0.000012, 0.473145]\n",
      "Graph created: 364 nodes, 363 edges\n"
     ]
    },
    {
     "name": "stderr",
     "output_type": "stream",
     "text": [
      " 66%|██████▌   | 328/500 [01:15<00:38,  4.51it/s]"
     ]
    },
    {
     "name": "stdout",
     "output_type": "stream",
     "text": [
      "Attention shape: (389, 389), min: 0.000000, max: 0.475342, mean: 0.002457\n",
      "Using fallback threshold (10% of max): 0.047516\n",
      "Non-zero values: 75466/75466 (100.0%)\n",
      "Value range: [0.000019, 0.475342]\n",
      "Graph created: 389 nodes, 388 edges\n"
     ]
    },
    {
     "name": "stderr",
     "output_type": "stream",
     "text": [
      " 66%|██████▌   | 329/500 [01:15<00:37,  4.57it/s]"
     ]
    },
    {
     "name": "stdout",
     "output_type": "stream",
     "text": [
      "Attention shape: (383, 383), min: 0.000000, max: 0.471924, mean: 0.002501\n",
      "Using fallback threshold (10% of max): 0.047180\n",
      "Non-zero values: 73153/73153 (100.0%)\n",
      "Value range: [0.000006, 0.471924]\n",
      "Graph created: 383 nodes, 382 edges\n"
     ]
    },
    {
     "name": "stderr",
     "output_type": "stream",
     "text": [
      " 66%|██████▌   | 330/500 [01:15<00:36,  4.63it/s]"
     ]
    },
    {
     "name": "stdout",
     "output_type": "stream",
     "text": [
      "Attention shape: (379, 379), min: 0.000000, max: 0.478760, mean: 0.002529\n",
      "Using fallback threshold (10% of max): 0.047852\n",
      "Non-zero values: 71631/71631 (100.0%)\n",
      "Value range: [0.000012, 0.478760]\n",
      "Graph created: 379 nodes, 378 edges\n"
     ]
    },
    {
     "name": "stderr",
     "output_type": "stream",
     "text": [
      " 66%|██████▌   | 331/500 [01:15<00:36,  4.68it/s]"
     ]
    },
    {
     "name": "stdout",
     "output_type": "stream",
     "text": [
      "Attention shape: (375, 375), min: 0.000000, max: 0.471924, mean: 0.002550\n",
      "Using fallback threshold (10% of max): 0.047180\n",
      "Non-zero values: 70125/70125 (100.0%)\n",
      "Value range: [0.000011, 0.471924]\n",
      "Graph created: 375 nodes, 375 edges\n"
     ]
    },
    {
     "name": "stderr",
     "output_type": "stream",
     "text": [
      " 66%|██████▋   | 332/500 [01:15<00:37,  4.54it/s]"
     ]
    },
    {
     "name": "stdout",
     "output_type": "stream",
     "text": [
      "Attention shape: (394, 394), min: 0.000000, max: 0.471924, mean: 0.002447\n",
      "Using fallback threshold (10% of max): 0.047180\n",
      "Non-zero values: 77421/77421 (100.0%)\n",
      "Value range: [0.000018, 0.471924]\n",
      "Graph created: 394 nodes, 393 edges\n"
     ]
    },
    {
     "name": "stderr",
     "output_type": "stream",
     "text": [
      " 67%|██████▋   | 333/500 [01:16<00:36,  4.64it/s]"
     ]
    },
    {
     "name": "stdout",
     "output_type": "stream",
     "text": [
      "Attention shape: (369, 369), min: 0.000000, max: 0.474365, mean: 0.002596\n",
      "Using fallback threshold (10% of max): 0.047424\n",
      "Non-zero values: 67896/67896 (100.0%)\n",
      "Value range: [0.000006, 0.474365]\n",
      "Graph created: 369 nodes, 368 edges\n"
     ]
    },
    {
     "name": "stderr",
     "output_type": "stream",
     "text": [
      " 67%|██████▋   | 334/500 [01:16<00:37,  4.41it/s]"
     ]
    },
    {
     "name": "stdout",
     "output_type": "stream",
     "text": [
      "Attention shape: (417, 417), min: 0.000000, max: 0.481689, mean: 0.002300\n",
      "Using fallback threshold (10% of max): 0.048157\n",
      "Non-zero values: 86736/86736 (100.0%)\n",
      "Value range: [0.000011, 0.481689]\n",
      "Graph created: 417 nodes, 416 edges\n"
     ]
    },
    {
     "name": "stderr",
     "output_type": "stream",
     "text": [
      " 67%|██████▋   | 335/500 [01:16<00:39,  4.20it/s]"
     ]
    },
    {
     "name": "stdout",
     "output_type": "stream",
     "text": [
      "Attention shape: (361, 361), min: 0.000000, max: 0.473389, mean: 0.002655\n",
      "Using percentile-based threshold: 0.000283 (50th percentile)\n",
      "Non-zero values: 64980/64980 (100.0%)\n",
      "Value range: [0.000014, 0.473389]\n",
      "Graph created: 361 nodes, 32472 edges\n"
     ]
    },
    {
     "name": "stderr",
     "output_type": "stream",
     "text": [
      " 67%|██████▋   | 336/500 [01:16<00:37,  4.39it/s]"
     ]
    },
    {
     "name": "stdout",
     "output_type": "stream",
     "text": [
      "Attention shape: (368, 368), min: 0.000000, max: 0.471924, mean: 0.002604\n",
      "Using fallback threshold (10% of max): 0.047180\n",
      "Non-zero values: 67528/67528 (100.0%)\n",
      "Value range: [0.000010, 0.471924]\n",
      "Graph created: 368 nodes, 367 edges\n"
     ]
    },
    {
     "name": "stderr",
     "output_type": "stream",
     "text": [
      " 67%|██████▋   | 337/500 [01:17<00:37,  4.38it/s]"
     ]
    },
    {
     "name": "stdout",
     "output_type": "stream",
     "text": [
      "Attention shape: (392, 392), min: 0.000000, max: 0.473145, mean: 0.002441\n",
      "Using fallback threshold (10% of max): 0.047302\n",
      "Non-zero values: 76636/76636 (100.0%)\n",
      "Value range: [0.000012, 0.473145]\n",
      "Graph created: 392 nodes, 391 edges\n"
     ]
    },
    {
     "name": "stderr",
     "output_type": "stream",
     "text": [
      " 68%|██████▊   | 338/500 [01:17<00:37,  4.27it/s]"
     ]
    },
    {
     "name": "stdout",
     "output_type": "stream",
     "text": [
      "Attention shape: (408, 408), min: 0.000000, max: 0.470947, mean: 0.002346\n",
      "Using fallback threshold (10% of max): 0.047089\n",
      "Non-zero values: 83028/83028 (100.0%)\n",
      "Value range: [0.000008, 0.470947]\n",
      "Graph created: 408 nodes, 407 edges\n"
     ]
    },
    {
     "name": "stderr",
     "output_type": "stream",
     "text": [
      " 68%|██████▊   | 339/500 [01:17<00:39,  4.12it/s]"
     ]
    },
    {
     "name": "stdout",
     "output_type": "stream",
     "text": [
      "Attention shape: (356, 356), min: 0.000000, max: 0.471924, mean: 0.002689\n",
      "Using percentile-based threshold: 0.000291 (50th percentile)\n",
      "Non-zero values: 63190/63190 (100.0%)\n",
      "Value range: [0.000010, 0.471924]\n",
      "Graph created: 356 nodes, 31577 edges\n"
     ]
    },
    {
     "name": "stderr",
     "output_type": "stream",
     "text": [
      " 68%|██████▊   | 340/500 [01:17<00:38,  4.15it/s]"
     ]
    },
    {
     "name": "stdout",
     "output_type": "stream",
     "text": [
      "Attention shape: (401, 401), min: 0.000000, max: 0.472900, mean: 0.002388\n",
      "Using fallback threshold (10% of max): 0.047272\n",
      "Non-zero values: 80200/80200 (100.0%)\n",
      "Value range: [0.000011, 0.472900]\n",
      "Graph created: 401 nodes, 400 edges\n"
     ]
    },
    {
     "name": "stderr",
     "output_type": "stream",
     "text": [
      " 68%|██████▊   | 341/500 [01:18<00:37,  4.21it/s]"
     ]
    },
    {
     "name": "stdout",
     "output_type": "stream",
     "text": [
      "Attention shape: (391, 391), min: 0.000000, max: 0.468506, mean: 0.002455\n",
      "Using fallback threshold (10% of max): 0.046844\n",
      "Non-zero values: 76245/76245 (100.0%)\n",
      "Value range: [0.000021, 0.468506]\n",
      "Graph created: 391 nodes, 390 edges\n"
     ]
    },
    {
     "name": "stderr",
     "output_type": "stream",
     "text": [
      " 68%|██████▊   | 342/500 [01:18<00:37,  4.27it/s]"
     ]
    },
    {
     "name": "stdout",
     "output_type": "stream",
     "text": [
      "Attention shape: (388, 388), min: 0.000000, max: 0.475342, mean: 0.002474\n",
      "Using fallback threshold (10% of max): 0.047516\n",
      "Non-zero values: 75078/75078 (100.0%)\n",
      "Value range: [0.000012, 0.475342]\n",
      "Graph created: 388 nodes, 387 edges\n"
     ]
    },
    {
     "name": "stderr",
     "output_type": "stream",
     "text": [
      " 69%|██████▊   | 343/500 [01:18<00:36,  4.28it/s]"
     ]
    },
    {
     "name": "stdout",
     "output_type": "stream",
     "text": [
      "Attention shape: (393, 393), min: 0.000000, max: 0.474121, mean: 0.002432\n",
      "Using fallback threshold (10% of max): 0.047394\n",
      "Non-zero values: 77028/77028 (100.0%)\n",
      "Value range: [0.000009, 0.474121]\n",
      "Graph created: 393 nodes, 392 edges\n"
     ]
    },
    {
     "name": "stderr",
     "output_type": "stream",
     "text": [
      " 69%|██████▉   | 344/500 [01:18<00:35,  4.39it/s]"
     ]
    },
    {
     "name": "stdout",
     "output_type": "stream",
     "text": [
      "Attention shape: (380, 380), min: 0.000000, max: 0.479004, mean: 0.002520\n",
      "Using fallback threshold (10% of max): 0.047882\n",
      "Non-zero values: 72010/72010 (100.0%)\n",
      "Value range: [0.000011, 0.479004]\n",
      "Graph created: 380 nodes, 379 edges\n"
     ]
    },
    {
     "name": "stderr",
     "output_type": "stream",
     "text": [
      " 69%|██████▉   | 345/500 [01:18<00:37,  4.16it/s]"
     ]
    },
    {
     "name": "stdout",
     "output_type": "stream",
     "text": [
      "Attention shape: (436, 436), min: 0.000000, max: 0.474609, mean: 0.002199\n",
      "Using fallback threshold (10% of max): 0.047455\n",
      "Non-zero values: 94830/94830 (100.0%)\n",
      "Value range: [0.000014, 0.474609]\n",
      "Graph created: 436 nodes, 435 edges\n"
     ]
    },
    {
     "name": "stderr",
     "output_type": "stream",
     "text": [
      " 69%|██████▉   | 346/500 [01:19<00:35,  4.31it/s]"
     ]
    },
    {
     "name": "stdout",
     "output_type": "stream",
     "text": [
      "Attention shape: (378, 378), min: 0.000000, max: 0.468506, mean: 0.002533\n",
      "Using fallback threshold (10% of max): 0.046844\n",
      "Non-zero values: 71253/71253 (100.0%)\n",
      "Value range: [0.000011, 0.468506]\n",
      "Graph created: 378 nodes, 377 edges\n"
     ]
    },
    {
     "name": "stderr",
     "output_type": "stream",
     "text": [
      " 69%|██████▉   | 347/500 [01:19<00:35,  4.32it/s]"
     ]
    },
    {
     "name": "stdout",
     "output_type": "stream",
     "text": [
      "Attention shape: (390, 390), min: 0.000000, max: 0.476807, mean: 0.002459\n",
      "Using fallback threshold (10% of max): 0.047668\n",
      "Non-zero values: 75855/75855 (100.0%)\n",
      "Value range: [0.000015, 0.476807]\n",
      "Graph created: 390 nodes, 389 edges\n"
     ]
    },
    {
     "name": "stderr",
     "output_type": "stream",
     "text": [
      " 70%|██████▉   | 348/500 [01:19<00:34,  4.44it/s]"
     ]
    },
    {
     "name": "stdout",
     "output_type": "stream",
     "text": [
      "Attention shape: (378, 378), min: 0.000000, max: 0.474854, mean: 0.002533\n",
      "Using fallback threshold (10% of max): 0.047485\n",
      "Non-zero values: 71253/71253 (100.0%)\n",
      "Value range: [0.000005, 0.474854]\n",
      "Graph created: 378 nodes, 377 edges\n"
     ]
    },
    {
     "name": "stderr",
     "output_type": "stream",
     "text": [
      " 70%|██████▉   | 349/500 [01:19<00:34,  4.40it/s]"
     ]
    },
    {
     "name": "stdout",
     "output_type": "stream",
     "text": [
      "Attention shape: (397, 397), min: 0.000000, max: 0.474365, mean: 0.002415\n",
      "Using fallback threshold (10% of max): 0.047424\n",
      "Non-zero values: 78606/78606 (100.0%)\n",
      "Value range: [0.000011, 0.474365]\n",
      "Graph created: 397 nodes, 396 edges\n"
     ]
    },
    {
     "name": "stderr",
     "output_type": "stream",
     "text": [
      " 70%|███████   | 350/500 [01:20<00:33,  4.42it/s]"
     ]
    },
    {
     "name": "stdout",
     "output_type": "stream",
     "text": [
      "Attention shape: (387, 387), min: 0.000000, max: 0.472168, mean: 0.002480\n",
      "Using fallback threshold (10% of max): 0.047211\n",
      "Non-zero values: 74691/74691 (100.0%)\n",
      "Value range: [0.000008, 0.472168]\n",
      "Graph created: 387 nodes, 386 edges\n"
     ]
    },
    {
     "name": "stderr",
     "output_type": "stream",
     "text": [
      " 70%|███████   | 351/500 [01:20<00:35,  4.23it/s]"
     ]
    },
    {
     "name": "stdout",
     "output_type": "stream",
     "text": [
      "Attention shape: (429, 429), min: 0.000000, max: 0.471924, mean: 0.002241\n",
      "Using fallback threshold (10% of max): 0.047180\n",
      "Non-zero values: 91806/91806 (100.0%)\n",
      "Value range: [0.000013, 0.471924]\n",
      "Graph created: 429 nodes, 428 edges\n"
     ]
    },
    {
     "name": "stderr",
     "output_type": "stream",
     "text": [
      " 70%|███████   | 352/500 [01:20<00:33,  4.37it/s]"
     ]
    },
    {
     "name": "stdout",
     "output_type": "stream",
     "text": [
      "Attention shape: (382, 382), min: 0.000000, max: 0.478271, mean: 0.002508\n",
      "Using fallback threshold (10% of max): 0.047821\n",
      "Non-zero values: 72771/72771 (100.0%)\n",
      "Value range: [0.000014, 0.478271]\n",
      "Graph created: 382 nodes, 381 edges\n"
     ]
    },
    {
     "name": "stderr",
     "output_type": "stream",
     "text": [
      " 71%|███████   | 353/500 [01:20<00:33,  4.35it/s]"
     ]
    },
    {
     "name": "stdout",
     "output_type": "stream",
     "text": [
      "Attention shape: (396, 396), min: 0.000000, max: 0.474609, mean: 0.002422\n",
      "Using fallback threshold (10% of max): 0.047455\n",
      "Non-zero values: 78210/78210 (100.0%)\n",
      "Value range: [0.000011, 0.474609]\n",
      "Graph created: 396 nodes, 395 edges\n"
     ]
    },
    {
     "name": "stderr",
     "output_type": "stream",
     "text": [
      " 71%|███████   | 354/500 [01:21<00:33,  4.35it/s]"
     ]
    },
    {
     "name": "stdout",
     "output_type": "stream",
     "text": [
      "Attention shape: (395, 395), min: 0.000000, max: 0.475342, mean: 0.002428\n",
      "Using fallback threshold (10% of max): 0.047516\n",
      "Non-zero values: 77815/77815 (100.0%)\n",
      "Value range: [0.000018, 0.475342]\n",
      "Graph created: 395 nodes, 394 edges\n"
     ]
    },
    {
     "name": "stderr",
     "output_type": "stream",
     "text": [
      " 71%|███████   | 355/500 [01:21<00:33,  4.35it/s]"
     ]
    },
    {
     "name": "stdout",
     "output_type": "stream",
     "text": [
      "Attention shape: (395, 395), min: 0.000000, max: 0.476318, mean: 0.002434\n",
      "Using fallback threshold (10% of max): 0.047607\n",
      "Non-zero values: 77815/77815 (100.0%)\n",
      "Value range: [0.000020, 0.476318]\n",
      "Graph created: 395 nodes, 394 edges\n"
     ]
    },
    {
     "name": "stderr",
     "output_type": "stream",
     "text": [
      " 71%|███████   | 356/500 [01:21<00:31,  4.52it/s]"
     ]
    },
    {
     "name": "stdout",
     "output_type": "stream",
     "text": [
      "Attention shape: (369, 369), min: 0.000000, max: 0.479248, mean: 0.002596\n",
      "Using fallback threshold (10% of max): 0.047913\n",
      "Non-zero values: 67896/67896 (100.0%)\n",
      "Value range: [0.000014, 0.479248]\n",
      "Graph created: 369 nodes, 368 edges\n"
     ]
    },
    {
     "name": "stderr",
     "output_type": "stream",
     "text": [
      " 71%|███████▏  | 357/500 [01:21<00:32,  4.46it/s]"
     ]
    },
    {
     "name": "stdout",
     "output_type": "stream",
     "text": [
      "Attention shape: (397, 397), min: 0.000000, max: 0.479492, mean: 0.002413\n",
      "Using fallback threshold (10% of max): 0.047943\n",
      "Non-zero values: 78606/78606 (100.0%)\n",
      "Value range: [0.000010, 0.479492]\n",
      "Graph created: 397 nodes, 396 edges\n",
      "Attention shape: (364, 364), min: 0.000000, max: 0.476562, mean: 0.002630\n"
     ]
    },
    {
     "name": "stderr",
     "output_type": "stream",
     "text": [
      " 72%|███████▏  | 358/500 [01:21<00:30,  4.63it/s]"
     ]
    },
    {
     "name": "stdout",
     "output_type": "stream",
     "text": [
      "Using fallback threshold (10% of max): 0.047638\n",
      "Non-zero values: 66066/66066 (100.0%)\n",
      "Value range: [0.000018, 0.476562]\n",
      "Graph created: 364 nodes, 363 edges\n"
     ]
    },
    {
     "name": "stderr",
     "output_type": "stream",
     "text": [
      " 72%|███████▏  | 359/500 [01:22<00:30,  4.55it/s]"
     ]
    },
    {
     "name": "stdout",
     "output_type": "stream",
     "text": [
      "Attention shape: (390, 390), min: 0.000000, max: 0.470703, mean: 0.002457\n",
      "Using fallback threshold (10% of max): 0.047058\n",
      "Non-zero values: 75855/75855 (100.0%)\n",
      "Value range: [0.000013, 0.470703]\n",
      "Graph created: 390 nodes, 389 edges\n",
      "Attention shape: (363, 363), min: 0.000000, max: 0.469971, mean: 0.002640\n",
      "Using fallback threshold (10% of max): 0.046997\n",
      "Non-zero values: 65703/65703 (100.0%)\n"
     ]
    },
    {
     "name": "stderr",
     "output_type": "stream",
     "text": [
      " 72%|███████▏  | 360/500 [01:22<00:29,  4.70it/s]"
     ]
    },
    {
     "name": "stdout",
     "output_type": "stream",
     "text": [
      "Value range: [0.000015, 0.469971]\n",
      "Graph created: 363 nodes, 362 edges\n"
     ]
    },
    {
     "name": "stderr",
     "output_type": "stream",
     "text": [
      " 72%|███████▏  | 361/500 [01:22<00:29,  4.71it/s]"
     ]
    },
    {
     "name": "stdout",
     "output_type": "stream",
     "text": [
      "Attention shape: (381, 381), min: 0.000000, max: 0.470947, mean: 0.002512\n",
      "Using fallback threshold (10% of max): 0.047089\n",
      "Non-zero values: 72390/72390 (100.0%)\n",
      "Value range: [0.000013, 0.470947]\n",
      "Graph created: 381 nodes, 380 edges\n"
     ]
    },
    {
     "name": "stderr",
     "output_type": "stream",
     "text": [
      " 72%|███████▏  | 362/500 [01:22<00:31,  4.42it/s]"
     ]
    },
    {
     "name": "stdout",
     "output_type": "stream",
     "text": [
      "Attention shape: (428, 428), min: 0.000000, max: 0.468750, mean: 0.002243\n",
      "Using fallback threshold (10% of max): 0.046875\n",
      "Non-zero values: 91378/91378 (100.0%)\n",
      "Value range: [0.000013, 0.468750]\n",
      "Graph created: 428 nodes, 427 edges\n"
     ]
    },
    {
     "name": "stderr",
     "output_type": "stream",
     "text": [
      " 73%|███████▎  | 363/500 [01:22<00:31,  4.42it/s]"
     ]
    },
    {
     "name": "stdout",
     "output_type": "stream",
     "text": [
      "Attention shape: (389, 389), min: 0.000000, max: 0.480469, mean: 0.002462\n",
      "Using fallback threshold (10% of max): 0.048035\n",
      "Non-zero values: 75466/75466 (100.0%)\n",
      "Value range: [0.000006, 0.480469]\n",
      "Graph created: 389 nodes, 388 edges\n"
     ]
    },
    {
     "name": "stderr",
     "output_type": "stream",
     "text": [
      " 73%|███████▎  | 364/500 [01:23<00:30,  4.42it/s]"
     ]
    },
    {
     "name": "stdout",
     "output_type": "stream",
     "text": [
      "Attention shape: (389, 389), min: 0.000000, max: 0.479492, mean: 0.002460\n",
      "Using fallback threshold (10% of max): 0.047943\n",
      "Non-zero values: 75466/75466 (100.0%)\n",
      "Value range: [0.000012, 0.479492]\n",
      "Graph created: 389 nodes, 388 edges\n"
     ]
    },
    {
     "name": "stderr",
     "output_type": "stream",
     "text": [
      " 73%|███████▎  | 365/500 [01:23<00:29,  4.52it/s]"
     ]
    },
    {
     "name": "stdout",
     "output_type": "stream",
     "text": [
      "Attention shape: (380, 380), min: 0.000000, max: 0.471680, mean: 0.002523\n",
      "Using fallback threshold (10% of max): 0.047150\n",
      "Non-zero values: 72010/72010 (100.0%)\n",
      "Value range: [0.000018, 0.471680]\n",
      "Graph created: 380 nodes, 380 edges\n"
     ]
    },
    {
     "name": "stderr",
     "output_type": "stream",
     "text": [
      " 73%|███████▎  | 366/500 [01:23<00:29,  4.58it/s]"
     ]
    },
    {
     "name": "stdout",
     "output_type": "stream",
     "text": [
      "Attention shape: (380, 380), min: 0.000000, max: 0.480713, mean: 0.002522\n",
      "Using fallback threshold (10% of max): 0.048065\n",
      "Non-zero values: 72010/72010 (100.0%)\n",
      "Value range: [0.000010, 0.480713]\n",
      "Graph created: 380 nodes, 379 edges\n"
     ]
    },
    {
     "name": "stderr",
     "output_type": "stream",
     "text": [
      " 73%|███████▎  | 367/500 [01:23<00:29,  4.53it/s]"
     ]
    },
    {
     "name": "stdout",
     "output_type": "stream",
     "text": [
      "Attention shape: (392, 392), min: 0.000000, max: 0.478271, mean: 0.002455\n",
      "Using fallback threshold (10% of max): 0.047821\n",
      "Non-zero values: 76636/76636 (100.0%)\n",
      "Value range: [0.000017, 0.478271]\n",
      "Graph created: 392 nodes, 391 edges\n"
     ]
    },
    {
     "name": "stderr",
     "output_type": "stream",
     "text": [
      " 74%|███████▎  | 368/500 [01:24<00:28,  4.62it/s]"
     ]
    },
    {
     "name": "stdout",
     "output_type": "stream",
     "text": [
      "Attention shape: (374, 374), min: 0.000000, max: 0.470703, mean: 0.002560\n",
      "Using fallback threshold (10% of max): 0.047058\n",
      "Non-zero values: 69751/69751 (100.0%)\n",
      "Value range: [0.000011, 0.470703]\n",
      "Graph created: 374 nodes, 373 edges\n"
     ]
    },
    {
     "name": "stderr",
     "output_type": "stream",
     "text": [
      " 74%|███████▍  | 369/500 [01:24<00:28,  4.64it/s]"
     ]
    },
    {
     "name": "stdout",
     "output_type": "stream",
     "text": [
      "Attention shape: (384, 384), min: 0.000000, max: 0.478027, mean: 0.002493\n",
      "Using fallback threshold (10% of max): 0.047791\n",
      "Non-zero values: 73536/73536 (100.0%)\n",
      "Value range: [0.000011, 0.478027]\n",
      "Graph created: 384 nodes, 383 edges\n"
     ]
    },
    {
     "name": "stderr",
     "output_type": "stream",
     "text": [
      " 74%|███████▍  | 370/500 [01:24<00:28,  4.54it/s]"
     ]
    },
    {
     "name": "stdout",
     "output_type": "stream",
     "text": [
      "Attention shape: (394, 394), min: 0.000000, max: 0.475098, mean: 0.002434\n",
      "Using fallback threshold (10% of max): 0.047485\n",
      "Non-zero values: 77421/77421 (100.0%)\n",
      "Value range: [0.000014, 0.475098]\n",
      "Graph created: 394 nodes, 393 edges\n"
     ]
    },
    {
     "name": "stderr",
     "output_type": "stream",
     "text": [
      " 74%|███████▍  | 371/500 [01:24<00:28,  4.46it/s]"
     ]
    },
    {
     "name": "stdout",
     "output_type": "stream",
     "text": [
      "Attention shape: (398, 398), min: 0.000000, max: 0.474121, mean: 0.002409\n",
      "Using fallback threshold (10% of max): 0.047394\n",
      "Non-zero values: 79003/79003 (100.0%)\n",
      "Value range: [0.000010, 0.474121]\n",
      "Graph created: 398 nodes, 397 edges\n"
     ]
    },
    {
     "name": "stderr",
     "output_type": "stream",
     "text": [
      " 74%|███████▍  | 372/500 [01:24<00:28,  4.42it/s]"
     ]
    },
    {
     "name": "stdout",
     "output_type": "stream",
     "text": [
      "Attention shape: (396, 396), min: 0.000000, max: 0.474609, mean: 0.002413\n",
      "Using fallback threshold (10% of max): 0.047455\n",
      "Non-zero values: 78210/78210 (100.0%)\n",
      "Value range: [0.000010, 0.474609]\n",
      "Graph created: 396 nodes, 395 edges\n"
     ]
    },
    {
     "name": "stderr",
     "output_type": "stream",
     "text": [
      " 75%|███████▍  | 373/500 [01:25<00:28,  4.42it/s]"
     ]
    },
    {
     "name": "stdout",
     "output_type": "stream",
     "text": [
      "Attention shape: (390, 390), min: 0.000000, max: 0.474609, mean: 0.002460\n",
      "Using fallback threshold (10% of max): 0.047455\n",
      "Non-zero values: 75855/75855 (100.0%)\n",
      "Value range: [0.000011, 0.474609]\n",
      "Graph created: 390 nodes, 389 edges\n"
     ]
    },
    {
     "name": "stderr",
     "output_type": "stream",
     "text": [
      " 75%|███████▍  | 374/500 [01:25<00:28,  4.40it/s]"
     ]
    },
    {
     "name": "stdout",
     "output_type": "stream",
     "text": [
      "Attention shape: (393, 393), min: 0.000000, max: 0.468506, mean: 0.002441\n",
      "Using fallback threshold (10% of max): 0.046844\n",
      "Non-zero values: 77028/77028 (100.0%)\n",
      "Value range: [0.000017, 0.468506]\n",
      "Graph created: 393 nodes, 392 edges\n"
     ]
    },
    {
     "name": "stderr",
     "output_type": "stream",
     "text": [
      " 75%|███████▌  | 375/500 [01:25<00:28,  4.37it/s]"
     ]
    },
    {
     "name": "stdout",
     "output_type": "stream",
     "text": [
      "Attention shape: (390, 390), min: 0.000000, max: 0.476562, mean: 0.002457\n",
      "Using fallback threshold (10% of max): 0.047638\n",
      "Non-zero values: 75855/75855 (100.0%)\n",
      "Value range: [0.000007, 0.476562]\n",
      "Graph created: 390 nodes, 389 edges\n"
     ]
    },
    {
     "name": "stderr",
     "output_type": "stream",
     "text": [
      " 75%|███████▌  | 376/500 [01:25<00:28,  4.37it/s]"
     ]
    },
    {
     "name": "stdout",
     "output_type": "stream",
     "text": [
      "Attention shape: (386, 386), min: 0.000000, max: 0.480957, mean: 0.002481\n",
      "Using fallback threshold (10% of max): 0.048096\n",
      "Non-zero values: 74305/74305 (100.0%)\n",
      "Value range: [0.000006, 0.480957]\n",
      "Graph created: 386 nodes, 385 edges\n"
     ]
    },
    {
     "name": "stderr",
     "output_type": "stream",
     "text": [
      " 75%|███████▌  | 377/500 [01:26<00:28,  4.32it/s]"
     ]
    },
    {
     "name": "stdout",
     "output_type": "stream",
     "text": [
      "Attention shape: (399, 399), min: 0.000000, max: 0.469971, mean: 0.002401\n",
      "Using fallback threshold (10% of max): 0.046997\n",
      "Non-zero values: 79401/79401 (100.0%)\n",
      "Value range: [0.000015, 0.469971]\n",
      "Graph created: 399 nodes, 398 edges\n"
     ]
    },
    {
     "name": "stderr",
     "output_type": "stream",
     "text": [
      " 76%|███████▌  | 378/500 [01:26<00:28,  4.30it/s]"
     ]
    },
    {
     "name": "stdout",
     "output_type": "stream",
     "text": [
      "Attention shape: (391, 391), min: 0.000000, max: 0.480469, mean: 0.002460\n",
      "Using fallback threshold (10% of max): 0.048035\n",
      "Non-zero values: 76245/76245 (100.0%)\n",
      "Value range: [0.000019, 0.480469]\n",
      "Graph created: 391 nodes, 390 edges\n"
     ]
    },
    {
     "name": "stderr",
     "output_type": "stream",
     "text": [
      " 76%|███████▌  | 379/500 [01:26<00:27,  4.46it/s]"
     ]
    },
    {
     "name": "stdout",
     "output_type": "stream",
     "text": [
      "Attention shape: (368, 368), min: 0.000000, max: 0.475342, mean: 0.002600\n",
      "Using fallback threshold (10% of max): 0.047516\n",
      "Non-zero values: 67528/67528 (100.0%)\n",
      "Value range: [0.000009, 0.475342]\n",
      "Graph created: 368 nodes, 367 edges\n"
     ]
    },
    {
     "name": "stderr",
     "output_type": "stream",
     "text": [
      " 76%|███████▌  | 380/500 [01:26<00:27,  4.40it/s]"
     ]
    },
    {
     "name": "stdout",
     "output_type": "stream",
     "text": [
      "Attention shape: (397, 397), min: 0.000000, max: 0.479736, mean: 0.002419\n",
      "Using fallback threshold (10% of max): 0.047974\n",
      "Non-zero values: 78606/78606 (100.0%)\n",
      "Value range: [0.000010, 0.479736]\n",
      "Graph created: 397 nodes, 396 edges\n"
     ]
    },
    {
     "name": "stderr",
     "output_type": "stream",
     "text": [
      " 76%|███████▌  | 381/500 [01:27<00:26,  4.42it/s]"
     ]
    },
    {
     "name": "stdout",
     "output_type": "stream",
     "text": [
      "Attention shape: (386, 386), min: 0.000000, max: 0.469971, mean: 0.002487\n",
      "Using fallback threshold (10% of max): 0.046997\n",
      "Non-zero values: 74305/74305 (100.0%)\n",
      "Value range: [0.000012, 0.469971]\n",
      "Graph created: 386 nodes, 385 edges\n"
     ]
    },
    {
     "name": "stderr",
     "output_type": "stream",
     "text": [
      " 76%|███████▋  | 382/500 [01:27<00:26,  4.40it/s]"
     ]
    },
    {
     "name": "stdout",
     "output_type": "stream",
     "text": [
      "Attention shape: (394, 394), min: 0.000000, max: 0.480957, mean: 0.002434\n",
      "Using fallback threshold (10% of max): 0.048096\n",
      "Non-zero values: 77421/77421 (100.0%)\n",
      "Value range: [0.000007, 0.480957]\n",
      "Graph created: 394 nodes, 393 edges\n"
     ]
    },
    {
     "name": "stderr",
     "output_type": "stream",
     "text": [
      " 77%|███████▋  | 383/500 [01:27<00:26,  4.40it/s]"
     ]
    },
    {
     "name": "stdout",
     "output_type": "stream",
     "text": [
      "Attention shape: (386, 386), min: 0.000000, max: 0.471924, mean: 0.002480\n",
      "Using fallback threshold (10% of max): 0.047180\n",
      "Non-zero values: 74305/74305 (100.0%)\n",
      "Value range: [0.000009, 0.471924]\n",
      "Graph created: 386 nodes, 385 edges\n"
     ]
    },
    {
     "name": "stderr",
     "output_type": "stream",
     "text": [
      " 77%|███████▋  | 384/500 [01:27<00:26,  4.39it/s]"
     ]
    },
    {
     "name": "stdout",
     "output_type": "stream",
     "text": [
      "Attention shape: (389, 389), min: 0.000000, max: 0.470459, mean: 0.002470\n",
      "Using fallback threshold (10% of max): 0.047028\n",
      "Non-zero values: 75466/75466 (100.0%)\n",
      "Value range: [0.000010, 0.470459]\n",
      "Graph created: 389 nodes, 388 edges\n"
     ]
    },
    {
     "name": "stderr",
     "output_type": "stream",
     "text": [
      " 77%|███████▋  | 385/500 [01:27<00:26,  4.36it/s]"
     ]
    },
    {
     "name": "stdout",
     "output_type": "stream",
     "text": [
      "Attention shape: (391, 391), min: 0.000000, max: 0.468506, mean: 0.002447\n",
      "Using fallback threshold (10% of max): 0.046844\n",
      "Non-zero values: 76245/76245 (100.0%)\n",
      "Value range: [0.000013, 0.468506]\n",
      "Graph created: 391 nodes, 390 edges\n"
     ]
    },
    {
     "name": "stderr",
     "output_type": "stream",
     "text": [
      " 77%|███████▋  | 386/500 [01:28<00:26,  4.37it/s]"
     ]
    },
    {
     "name": "stdout",
     "output_type": "stream",
     "text": [
      "Attention shape: (392, 392), min: 0.000000, max: 0.469971, mean: 0.002443\n",
      "Using fallback threshold (10% of max): 0.046997\n",
      "Non-zero values: 76636/76636 (100.0%)\n",
      "Value range: [0.000011, 0.469971]\n",
      "Graph created: 392 nodes, 391 edges\n"
     ]
    },
    {
     "name": "stderr",
     "output_type": "stream",
     "text": [
      " 77%|███████▋  | 387/500 [01:28<00:25,  4.39it/s]"
     ]
    },
    {
     "name": "stdout",
     "output_type": "stream",
     "text": [
      "Attention shape: (389, 389), min: 0.000000, max: 0.478271, mean: 0.002466\n",
      "Using fallback threshold (10% of max): 0.047821\n",
      "Non-zero values: 75466/75466 (100.0%)\n",
      "Value range: [0.000010, 0.478271]\n",
      "Graph created: 389 nodes, 388 edges\n"
     ]
    },
    {
     "name": "stderr",
     "output_type": "stream",
     "text": [
      " 78%|███████▊  | 388/500 [01:28<00:25,  4.37it/s]"
     ]
    },
    {
     "name": "stdout",
     "output_type": "stream",
     "text": [
      "Attention shape: (394, 394), min: 0.000000, max: 0.475586, mean: 0.002434\n",
      "Using fallback threshold (10% of max): 0.047546\n",
      "Non-zero values: 77421/77421 (100.0%)\n",
      "Value range: [0.000011, 0.475586]\n",
      "Graph created: 394 nodes, 393 edges\n"
     ]
    },
    {
     "name": "stderr",
     "output_type": "stream",
     "text": [
      " 78%|███████▊  | 389/500 [01:28<00:25,  4.38it/s]"
     ]
    },
    {
     "name": "stdout",
     "output_type": "stream",
     "text": [
      "Attention shape: (390, 390), min: 0.000000, max: 0.480713, mean: 0.002457\n",
      "Using fallback threshold (10% of max): 0.048065\n",
      "Non-zero values: 75855/75855 (100.0%)\n",
      "Value range: [0.000012, 0.480713]\n",
      "Graph created: 390 nodes, 389 edges\n"
     ]
    },
    {
     "name": "stderr",
     "output_type": "stream",
     "text": [
      " 78%|███████▊  | 390/500 [01:29<00:25,  4.35it/s]"
     ]
    },
    {
     "name": "stdout",
     "output_type": "stream",
     "text": [
      "Attention shape: (397, 397), min: 0.000000, max: 0.468506, mean: 0.002411\n",
      "Using fallback threshold (10% of max): 0.046844\n",
      "Non-zero values: 78606/78606 (100.0%)\n",
      "Value range: [0.000015, 0.468506]\n",
      "Graph created: 397 nodes, 396 edges\n"
     ]
    },
    {
     "name": "stderr",
     "output_type": "stream",
     "text": [
      " 78%|███████▊  | 391/500 [01:29<00:25,  4.31it/s]"
     ]
    },
    {
     "name": "stdout",
     "output_type": "stream",
     "text": [
      "Attention shape: (399, 399), min: 0.000000, max: 0.475830, mean: 0.002401\n",
      "Using fallback threshold (10% of max): 0.047577\n",
      "Non-zero values: 79401/79401 (100.0%)\n",
      "Value range: [0.000009, 0.475830]\n",
      "Graph created: 399 nodes, 398 edges\n"
     ]
    },
    {
     "name": "stderr",
     "output_type": "stream",
     "text": [
      " 78%|███████▊  | 392/500 [01:29<00:26,  4.10it/s]"
     ]
    },
    {
     "name": "stdout",
     "output_type": "stream",
     "text": [
      "Attention shape: (437, 437), min: 0.000000, max: 0.472900, mean: 0.002201\n",
      "Using fallback threshold (10% of max): 0.047272\n",
      "Non-zero values: 95266/95266 (100.0%)\n",
      "Value range: [0.000013, 0.472900]\n",
      "Graph created: 437 nodes, 436 edges\n"
     ]
    },
    {
     "name": "stderr",
     "output_type": "stream",
     "text": [
      " 79%|███████▊  | 393/500 [01:29<00:25,  4.27it/s]"
     ]
    },
    {
     "name": "stdout",
     "output_type": "stream",
     "text": [
      "Attention shape: (378, 378), min: 0.000000, max: 0.479004, mean: 0.002535\n",
      "Using fallback threshold (10% of max): 0.047882\n",
      "Non-zero values: 71253/71253 (100.0%)\n",
      "Value range: [0.000006, 0.479004]\n",
      "Graph created: 378 nodes, 377 edges\n"
     ]
    },
    {
     "name": "stderr",
     "output_type": "stream",
     "text": [
      " 79%|███████▉  | 394/500 [01:30<00:23,  4.43it/s]"
     ]
    },
    {
     "name": "stdout",
     "output_type": "stream",
     "text": [
      "Attention shape: (368, 368), min: 0.000000, max: 0.479248, mean: 0.002602\n",
      "Using fallback threshold (10% of max): 0.047913\n",
      "Non-zero values: 67528/67528 (100.0%)\n",
      "Value range: [0.000017, 0.479248]\n",
      "Graph created: 368 nodes, 367 edges\n"
     ]
    },
    {
     "name": "stderr",
     "output_type": "stream",
     "text": [
      " 79%|███████▉  | 395/500 [01:30<00:23,  4.51it/s]"
     ]
    },
    {
     "name": "stdout",
     "output_type": "stream",
     "text": [
      "Attention shape: (375, 375), min: 0.000000, max: 0.471680, mean: 0.002554\n",
      "Using fallback threshold (10% of max): 0.047150\n",
      "Non-zero values: 70125/70125 (100.0%)\n",
      "Value range: [0.000010, 0.471680]\n",
      "Graph created: 375 nodes, 374 edges\n"
     ]
    },
    {
     "name": "stderr",
     "output_type": "stream",
     "text": [
      " 79%|███████▉  | 396/500 [01:30<00:23,  4.47it/s]"
     ]
    },
    {
     "name": "stdout",
     "output_type": "stream",
     "text": [
      "Attention shape: (385, 385), min: 0.000000, max: 0.468506, mean: 0.002485\n",
      "Using fallback threshold (10% of max): 0.046844\n",
      "Non-zero values: 73920/73920 (100.0%)\n",
      "Value range: [0.000008, 0.468506]\n",
      "Graph created: 385 nodes, 384 edges\n"
     ]
    },
    {
     "name": "stderr",
     "output_type": "stream",
     "text": [
      " 79%|███████▉  | 397/500 [01:30<00:23,  4.39it/s]"
     ]
    },
    {
     "name": "stdout",
     "output_type": "stream",
     "text": [
      "Attention shape: (395, 395), min: 0.000000, max: 0.475098, mean: 0.002426\n",
      "Using fallback threshold (10% of max): 0.047485\n",
      "Non-zero values: 77815/77815 (100.0%)\n",
      "Value range: [0.000018, 0.475098]\n",
      "Graph created: 395 nodes, 394 edges\n"
     ]
    },
    {
     "name": "stderr",
     "output_type": "stream",
     "text": [
      " 80%|███████▉  | 398/500 [01:30<00:23,  4.40it/s]"
     ]
    },
    {
     "name": "stdout",
     "output_type": "stream",
     "text": [
      "Attention shape: (385, 385), min: 0.000000, max: 0.478271, mean: 0.002489\n",
      "Using fallback threshold (10% of max): 0.047821\n",
      "Non-zero values: 73920/73920 (100.0%)\n",
      "Value range: [0.000010, 0.478271]\n",
      "Graph created: 385 nodes, 384 edges\n"
     ]
    },
    {
     "name": "stderr",
     "output_type": "stream",
     "text": [
      " 80%|███████▉  | 399/500 [01:31<00:23,  4.34it/s]"
     ]
    },
    {
     "name": "stdout",
     "output_type": "stream",
     "text": [
      "Attention shape: (397, 397), min: 0.000000, max: 0.470459, mean: 0.002415\n",
      "Using fallback threshold (10% of max): 0.047028\n",
      "Non-zero values: 78606/78606 (100.0%)\n",
      "Value range: [0.000009, 0.470459]\n",
      "Graph created: 397 nodes, 396 edges\n",
      "Attention shape: (352, 352), min: 0.000000, max: 0.472412, mean: 0.002720\n",
      "Using percentile-based threshold: 0.000266 (50th percentile)\n",
      "Non-zero values: 61776/61776 (100.0%)\n",
      "Value range: [0.000013, 0.472412]\n"
     ]
    },
    {
     "name": "stderr",
     "output_type": "stream",
     "text": [
      " 80%|████████  | 400/500 [01:31<00:23,  4.22it/s]"
     ]
    },
    {
     "name": "stdout",
     "output_type": "stream",
     "text": [
      "Graph created: 352 nodes, 30884 edges\n",
      "Attention shape: (233, 233), min: 0.000000, max: 0.472412, mean: 0.004101\n",
      "Using percentile-based threshold: 0.000480 (50th percentile)\n",
      "Non-zero values: 27028/27028 (100.0%)\n",
      "Value range: [0.000024, 0.472412]\n",
      "Graph created: 233 nodes, 13512 edges\n"
     ]
    },
    {
     "name": "stderr",
     "output_type": "stream",
     "text": [
      " 80%|████████  | 402/500 [01:31<00:19,  5.05it/s]"
     ]
    },
    {
     "name": "stdout",
     "output_type": "stream",
     "text": [
      "Attention shape: (375, 375), min: 0.000000, max: 0.471191, mean: 0.002554\n",
      "Using fallback threshold (10% of max): 0.047119\n",
      "Non-zero values: 70125/70125 (100.0%)\n",
      "Value range: [0.000012, 0.471191]\n",
      "Graph created: 375 nodes, 374 edges\n"
     ]
    },
    {
     "name": "stderr",
     "output_type": "stream",
     "text": [
      " 81%|████████  | 403/500 [01:31<00:19,  4.86it/s]"
     ]
    },
    {
     "name": "stdout",
     "output_type": "stream",
     "text": [
      "Attention shape: (387, 387), min: 0.000000, max: 0.471680, mean: 0.002478\n",
      "Using fallback threshold (10% of max): 0.047150\n",
      "Non-zero values: 74691/74691 (100.0%)\n",
      "Value range: [0.000012, 0.471680]\n",
      "Graph created: 387 nodes, 386 edges\n",
      "Attention shape: (357, 357), min: 0.000000, max: 0.471680, mean: 0.002680\n"
     ]
    },
    {
     "name": "stderr",
     "output_type": "stream",
     "text": [
      " 81%|████████  | 404/500 [01:32<00:21,  4.55it/s]"
     ]
    },
    {
     "name": "stdout",
     "output_type": "stream",
     "text": [
      "Using percentile-based threshold: 0.000334 (50th percentile)\n",
      "Non-zero values: 63546/63546 (100.0%)\n",
      "Value range: [0.000018, 0.471680]\n",
      "Graph created: 357 nodes, 31763 edges\n"
     ]
    },
    {
     "name": "stderr",
     "output_type": "stream",
     "text": [
      " 81%|████████  | 405/500 [01:32<00:21,  4.46it/s]"
     ]
    },
    {
     "name": "stdout",
     "output_type": "stream",
     "text": [
      "Attention shape: (395, 395), min: 0.000000, max: 0.472900, mean: 0.002432\n",
      "Using fallback threshold (10% of max): 0.047272\n",
      "Non-zero values: 77815/77815 (100.0%)\n",
      "Value range: [0.000012, 0.472900]\n",
      "Graph created: 395 nodes, 394 edges\n"
     ]
    },
    {
     "name": "stderr",
     "output_type": "stream",
     "text": [
      " 81%|████████  | 406/500 [01:32<00:20,  4.50it/s]"
     ]
    },
    {
     "name": "stdout",
     "output_type": "stream",
     "text": [
      "Attention shape: (381, 381), min: 0.000000, max: 0.475342, mean: 0.002514\n",
      "Using fallback threshold (10% of max): 0.047516\n",
      "Non-zero values: 72390/72390 (100.0%)\n",
      "Value range: [0.000012, 0.475342]\n",
      "Graph created: 381 nodes, 380 edges\n"
     ]
    },
    {
     "name": "stderr",
     "output_type": "stream",
     "text": [
      " 81%|████████▏ | 407/500 [01:32<00:20,  4.57it/s]"
     ]
    },
    {
     "name": "stdout",
     "output_type": "stream",
     "text": [
      "Attention shape: (374, 374), min: 0.000000, max: 0.475342, mean: 0.002563\n",
      "Using fallback threshold (10% of max): 0.047516\n",
      "Non-zero values: 69751/69751 (100.0%)\n",
      "Value range: [0.000011, 0.475342]\n",
      "Graph created: 374 nodes, 373 edges\n"
     ]
    },
    {
     "name": "stderr",
     "output_type": "stream",
     "text": [
      " 82%|████████▏ | 408/500 [01:33<00:20,  4.46it/s]"
     ]
    },
    {
     "name": "stdout",
     "output_type": "stream",
     "text": [
      "Attention shape: (396, 396), min: 0.000000, max: 0.477539, mean: 0.002424\n",
      "Using fallback threshold (10% of max): 0.047729\n",
      "Non-zero values: 78210/78210 (100.0%)\n",
      "Value range: [0.000018, 0.477539]\n",
      "Graph created: 396 nodes, 395 edges\n"
     ]
    },
    {
     "name": "stderr",
     "output_type": "stream",
     "text": [
      " 82%|████████▏ | 409/500 [01:33<00:21,  4.33it/s]"
     ]
    },
    {
     "name": "stdout",
     "output_type": "stream",
     "text": [
      "Attention shape: (409, 409), min: 0.000000, max: 0.474365, mean: 0.002346\n",
      "Using fallback threshold (10% of max): 0.047424\n",
      "Non-zero values: 83436/83436 (100.0%)\n",
      "Value range: [0.000017, 0.474365]\n",
      "Graph created: 409 nodes, 408 edges\n"
     ]
    },
    {
     "name": "stderr",
     "output_type": "stream",
     "text": [
      " 82%|████████▏ | 410/500 [01:33<00:21,  4.28it/s]"
     ]
    },
    {
     "name": "stdout",
     "output_type": "stream",
     "text": [
      "Attention shape: (400, 400), min: 0.000000, max: 0.476074, mean: 0.002396\n",
      "Using fallback threshold (10% of max): 0.047607\n",
      "Non-zero values: 79800/79800 (100.0%)\n",
      "Value range: [0.000009, 0.476074]\n",
      "Graph created: 400 nodes, 399 edges\n"
     ]
    },
    {
     "name": "stderr",
     "output_type": "stream",
     "text": [
      " 82%|████████▏ | 411/500 [01:33<00:20,  4.25it/s]"
     ]
    },
    {
     "name": "stdout",
     "output_type": "stream",
     "text": [
      "Attention shape: (401, 401), min: 0.000000, max: 0.471680, mean: 0.002390\n",
      "Using fallback threshold (10% of max): 0.047150\n",
      "Non-zero values: 80200/80200 (100.0%)\n",
      "Value range: [0.000013, 0.471680]\n",
      "Graph created: 401 nodes, 400 edges\n"
     ]
    },
    {
     "name": "stderr",
     "output_type": "stream",
     "text": [
      " 82%|████████▏ | 412/500 [01:34<00:19,  4.40it/s]"
     ]
    },
    {
     "name": "stdout",
     "output_type": "stream",
     "text": [
      "Attention shape: (370, 370), min: 0.000000, max: 0.472168, mean: 0.002590\n",
      "Using fallback threshold (10% of max): 0.047211\n",
      "Non-zero values: 68265/68265 (100.0%)\n",
      "Value range: [0.000013, 0.472168]\n",
      "Graph created: 370 nodes, 369 edges\n"
     ]
    },
    {
     "name": "stderr",
     "output_type": "stream",
     "text": [
      " 83%|████████▎ | 413/500 [01:34<00:19,  4.36it/s]"
     ]
    },
    {
     "name": "stdout",
     "output_type": "stream",
     "text": [
      "Attention shape: (394, 394), min: 0.000000, max: 0.468506, mean: 0.002432\n",
      "Using fallback threshold (10% of max): 0.046844\n",
      "Non-zero values: 77421/77421 (100.0%)\n",
      "Value range: [0.000013, 0.468506]\n",
      "Graph created: 394 nodes, 393 edges\n"
     ]
    },
    {
     "name": "stderr",
     "output_type": "stream",
     "text": [
      " 83%|████████▎ | 414/500 [01:34<00:19,  4.44it/s]"
     ]
    },
    {
     "name": "stdout",
     "output_type": "stream",
     "text": [
      "Attention shape: (379, 379), min: 0.000000, max: 0.479980, mean: 0.002531\n",
      "Using fallback threshold (10% of max): 0.047974\n",
      "Non-zero values: 71631/71631 (100.0%)\n",
      "Value range: [0.000018, 0.479980]\n",
      "Graph created: 379 nodes, 378 edges\n"
     ]
    },
    {
     "name": "stderr",
     "output_type": "stream",
     "text": [
      " 83%|████████▎ | 415/500 [01:34<00:19,  4.38it/s]"
     ]
    },
    {
     "name": "stdout",
     "output_type": "stream",
     "text": [
      "Attention shape: (393, 393), min: 0.000000, max: 0.474121, mean: 0.002438\n",
      "Using fallback threshold (10% of max): 0.047394\n",
      "Non-zero values: 77028/77028 (100.0%)\n",
      "Value range: [0.000009, 0.474121]\n",
      "Graph created: 393 nodes, 393 edges\n"
     ]
    },
    {
     "name": "stderr",
     "output_type": "stream",
     "text": [
      " 83%|████████▎ | 416/500 [01:34<00:18,  4.45it/s]"
     ]
    },
    {
     "name": "stdout",
     "output_type": "stream",
     "text": [
      "Attention shape: (382, 382), min: 0.000000, max: 0.472412, mean: 0.002506\n",
      "Using fallback threshold (10% of max): 0.047241\n",
      "Non-zero values: 72771/72771 (100.0%)\n",
      "Value range: [0.000013, 0.472412]\n",
      "Graph created: 382 nodes, 381 edges\n"
     ]
    },
    {
     "name": "stderr",
     "output_type": "stream",
     "text": [
      " 83%|████████▎ | 417/500 [01:35<00:18,  4.50it/s]"
     ]
    },
    {
     "name": "stdout",
     "output_type": "stream",
     "text": [
      "Attention shape: (381, 381), min: 0.000000, max: 0.479248, mean: 0.002512\n",
      "Using fallback threshold (10% of max): 0.047913\n",
      "Non-zero values: 72390/72390 (100.0%)\n",
      "Value range: [0.000014, 0.479248]\n",
      "Graph created: 381 nodes, 380 edges\n"
     ]
    },
    {
     "name": "stderr",
     "output_type": "stream",
     "text": [
      " 84%|████████▎ | 418/500 [01:35<00:18,  4.45it/s]"
     ]
    },
    {
     "name": "stdout",
     "output_type": "stream",
     "text": [
      "Attention shape: (387, 387), min: 0.000000, max: 0.469971, mean: 0.002480\n",
      "Using fallback threshold (10% of max): 0.046997\n",
      "Non-zero values: 74691/74691 (100.0%)\n",
      "Value range: [0.000011, 0.469971]\n",
      "Graph created: 387 nodes, 386 edges\n"
     ]
    },
    {
     "name": "stderr",
     "output_type": "stream",
     "text": [
      " 84%|████████▍ | 419/500 [01:35<00:18,  4.43it/s]"
     ]
    },
    {
     "name": "stdout",
     "output_type": "stream",
     "text": [
      "Attention shape: (386, 386), min: 0.000000, max: 0.474854, mean: 0.002491\n",
      "Using fallback threshold (10% of max): 0.047485\n",
      "Non-zero values: 74305/74305 (100.0%)\n",
      "Value range: [0.000013, 0.474854]\n",
      "Graph created: 386 nodes, 385 edges\n"
     ]
    },
    {
     "name": "stderr",
     "output_type": "stream",
     "text": [
      " 84%|████████▍ | 420/500 [01:35<00:17,  4.48it/s]"
     ]
    },
    {
     "name": "stdout",
     "output_type": "stream",
     "text": [
      "Attention shape: (384, 384), min: 0.000000, max: 0.470703, mean: 0.002501\n",
      "Using fallback threshold (10% of max): 0.047058\n",
      "Non-zero values: 73536/73536 (100.0%)\n",
      "Value range: [0.000013, 0.470703]\n",
      "Graph created: 384 nodes, 383 edges\n"
     ]
    },
    {
     "name": "stderr",
     "output_type": "stream",
     "text": [
      " 84%|████████▍ | 421/500 [01:36<00:17,  4.45it/s]"
     ]
    },
    {
     "name": "stdout",
     "output_type": "stream",
     "text": [
      "Attention shape: (388, 388), min: 0.000000, max: 0.476318, mean: 0.002470\n",
      "Using fallback threshold (10% of max): 0.047607\n",
      "Non-zero values: 75078/75078 (100.0%)\n",
      "Value range: [0.000013, 0.476318]\n",
      "Graph created: 388 nodes, 387 edges\n"
     ]
    },
    {
     "name": "stderr",
     "output_type": "stream",
     "text": [
      " 84%|████████▍ | 422/500 [01:36<00:17,  4.43it/s]"
     ]
    },
    {
     "name": "stdout",
     "output_type": "stream",
     "text": [
      "Attention shape: (386, 386), min: 0.000000, max: 0.468506, mean: 0.002481\n",
      "Using fallback threshold (10% of max): 0.046844\n",
      "Non-zero values: 74305/74305 (100.0%)\n",
      "Value range: [0.000015, 0.468506]\n",
      "Graph created: 386 nodes, 385 edges\n"
     ]
    },
    {
     "name": "stderr",
     "output_type": "stream",
     "text": [
      " 85%|████████▍ | 423/500 [01:36<00:17,  4.49it/s]"
     ]
    },
    {
     "name": "stdout",
     "output_type": "stream",
     "text": [
      "Attention shape: (380, 380), min: 0.000000, max: 0.473389, mean: 0.002518\n",
      "Using fallback threshold (10% of max): 0.047333\n",
      "Non-zero values: 72010/72010 (100.0%)\n",
      "Value range: [0.000013, 0.473389]\n",
      "Graph created: 380 nodes, 379 edges\n"
     ]
    },
    {
     "name": "stderr",
     "output_type": "stream",
     "text": [
      " 85%|████████▍ | 424/500 [01:36<00:17,  4.35it/s]"
     ]
    },
    {
     "name": "stdout",
     "output_type": "stream",
     "text": [
      "Attention shape: (406, 406), min: 0.000000, max: 0.480225, mean: 0.002357\n",
      "Using fallback threshold (10% of max): 0.048004\n",
      "Non-zero values: 82215/82215 (100.0%)\n",
      "Value range: [0.000014, 0.480225]\n",
      "Graph created: 406 nodes, 405 edges\n"
     ]
    },
    {
     "name": "stderr",
     "output_type": "stream",
     "text": [
      " 85%|████████▌ | 425/500 [01:36<00:17,  4.34it/s]"
     ]
    },
    {
     "name": "stdout",
     "output_type": "stream",
     "text": [
      "Attention shape: (392, 392), min: 0.000000, max: 0.473389, mean: 0.002449\n",
      "Using fallback threshold (10% of max): 0.047333\n",
      "Non-zero values: 76636/76636 (100.0%)\n",
      "Value range: [0.000015, 0.473389]\n",
      "Graph created: 392 nodes, 391 edges\n"
     ]
    },
    {
     "name": "stderr",
     "output_type": "stream",
     "text": [
      " 85%|████████▌ | 426/500 [01:37<00:16,  4.40it/s]"
     ]
    },
    {
     "name": "stdout",
     "output_type": "stream",
     "text": [
      "Attention shape: (384, 384), min: 0.000000, max: 0.475586, mean: 0.002491\n",
      "Using fallback threshold (10% of max): 0.047546\n",
      "Non-zero values: 73536/73536 (100.0%)\n",
      "Value range: [0.000010, 0.475586]\n",
      "Graph created: 384 nodes, 383 edges\n"
     ]
    },
    {
     "name": "stderr",
     "output_type": "stream",
     "text": [
      " 85%|████████▌ | 427/500 [01:37<00:16,  4.47it/s]"
     ]
    },
    {
     "name": "stdout",
     "output_type": "stream",
     "text": [
      "Attention shape: (380, 380), min: 0.000000, max: 0.473389, mean: 0.002522\n",
      "Using fallback threshold (10% of max): 0.047333\n",
      "Non-zero values: 72010/72010 (100.0%)\n",
      "Value range: [0.000017, 0.473389]\n",
      "Graph created: 380 nodes, 379 edges\n"
     ]
    },
    {
     "name": "stderr",
     "output_type": "stream",
     "text": [
      " 86%|████████▌ | 428/500 [01:37<00:16,  4.39it/s]"
     ]
    },
    {
     "name": "stdout",
     "output_type": "stream",
     "text": [
      "Attention shape: (397, 397), min: 0.000000, max: 0.478027, mean: 0.002413\n",
      "Using fallback threshold (10% of max): 0.047791\n",
      "Non-zero values: 78606/78606 (100.0%)\n",
      "Value range: [0.000013, 0.478027]\n",
      "Graph created: 397 nodes, 396 edges\n"
     ]
    },
    {
     "name": "stderr",
     "output_type": "stream",
     "text": [
      " 86%|████████▌ | 429/500 [01:37<00:16,  4.35it/s]"
     ]
    },
    {
     "name": "stdout",
     "output_type": "stream",
     "text": [
      "Attention shape: (394, 394), min: 0.000000, max: 0.469971, mean: 0.002426\n",
      "Using fallback threshold (10% of max): 0.046997\n",
      "Non-zero values: 77421/77421 (100.0%)\n",
      "Value range: [0.000007, 0.469971]\n",
      "Graph created: 394 nodes, 393 edges\n"
     ]
    },
    {
     "name": "stderr",
     "output_type": "stream",
     "text": [
      " 86%|████████▌ | 430/500 [01:38<00:15,  4.51it/s]"
     ]
    },
    {
     "name": "stdout",
     "output_type": "stream",
     "text": [
      "Attention shape: (364, 364), min: 0.000000, max: 0.476562, mean: 0.002632\n",
      "Using fallback threshold (10% of max): 0.047638\n",
      "Non-zero values: 66066/66066 (100.0%)\n",
      "Value range: [0.000007, 0.476562]\n",
      "Graph created: 364 nodes, 363 edges\n"
     ]
    },
    {
     "name": "stderr",
     "output_type": "stream",
     "text": [
      " 86%|████████▌ | 431/500 [01:38<00:15,  4.54it/s]"
     ]
    },
    {
     "name": "stdout",
     "output_type": "stream",
     "text": [
      "Attention shape: (381, 381), min: 0.000000, max: 0.469238, mean: 0.002512\n",
      "Using fallback threshold (10% of max): 0.046906\n",
      "Non-zero values: 72390/72390 (100.0%)\n",
      "Value range: [0.000011, 0.469238]\n",
      "Graph created: 381 nodes, 380 edges\n"
     ]
    },
    {
     "name": "stderr",
     "output_type": "stream",
     "text": [
      " 86%|████████▋ | 432/500 [01:38<00:14,  4.57it/s]"
     ]
    },
    {
     "name": "stdout",
     "output_type": "stream",
     "text": [
      "Attention shape: (379, 379), min: 0.000000, max: 0.473877, mean: 0.002523\n",
      "Using fallback threshold (10% of max): 0.047363\n",
      "Non-zero values: 71631/71631 (100.0%)\n",
      "Value range: [0.000017, 0.473877]\n",
      "Graph created: 379 nodes, 378 edges\n"
     ]
    },
    {
     "name": "stderr",
     "output_type": "stream",
     "text": [
      " 87%|████████▋ | 433/500 [01:38<00:14,  4.57it/s]"
     ]
    },
    {
     "name": "stdout",
     "output_type": "stream",
     "text": [
      "Attention shape: (384, 384), min: 0.000000, max: 0.472168, mean: 0.002491\n",
      "Using fallback threshold (10% of max): 0.047211\n",
      "Non-zero values: 73536/73536 (100.0%)\n",
      "Value range: [0.000010, 0.472168]\n",
      "Graph created: 384 nodes, 383 edges\n"
     ]
    },
    {
     "name": "stderr",
     "output_type": "stream",
     "text": [
      " 87%|████████▋ | 434/500 [01:38<00:14,  4.56it/s]"
     ]
    },
    {
     "name": "stdout",
     "output_type": "stream",
     "text": [
      "Attention shape: (383, 383), min: 0.000000, max: 0.477051, mean: 0.002504\n",
      "Using fallback threshold (10% of max): 0.047699\n",
      "Non-zero values: 73153/73153 (100.0%)\n",
      "Value range: [0.000014, 0.477051]\n",
      "Graph created: 383 nodes, 382 edges\n"
     ]
    },
    {
     "name": "stderr",
     "output_type": "stream",
     "text": [
      " 87%|████████▋ | 435/500 [01:39<00:14,  4.36it/s]"
     ]
    },
    {
     "name": "stdout",
     "output_type": "stream",
     "text": [
      "Attention shape: (420, 420), min: 0.000000, max: 0.473145, mean: 0.002281\n",
      "Using fallback threshold (10% of max): 0.047302\n",
      "Non-zero values: 87990/87990 (100.0%)\n",
      "Value range: [0.000012, 0.473145]\n",
      "Graph created: 420 nodes, 419 edges\n"
     ]
    },
    {
     "name": "stderr",
     "output_type": "stream",
     "text": [
      " 87%|████████▋ | 436/500 [01:39<00:14,  4.46it/s]"
     ]
    },
    {
     "name": "stdout",
     "output_type": "stream",
     "text": [
      "Attention shape: (371, 371), min: 0.000000, max: 0.475098, mean: 0.002581\n",
      "Using fallback threshold (10% of max): 0.047485\n",
      "Non-zero values: 68635/68635 (100.0%)\n",
      "Value range: [0.000007, 0.475098]\n",
      "Graph created: 371 nodes, 370 edges\n"
     ]
    },
    {
     "name": "stderr",
     "output_type": "stream",
     "text": [
      " 87%|████████▋ | 437/500 [01:39<00:14,  4.50it/s]"
     ]
    },
    {
     "name": "stdout",
     "output_type": "stream",
     "text": [
      "Attention shape: (377, 377), min: 0.000000, max: 0.469971, mean: 0.002541\n",
      "Using fallback threshold (10% of max): 0.046997\n",
      "Non-zero values: 70876/70876 (100.0%)\n",
      "Value range: [0.000016, 0.469971]\n",
      "Graph created: 377 nodes, 376 edges\n"
     ]
    },
    {
     "name": "stderr",
     "output_type": "stream",
     "text": [
      " 88%|████████▊ | 438/500 [01:39<00:13,  4.60it/s]"
     ]
    },
    {
     "name": "stdout",
     "output_type": "stream",
     "text": [
      "Attention shape: (364, 364), min: 0.000000, max: 0.472168, mean: 0.002636\n",
      "Using fallback threshold (10% of max): 0.047211\n",
      "Non-zero values: 66066/66066 (100.0%)\n",
      "Value range: [0.000011, 0.472168]\n",
      "Graph created: 364 nodes, 363 edges\n"
     ]
    },
    {
     "name": "stderr",
     "output_type": "stream",
     "text": [
      " 88%|████████▊ | 439/500 [01:40<00:13,  4.36it/s]"
     ]
    },
    {
     "name": "stdout",
     "output_type": "stream",
     "text": [
      "Attention shape: (414, 414), min: 0.000000, max: 0.471924, mean: 0.002317\n",
      "Using fallback threshold (10% of max): 0.047180\n",
      "Non-zero values: 85491/85491 (100.0%)\n",
      "Value range: [0.000012, 0.471924]\n",
      "Graph created: 414 nodes, 413 edges\n"
     ]
    },
    {
     "name": "stderr",
     "output_type": "stream",
     "text": [
      " 88%|████████▊ | 440/500 [01:40<00:13,  4.30it/s]"
     ]
    },
    {
     "name": "stdout",
     "output_type": "stream",
     "text": [
      "Attention shape: (395, 395), min: 0.000000, max: 0.469971, mean: 0.002432\n",
      "Using fallback threshold (10% of max): 0.046997\n",
      "Non-zero values: 77815/77815 (100.0%)\n",
      "Value range: [0.000014, 0.469971]\n",
      "Graph created: 395 nodes, 394 edges\n",
      "Attention shape: (333, 333), min: 0.000000, max: 0.479004, mean: 0.002874\n",
      "Using percentile-based threshold: 0.000292 (50th percentile)\n",
      "Non-zero values: 55278/55278 (100.0%)\n",
      "Value range: [0.000012, 0.479004]\n"
     ]
    },
    {
     "name": "stderr",
     "output_type": "stream",
     "text": [
      " 88%|████████▊ | 441/500 [01:40<00:13,  4.30it/s]"
     ]
    },
    {
     "name": "stdout",
     "output_type": "stream",
     "text": [
      "Graph created: 333 nodes, 27644 edges\n"
     ]
    },
    {
     "name": "stderr",
     "output_type": "stream",
     "text": [
      " 88%|████████▊ | 442/500 [01:40<00:13,  4.32it/s]"
     ]
    },
    {
     "name": "stdout",
     "output_type": "stream",
     "text": [
      "Attention shape: (392, 392), min: 0.000000, max: 0.481445, mean: 0.002447\n",
      "Using fallback threshold (10% of max): 0.048126\n",
      "Non-zero values: 76636/76636 (100.0%)\n",
      "Value range: [0.000016, 0.481445]\n",
      "Graph created: 392 nodes, 391 edges\n"
     ]
    },
    {
     "name": "stderr",
     "output_type": "stream",
     "text": [
      " 89%|████████▊ | 443/500 [01:41<00:13,  4.34it/s]"
     ]
    },
    {
     "name": "stdout",
     "output_type": "stream",
     "text": [
      "Attention shape: (391, 391), min: 0.000000, max: 0.475586, mean: 0.002453\n",
      "Using fallback threshold (10% of max): 0.047546\n",
      "Non-zero values: 76245/76245 (100.0%)\n",
      "Value range: [0.000009, 0.475586]\n",
      "Graph created: 391 nodes, 390 edges\n"
     ]
    },
    {
     "name": "stderr",
     "output_type": "stream",
     "text": [
      " 89%|████████▉ | 444/500 [01:41<00:12,  4.38it/s]"
     ]
    },
    {
     "name": "stdout",
     "output_type": "stream",
     "text": [
      "Attention shape: (386, 386), min: 0.000000, max: 0.473145, mean: 0.002483\n",
      "Using fallback threshold (10% of max): 0.047302\n",
      "Non-zero values: 74305/74305 (100.0%)\n",
      "Value range: [0.000011, 0.473145]\n",
      "Graph created: 386 nodes, 385 edges\n"
     ]
    },
    {
     "name": "stderr",
     "output_type": "stream",
     "text": [
      " 89%|████████▉ | 445/500 [01:41<00:12,  4.40it/s]"
     ]
    },
    {
     "name": "stdout",
     "output_type": "stream",
     "text": [
      "Attention shape: (387, 387), min: 0.000000, max: 0.468506, mean: 0.002478\n",
      "Using fallback threshold (10% of max): 0.046844\n",
      "Non-zero values: 74691/74691 (100.0%)\n",
      "Value range: [0.000010, 0.468506]\n",
      "Graph created: 387 nodes, 386 edges\n"
     ]
    },
    {
     "name": "stderr",
     "output_type": "stream",
     "text": [
      " 89%|████████▉ | 446/500 [01:41<00:12,  4.35it/s]"
     ]
    },
    {
     "name": "stdout",
     "output_type": "stream",
     "text": [
      "Attention shape: (402, 402), min: 0.000000, max: 0.468506, mean: 0.002386\n",
      "Using fallback threshold (10% of max): 0.046844\n",
      "Non-zero values: 80601/80601 (100.0%)\n",
      "Value range: [0.000011, 0.468506]\n",
      "Graph created: 402 nodes, 401 edges\n"
     ]
    },
    {
     "name": "stderr",
     "output_type": "stream",
     "text": [
      " 89%|████████▉ | 447/500 [01:41<00:11,  4.46it/s]"
     ]
    },
    {
     "name": "stdout",
     "output_type": "stream",
     "text": [
      "Attention shape: (378, 378), min: 0.000000, max: 0.468506, mean: 0.002531\n",
      "Using fallback threshold (10% of max): 0.046844\n",
      "Non-zero values: 71253/71253 (100.0%)\n",
      "Value range: [0.000005, 0.468506]\n",
      "Graph created: 378 nodes, 377 edges\n"
     ]
    },
    {
     "name": "stderr",
     "output_type": "stream",
     "text": [
      " 90%|████████▉ | 448/500 [01:42<00:11,  4.38it/s]"
     ]
    },
    {
     "name": "stdout",
     "output_type": "stream",
     "text": [
      "Attention shape: (403, 403), min: 0.000000, max: 0.478760, mean: 0.002378\n",
      "Using fallback threshold (10% of max): 0.047852\n",
      "Non-zero values: 81003/81003 (100.0%)\n",
      "Value range: [0.000013, 0.478760]\n",
      "Graph created: 403 nodes, 402 edges\n"
     ]
    },
    {
     "name": "stderr",
     "output_type": "stream",
     "text": [
      " 90%|████████▉ | 449/500 [01:42<00:11,  4.50it/s]"
     ]
    },
    {
     "name": "stdout",
     "output_type": "stream",
     "text": [
      "Attention shape: (375, 375), min: 0.000000, max: 0.468506, mean: 0.002552\n",
      "Using fallback threshold (10% of max): 0.046844\n",
      "Non-zero values: 70125/70125 (100.0%)\n",
      "Value range: [0.000012, 0.468506]\n",
      "Graph created: 375 nodes, 374 edges\n"
     ]
    },
    {
     "name": "stderr",
     "output_type": "stream",
     "text": [
      " 90%|█████████ | 450/500 [01:42<00:11,  4.48it/s]"
     ]
    },
    {
     "name": "stdout",
     "output_type": "stream",
     "text": [
      "Attention shape: (387, 387), min: 0.000000, max: 0.473389, mean: 0.002470\n",
      "Using fallback threshold (10% of max): 0.047333\n",
      "Non-zero values: 74691/74691 (100.0%)\n",
      "Value range: [0.000008, 0.473389]\n",
      "Graph created: 387 nodes, 386 edges\n"
     ]
    },
    {
     "name": "stderr",
     "output_type": "stream",
     "text": [
      " 90%|█████████ | 451/500 [01:42<00:11,  4.37it/s]"
     ]
    },
    {
     "name": "stdout",
     "output_type": "stream",
     "text": [
      "Attention shape: (408, 408), min: 0.000000, max: 0.479004, mean: 0.002352\n",
      "Using fallback threshold (10% of max): 0.047882\n",
      "Non-zero values: 83028/83028 (100.0%)\n",
      "Value range: [0.000009, 0.479004]\n",
      "Graph created: 408 nodes, 407 edges\n"
     ]
    },
    {
     "name": "stderr",
     "output_type": "stream",
     "text": [
      " 90%|█████████ | 452/500 [01:43<00:11,  4.36it/s]"
     ]
    },
    {
     "name": "stdout",
     "output_type": "stream",
     "text": [
      "Attention shape: (395, 395), min: 0.000000, max: 0.471924, mean: 0.002438\n",
      "Using fallback threshold (10% of max): 0.047180\n",
      "Non-zero values: 77815/77815 (100.0%)\n",
      "Value range: [0.000019, 0.471924]\n",
      "Graph created: 395 nodes, 395 edges\n"
     ]
    },
    {
     "name": "stderr",
     "output_type": "stream",
     "text": [
      " 91%|█████████ | 453/500 [01:43<00:10,  4.47it/s]"
     ]
    },
    {
     "name": "stdout",
     "output_type": "stream",
     "text": [
      "Attention shape: (378, 378), min: 0.000000, max: 0.477295, mean: 0.002533\n",
      "Using fallback threshold (10% of max): 0.047729\n",
      "Non-zero values: 71253/71253 (100.0%)\n",
      "Value range: [0.000008, 0.477295]\n",
      "Graph created: 378 nodes, 377 edges\n"
     ]
    },
    {
     "name": "stderr",
     "output_type": "stream",
     "text": [
      " 91%|█████████ | 454/500 [01:43<00:10,  4.55it/s]"
     ]
    },
    {
     "name": "stdout",
     "output_type": "stream",
     "text": [
      "Attention shape: (377, 377), min: 0.000000, max: 0.468506, mean: 0.002544\n",
      "Using fallback threshold (10% of max): 0.046844\n",
      "Non-zero values: 70876/70876 (100.0%)\n",
      "Value range: [0.000007, 0.468506]\n",
      "Graph created: 377 nodes, 376 edges\n"
     ]
    },
    {
     "name": "stderr",
     "output_type": "stream",
     "text": [
      " 91%|█████████ | 455/500 [01:43<00:09,  4.66it/s]"
     ]
    },
    {
     "name": "stdout",
     "output_type": "stream",
     "text": [
      "Attention shape: (370, 370), min: 0.000000, max: 0.477783, mean: 0.002588\n",
      "Using fallback threshold (10% of max): 0.047760\n",
      "Non-zero values: 68265/68265 (100.0%)\n",
      "Value range: [0.000010, 0.477783]\n",
      "Graph created: 370 nodes, 369 edges\n"
     ]
    },
    {
     "name": "stderr",
     "output_type": "stream",
     "text": [
      " 91%|█████████ | 456/500 [01:43<00:09,  4.73it/s]"
     ]
    },
    {
     "name": "stdout",
     "output_type": "stream",
     "text": [
      "Attention shape: (370, 370), min: 0.000000, max: 0.474854, mean: 0.002584\n",
      "Using fallback threshold (10% of max): 0.047485\n",
      "Non-zero values: 68265/68265 (100.0%)\n",
      "Value range: [0.000017, 0.474854]\n",
      "Graph created: 370 nodes, 369 edges\n"
     ]
    },
    {
     "name": "stderr",
     "output_type": "stream",
     "text": [
      " 91%|█████████▏| 457/500 [01:44<00:09,  4.72it/s]"
     ]
    },
    {
     "name": "stdout",
     "output_type": "stream",
     "text": [
      "Attention shape: (382, 382), min: 0.000000, max: 0.480469, mean: 0.002504\n",
      "Using fallback threshold (10% of max): 0.048035\n",
      "Non-zero values: 72771/72771 (100.0%)\n",
      "Value range: [0.000010, 0.480469]\n",
      "Graph created: 382 nodes, 381 edges\n"
     ]
    },
    {
     "name": "stderr",
     "output_type": "stream",
     "text": [
      " 92%|█████████▏| 458/500 [01:44<00:09,  4.52it/s]"
     ]
    },
    {
     "name": "stdout",
     "output_type": "stream",
     "text": [
      "Attention shape: (408, 408), min: 0.000000, max: 0.478760, mean: 0.002354\n",
      "Using fallback threshold (10% of max): 0.047852\n",
      "Non-zero values: 83028/83028 (100.0%)\n",
      "Value range: [0.000011, 0.478760]\n",
      "Graph created: 408 nodes, 407 edges\n"
     ]
    },
    {
     "name": "stderr",
     "output_type": "stream",
     "text": [
      " 92%|█████████▏| 459/500 [01:44<00:09,  4.52it/s]"
     ]
    },
    {
     "name": "stdout",
     "output_type": "stream",
     "text": [
      "Attention shape: (383, 383), min: 0.000000, max: 0.476074, mean: 0.002502\n",
      "Using fallback threshold (10% of max): 0.047607\n",
      "Non-zero values: 73153/73153 (100.0%)\n",
      "Value range: [0.000010, 0.476074]\n",
      "Graph created: 383 nodes, 382 edges\n"
     ]
    },
    {
     "name": "stderr",
     "output_type": "stream",
     "text": [
      " 92%|█████████▏| 460/500 [01:44<00:09,  4.41it/s]"
     ]
    },
    {
     "name": "stdout",
     "output_type": "stream",
     "text": [
      "Attention shape: (396, 396), min: 0.000000, max: 0.479980, mean: 0.002422\n",
      "Using fallback threshold (10% of max): 0.047974\n",
      "Non-zero values: 78210/78210 (100.0%)\n",
      "Value range: [0.000010, 0.479980]\n",
      "Graph created: 396 nodes, 395 edges\n"
     ]
    },
    {
     "name": "stderr",
     "output_type": "stream",
     "text": [
      " 92%|█████████▏| 461/500 [01:45<00:08,  4.35it/s]"
     ]
    },
    {
     "name": "stdout",
     "output_type": "stream",
     "text": [
      "Attention shape: (392, 392), min: 0.000000, max: 0.469971, mean: 0.002443\n",
      "Using fallback threshold (10% of max): 0.046997\n",
      "Non-zero values: 76636/76636 (100.0%)\n",
      "Value range: [0.000021, 0.469971]\n",
      "Graph created: 392 nodes, 391 edges\n"
     ]
    },
    {
     "name": "stderr",
     "output_type": "stream",
     "text": [
      " 92%|█████████▏| 462/500 [01:45<00:14,  2.58it/s]"
     ]
    },
    {
     "name": "stdout",
     "output_type": "stream",
     "text": [
      "Attention shape: (386, 386), min: 0.000000, max: 0.478760, mean: 0.002483\n",
      "Using fallback threshold (10% of max): 0.047852\n",
      "Non-zero values: 74305/74305 (100.0%)\n",
      "Value range: [0.000019, 0.478760]\n",
      "Graph created: 386 nodes, 385 edges\n"
     ]
    },
    {
     "name": "stderr",
     "output_type": "stream",
     "text": [
      " 93%|█████████▎| 463/500 [01:46<00:12,  2.87it/s]"
     ]
    },
    {
     "name": "stdout",
     "output_type": "stream",
     "text": [
      "Attention shape: (414, 414), min: 0.000000, max: 0.479248, mean: 0.002319\n",
      "Using fallback threshold (10% of max): 0.047913\n",
      "Non-zero values: 85491/85491 (100.0%)\n",
      "Value range: [0.000006, 0.479248]\n",
      "Graph created: 414 nodes, 413 edges\n"
     ]
    },
    {
     "name": "stderr",
     "output_type": "stream",
     "text": [
      " 93%|█████████▎| 464/500 [01:46<00:11,  3.18it/s]"
     ]
    },
    {
     "name": "stdout",
     "output_type": "stream",
     "text": [
      "Attention shape: (388, 388), min: 0.000000, max: 0.478027, mean: 0.002466\n",
      "Using fallback threshold (10% of max): 0.047791\n",
      "Non-zero values: 75078/75078 (100.0%)\n",
      "Value range: [0.000016, 0.478027]\n",
      "Graph created: 388 nodes, 387 edges\n"
     ]
    },
    {
     "name": "stderr",
     "output_type": "stream",
     "text": [
      " 93%|█████████▎| 465/500 [01:46<00:10,  3.42it/s]"
     ]
    },
    {
     "name": "stdout",
     "output_type": "stream",
     "text": [
      "Attention shape: (392, 392), min: 0.000000, max: 0.477783, mean: 0.002445\n",
      "Using fallback threshold (10% of max): 0.047760\n",
      "Non-zero values: 76636/76636 (100.0%)\n",
      "Value range: [0.000008, 0.477783]\n",
      "Graph created: 392 nodes, 391 edges\n",
      "Attention shape: (349, 349), min: 0.000000, max: 0.480469, mean: 0.002743\n"
     ]
    },
    {
     "name": "stderr",
     "output_type": "stream",
     "text": [
      " 93%|█████████▎| 466/500 [01:46<00:09,  3.56it/s]"
     ]
    },
    {
     "name": "stdout",
     "output_type": "stream",
     "text": [
      "Using percentile-based threshold: 0.000332 (50th percentile)\n",
      "Non-zero values: 60726/60726 (100.0%)\n",
      "Value range: [0.000017, 0.480469]\n",
      "Graph created: 349 nodes, 30354 edges\n"
     ]
    },
    {
     "name": "stderr",
     "output_type": "stream",
     "text": [
      " 93%|█████████▎| 467/500 [01:47<00:08,  3.70it/s]"
     ]
    },
    {
     "name": "stdout",
     "output_type": "stream",
     "text": [
      "Attention shape: (397, 397), min: 0.000000, max: 0.479248, mean: 0.002419\n",
      "Using fallback threshold (10% of max): 0.047913\n",
      "Non-zero values: 78606/78606 (100.0%)\n",
      "Value range: [0.000016, 0.479248]\n",
      "Graph created: 397 nodes, 396 edges\n"
     ]
    },
    {
     "name": "stderr",
     "output_type": "stream",
     "text": [
      " 94%|█████████▎| 468/500 [01:47<00:08,  3.80it/s]"
     ]
    },
    {
     "name": "stdout",
     "output_type": "stream",
     "text": [
      "Attention shape: (398, 398), min: 0.000000, max: 0.479248, mean: 0.002411\n",
      "Using fallback threshold (10% of max): 0.047913\n",
      "Non-zero values: 79003/79003 (100.0%)\n",
      "Value range: [0.000009, 0.479248]\n",
      "Graph created: 398 nodes, 397 edges\n"
     ]
    },
    {
     "name": "stderr",
     "output_type": "stream",
     "text": [
      " 94%|█████████▍| 469/500 [01:47<00:08,  3.83it/s]"
     ]
    },
    {
     "name": "stdout",
     "output_type": "stream",
     "text": [
      "Attention shape: (407, 407), min: 0.000000, max: 0.474121, mean: 0.002359\n",
      "Using fallback threshold (10% of max): 0.047394\n",
      "Non-zero values: 82621/82621 (100.0%)\n",
      "Value range: [0.000015, 0.474121]\n",
      "Graph created: 407 nodes, 406 edges\n"
     ]
    },
    {
     "name": "stderr",
     "output_type": "stream",
     "text": [
      " 94%|█████████▍| 470/500 [01:47<00:07,  3.99it/s]"
     ]
    },
    {
     "name": "stdout",
     "output_type": "stream",
     "text": [
      "Attention shape: (384, 384), min: 0.000000, max: 0.477783, mean: 0.002495\n",
      "Using fallback threshold (10% of max): 0.047760\n",
      "Non-zero values: 73536/73536 (100.0%)\n",
      "Value range: [0.000012, 0.477783]\n",
      "Graph created: 384 nodes, 383 edges\n"
     ]
    },
    {
     "name": "stderr",
     "output_type": "stream",
     "text": [
      " 94%|█████████▍| 471/500 [01:48<00:07,  4.11it/s]"
     ]
    },
    {
     "name": "stdout",
     "output_type": "stream",
     "text": [
      "Attention shape: (383, 383), min: 0.000000, max: 0.468506, mean: 0.002504\n",
      "Using fallback threshold (10% of max): 0.046844\n",
      "Non-zero values: 73153/73153 (100.0%)\n",
      "Value range: [0.000012, 0.468506]\n",
      "Graph created: 383 nodes, 382 edges\n"
     ]
    },
    {
     "name": "stderr",
     "output_type": "stream",
     "text": [
      " 94%|█████████▍| 472/500 [01:48<00:06,  4.01it/s]"
     ]
    },
    {
     "name": "stdout",
     "output_type": "stream",
     "text": [
      "Attention shape: (414, 414), min: 0.000000, max: 0.475586, mean: 0.002312\n",
      "Using fallback threshold (10% of max): 0.047546\n",
      "Non-zero values: 85491/85491 (100.0%)\n",
      "Value range: [0.000006, 0.475586]\n",
      "Graph created: 414 nodes, 413 edges\n"
     ]
    },
    {
     "name": "stderr",
     "output_type": "stream",
     "text": [
      " 95%|█████████▍| 473/500 [01:48<00:06,  3.99it/s]"
     ]
    },
    {
     "name": "stdout",
     "output_type": "stream",
     "text": [
      "Attention shape: (412, 412), min: 0.000000, max: 0.477539, mean: 0.002319\n",
      "Using fallback threshold (10% of max): 0.047729\n",
      "Non-zero values: 84666/84666 (100.0%)\n",
      "Value range: [0.000009, 0.477539]\n",
      "Graph created: 412 nodes, 411 edges\n"
     ]
    },
    {
     "name": "stderr",
     "output_type": "stream",
     "text": [
      " 95%|█████████▍| 474/500 [01:48<00:06,  4.05it/s]"
     ]
    },
    {
     "name": "stdout",
     "output_type": "stream",
     "text": [
      "Attention shape: (398, 398), min: 0.000000, max: 0.472168, mean: 0.002409\n",
      "Using fallback threshold (10% of max): 0.047211\n",
      "Non-zero values: 79003/79003 (100.0%)\n",
      "Value range: [0.000010, 0.472168]\n",
      "Graph created: 398 nodes, 397 edges\n"
     ]
    },
    {
     "name": "stderr",
     "output_type": "stream",
     "text": [
      " 95%|█████████▌| 475/500 [01:49<00:06,  4.02it/s]"
     ]
    },
    {
     "name": "stdout",
     "output_type": "stream",
     "text": [
      "Attention shape: (409, 409), min: 0.000000, max: 0.479980, mean: 0.002344\n",
      "Using fallback threshold (10% of max): 0.047974\n",
      "Non-zero values: 83436/83436 (100.0%)\n",
      "Value range: [0.000010, 0.479980]\n",
      "Graph created: 409 nodes, 408 edges\n"
     ]
    },
    {
     "name": "stderr",
     "output_type": "stream",
     "text": [
      " 95%|█████████▌| 476/500 [01:49<00:05,  4.06it/s]"
     ]
    },
    {
     "name": "stdout",
     "output_type": "stream",
     "text": [
      "Attention shape: (410, 410), min: 0.000000, max: 0.475586, mean: 0.002340\n",
      "Using fallback threshold (10% of max): 0.047546\n",
      "Non-zero values: 83845/83845 (100.0%)\n",
      "Value range: [0.000020, 0.475586]\n",
      "Graph created: 410 nodes, 409 edges\n"
     ]
    },
    {
     "name": "stderr",
     "output_type": "stream",
     "text": [
      " 95%|█████████▌| 477/500 [01:49<00:05,  4.09it/s]"
     ]
    },
    {
     "name": "stdout",
     "output_type": "stream",
     "text": [
      "Attention shape: (391, 391), min: 0.000000, max: 0.473145, mean: 0.002445\n",
      "Using fallback threshold (10% of max): 0.047302\n",
      "Non-zero values: 76245/76245 (100.0%)\n",
      "Value range: [0.000010, 0.473145]\n",
      "Graph created: 391 nodes, 390 edges\n"
     ]
    },
    {
     "name": "stderr",
     "output_type": "stream",
     "text": [
      " 96%|█████████▌| 478/500 [01:49<00:05,  4.24it/s]"
     ]
    },
    {
     "name": "stdout",
     "output_type": "stream",
     "text": [
      "Attention shape: (380, 380), min: 0.000000, max: 0.468506, mean: 0.002518\n",
      "Using fallback threshold (10% of max): 0.046844\n",
      "Non-zero values: 72010/72010 (100.0%)\n",
      "Value range: [0.000006, 0.468506]\n",
      "Graph created: 380 nodes, 379 edges\n"
     ]
    },
    {
     "name": "stderr",
     "output_type": "stream",
     "text": [
      " 96%|█████████▌| 479/500 [01:49<00:04,  4.41it/s]"
     ]
    },
    {
     "name": "stdout",
     "output_type": "stream",
     "text": [
      "Attention shape: (369, 369), min: 0.000000, max: 0.480469, mean: 0.002594\n",
      "Using fallback threshold (10% of max): 0.048035\n",
      "Non-zero values: 67896/67896 (100.0%)\n",
      "Value range: [0.000010, 0.480469]\n",
      "Graph created: 369 nodes, 368 edges\n"
     ]
    },
    {
     "name": "stderr",
     "output_type": "stream",
     "text": [
      " 96%|█████████▌| 480/500 [01:50<00:04,  4.36it/s]"
     ]
    },
    {
     "name": "stdout",
     "output_type": "stream",
     "text": [
      "Attention shape: (390, 390), min: 0.000000, max: 0.468506, mean: 0.002455\n",
      "Using fallback threshold (10% of max): 0.046844\n",
      "Non-zero values: 75855/75855 (100.0%)\n",
      "Value range: [0.000016, 0.468506]\n",
      "Graph created: 390 nodes, 389 edges\n"
     ]
    },
    {
     "name": "stderr",
     "output_type": "stream",
     "text": [
      " 96%|█████████▌| 481/500 [01:50<00:04,  4.32it/s]"
     ]
    },
    {
     "name": "stdout",
     "output_type": "stream",
     "text": [
      "Attention shape: (388, 388), min: 0.000000, max: 0.478516, mean: 0.002466\n",
      "Using fallback threshold (10% of max): 0.047852\n",
      "Non-zero values: 75078/75078 (100.0%)\n",
      "Value range: [0.000013, 0.478516]\n",
      "Graph created: 388 nodes, 387 edges\n"
     ]
    },
    {
     "name": "stderr",
     "output_type": "stream",
     "text": [
      " 96%|█████████▋| 482/500 [01:50<00:04,  4.36it/s]"
     ]
    },
    {
     "name": "stdout",
     "output_type": "stream",
     "text": [
      "Attention shape: (385, 385), min: 0.000000, max: 0.468506, mean: 0.002487\n",
      "Using fallback threshold (10% of max): 0.046844\n",
      "Non-zero values: 73920/73920 (100.0%)\n",
      "Value range: [0.000010, 0.468506]\n",
      "Graph created: 385 nodes, 386 edges\n"
     ]
    },
    {
     "name": "stderr",
     "output_type": "stream",
     "text": [
      " 97%|█████████▋| 483/500 [01:50<00:03,  4.33it/s]"
     ]
    },
    {
     "name": "stdout",
     "output_type": "stream",
     "text": [
      "Attention shape: (397, 397), min: 0.000000, max: 0.474121, mean: 0.002415\n",
      "Using fallback threshold (10% of max): 0.047394\n",
      "Non-zero values: 78606/78606 (100.0%)\n",
      "Value range: [0.000008, 0.474121]\n",
      "Graph created: 397 nodes, 396 edges\n"
     ]
    },
    {
     "name": "stderr",
     "output_type": "stream",
     "text": [
      " 97%|█████████▋| 484/500 [01:51<00:03,  4.45it/s]"
     ]
    },
    {
     "name": "stdout",
     "output_type": "stream",
     "text": [
      "Attention shape: (379, 379), min: 0.000000, max: 0.469971, mean: 0.002525\n",
      "Using fallback threshold (10% of max): 0.046997\n",
      "Non-zero values: 71631/71631 (100.0%)\n",
      "Value range: [0.000013, 0.469971]\n",
      "Graph created: 379 nodes, 378 edges\n"
     ]
    },
    {
     "name": "stderr",
     "output_type": "stream",
     "text": [
      " 97%|█████████▋| 485/500 [01:51<00:03,  4.43it/s]"
     ]
    },
    {
     "name": "stdout",
     "output_type": "stream",
     "text": [
      "Attention shape: (389, 389), min: 0.000000, max: 0.468506, mean: 0.002460\n",
      "Using fallback threshold (10% of max): 0.046844\n",
      "Non-zero values: 75466/75466 (100.0%)\n",
      "Value range: [0.000011, 0.468506]\n",
      "Graph created: 389 nodes, 388 edges\n"
     ]
    },
    {
     "name": "stderr",
     "output_type": "stream",
     "text": [
      " 97%|█████████▋| 486/500 [01:51<00:03,  4.42it/s]"
     ]
    },
    {
     "name": "stdout",
     "output_type": "stream",
     "text": [
      "Attention shape: (388, 388), min: 0.000000, max: 0.477783, mean: 0.002468\n",
      "Using fallback threshold (10% of max): 0.047760\n",
      "Non-zero values: 75078/75078 (100.0%)\n",
      "Value range: [0.000013, 0.477783]\n",
      "Graph created: 388 nodes, 387 edges\n"
     ]
    },
    {
     "name": "stderr",
     "output_type": "stream",
     "text": [
      " 97%|█████████▋| 487/500 [01:51<00:03,  4.31it/s]"
     ]
    },
    {
     "name": "stdout",
     "output_type": "stream",
     "text": [
      "Attention shape: (396, 396), min: 0.000000, max: 0.475830, mean: 0.002420\n",
      "Using fallback threshold (10% of max): 0.047577\n",
      "Non-zero values: 78210/78210 (100.0%)\n",
      "Value range: [0.000014, 0.475830]\n",
      "Graph created: 396 nodes, 395 edges\n"
     ]
    },
    {
     "name": "stderr",
     "output_type": "stream",
     "text": [
      " 98%|█████████▊| 488/500 [01:52<00:02,  4.25it/s]"
     ]
    },
    {
     "name": "stdout",
     "output_type": "stream",
     "text": [
      "Attention shape: (398, 398), min: 0.000000, max: 0.480469, mean: 0.002417\n",
      "Using fallback threshold (10% of max): 0.048035\n",
      "Non-zero values: 79003/79003 (100.0%)\n",
      "Value range: [0.000014, 0.480469]\n",
      "Graph created: 398 nodes, 397 edges\n"
     ]
    },
    {
     "name": "stderr",
     "output_type": "stream",
     "text": [
      " 98%|█████████▊| 489/500 [01:52<00:02,  4.34it/s]"
     ]
    },
    {
     "name": "stdout",
     "output_type": "stream",
     "text": [
      "Attention shape: (374, 374), min: 0.000000, max: 0.474854, mean: 0.002560\n",
      "Using fallback threshold (10% of max): 0.047485\n",
      "Non-zero values: 69751/69751 (100.0%)\n",
      "Value range: [0.000018, 0.474854]\n",
      "Graph created: 374 nodes, 373 edges\n"
     ]
    },
    {
     "name": "stderr",
     "output_type": "stream",
     "text": [
      " 98%|█████████▊| 490/500 [01:52<00:02,  4.32it/s]"
     ]
    },
    {
     "name": "stdout",
     "output_type": "stream",
     "text": [
      "Attention shape: (389, 389), min: 0.000000, max: 0.480469, mean: 0.002464\n",
      "Using fallback threshold (10% of max): 0.048035\n",
      "Non-zero values: 75466/75466 (100.0%)\n",
      "Value range: [0.000012, 0.480469]\n",
      "Graph created: 389 nodes, 388 edges\n"
     ]
    },
    {
     "name": "stderr",
     "output_type": "stream",
     "text": [
      " 98%|█████████▊| 491/500 [01:52<00:02,  4.26it/s]"
     ]
    },
    {
     "name": "stdout",
     "output_type": "stream",
     "text": [
      "Attention shape: (393, 393), min: 0.000000, max: 0.481934, mean: 0.002451\n",
      "Using fallback threshold (10% of max): 0.048187\n",
      "Non-zero values: 77028/77028 (100.0%)\n",
      "Value range: [0.000019, 0.481934]\n",
      "Graph created: 393 nodes, 392 edges\n"
     ]
    },
    {
     "name": "stderr",
     "output_type": "stream",
     "text": [
      " 98%|█████████▊| 492/500 [01:52<00:01,  4.28it/s]"
     ]
    },
    {
     "name": "stdout",
     "output_type": "stream",
     "text": [
      "Attention shape: (391, 391), min: 0.000000, max: 0.468506, mean: 0.002451\n",
      "Using fallback threshold (10% of max): 0.046844\n",
      "Non-zero values: 76245/76245 (100.0%)\n",
      "Value range: [0.000012, 0.468506]\n",
      "Graph created: 391 nodes, 390 edges\n"
     ]
    },
    {
     "name": "stderr",
     "output_type": "stream",
     "text": [
      " 99%|█████████▊| 493/500 [01:53<00:01,  4.30it/s]"
     ]
    },
    {
     "name": "stdout",
     "output_type": "stream",
     "text": [
      "Attention shape: (390, 390), min: 0.000000, max: 0.476807, mean: 0.002459\n",
      "Using fallback threshold (10% of max): 0.047668\n",
      "Non-zero values: 75855/75855 (100.0%)\n",
      "Value range: [0.000014, 0.476807]\n",
      "Graph created: 390 nodes, 389 edges\n",
      "Attention shape: (359, 359), min: 0.000000, max: 0.478516, mean: 0.002666\n"
     ]
    },
    {
     "name": "stderr",
     "output_type": "stream",
     "text": [
      " 99%|█████████▉| 494/500 [01:53<00:01,  4.16it/s]"
     ]
    },
    {
     "name": "stdout",
     "output_type": "stream",
     "text": [
      "Using percentile-based threshold: 0.000308 (50th percentile)\n",
      "Non-zero values: 64261/64261 (100.0%)\n",
      "Value range: [0.000010, 0.478516]\n",
      "Graph created: 359 nodes, 32125 edges\n"
     ]
    },
    {
     "name": "stderr",
     "output_type": "stream",
     "text": [
      " 99%|█████████▉| 495/500 [01:53<00:01,  4.05it/s]"
     ]
    },
    {
     "name": "stdout",
     "output_type": "stream",
     "text": [
      "Attention shape: (362, 362), min: 0.000000, max: 0.479248, mean: 0.002645\n",
      "Using percentile-based threshold: 0.000271 (50th percentile)\n",
      "Non-zero values: 65341/65341 (100.0%)\n",
      "Value range: [0.000013, 0.479248]\n",
      "Graph created: 362 nodes, 32660 edges\n"
     ]
    },
    {
     "name": "stderr",
     "output_type": "stream",
     "text": [
      " 99%|█████████▉| 496/500 [01:53<00:00,  4.09it/s]"
     ]
    },
    {
     "name": "stdout",
     "output_type": "stream",
     "text": [
      "Attention shape: (398, 398), min: 0.000000, max: 0.480469, mean: 0.002413\n",
      "Using fallback threshold (10% of max): 0.048035\n",
      "Non-zero values: 79003/79003 (100.0%)\n",
      "Value range: [0.000011, 0.480469]\n",
      "Graph created: 398 nodes, 397 edges\n"
     ]
    },
    {
     "name": "stderr",
     "output_type": "stream",
     "text": [
      " 99%|█████████▉| 497/500 [01:54<00:00,  3.82it/s]"
     ]
    },
    {
     "name": "stdout",
     "output_type": "stream",
     "text": [
      "Attention shape: (459, 459), min: 0.000000, max: 0.474609, mean: 0.002094\n",
      "Using fallback threshold (10% of max): 0.047455\n",
      "Non-zero values: 105111/105111 (100.0%)\n",
      "Value range: [0.000014, 0.474609]\n",
      "Graph created: 459 nodes, 458 edges\n"
     ]
    },
    {
     "name": "stderr",
     "output_type": "stream",
     "text": [
      "100%|█████████▉| 498/500 [01:54<00:00,  3.97it/s]"
     ]
    },
    {
     "name": "stdout",
     "output_type": "stream",
     "text": [
      "Attention shape: (388, 388), min: 0.000000, max: 0.474121, mean: 0.002472\n",
      "Using fallback threshold (10% of max): 0.047394\n",
      "Non-zero values: 75078/75078 (100.0%)\n",
      "Value range: [0.000012, 0.474121]\n",
      "Graph created: 388 nodes, 387 edges\n"
     ]
    },
    {
     "name": "stderr",
     "output_type": "stream",
     "text": [
      "100%|█████████▉| 499/500 [01:54<00:00,  4.02it/s]"
     ]
    },
    {
     "name": "stdout",
     "output_type": "stream",
     "text": [
      "Attention shape: (401, 401), min: 0.000000, max: 0.469971, mean: 0.002390\n",
      "Using fallback threshold (10% of max): 0.046997\n",
      "Non-zero values: 80200/80200 (100.0%)\n",
      "Value range: [0.000007, 0.469971]\n",
      "Graph created: 401 nodes, 400 edges\n"
     ]
    },
    {
     "name": "stderr",
     "output_type": "stream",
     "text": [
      "100%|██████████| 500/500 [01:54<00:00,  4.35it/s]"
     ]
    },
    {
     "name": "stdout",
     "output_type": "stream",
     "text": [
      "Attention shape: (365, 365), min: 0.000000, max: 0.471924, mean: 0.002621\n",
      "Using fallback threshold (10% of max): 0.047180\n",
      "Non-zero values: 66430/66430 (100.0%)\n",
      "Value range: [0.000011, 0.471924]\n",
      "Graph created: 365 nodes, 364 edges\n"
     ]
    },
    {
     "name": "stderr",
     "output_type": "stream",
     "text": [
      "\n"
     ]
    }
   ],
   "source": [
    "water_tda = process_texts(water['text'])"
   ]
  },
  {
   "cell_type": "code",
   "execution_count": 21,
   "id": "a0f84a20-8357-4f37-b893-cd6c690e85b7",
   "metadata": {},
   "outputs": [
    {
     "name": "stderr",
     "output_type": "stream",
     "text": [
      "huggingface/tokenizers: The current process just got forked, after parallelism has already been used. Disabling parallelism to avoid deadlocks...\n",
      "To disable this warning, you can either:\n",
      "\t- Avoid using `tokenizers` before the fork if possible\n",
      "\t- Explicitly set the environment variable TOKENIZERS_PARALLELISM=(true | false)\n"
     ]
    },
    {
     "name": "stdout",
     "output_type": "stream",
     "text": [
      "Requirement already satisfied: textdescriptives in /usr/local/lib/python3.12/dist-packages (2.8.4)\n",
      "Requirement already satisfied: spacy>=3.6.0 in /usr/local/lib/python3.12/dist-packages (from spacy[lookups]>=3.6.0->textdescriptives) (3.8.7)\n",
      "Requirement already satisfied: numpy<2.0.0,>=1.20.0 in /usr/local/lib/python3.12/dist-packages (from textdescriptives) (1.26.4)\n",
      "Requirement already satisfied: pandas>=1.0.0 in /usr/local/lib/python3.12/dist-packages (from textdescriptives) (2.3.3)\n",
      "Requirement already satisfied: pyphen>=0.11.0 in /usr/local/lib/python3.12/dist-packages (from textdescriptives) (0.17.2)\n",
      "Requirement already satisfied: ftfy>=6.0.3 in /usr/local/lib/python3.12/dist-packages (from textdescriptives) (6.3.1)\n",
      "Requirement already satisfied: pydantic>=2.0 in /usr/local/lib/python3.12/dist-packages (from textdescriptives) (2.12.3)\n",
      "Requirement already satisfied: wcwidth in /usr/local/lib/python3.12/dist-packages (from ftfy>=6.0.3->textdescriptives) (0.2.14)\n",
      "Requirement already satisfied: python-dateutil>=2.8.2 in /usr/local/lib/python3.12/dist-packages (from pandas>=1.0.0->textdescriptives) (2.9.0.post0)\n",
      "Requirement already satisfied: pytz>=2020.1 in /usr/local/lib/python3.12/dist-packages (from pandas>=1.0.0->textdescriptives) (2025.2)\n",
      "Requirement already satisfied: tzdata>=2022.7 in /usr/local/lib/python3.12/dist-packages (from pandas>=1.0.0->textdescriptives) (2025.2)\n",
      "Requirement already satisfied: annotated-types>=0.6.0 in /usr/local/lib/python3.12/dist-packages (from pydantic>=2.0->textdescriptives) (0.7.0)\n",
      "Requirement already satisfied: pydantic-core==2.41.4 in /usr/local/lib/python3.12/dist-packages (from pydantic>=2.0->textdescriptives) (2.41.4)\n",
      "Requirement already satisfied: typing-extensions>=4.14.1 in /usr/local/lib/python3.12/dist-packages (from pydantic>=2.0->textdescriptives) (4.15.0)\n",
      "Requirement already satisfied: typing-inspection>=0.4.2 in /usr/local/lib/python3.12/dist-packages (from pydantic>=2.0->textdescriptives) (0.4.2)\n",
      "Requirement already satisfied: six>=1.5 in /usr/lib/python3/dist-packages (from python-dateutil>=2.8.2->pandas>=1.0.0->textdescriptives) (1.16.0)\n",
      "Requirement already satisfied: spacy-legacy<3.1.0,>=3.0.11 in /usr/local/lib/python3.12/dist-packages (from spacy>=3.6.0->spacy[lookups]>=3.6.0->textdescriptives) (3.0.12)\n",
      "Requirement already satisfied: spacy-loggers<2.0.0,>=1.0.0 in /usr/local/lib/python3.12/dist-packages (from spacy>=3.6.0->spacy[lookups]>=3.6.0->textdescriptives) (1.0.5)\n",
      "Requirement already satisfied: murmurhash<1.1.0,>=0.28.0 in /usr/local/lib/python3.12/dist-packages (from spacy>=3.6.0->spacy[lookups]>=3.6.0->textdescriptives) (1.0.13)\n",
      "Requirement already satisfied: cymem<2.1.0,>=2.0.2 in /usr/local/lib/python3.12/dist-packages (from spacy>=3.6.0->spacy[lookups]>=3.6.0->textdescriptives) (2.0.11)\n",
      "Requirement already satisfied: preshed<3.1.0,>=3.0.2 in /usr/local/lib/python3.12/dist-packages (from spacy>=3.6.0->spacy[lookups]>=3.6.0->textdescriptives) (3.0.10)\n",
      "Requirement already satisfied: thinc<8.4.0,>=8.3.4 in /usr/local/lib/python3.12/dist-packages (from spacy>=3.6.0->spacy[lookups]>=3.6.0->textdescriptives) (8.3.4)\n",
      "Requirement already satisfied: wasabi<1.2.0,>=0.9.1 in /usr/local/lib/python3.12/dist-packages (from spacy>=3.6.0->spacy[lookups]>=3.6.0->textdescriptives) (1.1.3)\n",
      "Requirement already satisfied: srsly<3.0.0,>=2.4.3 in /usr/local/lib/python3.12/dist-packages (from spacy>=3.6.0->spacy[lookups]>=3.6.0->textdescriptives) (2.5.1)\n",
      "Requirement already satisfied: catalogue<2.1.0,>=2.0.6 in /usr/local/lib/python3.12/dist-packages (from spacy>=3.6.0->spacy[lookups]>=3.6.0->textdescriptives) (2.0.10)\n",
      "Requirement already satisfied: weasel<0.5.0,>=0.1.0 in /usr/local/lib/python3.12/dist-packages (from spacy>=3.6.0->spacy[lookups]>=3.6.0->textdescriptives) (0.4.1)\n",
      "Requirement already satisfied: typer<1.0.0,>=0.3.0 in /usr/local/lib/python3.12/dist-packages (from spacy>=3.6.0->spacy[lookups]>=3.6.0->textdescriptives) (0.20.0)\n",
      "Requirement already satisfied: tqdm<5.0.0,>=4.38.0 in /usr/local/lib/python3.12/dist-packages (from spacy>=3.6.0->spacy[lookups]>=3.6.0->textdescriptives) (4.67.1)\n",
      "Requirement already satisfied: requests<3.0.0,>=2.13.0 in /usr/local/lib/python3.12/dist-packages (from spacy>=3.6.0->spacy[lookups]>=3.6.0->textdescriptives) (2.32.5)\n",
      "Requirement already satisfied: jinja2 in /usr/local/lib/python3.12/dist-packages (from spacy>=3.6.0->spacy[lookups]>=3.6.0->textdescriptives) (3.1.6)\n",
      "Requirement already satisfied: setuptools in /usr/local/lib/python3.12/dist-packages (from spacy>=3.6.0->spacy[lookups]>=3.6.0->textdescriptives) (80.9.0)\n",
      "Requirement already satisfied: packaging>=20.0 in /usr/local/lib/python3.12/dist-packages (from spacy>=3.6.0->spacy[lookups]>=3.6.0->textdescriptives) (25.0)\n",
      "Requirement already satisfied: langcodes<4.0.0,>=3.2.0 in /usr/local/lib/python3.12/dist-packages (from spacy>=3.6.0->spacy[lookups]>=3.6.0->textdescriptives) (3.5.0)\n",
      "Requirement already satisfied: language-data>=1.2 in /usr/local/lib/python3.12/dist-packages (from langcodes<4.0.0,>=3.2.0->spacy>=3.6.0->spacy[lookups]>=3.6.0->textdescriptives) (1.3.0)\n",
      "Requirement already satisfied: charset_normalizer<4,>=2 in /usr/local/lib/python3.12/dist-packages (from requests<3.0.0,>=2.13.0->spacy>=3.6.0->spacy[lookups]>=3.6.0->textdescriptives) (3.4.3)\n",
      "Requirement already satisfied: idna<4,>=2.5 in /usr/local/lib/python3.12/dist-packages (from requests<3.0.0,>=2.13.0->spacy>=3.6.0->spacy[lookups]>=3.6.0->textdescriptives) (3.10)\n",
      "Requirement already satisfied: urllib3<3,>=1.21.1 in /usr/local/lib/python3.12/dist-packages (from requests<3.0.0,>=2.13.0->spacy>=3.6.0->spacy[lookups]>=3.6.0->textdescriptives) (2.5.0)\n",
      "Requirement already satisfied: certifi>=2017.4.17 in /usr/local/lib/python3.12/dist-packages (from requests<3.0.0,>=2.13.0->spacy>=3.6.0->spacy[lookups]>=3.6.0->textdescriptives) (2025.10.5)\n",
      "Requirement already satisfied: blis<1.3.0,>=1.2.0 in /usr/local/lib/python3.12/dist-packages (from thinc<8.4.0,>=8.3.4->spacy>=3.6.0->spacy[lookups]>=3.6.0->textdescriptives) (1.2.1)\n",
      "Requirement already satisfied: confection<1.0.0,>=0.0.1 in /usr/local/lib/python3.12/dist-packages (from thinc<8.4.0,>=8.3.4->spacy>=3.6.0->spacy[lookups]>=3.6.0->textdescriptives) (0.1.5)\n",
      "Requirement already satisfied: click>=8.0.0 in /usr/local/lib/python3.12/dist-packages (from typer<1.0.0,>=0.3.0->spacy>=3.6.0->spacy[lookups]>=3.6.0->textdescriptives) (8.3.0)\n",
      "Requirement already satisfied: shellingham>=1.3.0 in /usr/local/lib/python3.12/dist-packages (from typer<1.0.0,>=0.3.0->spacy>=3.6.0->spacy[lookups]>=3.6.0->textdescriptives) (1.5.4)\n",
      "Requirement already satisfied: rich>=10.11.0 in /usr/local/lib/python3.12/dist-packages (from typer<1.0.0,>=0.3.0->spacy>=3.6.0->spacy[lookups]>=3.6.0->textdescriptives) (14.2.0)\n",
      "Requirement already satisfied: cloudpathlib<1.0.0,>=0.7.0 in /usr/local/lib/python3.12/dist-packages (from weasel<0.5.0,>=0.1.0->spacy>=3.6.0->spacy[lookups]>=3.6.0->textdescriptives) (0.23.0)\n",
      "Requirement already satisfied: smart-open<8.0.0,>=5.2.1 in /usr/local/lib/python3.12/dist-packages (from weasel<0.5.0,>=0.1.0->spacy>=3.6.0->spacy[lookups]>=3.6.0->textdescriptives) (7.4.1)\n",
      "Requirement already satisfied: wrapt in /usr/local/lib/python3.12/dist-packages (from smart-open<8.0.0,>=5.2.1->weasel<0.5.0,>=0.1.0->spacy>=3.6.0->spacy[lookups]>=3.6.0->textdescriptives) (1.17.3)\n",
      "Requirement already satisfied: marisa-trie>=1.1.0 in /usr/local/lib/python3.12/dist-packages (from language-data>=1.2->langcodes<4.0.0,>=3.2.0->spacy>=3.6.0->spacy[lookups]>=3.6.0->textdescriptives) (1.3.1)\n",
      "Requirement already satisfied: markdown-it-py>=2.2.0 in /usr/local/lib/python3.12/dist-packages (from rich>=10.11.0->typer<1.0.0,>=0.3.0->spacy>=3.6.0->spacy[lookups]>=3.6.0->textdescriptives) (4.0.0)\n",
      "Requirement already satisfied: pygments<3.0.0,>=2.13.0 in /usr/local/lib/python3.12/dist-packages (from rich>=10.11.0->typer<1.0.0,>=0.3.0->spacy>=3.6.0->spacy[lookups]>=3.6.0->textdescriptives) (2.19.2)\n",
      "Requirement already satisfied: mdurl~=0.1 in /usr/local/lib/python3.12/dist-packages (from markdown-it-py>=2.2.0->rich>=10.11.0->typer<1.0.0,>=0.3.0->spacy>=3.6.0->spacy[lookups]>=3.6.0->textdescriptives) (0.1.2)\n",
      "Requirement already satisfied: spacy_lookups_data<1.1.0,>=1.0.3 in /usr/local/lib/python3.12/dist-packages (from spacy[lookups]>=3.6.0->textdescriptives) (1.0.5)\n",
      "Requirement already satisfied: MarkupSafe>=2.0 in /usr/local/lib/python3.12/dist-packages (from jinja2->spacy>=3.6.0->spacy[lookups]>=3.6.0->textdescriptives) (3.0.3)\n"
     ]
    },
    {
     "name": "stderr",
     "output_type": "stream",
     "text": [
      "huggingface/tokenizers: The current process just got forked, after parallelism has already been used. Disabling parallelism to avoid deadlocks...\n",
      "To disable this warning, you can either:\n",
      "\t- Avoid using `tokenizers` before the fork if possible\n",
      "\t- Explicitly set the environment variable TOKENIZERS_PARALLELISM=(true | false)\n"
     ]
    },
    {
     "name": "stdout",
     "output_type": "stream",
     "text": [
      "Requirement already satisfied: spacy in /usr/local/lib/python3.12/dist-packages (3.8.7)\n",
      "Requirement already satisfied: spacy-legacy<3.1.0,>=3.0.11 in /usr/local/lib/python3.12/dist-packages (from spacy) (3.0.12)\n",
      "Requirement already satisfied: spacy-loggers<2.0.0,>=1.0.0 in /usr/local/lib/python3.12/dist-packages (from spacy) (1.0.5)\n",
      "Requirement already satisfied: murmurhash<1.1.0,>=0.28.0 in /usr/local/lib/python3.12/dist-packages (from spacy) (1.0.13)\n",
      "Requirement already satisfied: cymem<2.1.0,>=2.0.2 in /usr/local/lib/python3.12/dist-packages (from spacy) (2.0.11)\n",
      "Requirement already satisfied: preshed<3.1.0,>=3.0.2 in /usr/local/lib/python3.12/dist-packages (from spacy) (3.0.10)\n",
      "Requirement already satisfied: thinc<8.4.0,>=8.3.4 in /usr/local/lib/python3.12/dist-packages (from spacy) (8.3.4)\n",
      "Requirement already satisfied: wasabi<1.2.0,>=0.9.1 in /usr/local/lib/python3.12/dist-packages (from spacy) (1.1.3)\n",
      "Requirement already satisfied: srsly<3.0.0,>=2.4.3 in /usr/local/lib/python3.12/dist-packages (from spacy) (2.5.1)\n",
      "Requirement already satisfied: catalogue<2.1.0,>=2.0.6 in /usr/local/lib/python3.12/dist-packages (from spacy) (2.0.10)\n",
      "Requirement already satisfied: weasel<0.5.0,>=0.1.0 in /usr/local/lib/python3.12/dist-packages (from spacy) (0.4.1)\n",
      "Requirement already satisfied: typer<1.0.0,>=0.3.0 in /usr/local/lib/python3.12/dist-packages (from spacy) (0.20.0)\n",
      "Requirement already satisfied: tqdm<5.0.0,>=4.38.0 in /usr/local/lib/python3.12/dist-packages (from spacy) (4.67.1)\n",
      "Requirement already satisfied: numpy>=1.19.0 in /usr/local/lib/python3.12/dist-packages (from spacy) (1.26.4)\n",
      "Requirement already satisfied: requests<3.0.0,>=2.13.0 in /usr/local/lib/python3.12/dist-packages (from spacy) (2.32.5)\n",
      "Requirement already satisfied: pydantic!=1.8,!=1.8.1,<3.0.0,>=1.7.4 in /usr/local/lib/python3.12/dist-packages (from spacy) (2.12.3)\n",
      "Requirement already satisfied: jinja2 in /usr/local/lib/python3.12/dist-packages (from spacy) (3.1.6)\n",
      "Requirement already satisfied: setuptools in /usr/local/lib/python3.12/dist-packages (from spacy) (80.9.0)\n",
      "Requirement already satisfied: packaging>=20.0 in /usr/local/lib/python3.12/dist-packages (from spacy) (25.0)\n",
      "Requirement already satisfied: langcodes<4.0.0,>=3.2.0 in /usr/local/lib/python3.12/dist-packages (from spacy) (3.5.0)\n",
      "Requirement already satisfied: language-data>=1.2 in /usr/local/lib/python3.12/dist-packages (from langcodes<4.0.0,>=3.2.0->spacy) (1.3.0)\n",
      "Requirement already satisfied: annotated-types>=0.6.0 in /usr/local/lib/python3.12/dist-packages (from pydantic!=1.8,!=1.8.1,<3.0.0,>=1.7.4->spacy) (0.7.0)\n",
      "Requirement already satisfied: pydantic-core==2.41.4 in /usr/local/lib/python3.12/dist-packages (from pydantic!=1.8,!=1.8.1,<3.0.0,>=1.7.4->spacy) (2.41.4)\n",
      "Requirement already satisfied: typing-extensions>=4.14.1 in /usr/local/lib/python3.12/dist-packages (from pydantic!=1.8,!=1.8.1,<3.0.0,>=1.7.4->spacy) (4.15.0)\n",
      "Requirement already satisfied: typing-inspection>=0.4.2 in /usr/local/lib/python3.12/dist-packages (from pydantic!=1.8,!=1.8.1,<3.0.0,>=1.7.4->spacy) (0.4.2)\n",
      "Requirement already satisfied: charset_normalizer<4,>=2 in /usr/local/lib/python3.12/dist-packages (from requests<3.0.0,>=2.13.0->spacy) (3.4.3)\n",
      "Requirement already satisfied: idna<4,>=2.5 in /usr/local/lib/python3.12/dist-packages (from requests<3.0.0,>=2.13.0->spacy) (3.10)\n",
      "Requirement already satisfied: urllib3<3,>=1.21.1 in /usr/local/lib/python3.12/dist-packages (from requests<3.0.0,>=2.13.0->spacy) (2.5.0)\n",
      "Requirement already satisfied: certifi>=2017.4.17 in /usr/local/lib/python3.12/dist-packages (from requests<3.0.0,>=2.13.0->spacy) (2025.10.5)\n",
      "Requirement already satisfied: blis<1.3.0,>=1.2.0 in /usr/local/lib/python3.12/dist-packages (from thinc<8.4.0,>=8.3.4->spacy) (1.2.1)\n",
      "Requirement already satisfied: confection<1.0.0,>=0.0.1 in /usr/local/lib/python3.12/dist-packages (from thinc<8.4.0,>=8.3.4->spacy) (0.1.5)\n",
      "Requirement already satisfied: click>=8.0.0 in /usr/local/lib/python3.12/dist-packages (from typer<1.0.0,>=0.3.0->spacy) (8.3.0)\n",
      "Requirement already satisfied: shellingham>=1.3.0 in /usr/local/lib/python3.12/dist-packages (from typer<1.0.0,>=0.3.0->spacy) (1.5.4)\n",
      "Requirement already satisfied: rich>=10.11.0 in /usr/local/lib/python3.12/dist-packages (from typer<1.0.0,>=0.3.0->spacy) (14.2.0)\n",
      "Requirement already satisfied: cloudpathlib<1.0.0,>=0.7.0 in /usr/local/lib/python3.12/dist-packages (from weasel<0.5.0,>=0.1.0->spacy) (0.23.0)\n",
      "Requirement already satisfied: smart-open<8.0.0,>=5.2.1 in /usr/local/lib/python3.12/dist-packages (from weasel<0.5.0,>=0.1.0->spacy) (7.4.1)\n",
      "Requirement already satisfied: wrapt in /usr/local/lib/python3.12/dist-packages (from smart-open<8.0.0,>=5.2.1->weasel<0.5.0,>=0.1.0->spacy) (1.17.3)\n",
      "Requirement already satisfied: marisa-trie>=1.1.0 in /usr/local/lib/python3.12/dist-packages (from language-data>=1.2->langcodes<4.0.0,>=3.2.0->spacy) (1.3.1)\n",
      "Requirement already satisfied: markdown-it-py>=2.2.0 in /usr/local/lib/python3.12/dist-packages (from rich>=10.11.0->typer<1.0.0,>=0.3.0->spacy) (4.0.0)\n",
      "Requirement already satisfied: pygments<3.0.0,>=2.13.0 in /usr/local/lib/python3.12/dist-packages (from rich>=10.11.0->typer<1.0.0,>=0.3.0->spacy) (2.19.2)\n",
      "Requirement already satisfied: mdurl~=0.1 in /usr/local/lib/python3.12/dist-packages (from markdown-it-py>=2.2.0->rich>=10.11.0->typer<1.0.0,>=0.3.0->spacy) (0.1.2)\n",
      "Requirement already satisfied: MarkupSafe>=2.0 in /usr/local/lib/python3.12/dist-packages (from jinja2->spacy) (3.0.3)\n"
     ]
    },
    {
     "name": "stderr",
     "output_type": "stream",
     "text": [
      "huggingface/tokenizers: The current process just got forked, after parallelism has already been used. Disabling parallelism to avoid deadlocks...\n",
      "To disable this warning, you can either:\n",
      "\t- Avoid using `tokenizers` before the fork if possible\n",
      "\t- Explicitly set the environment variable TOKENIZERS_PARALLELISM=(true | false)\n"
     ]
    },
    {
     "name": "stdout",
     "output_type": "stream",
     "text": [
      "Collecting en-core-web-sm==3.8.0\n",
      "  Downloading https://github.com/explosion/spacy-models/releases/download/en_core_web_sm-3.8.0/en_core_web_sm-3.8.0-py3-none-any.whl (12.8 MB)\n",
      "\u001b[2K     \u001b[90m━━━━━━━━━━━━━━━━━━━━━━━━━━━━━━━━━━━━━━━━\u001b[0m \u001b[32m12.8/12.8 MB\u001b[0m \u001b[31m57.4 MB/s\u001b[0m  \u001b[33m0:00:00\u001b[0meta \u001b[36m0:00:01\u001b[0m\n",
      "\u001b[?25h\u001b[38;5;2m✔ Download and installation successful\u001b[0m\n",
      "You can now load the package via spacy.load('en_core_web_sm')\n"
     ]
    },
    {
     "data": {
      "text/plain": [
       "<textdescriptives.load_components.TextDescriptives at 0x77ac99b4e930>"
      ]
     },
     "execution_count": 21,
     "metadata": {},
     "output_type": "execute_result"
    }
   ],
   "source": [
    "!pip install textdescriptives\n",
    "!pip install spacy\n",
    "!python -m spacy download en_core_web_sm\n",
    "\n",
    "import spacy\n",
    "import textdescriptives as td\n",
    "\n",
    "# Load spacy model\n",
    "nlp = spacy.load(\"en_core_web_sm\")\n",
    "nlp.add_pipe(\"textdescriptives/all\")"
   ]
  },
  {
   "cell_type": "code",
   "execution_count": 22,
   "id": "93fbf23c-bb2c-4263-9298-74f2cb35ff4f",
   "metadata": {},
   "outputs": [
    {
     "name": "stderr",
     "output_type": "stream",
     "text": [
      "/usr/local/lib/python3.12/dist-packages/textdescriptives/components/coherence.py:44: UserWarning: [W007] The model you're using has no word vectors loaded, so the result of the Span.similarity method will be based on the tagger, parser and NER, which may not give useful similarity judgements. This may happen if you're using one of the small models, e.g. `en_core_web_sm`, which don't ship with word vectors and only use context-sensitive tensors. You can always add your own word vectors, or use one of the larger models instead if available.\n",
      "  similarities.append(sent.similarity(sents[i + order]))\n"
     ]
    },
    {
     "name": "stdout",
     "output_type": "stream",
     "text": [
      "Extracting linguistic features for watermarked text...\n"
     ]
    },
    {
     "name": "stderr",
     "output_type": "stream",
     "text": [
      "100%|██████████| 499/499 [00:42<00:00, 11.85it/s]\n"
     ]
    },
    {
     "name": "stdout",
     "output_type": "stream",
     "text": [
      "Extracting linguistic features for non-watermarked text...\n"
     ]
    },
    {
     "name": "stderr",
     "output_type": "stream",
     "text": [
      "100%|██████████| 499/499 [00:40<00:00, 12.28it/s]\n",
      "huggingface/tokenizers: The current process just got forked, after parallelism has already been used. Disabling parallelism to avoid deadlocks...\n",
      "To disable this warning, you can either:\n",
      "\t- Avoid using `tokenizers` before the fork if possible\n",
      "\t- Explicitly set the environment variable TOKENIZERS_PARALLELISM=(true | false)\n"
     ]
    },
    {
     "name": "stdout",
     "output_type": "stream",
     "text": [
      "Collecting dcor\n",
      "  Downloading dcor-0.6-py3-none-any.whl.metadata (6.2 kB)\n",
      "Requirement already satisfied: numpy in /usr/local/lib/python3.12/dist-packages (from dcor) (1.26.4)\n",
      "Collecting numba>=0.51 (from dcor)\n",
      "  Downloading numba-0.62.1-cp312-cp312-manylinux2014_x86_64.manylinux_2_17_x86_64.whl.metadata (2.8 kB)\n",
      "Requirement already satisfied: scipy in /usr/local/lib/python3.12/dist-packages (from dcor) (1.16.2)\n",
      "Requirement already satisfied: joblib in /usr/local/lib/python3.12/dist-packages (from dcor) (1.5.2)\n",
      "Collecting llvmlite<0.46,>=0.45.0dev0 (from numba>=0.51->dcor)\n",
      "  Downloading llvmlite-0.45.1-cp312-cp312-manylinux2014_x86_64.manylinux_2_17_x86_64.whl.metadata (4.9 kB)\n",
      "Downloading dcor-0.6-py3-none-any.whl (55 kB)\n",
      "Downloading numba-0.62.1-cp312-cp312-manylinux2014_x86_64.manylinux_2_17_x86_64.whl (3.8 MB)\n",
      "\u001b[2K   \u001b[90m━━━━━━━━━━━━━━━━━━━━━━━━━━━━━━━━━━━━━━━━\u001b[0m \u001b[32m3.8/3.8 MB\u001b[0m \u001b[31m23.9 MB/s\u001b[0m  \u001b[33m0:00:00\u001b[0m eta \u001b[36m0:00:01\u001b[0m\n",
      "\u001b[?25hDownloading llvmlite-0.45.1-cp312-cp312-manylinux2014_x86_64.manylinux_2_17_x86_64.whl (56.3 MB)\n",
      "\u001b[2K   \u001b[90m━━━━━━━━━━━━━━━━━━━━━━━━━━━━━━━━━━━━━━━━\u001b[0m \u001b[32m56.3/56.3 MB\u001b[0m \u001b[31m73.3 MB/s\u001b[0m  \u001b[33m0:00:00\u001b[0mm eta \u001b[36m0:00:01\u001b[0m\n",
      "\u001b[?25hInstalling collected packages: llvmlite, numba, dcor\n",
      "\u001b[2K   \u001b[90m━━━━━━━━━━━━━━━━━━━━━━━━━━━━━━━━━━━━━━━━\u001b[0m \u001b[32m3/3\u001b[0m [dcor][32m1/3\u001b[0m [numba]\n",
      "\u001b[1A\u001b[2KSuccessfully installed dcor-0.6 llvmlite-0.45.1 numba-0.62.1\n"
     ]
    },
    {
     "ename": "ModuleNotFoundError",
     "evalue": "No module named 'seaborn'",
     "output_type": "error",
     "traceback": [
      "\u001b[31m---------------------------------------------------------------------------\u001b[39m",
      "\u001b[31mModuleNotFoundError\u001b[39m                       Traceback (most recent call last)",
      "\u001b[36mCell\u001b[39m\u001b[36m \u001b[39m\u001b[32mIn[22]\u001b[39m\u001b[32m, line 35\u001b[39m\n\u001b[32m     32\u001b[39m get_ipython().system(\u001b[33m'\u001b[39m\u001b[33mpip install dcor\u001b[39m\u001b[33m'\u001b[39m)\n\u001b[32m     34\u001b[39m \u001b[38;5;28;01mfrom\u001b[39;00m\u001b[38;5;250m \u001b[39m\u001b[34;01mdcor\u001b[39;00m\u001b[38;5;250m \u001b[39m\u001b[38;5;28;01mimport\u001b[39;00m distance_correlation\n\u001b[32m---> \u001b[39m\u001b[32m35\u001b[39m \u001b[38;5;28;01mimport\u001b[39;00m\u001b[38;5;250m \u001b[39m\u001b[34;01mseaborn\u001b[39;00m\u001b[38;5;250m \u001b[39m\u001b[38;5;28;01mas\u001b[39;00m\u001b[38;5;250m \u001b[39m\u001b[34;01msns\u001b[39;00m\n\u001b[32m     36\u001b[39m \u001b[38;5;28;01mimport\u001b[39;00m\u001b[38;5;250m \u001b[39m\u001b[34;01mmatplotlib\u001b[39;00m\u001b[34;01m.\u001b[39;00m\u001b[34;01mpyplot\u001b[39;00m\u001b[38;5;250m \u001b[39m\u001b[38;5;28;01mas\u001b[39;00m\u001b[38;5;250m \u001b[39m\u001b[34;01mplt\u001b[39;00m\n\u001b[32m     37\u001b[39m \u001b[38;5;28;01mimport\u001b[39;00m\u001b[38;5;250m \u001b[39m\u001b[34;01mdcor\u001b[39;00m\n",
      "\u001b[31mModuleNotFoundError\u001b[39m: No module named 'seaborn'"
     ]
    }
   ],
   "source": [
    "def get_desc(data):\n",
    "    doc = nlp(data.iloc[0])\n",
    "    df1 = td.extract_df(doc)\n",
    "    \n",
    "    for text in tqdm(data.iloc[1:]):\n",
    "        text = nlp(text)\n",
    "        df2 = td.extract_df(text)\n",
    "        df1 = df1._append(df2)\n",
    "    \n",
    "    return df1\n",
    "\n",
    "# Extract linguistic features\n",
    "print(\"Extracting linguistic features for watermarked text...\")\n",
    "water_feat = get_desc(water['text'])\n",
    "\n",
    "print(\"Extracting linguistic features for non-watermarked text...\")\n",
    "nonwater_feat = get_desc(nonwater['text'])\n",
    "\n",
    "# Select focused features\n",
    "focus_nonwater_feat = nonwater_feat[['entropy', 'perplexity', 'pos_prop_NOUN', 'pos_prop_ADJ', 'pos_prop_ADP',\n",
    "                              'first_order_coherence', 'flesch_reading_ease', 'flesch_kincaid_grade', 'smog',\n",
    "                              'n_stop_words', 'doc_length', 'n_unique_tokens']]\n",
    "\n",
    "focus_water_feat = water_feat[['entropy', 'perplexity', 'pos_prop_NOUN', 'pos_prop_ADJ', 'pos_prop_ADP',\n",
    "                              'first_order_coherence', 'flesch_reading_ease', 'flesch_kincaid_grade', 'smog',\n",
    "                              'n_stop_words', 'doc_length', 'n_unique_tokens']]\n",
    "\n",
    "focus_tda_water = water_tda[[\"Num_0dim\", \"Max_0dim\", \"Mean_0dim\", \"betti_curve_0\", \"persistence_entropy_0\"]]\n",
    "focus_tda_nonwater = nonwater_tda[[\"Num_0dim\", \"Max_0dim\", \"Mean_0dim\", \"betti_curve_0\", \"persistence_entropy_0\"]]"
   ]
  },
  {
   "cell_type": "code",
   "execution_count": 24,
   "id": "2194bede-9ff5-482d-a79f-66b793a6b6b4",
   "metadata": {},
   "outputs": [
    {
     "name": "stderr",
     "output_type": "stream",
     "text": [
      "huggingface/tokenizers: The current process just got forked, after parallelism has already been used. Disabling parallelism to avoid deadlocks...\n",
      "To disable this warning, you can either:\n",
      "\t- Avoid using `tokenizers` before the fork if possible\n",
      "\t- Explicitly set the environment variable TOKENIZERS_PARALLELISM=(true | false)\n"
     ]
    },
    {
     "name": "stdout",
     "output_type": "stream",
     "text": [
      "Requirement already satisfied: dcor in /usr/local/lib/python3.12/dist-packages (0.6)\n",
      "Requirement already satisfied: seaborn in /usr/local/lib/python3.12/dist-packages (0.13.2)\n",
      "Requirement already satisfied: numpy in /usr/local/lib/python3.12/dist-packages (from dcor) (1.26.4)\n",
      "Requirement already satisfied: numba>=0.51 in /usr/local/lib/python3.12/dist-packages (from dcor) (0.62.1)\n",
      "Requirement already satisfied: scipy in /usr/local/lib/python3.12/dist-packages (from dcor) (1.16.2)\n",
      "Requirement already satisfied: joblib in /usr/local/lib/python3.12/dist-packages (from dcor) (1.5.2)\n",
      "Requirement already satisfied: pandas>=1.2 in /usr/local/lib/python3.12/dist-packages (from seaborn) (2.3.3)\n",
      "Requirement already satisfied: matplotlib!=3.6.1,>=3.4 in /usr/local/lib/python3.12/dist-packages (from seaborn) (3.10.7)\n",
      "Requirement already satisfied: contourpy>=1.0.1 in /usr/local/lib/python3.12/dist-packages (from matplotlib!=3.6.1,>=3.4->seaborn) (1.3.3)\n",
      "Requirement already satisfied: cycler>=0.10 in /usr/local/lib/python3.12/dist-packages (from matplotlib!=3.6.1,>=3.4->seaborn) (0.12.1)\n",
      "Requirement already satisfied: fonttools>=4.22.0 in /usr/local/lib/python3.12/dist-packages (from matplotlib!=3.6.1,>=3.4->seaborn) (4.60.1)\n",
      "Requirement already satisfied: kiwisolver>=1.3.1 in /usr/local/lib/python3.12/dist-packages (from matplotlib!=3.6.1,>=3.4->seaborn) (1.4.9)\n",
      "Requirement already satisfied: packaging>=20.0 in /usr/local/lib/python3.12/dist-packages (from matplotlib!=3.6.1,>=3.4->seaborn) (25.0)\n",
      "Requirement already satisfied: pillow>=8 in /usr/local/lib/python3.12/dist-packages (from matplotlib!=3.6.1,>=3.4->seaborn) (11.0.0)\n",
      "Requirement already satisfied: pyparsing>=3 in /usr/lib/python3/dist-packages (from matplotlib!=3.6.1,>=3.4->seaborn) (3.1.1)\n",
      "Requirement already satisfied: python-dateutil>=2.7 in /usr/local/lib/python3.12/dist-packages (from matplotlib!=3.6.1,>=3.4->seaborn) (2.9.0.post0)\n",
      "Requirement already satisfied: llvmlite<0.46,>=0.45.0dev0 in /usr/local/lib/python3.12/dist-packages (from numba>=0.51->dcor) (0.45.1)\n",
      "Requirement already satisfied: pytz>=2020.1 in /usr/local/lib/python3.12/dist-packages (from pandas>=1.2->seaborn) (2025.2)\n",
      "Requirement already satisfied: tzdata>=2022.7 in /usr/local/lib/python3.12/dist-packages (from pandas>=1.2->seaborn) (2025.2)\n",
      "Requirement already satisfied: six>=1.5 in /usr/lib/python3/dist-packages (from python-dateutil>=2.7->matplotlib!=3.6.1,>=3.4->seaborn) (1.16.0)\n",
      "Computing correlations for watermarked text...\n"
     ]
    },
    {
     "data": {
      "image/png": "[encoded data removed]",
      "text/plain": [
       "<Figure size 1000x600 with 2 Axes>"
      ]
     },
     "metadata": {},
     "output_type": "display_data"
    },
    {
     "name": "stdout",
     "output_type": "stream",
     "text": [
      "Computing correlations for non-watermarked text...\n"
     ]
    },
    {
     "data": {
      "image/png": "[encoded data removed]",
      "text/plain": [
       "<Figure size 1000x600 with 2 Axes>"
      ]
     },
     "metadata": {},
     "output_type": "display_data"
    },
    {
     "name": "stdout",
     "output_type": "stream",
     "text": [
      "\n",
      "Analysis complete!\n"
     ]
    }
   ],
   "source": [
    "# Compute distance correlations and create heatmaps\n",
    "!pip install dcor seaborn\n",
    "\n",
    "from dcor import distance_correlation\n",
    "import seaborn as sns\n",
    "import matplotlib.pyplot as plt\n",
    "import dcor\n",
    "\n",
    "# Watermarked text correlation\n",
    "print(\"Computing correlations for watermarked text...\")\n",
    "tda_features = focus_tda_water.to_numpy()\n",
    "linguistic_features = focus_water_feat.to_numpy()\n",
    "\n",
    "corr_matrix = np.zeros((tda_features.shape[1], linguistic_features.shape[1]))\n",
    "\n",
    "for i in range(tda_features.shape[1]):\n",
    "    for j in range(linguistic_features.shape[1]):\n",
    "        corr_matrix[i, j] = dcor.distance_correlation(tda_features[:, i], linguistic_features[:, j])\n",
    "\n",
    "plt.figure(figsize=(10, 6))\n",
    "sns.heatmap(corr_matrix, annot=True, cmap=\"coolwarm\", fmt='.3f',\n",
    "            xticklabels=['entropy', 'perplexity', 'pos_prop_NOUN', 'pos_prop_ADJ', 'pos_prop_ADP',\n",
    "                        'coherence', 'reading_ease', 'kincaid_grade', 'smog',\n",
    "                        'n_stop_words', 'doc_length', 'n_unique_tokens'],\n",
    "            yticklabels=[\"Num_0dim\", \"Max_0dim\", \"Mean_0dim\", \"betti_curve_0\", \"pers_entropy_0\"])\n",
    "plt.title(\"Watermarked Text - Llama Model TDA vs Linguistic Features\")\n",
    "plt.tight_layout()\n",
    "# plt.savefig(\"/content/drive/MyDrive/Data/watermarked_correlation_llama.png\", dpi=300, bbox_inches='tight')\n",
    "plt.show()\n",
    "\n",
    "# Non-watermarked text correlation\n",
    "print(\"Computing correlations for non-watermarked text...\")\n",
    "tda_features = focus_tda_nonwater.to_numpy()\n",
    "linguistic_features = focus_nonwater_feat.to_numpy()\n",
    "\n",
    "corr_matrix = np.zeros((tda_features.shape[1], linguistic_features.shape[1]))\n",
    "\n",
    "for i in range(tda_features.shape[1]):\n",
    "    for j in range(linguistic_features.shape[1]):\n",
    "        corr_matrix[i, j] = dcor.distance_correlation(tda_features[:, i], linguistic_features[:, j])\n",
    "\n",
    "plt.figure(figsize=(10, 6))\n",
    "sns.heatmap(corr_matrix, annot=True, cmap=\"coolwarm\", fmt='.3f',\n",
    "            xticklabels=['entropy', 'perplexity', 'pos_prop_NOUN', 'pos_prop_ADJ', 'pos_prop_ADP',\n",
    "                        'coherence', 'reading_ease', 'kincaid_grade', 'smog',\n",
    "                        'n_stop_words', 'doc_length', 'n_unique_tokens'],\n",
    "            yticklabels=[\"Num_0dim\", \"Max_0dim\", \"Mean_0dim\", \"betti_curve_0\", \"pers_entropy_0\"])\n",
    "plt.title(\"Non-Watermarked Text - Llama Model TDA vs Linguistic Features\")\n",
    "plt.tight_layout()\n",
    "# plt.savefig(\"/content/drive/MyDrive/Data/nonwatermarked_correlation_llama.png\", dpi=300, bbox_inches='tight')\n",
    "plt.show()\n",
    "\n",
    "print(\"\\nAnalysis complete!\")"
   ]
  },
  {
   "cell_type": "code",
   "execution_count": null,
   "id": "2e4f42ba-aa68-41a2-a9d6-e76cc3df1aea",
   "metadata": {},
   "outputs": [],
   "source": []
  }
 ],
 "metadata": {
  "kernelspec": {
   "display_name": "Python 3 (ipykernel)",
   "language": "python",
   "name": "python3"
  },
  "language_info": {
   "codemirror_mode": {
    "name": "ipython",
    "version": 3
   },
   "file_extension": ".py",
   "mimetype": "text/x-python",
   "name": "python",
   "nbconvert_exporter": "python",
   "pygments_lexer": "ipython3",
   "version": "3.12.3"
  }
 },
 "nbformat": 4,
 "nbformat_minor": 5
}
