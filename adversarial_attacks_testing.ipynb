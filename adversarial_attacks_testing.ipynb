{
 "cells": [
  {
   "cell_type": "code",
   "execution_count": 1,
   "id": "71010066-9b96-44c3-8792-bf3a064fd186",
   "metadata": {},
   "outputs": [
    {
     "name": "stdout",
     "output_type": "stream",
     "text": [
      "Downloading https://dataset.raid-bench.xyz/train.csv (11779491051B) to /root/.cache/raid/train.csv\n"
     ]
    },
    {
     "name": "stderr",
     "output_type": "stream",
     "text": [
      "100%|██████████| 11.8G/11.8G [03:21<00:00, 58.6MB/s] \n"
     ]
    },
    {
     "ename": "ValueError",
     "evalue": "Predictions are missing outputs for human-written texts in some domains.\nIn order to run evaluation, you must include predictions for human-written data in all domains.\nTo disable this, set per_domain_tuning=False in run_evaluation.",
     "output_type": "error",
     "traceback": [
      "\u001b[31m---------------------------------------------------------------------------\u001b[39m",
      "\u001b[31mValueError\u001b[39m                                Traceback (most recent call last)",
      "\u001b[36mCell\u001b[39m\u001b[36m \u001b[39m\u001b[32mIn[1]\u001b[39m\u001b[32m, line 15\u001b[39m\n\u001b[32m     12\u001b[39m predictions = run_detection(my_detector, train_df)\n\u001b[32m     14\u001b[39m \u001b[38;5;66;03m# Evaluate your detector predictions\u001b[39;00m\n\u001b[32m---> \u001b[39m\u001b[32m15\u001b[39m evaluation_result = \u001b[43mrun_evaluation\u001b[49m\u001b[43m(\u001b[49m\u001b[43mpredictions\u001b[49m\u001b[43m,\u001b[49m\u001b[43m \u001b[49m\u001b[43mtrain_df\u001b[49m\u001b[43m)\u001b[49m\n",
      "\u001b[36mFile \u001b[39m\u001b[32m/workspace/raid/raid/evaluate.py:236\u001b[39m, in \u001b[36mrun_evaluation\u001b[39m\u001b[34m(results, df, target_fpr, epsilon, per_domain_tuning, require_complete, include_all)\u001b[39m\n\u001b[32m    233\u001b[39m df = load_detection_result(df, results)\n\u001b[32m    235\u001b[39m \u001b[38;5;66;03m# Find thresholds per-domain for target FPR\u001b[39;00m\n\u001b[32m--> \u001b[39m\u001b[32m236\u001b[39m thresholds, fprs = \u001b[43mcompute_thresholds\u001b[49m\u001b[43m(\u001b[49m\u001b[43mdf\u001b[49m\u001b[43m,\u001b[49m\u001b[43m \u001b[49m\u001b[43mtarget_fpr\u001b[49m\u001b[43m,\u001b[49m\u001b[43m \u001b[49m\u001b[43mepsilon\u001b[49m\u001b[43m,\u001b[49m\u001b[43m \u001b[49m\u001b[43mper_domain_tuning\u001b[49m\u001b[43m)\u001b[49m\n\u001b[32m    238\u001b[39m \u001b[38;5;66;03m# Compute accuracy scores for each split of the data\u001b[39;00m\n\u001b[32m    239\u001b[39m scores = compute_scores(df, thresholds, require_complete)\n",
      "\u001b[36mFile \u001b[39m\u001b[32m/workspace/raid/raid/evaluate.py:95\u001b[39m, in \u001b[36mcompute_thresholds\u001b[39m\u001b[34m(df, fpr, epsilon, per_domain_tuning)\u001b[39m\n\u001b[32m     93\u001b[39m \u001b[38;5;28;01melse\u001b[39;00m:\n\u001b[32m     94\u001b[39m     \u001b[38;5;28;01mfor\u001b[39;00m d \u001b[38;5;129;01min\u001b[39;00m df.domain.unique():\n\u001b[32m---> \u001b[39m\u001b[32m95\u001b[39m         t, true_fpr = \u001b[43mfind_threshold\u001b[49m\u001b[43m(\u001b[49m\u001b[43mdf\u001b[49m\u001b[43m[\u001b[49m\u001b[43mdf\u001b[49m\u001b[43m[\u001b[49m\u001b[33;43m\"\u001b[39;49m\u001b[33;43mdomain\u001b[39;49m\u001b[33;43m\"\u001b[39;49m\u001b[43m]\u001b[49m\u001b[43m \u001b[49m\u001b[43m==\u001b[49m\u001b[43m \u001b[49m\u001b[43md\u001b[49m\u001b[43m]\u001b[49m\u001b[43m,\u001b[49m\u001b[43m \u001b[49m\u001b[43mfpr_value\u001b[49m\u001b[43m,\u001b[49m\u001b[43m \u001b[49m\u001b[43mepsilon\u001b[49m\u001b[43m)\u001b[49m\n\u001b[32m     96\u001b[39m         thresholds[\u001b[38;5;28mstr\u001b[39m(fpr_value)][d] = t\n\u001b[32m     97\u001b[39m         true_fprs[\u001b[38;5;28mstr\u001b[39m(fpr_value)][d] = true_fpr\n",
      "\u001b[36mFile \u001b[39m\u001b[32m/workspace/raid/raid/evaluate.py:38\u001b[39m, in \u001b[36mfind_threshold\u001b[39m\u001b[34m(df, target_fpr, epsilon)\u001b[39m\n\u001b[32m     36\u001b[39m     threshold = \u001b[38;5;28msum\u001b[39m(y_scores) / \u001b[38;5;28mlen\u001b[39m(y_scores)  \u001b[38;5;66;03m# initialize threshold to mean of y_scores\u001b[39;00m\n\u001b[32m     37\u001b[39m \u001b[38;5;28;01mexcept\u001b[39;00m \u001b[38;5;167;01mZeroDivisionError\u001b[39;00m:\n\u001b[32m---> \u001b[39m\u001b[32m38\u001b[39m     \u001b[38;5;28;01mraise\u001b[39;00m \u001b[38;5;167;01mValueError\u001b[39;00m(\n\u001b[32m     39\u001b[39m         \u001b[33m\"\u001b[39m\u001b[33mPredictions are missing outputs for human-written texts in some domains.\u001b[39m\u001b[38;5;130;01m\\n\u001b[39;00m\u001b[33m\"\u001b[39m\n\u001b[32m     40\u001b[39m         + \u001b[33m\"\u001b[39m\u001b[33mIn order to run evaluation, you must include predictions for human-written data in all domains.\u001b[39m\u001b[38;5;130;01m\\n\u001b[39;00m\u001b[33m\"\u001b[39m\n\u001b[32m     41\u001b[39m         + \u001b[33m\"\u001b[39m\u001b[33mTo disable this, set per_domain_tuning=False in run_evaluation.\u001b[39m\u001b[33m\"\u001b[39m\n\u001b[32m     42\u001b[39m     ) \u001b[38;5;28;01mfrom\u001b[39;00m\u001b[38;5;250m \u001b[39m\u001b[38;5;28;01mNone\u001b[39;00m\n\u001b[32m     44\u001b[39m \u001b[38;5;66;03m# Initialize the list of all found thresholds and FPRs\u001b[39;00m\n\u001b[32m     45\u001b[39m found_threshold_list = []\n",
      "\u001b[31mValueError\u001b[39m: Predictions are missing outputs for human-written texts in some domains.\nIn order to run evaluation, you must include predictions for human-written data in all domains.\nTo disable this, set per_domain_tuning=False in run_evaluation."
     ]
    }
   ],
   "source": [
    "from raid import run_detection, run_evaluation\n",
    "from raid.utils import load_data\n",
    "\n",
    "# Define your detector function\n",
    "def my_detector(texts: list[str]) -> list[float]:\n",
    "    pass\n",
    "\n",
    "# Download & Load the RAID dataset\n",
    "train_df = load_data(split=\"train\")\n",
    "\n",
    "# Run your detector on the dataset\n",
    "predictions = run_detection(my_detector, train_df)\n",
    "\n",
    "# Evaluate your detector predictions\n",
    "evaluation_result = run_evaluation(predictions, train_df)\n"
   ]
  },
  {
   "cell_type": "code",
   "execution_count": 12,
   "id": "69bbac95-e2b1-4c8e-bc57-4ec89e79031b",
   "metadata": {},
   "outputs": [
    {
     "name": "stderr",
     "output_type": "stream",
     "text": [
      "textattack: Updating TextAttack package dependencies.\n",
      "textattack: Downloading NLTK required packages.\n",
      "[nltk_data] Downloading package averaged_perceptron_tagger to\n",
      "[nltk_data]     /root/nltk_data...\n",
      "[nltk_data]   Unzipping taggers/averaged_perceptron_tagger.zip.\n",
      "[nltk_data] Downloading package stopwords to /root/nltk_data...\n",
      "[nltk_data]   Unzipping corpora/stopwords.zip.\n",
      "[nltk_data] Downloading package omw to /root/nltk_data...\n",
      "[nltk_data] Downloading package universal_tagset to /root/nltk_data...\n",
      "[nltk_data]   Unzipping taggers/universal_tagset.zip.\n",
      "[nltk_data] Downloading package wordnet to /root/nltk_data...\n",
      "[nltk_data] Downloading package punkt to /root/nltk_data...\n",
      "[nltk_data]   Unzipping tokenizers/punkt.zip.\n"
     ]
    },
    {
     "data": {
      "application/vnd.jupyter.widget-view+json": {
       "model_id": "817509bde4a6454bab0074fbfcb93dd4",
       "version_major": 2,
       "version_minor": 0
      },
      "text/plain": [
       "tokenizer_config.json:   0%|          | 0.00/48.0 [00:00<?, ?B/s]"
      ]
     },
     "metadata": {},
     "output_type": "display_data"
    },
    {
     "data": {
      "application/vnd.jupyter.widget-view+json": {
       "model_id": "ea5d8d8f8ba14113830e21a469dc2206",
       "version_major": 2,
       "version_minor": 0
      },
      "text/plain": [
       "config.json:   0%|          | 0.00/570 [00:00<?, ?B/s]"
      ]
     },
     "metadata": {},
     "output_type": "display_data"
    },
    {
     "data": {
      "application/vnd.jupyter.widget-view+json": {
       "model_id": "132ad7a339464f7f982ef4fffecc9085",
       "version_major": 2,
       "version_minor": 0
      },
      "text/plain": [
       "vocab.txt:   0%|          | 0.00/232k [00:00<?, ?B/s]"
      ]
     },
     "metadata": {},
     "output_type": "display_data"
    },
    {
     "data": {
      "application/vnd.jupyter.widget-view+json": {
       "model_id": "63569daf54924ce9be1c3b100acabee6",
       "version_major": 2,
       "version_minor": 0
      },
      "text/plain": [
       "tokenizer.json:   0%|          | 0.00/466k [00:00<?, ?B/s]"
      ]
     },
     "metadata": {},
     "output_type": "display_data"
    },
    {
     "data": {
      "application/vnd.jupyter.widget-view+json": {
       "model_id": "4c0cc806dc7f4ccfa5be7400e64ded96",
       "version_major": 2,
       "version_minor": 0
      },
      "text/plain": [
       "model.safetensors:   0%|          | 0.00/440M [00:00<?, ?B/s]"
      ]
     },
     "metadata": {},
     "output_type": "display_data"
    },
    {
     "name": "stderr",
     "output_type": "stream",
     "text": [
      "textattack: Downloading https://textattack.s3.amazonaws.com/word_embeddings/paragramcf.\n",
      "100%|██████████| 481M/481M [01:26<00:00, 5.53MB/s] \n",
      "textattack: Unzipping file /root/.cache/textattack/tmpgzsgzcoz.zip to /root/.cache/textattack/word_embeddings/paragramcf.\n",
      "textattack: Successfully saved word_embeddings/paragramcf to cache.\n",
      "textattack: Unknown if model of class <class 'transformers.models.bert.modeling_bert.BertModel'> compatible with goal function <class 'textattack.goal_functions.classification.untargeted_classification.UntargetedClassification'>.\n"
     ]
    },
    {
     "name": "stdout",
     "output_type": "stream",
     "text": [
      "Generating adversarial examples...\n",
      "Attack failed for text 0: 'Attack' object has no attribute 'goal'\n",
      "Attack failed for text 1: 'Attack' object has no attribute 'goal'\n",
      "Attack failed for text 2: 'Attack' object has no attribute 'goal'\n",
      "Attack failed for text 3: 'Attack' object has no attribute 'goal'\n",
      "Attack failed for text 4: 'Attack' object has no attribute 'goal'\n",
      "Starting topological analysis...\n",
      "Extracting representations from clean texts...\n",
      "Extracting representations from adversarial texts...\n",
      "Analyzing layer 3...\n",
      "Analyzing layer 6...\n",
      "Analyzing layer 9...\n",
      "Analyzing layer 11...\n"
     ]
    },
    {
     "data": {
      "image/png": "[encoded data removed]",
      "text/plain": [
       "<Figure size 1200x500 with 2 Axes>"
      ]
     },
     "metadata": {},
     "output_type": "display_data"
    },
    {
     "name": "stdout",
     "output_type": "stream",
     "text": [
      "Analysis complete!\n"
     ]
    }
   ],
   "source": [
    "import torch\n",
    "import numpy as np\n",
    "from transformers import AutoModel, AutoTokenizer\n",
    "import gudhi\n",
    "from sklearn.metrics import pairwise_distances\n",
    "from textattack.attack_recipes import TextFoolerJin2019\n",
    "from textattack.datasets import HuggingFaceDataset\n",
    "from textattack.models.wrappers import HuggingFaceModelWrapper\n",
    "import matplotlib.pyplot as plt\n",
    "from typing import Dict, List, Tuple\n",
    "import pickle\n",
    "\n",
    "class TopologicalLLMAnalyzer:\n",
    "    def __init__(self, model_name: str = \"bert-base-uncased\", device: str = \"cuda\"):\n",
    "        \"\"\"\n",
    "        Initialize the analyzer with a pretrained LLM\n",
    "        \n",
    "        Args:\n",
    "            model_name: HuggingFace model name\n",
    "            device: Device to run on (cuda/cpu)\n",
    "        \"\"\"\n",
    "        self.device = device\n",
    "        self.tokenizer = AutoTokenizer.from_pretrained(model_name)\n",
    "        self.model = AutoModel.from_pretrained(model_name).to(device)\n",
    "        self.model.eval()\n",
    "        \n",
    "        # Set up adversarial attack\n",
    "        model_wrapper = HuggingFaceModelWrapper(self.model, self.tokenizer)\n",
    "        self.attack = TextFoolerJin2019.build(model_wrapper)\n",
    "        \n",
    "    def extract_representations(self, texts: List[str], layers: List[int] = None) -> Dict[int, np.ndarray]:\n",
    "        \"\"\"\n",
    "        Extract hidden representations from specified layers\n",
    "        \n",
    "        Args:\n",
    "            texts: List of input texts\n",
    "            layers: Which layers to extract (default: [6, 12, 18, 24] for large models)\n",
    "            \n",
    "        Returns:\n",
    "            Dictionary mapping layer indices to representations\n",
    "        \"\"\"\n",
    "        if layers is None:\n",
    "            # Default to middle layers for analysis\n",
    "            num_layers = self.model.config.num_hidden_layers\n",
    "            layers = [num_layers//4, num_layers//2, 3*num_layers//4, num_layers-1]\n",
    "        \n",
    "        representations = {layer: [] for layer in layers}\n",
    "        \n",
    "        with torch.no_grad():\n",
    "            for text in texts:\n",
    "                # Tokenize input\n",
    "                inputs = self.tokenizer(text, return_tensors=\"pt\", \n",
    "                                      truncation=True, max_length=512).to(self.device)\n",
    "                \n",
    "                # Get model outputs with hidden states\n",
    "                outputs = self.model(**inputs, output_hidden_states=True)\n",
    "                hidden_states = outputs.hidden_states\n",
    "                \n",
    "                # Extract representations from specified layers\n",
    "                for layer in layers:\n",
    "                    # Use [CLS] token representation or mean pooling\n",
    "                    layer_repr = hidden_states[layer][0, 0, :].cpu().numpy()  # [CLS] token\n",
    "                    # Alternative: mean pooling\n",
    "                    # layer_repr = hidden_states[layer][0].mean(dim=0).cpu().numpy()\n",
    "                    representations[layer].append(layer_repr)\n",
    "        \n",
    "        # Convert to numpy arrays\n",
    "        for layer in layers:\n",
    "            representations[layer] = np.array(representations[layer])\n",
    "            \n",
    "        return representations\n",
    "    \n",
    "    def generate_adversarial_examples(self, texts: List[str], max_examples: int = 100) -> List[str]:\n",
    "        \"\"\"\n",
    "        Generate adversarial examples using TextAttack\n",
    "        \n",
    "        Args:\n",
    "            texts: Original texts\n",
    "            max_examples: Maximum number of adversarial examples to generate\n",
    "            \n",
    "        Returns:\n",
    "            List of adversarial texts\n",
    "        \"\"\"\n",
    "        adversarial_texts = []\n",
    "        \n",
    "        for i, text in enumerate(texts[:max_examples]):\n",
    "            try:\n",
    "                # Create attack input\n",
    "                attack_input = self.attack.goal.get_transformation().attack(text)\n",
    "                if attack_input:\n",
    "                    adversarial_texts.append(str(attack_input))\n",
    "                else:\n",
    "                    adversarial_texts.append(text)  # Fallback to original\n",
    "            except Exception as e:\n",
    "                print(f\"Attack failed for text {i}: {e}\")\n",
    "                adversarial_texts.append(text)  # Fallback to original\n",
    "                \n",
    "        return adversarial_texts\n",
    "    \n",
    "    def compute_persistence_diagrams(self, representations: np.ndarray, \n",
    "                                   max_dimension: int = 1) -> List[Tuple]:\n",
    "        \"\"\"\n",
    "        Compute persistence diagrams from representations\n",
    "        \n",
    "        Args:\n",
    "            representations: Array of shape (n_samples, n_features)\n",
    "            max_dimension: Maximum homology dimension to compute\n",
    "            \n",
    "        Returns:\n",
    "            Persistence diagrams\n",
    "        \"\"\"\n",
    "        # Compute pairwise distances\n",
    "        distances = pairwise_distances(representations)\n",
    "        \n",
    "        # Create Rips complex\n",
    "        rips_complex = gudhi.RipsComplex(distance_matrix=distances, max_edge_length=2.0)\n",
    "        simplex_tree = rips_complex.create_simplex_tree(max_dimension=max_dimension)\n",
    "        \n",
    "        # Compute persistence\n",
    "        persistence = simplex_tree.persistence()\n",
    "        \n",
    "        return persistence\n",
    "    \n",
    "    def analyze_topological_changes(self, clean_texts: List[str], \n",
    "                                  adversarial_texts: List[str],\n",
    "                                  layers: List[int] = None) -> Dict:\n",
    "        \"\"\"\n",
    "        Main analysis function to compare topological features\n",
    "        \n",
    "        Args:\n",
    "            clean_texts: Original texts\n",
    "            adversarial_texts: Adversarially perturbed texts\n",
    "            layers: Layers to analyze\n",
    "            \n",
    "        Returns:\n",
    "            Dictionary containing analysis results\n",
    "        \"\"\"\n",
    "        print(\"Extracting representations from clean texts...\")\n",
    "        clean_reps = self.extract_representations(clean_texts, layers)\n",
    "        \n",
    "        print(\"Extracting representations from adversarial texts...\")\n",
    "        adv_reps = self.extract_representations(adversarial_texts, layers)\n",
    "        \n",
    "        results = {}\n",
    "        \n",
    "        for layer in clean_reps.keys():\n",
    "            print(f\"Analyzing layer {layer}...\")\n",
    "            \n",
    "            # Compute persistence diagrams\n",
    "            clean_persistence = self.compute_persistence_diagrams(clean_reps[layer])\n",
    "            adv_persistence = self.compute_persistence_diagrams(adv_reps[layer])\n",
    "            \n",
    "            # Extract 0-dimensional and 1-dimensional features\n",
    "            clean_h0 = [(birth, death) for dim, (birth, death) in clean_persistence if dim == 0]\n",
    "            clean_h1 = [(birth, death) for dim, (birth, death) in clean_persistence if dim == 1]\n",
    "            adv_h0 = [(birth, death) for dim, (birth, death) in adv_persistence if dim == 0]\n",
    "            adv_h1 = [(birth, death) for dim, (birth, death) in adv_persistence if dim == 1]\n",
    "            \n",
    "            # Compute bottleneck distances\n",
    "            try:\n",
    "                bottleneck_h0 = gudhi.bottleneck_distance(clean_h0, adv_h0)\n",
    "                bottleneck_h1 = gudhi.bottleneck_distance(clean_h1, adv_h1) if clean_h1 and adv_h1 else 0.0\n",
    "            except:\n",
    "                bottleneck_h0, bottleneck_h1 = 0.0, 0.0\n",
    "            \n",
    "            results[layer] = {\n",
    "                'clean_persistence': clean_persistence,\n",
    "                'adv_persistence': adv_persistence,\n",
    "                'bottleneck_distance_h0': bottleneck_h0,\n",
    "                'bottleneck_distance_h1': bottleneck_h1,\n",
    "                'clean_representations': clean_reps[layer],\n",
    "                'adv_representations': adv_reps[layer]\n",
    "            }\n",
    "            \n",
    "        return results\n",
    "    \n",
    "    def visualize_results(self, results: Dict, save_path: str = None):\n",
    "        \"\"\"\n",
    "        Create visualizations of the topological analysis\n",
    "        \n",
    "        Args:\n",
    "            results: Results from analyze_topological_changes\n",
    "            save_path: Path to save the plot\n",
    "        \"\"\"\n",
    "        layers = list(results.keys())\n",
    "        h0_distances = [results[layer]['bottleneck_distance_h0'] for layer in layers]\n",
    "        h1_distances = [results[layer]['bottleneck_distance_h1'] for layer in layers]\n",
    "        \n",
    "        fig, (ax1, ax2) = plt.subplots(1, 2, figsize=(12, 5))\n",
    "        \n",
    "        # Plot H0 distances\n",
    "        ax1.bar(range(len(layers)), h0_distances)\n",
    "        ax1.set_xlabel('Layer')\n",
    "        ax1.set_ylabel('Bottleneck Distance')\n",
    "        ax1.set_title('H0 Topological Changes')\n",
    "        ax1.set_xticks(range(len(layers)))\n",
    "        ax1.set_xticklabels(layers)\n",
    "        \n",
    "        # Plot H1 distances\n",
    "        ax2.bar(range(len(layers)), h1_distances)\n",
    "        ax2.set_xlabel('Layer')\n",
    "        ax2.set_ylabel('Bottleneck Distance')\n",
    "        ax2.set_title('H1 Topological Changes')\n",
    "        ax2.set_xticks(range(len(layers)))\n",
    "        ax2.set_xticklabels(layers)\n",
    "        \n",
    "        plt.tight_layout()\n",
    "        \n",
    "        if save_path:\n",
    "            plt.savefig(save_path, dpi=300, bbox_inches='tight')\n",
    "        plt.show()\n",
    "\n",
    "# Example usage\n",
    "def main():\n",
    "    # Initialize analyzer\n",
    "    analyzer = TopologicalLLMAnalyzer(\"bert-base-uncased\")\n",
    "    \n",
    "    # Sample texts for analysis\n",
    "    sample_texts = [\n",
    "        \"The quick brown fox jumps over the lazy dog.\",\n",
    "        \"Machine learning is a subset of artificial intelligence.\",\n",
    "        \"The stock market experienced significant volatility today.\",\n",
    "        \"Climate change poses serious challenges for humanity.\",\n",
    "        \"Technology continues to reshape our daily lives.\"\n",
    "    ]\n",
    "    \n",
    "    # Generate adversarial examples\n",
    "    print(\"Generating adversarial examples...\")\n",
    "    adversarial_texts = analyzer.generate_adversarial_examples(sample_texts)\n",
    "    \n",
    "    # Analyze topological changes\n",
    "    print(\"Starting topological analysis...\")\n",
    "    results = analyzer.analyze_topological_changes(sample_texts, adversarial_texts)\n",
    "    \n",
    "    # Visualize results\n",
    "    analyzer.visualize_results(results, \"topological_analysis_results.png\")\n",
    "    \n",
    "    # Save results\n",
    "    with open(\"analysis_results.pkl\", \"wb\") as f:\n",
    "        pickle.dump(results, f)\n",
    "    \n",
    "    print(\"Analysis complete!\")\n",
    "\n",
    "if __name__ == \"__main__\":\n",
    "    main()"
   ]
  },
  {
   "cell_type": "code",
   "execution_count": null,
   "id": "2ebd4bad-2925-4ed0-97c3-9491539302aa",
   "metadata": {},
   "outputs": [],
   "source": []
  }
 ],
 "metadata": {
  "kernelspec": {
   "display_name": "Python 3 (ipykernel)",
   "language": "python",
   "name": "python3"
  },
  "language_info": {
   "codemirror_mode": {
    "name": "ipython",
    "version": 3
   },
   "file_extension": ".py",
   "mimetype": "text/x-python",
   "name": "python",
   "nbconvert_exporter": "python",
   "pygments_lexer": "ipython3",
   "version": "3.11.11"
  }
 },
 "nbformat": 4,
 "nbformat_minor": 5
}
